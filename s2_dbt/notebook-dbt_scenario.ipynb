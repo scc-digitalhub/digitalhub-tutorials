{
 "cells": [
  {
   "cell_type": "code",
   "execution_count": 1,
   "id": "dc81fbbd-8bd0-4ec8-bcff-fa18337661e5",
   "metadata": {},
   "outputs": [],
   "source": [
    "import digitalhub as dh"
   ]
  },
  {
   "cell_type": "code",
   "execution_count": 2,
   "id": "e53d6547-2934-4119-bab4-355c2a7a59d9",
   "metadata": {},
   "outputs": [],
   "source": [
    "project = dh.get_or_create_project(\"project-dbt\")"
   ]
  },
  {
   "cell_type": "code",
   "execution_count": 3,
   "id": "6a9ed2ee-eef0-4e58-839f-6d321cc0bcf6",
   "metadata": {},
   "outputs": [
    {
     "data": {
      "text/plain": [
       "{'kind': 'project', 'metadata': {'project': 'project-dbt', 'name': 'project-dbt', 'created': '2024-10-22T12:32:14.281Z', 'updated': '2024-10-22T12:32:14.281Z', 'created_by': 'khurshid@fbk.eu', 'updated_by': 'khurshid@fbk.eu'}, 'spec': {'context': './', 'functions': [], 'artifacts': [], 'workflows': [], 'dataitems': [], 'models': []}, 'status': {'state': 'CREATED'}, 'user': 'khurshid@fbk.eu', 'id': 'project-dbt', 'name': 'project-dbt', 'key': 'store://project-dbt'}"
      ]
     },
     "execution_count": 3,
     "metadata": {},
     "output_type": "execute_result"
    }
   ],
   "source": [
    "project"
   ]
  },
  {
   "cell_type": "code",
   "execution_count": 4,
   "id": "889951a4-199c-4027-8814-2fb14bc52681",
   "metadata": {},
   "outputs": [
    {
     "name": "stdout",
     "output_type": "stream",
     "text": [
      "{'kind': 'project', 'metadata': {'project': 'project-dbt', 'name': 'project-dbt', 'created': '2024-10-22T12:32:14.281Z', 'updated': '2024-10-22T12:32:14.281Z', 'created_by': 'khurshid@fbk.eu', 'updated_by': 'khurshid@fbk.eu'}, 'spec': {'context': './', 'functions': [], 'artifacts': [], 'workflows': [], 'dataitems': [], 'models': []}, 'status': {'state': 'CREATED'}, 'user': 'khurshid@fbk.eu', 'id': 'project-dbt', 'name': 'project-dbt', 'key': 'store://project-dbt'}\n"
     ]
    }
   ],
   "source": [
    "print(project)"
   ]
  },
  {
   "cell_type": "code",
   "execution_count": 14,
   "id": "c3ffed72-7b5f-4386-af48-d5e697f75899",
   "metadata": {},
   "outputs": [],
   "source": [
    "url = \"https://gist.githubusercontent.com/kevin336/acbb2271e66c10a5b73aacf82ca82784/raw/e38afe62e088394d61ed30884dd50a6826eee0a8/employees.csv\"\n",
    "di = project.new_dataitem(name=\"employees-dbt\",\n",
    "                          kind=\"table\",\n",
    "                          path=url)"
   ]
  },
  {
   "cell_type": "code",
   "execution_count": 15,
   "id": "09a9e552-654a-49ff-a61b-29a7d9b24bb8",
   "metadata": {},
   "outputs": [],
   "source": [
    "sql = \"\"\"\n",
    "WITH tab AS (\n",
    "    SELECT  *\n",
    "    FROM    {{ ref('employees') }}\n",
    ")\n",
    "SELECT  *\n",
    "FROM    tab\n",
    "WHERE   tab.\"DEPARTMENT_ID\" = '50'\n",
    "\"\"\""
   ]
  },
  {
   "cell_type": "code",
   "execution_count": 16,
   "id": "babd80ce-f1ae-44b6-93db-af58e698cde9",
   "metadata": {},
   "outputs": [],
   "source": [
    "function = project.new_function(name=\"function-dbt\",\n",
    "                                kind=\"dbt\",\n",
    "                                code=sql)"
   ]
  },
  {
   "cell_type": "code",
   "execution_count": 17,
   "id": "9ed079cf-07c7-4d42-aa55-19cf7c0f2451",
   "metadata": {},
   "outputs": [],
   "source": [
    "run = function.run(\"transform\",\n",
    "                   inputs={\"employees\": di.key},\n",
    "                   outputs={\"output_table\": \"department-50\"})"
   ]
  },
  {
   "cell_type": "code",
   "execution_count": 18,
   "id": "c504f472-ac90-4c0f-9c3e-b11459f023a4",
   "metadata": {},
   "outputs": [
    {
     "name": "stdout",
     "output_type": "stream",
     "text": [
      "{'state': 'RUNNING', 'message': 'job j-dbttransform-f1a0e3c3-42b2-4559-9a77-4930d5957f1f created', 'transitions': [{'status': 'RUNNING', 'message': 'job j-dbttransform-f1a0e3c3-42b2-4559-9a77-4930d5957f1f created', 'time': '2024-10-22T12:33:14.360687869Z'}, {'status': 'READY', 'time': '2024-10-22T12:33:14.32365682Z'}, {'status': 'BUILT', 'time': '2024-10-22T12:33:14.30845165Z'}], 'k8s': {'secret': {'secret': {'apiVersion': 'v1', 'kind': 'Secret', 'metadata': {'labels': {'dhcore/framework': 'k8sjob', 'app.kubernetes.io/managed-by': 'dhcore', 'app.kubernetes.io/part-of': 'dhcore-project-dbt', 'dhcore/project': 'project-dbt', 'dhcore/runtime': 'dbt', 'app.kubernetes.io/instance': 'dhcore-f1a0e3c3-42b2-4559-9a77-4930d5957f1f', 'app.kubernetes.io/version': 'f1a0e3c3-42b2-4559-9a77-4930d5957f1f'}, 'name': 'sec-dbttransform-f1a0e3c3-42b2-4559-9a77-4930d5957f1f', 'namespace': 'digitalhub-tenant2'}}}, 'job': {'job': {'apiVersion': 'batch/v1', 'kind': 'Job', 'metadata': {'creationTimestamp': 1729600394.0, 'generation': 1, 'labels': {'app.kubernetes.io/instance': 'dhcore-f1a0e3c3-42b2-4559-9a77-4930d5957f1f', 'app.kubernetes.io/managed-by': 'dhcore', 'app.kubernetes.io/part-of': 'dhcore-project-dbt', 'app.kubernetes.io/version': 'f1a0e3c3-42b2-4559-9a77-4930d5957f1f', 'dhcore/framework': 'k8sjob', 'dhcore/project': 'project-dbt', 'dhcore/runtime': 'dbt'}, 'managedFields': [{'apiVersion': 'batch/v1', 'fieldsType': 'FieldsV1', 'manager': 'Kubernetes Java Client', 'operation': 'Update', 'time': 1729600394.0}], 'name': 'j-dbttransform-f1a0e3c3-42b2-4559-9a77-4930d5957f1f', 'namespace': 'digitalhub-tenant2', 'resourceVersion': '405893', 'uid': '4ab2d2e2-15c0-468b-a976-f25116d7426b'}, 'spec': {'activeDeadlineSeconds': 604800, 'backoffLimit': 3, 'completionMode': 'NonIndexed', 'completions': 1, 'manualSelector': False, 'parallelism': 1, 'podReplacementPolicy': 'TerminatingOrFailed', 'selector': {'matchLabels': {'batch.kubernetes.io/controller-uid': '4ab2d2e2-15c0-468b-a976-f25116d7426b'}}, 'suspend': False, 'template': {'metadata': {'labels': {'app.kubernetes.io/instance': 'dhcore-f1a0e3c3-42b2-4559-9a77-4930d5957f1f', 'app.kubernetes.io/managed-by': 'dhcore', 'app.kubernetes.io/part-of': 'dhcore-project-dbt', 'app.kubernetes.io/version': 'f1a0e3c3-42b2-4559-9a77-4930d5957f1f', 'batch.kubernetes.io/controller-uid': '4ab2d2e2-15c0-468b-a976-f25116d7426b', 'batch.kubernetes.io/job-name': 'j-dbttransform-f1a0e3c3-42b2-4559-9a77-4930d5957f1f', 'controller-uid': '4ab2d2e2-15c0-468b-a976-f25116d7426b', 'dhcore/framework': 'k8sjob', 'dhcore/project': 'project-dbt', 'dhcore/runtime': 'dbt', 'job-name': 'j-dbttransform-f1a0e3c3-42b2-4559-9a77-4930d5957f1f'}, 'name': 'j-dbttransform-f1a0e3c3-42b2-4559-9a77-4930d5957f1f'}, 'spec': {'containers': [{'args': ['wrapper.py'], 'command': ['python'], 'env': [{'name': 'DH_RUN_SECRET_NAME', 'value': 'sec-dbttransform-f1a0e3c3-42b2-4559-9a77-4930d5957f1f'}, {'name': 'DHCORE_ACCESS_TOKEN', 'valueFrom': {'secretKeyRef': {'key': 'DHCORE_ACCESS_TOKEN', 'name': 'sec-dbttransform-f1a0e3c3-42b2-4559-9a77-4930d5957f1f'}}}, {'name': 'DHCORE_REFRESH_TOKEN', 'valueFrom': {'secretKeyRef': {'key': 'DHCORE_REFRESH_TOKEN', 'name': 'sec-dbttransform-f1a0e3c3-42b2-4559-9a77-4930d5957f1f'}}}, {'name': 'DHCORE_CLIENT_ID', 'valueFrom': {'secretKeyRef': {'key': 'DHCORE_CLIENT_ID', 'name': 'sec-dbttransform-f1a0e3c3-42b2-4559-9a77-4930d5957f1f'}}}, {'name': 'DHCORE_TOKEN_TYPE', 'valueFrom': {'secretKeyRef': {'key': 'DHCORE_TOKEN_TYPE', 'name': 'sec-dbttransform-f1a0e3c3-42b2-4559-9a77-4930d5957f1f'}}}, {'name': 'DHCORE_ISSUER', 'valueFrom': {'secretKeyRef': {'key': 'DHCORE_ISSUER', 'name': 'sec-dbttransform-f1a0e3c3-42b2-4559-9a77-4930d5957f1f'}}}, {'name': 'PROJECT_NAME', 'value': 'project-dbt'}, {'name': 'DHCORE_EXPIRES_IN', 'valueFrom': {'secretKeyRef': {'key': 'DHCORE_EXPIRES_IN', 'name': 'sec-dbttransform-f1a0e3c3-42b2-4559-9a77-4930d5957f1f'}}}, {'name': 'RUN_ID', 'value': 'f1a0e3c3-42b2-4559-9a77-4930d5957f1f'}], 'envFrom': [{'configMapRef': {'name': 'digitalhub-common-env'}}, {'secretRef': {'name': 'digitalhub-common-creds'}}], 'image': 'ghcr.io/scc-digitalhub/digitalhub-sdk/wrapper-dbt:latest', 'imagePullPolicy': 'IfNotPresent', 'name': 'c-dbttransform-f1a0e3c3-42b2-4559-9a77-4930d5957f1f', 'resources': {'requests': {'cpu': {'number': 0.1, 'format': 'DECIMAL_SI'}, 'memory': {'number': 0.064, 'format': 'DECIMAL_SI'}}}, 'securityContext': {'allowPrivilegeEscalation': False, 'privileged': False, 'runAsNonRoot': True}, 'terminationMessagePath': '/dev/termination-log', 'terminationMessagePolicy': 'File'}], 'dnsPolicy': 'ClusterFirst', 'imagePullSecrets': [{'name': 'registry-credentials'}], 'restartPolicy': 'Never', 'schedulerName': 'default-scheduler', 'securityContext': {'runAsNonRoot': True}, 'terminationGracePeriodSeconds': 30}}}}}}}\n"
     ]
    }
   ],
   "source": [
    "print(run.refresh().status)"
   ]
  },
  {
   "cell_type": "code",
   "execution_count": 10,
   "id": "3874bc33-16d0-4d2b-aca2-f0689e4b01d4",
   "metadata": {},
   "outputs": [
    {
     "name": "stdout",
     "output_type": "stream",
     "text": [
      "{'kind': 'dbt+run', 'metadata': {'project': 'project-dbt', 'name': '802f80c4-d1b9-423e-abc6-3931079dece4', 'created': '2024-10-22T12:32:17.488Z', 'updated': '2024-10-22T12:32:17.547Z', 'created_by': 'khurshid@fbk.eu', 'updated_by': 'khurshid@fbk.eu'}, 'spec': {'task': 'dbt+transform://project-dbt/function-dbt-nk:41d32640-9a72-4c2c-80a1-dbb1aeca55ba', 'local_execution': False, 'function': 'dbt://project-dbt/function-dbt-nk:41d32640-9a72-4c2c-80a1-dbb1aeca55ba', 'source': {'base64': 'CldJVEggdGFiIEFTICgKICAgIFNFTEVDVCAgKgogICAgRlJPTSAgICB7eyByZWYoJ2VtcGxveWVlcycpIH19CikKU0VMRUNUICAqCkZST00gICAgdGFiCldIRVJFICAgdGFiLiJERVBBUlRNRU5UX0lEIiA9ICc1MCcK', 'lang': 'sql'}, 'inputs': {'employees': 'store://project-dbt/dataitem/table/employees-dbt-nk:ef6cfb1a-c0ce-4d81-acee-46825f149f74'}, 'outputs': {'output_table': 'department-50'}, 'parameters': {}}, 'status': {'state': 'RUNNING', 'message': 'job j-dbttransform-802f80c4-d1b9-423e-abc6-3931079dece4 created', 'transitions': [{'status': 'RUNNING', 'message': 'job j-dbttransform-802f80c4-d1b9-423e-abc6-3931079dece4 created', 'time': '2024-10-22T12:32:17.544167282Z'}, {'status': 'READY', 'time': '2024-10-22T12:32:17.508261956Z'}, {'status': 'BUILT', 'time': '2024-10-22T12:32:17.495225591Z'}], 'k8s': {'secret': {'secret': {'apiVersion': 'v1', 'kind': 'Secret', 'metadata': {'labels': {'dhcore/framework': 'k8sjob', 'app.kubernetes.io/managed-by': 'dhcore', 'app.kubernetes.io/part-of': 'dhcore-project-dbt', 'dhcore/project': 'project-dbt', 'dhcore/runtime': 'dbt', 'app.kubernetes.io/instance': 'dhcore-802f80c4-d1b9-423e-abc6-3931079dece4', 'app.kubernetes.io/version': '802f80c4-d1b9-423e-abc6-3931079dece4'}, 'name': 'sec-dbttransform-802f80c4-d1b9-423e-abc6-3931079dece4', 'namespace': 'digitalhub-tenant2'}}}, 'job': {'job': {'apiVersion': 'batch/v1', 'kind': 'Job', 'metadata': {'creationTimestamp': 1729600337.0, 'generation': 1, 'labels': {'app.kubernetes.io/instance': 'dhcore-802f80c4-d1b9-423e-abc6-3931079dece4', 'app.kubernetes.io/managed-by': 'dhcore', 'app.kubernetes.io/part-of': 'dhcore-project-dbt', 'app.kubernetes.io/version': '802f80c4-d1b9-423e-abc6-3931079dece4', 'dhcore/framework': 'k8sjob', 'dhcore/project': 'project-dbt', 'dhcore/runtime': 'dbt'}, 'managedFields': [{'apiVersion': 'batch/v1', 'fieldsType': 'FieldsV1', 'manager': 'Kubernetes Java Client', 'operation': 'Update', 'time': 1729600337.0}], 'name': 'j-dbttransform-802f80c4-d1b9-423e-abc6-3931079dece4', 'namespace': 'digitalhub-tenant2', 'resourceVersion': '405004', 'uid': '9221d611-6884-4aa6-acae-480ef4702729'}, 'spec': {'activeDeadlineSeconds': 604800, 'backoffLimit': 3, 'completionMode': 'NonIndexed', 'completions': 1, 'manualSelector': False, 'parallelism': 1, 'podReplacementPolicy': 'TerminatingOrFailed', 'selector': {'matchLabels': {'batch.kubernetes.io/controller-uid': '9221d611-6884-4aa6-acae-480ef4702729'}}, 'suspend': False, 'template': {'metadata': {'labels': {'app.kubernetes.io/instance': 'dhcore-802f80c4-d1b9-423e-abc6-3931079dece4', 'app.kubernetes.io/managed-by': 'dhcore', 'app.kubernetes.io/part-of': 'dhcore-project-dbt', 'app.kubernetes.io/version': '802f80c4-d1b9-423e-abc6-3931079dece4', 'batch.kubernetes.io/controller-uid': '9221d611-6884-4aa6-acae-480ef4702729', 'batch.kubernetes.io/job-name': 'j-dbttransform-802f80c4-d1b9-423e-abc6-3931079dece4', 'controller-uid': '9221d611-6884-4aa6-acae-480ef4702729', 'dhcore/framework': 'k8sjob', 'dhcore/project': 'project-dbt', 'dhcore/runtime': 'dbt', 'job-name': 'j-dbttransform-802f80c4-d1b9-423e-abc6-3931079dece4'}, 'name': 'j-dbttransform-802f80c4-d1b9-423e-abc6-3931079dece4'}, 'spec': {'containers': [{'args': ['wrapper.py'], 'command': ['python'], 'env': [{'name': 'DH_RUN_SECRET_NAME', 'value': 'sec-dbttransform-802f80c4-d1b9-423e-abc6-3931079dece4'}, {'name': 'DHCORE_ACCESS_TOKEN', 'valueFrom': {'secretKeyRef': {'key': 'DHCORE_ACCESS_TOKEN', 'name': 'sec-dbttransform-802f80c4-d1b9-423e-abc6-3931079dece4'}}}, {'name': 'DHCORE_REFRESH_TOKEN', 'valueFrom': {'secretKeyRef': {'key': 'DHCORE_REFRESH_TOKEN', 'name': 'sec-dbttransform-802f80c4-d1b9-423e-abc6-3931079dece4'}}}, {'name': 'DHCORE_CLIENT_ID', 'valueFrom': {'secretKeyRef': {'key': 'DHCORE_CLIENT_ID', 'name': 'sec-dbttransform-802f80c4-d1b9-423e-abc6-3931079dece4'}}}, {'name': 'DHCORE_TOKEN_TYPE', 'valueFrom': {'secretKeyRef': {'key': 'DHCORE_TOKEN_TYPE', 'name': 'sec-dbttransform-802f80c4-d1b9-423e-abc6-3931079dece4'}}}, {'name': 'DHCORE_ISSUER', 'valueFrom': {'secretKeyRef': {'key': 'DHCORE_ISSUER', 'name': 'sec-dbttransform-802f80c4-d1b9-423e-abc6-3931079dece4'}}}, {'name': 'PROJECT_NAME', 'value': 'project-dbt'}, {'name': 'DHCORE_EXPIRES_IN', 'valueFrom': {'secretKeyRef': {'key': 'DHCORE_EXPIRES_IN', 'name': 'sec-dbttransform-802f80c4-d1b9-423e-abc6-3931079dece4'}}}, {'name': 'RUN_ID', 'value': '802f80c4-d1b9-423e-abc6-3931079dece4'}], 'envFrom': [{'configMapRef': {'name': 'digitalhub-common-env'}}, {'secretRef': {'name': 'digitalhub-common-creds'}}], 'image': 'ghcr.io/scc-digitalhub/digitalhub-sdk/wrapper-dbt:latest', 'imagePullPolicy': 'IfNotPresent', 'name': 'c-dbttransform-802f80c4-d1b9-423e-abc6-3931079dece4', 'resources': {'requests': {'cpu': {'number': 0.1, 'format': 'DECIMAL_SI'}, 'memory': {'number': 0.064, 'format': 'DECIMAL_SI'}}}, 'securityContext': {'allowPrivilegeEscalation': False, 'privileged': False, 'runAsNonRoot': True}, 'terminationMessagePath': '/dev/termination-log', 'terminationMessagePolicy': 'File'}], 'dnsPolicy': 'ClusterFirst', 'imagePullSecrets': [{'name': 'registry-credentials'}], 'restartPolicy': 'Never', 'schedulerName': 'default-scheduler', 'securityContext': {'runAsNonRoot': True}, 'terminationGracePeriodSeconds': 30}}}}}}}, 'user': 'khurshid@fbk.eu', 'project': 'project-dbt', 'id': '802f80c4-d1b9-423e-abc6-3931079dece4', 'key': 'store://project-dbt/run/dbt+run/802f80c4-d1b9-423e-abc6-3931079dece4'}\n"
     ]
    }
   ],
   "source": [
    "print(run)"
   ]
  },
  {
   "cell_type": "code",
   "execution_count": 19,
   "id": "eb5aa6b1-c69d-41b6-baf1-e6349aba0537",
   "metadata": {},
   "outputs": [
    {
     "data": {
      "text/plain": [
       "{'kind': 'dbt+run', 'metadata': {'project': 'project-dbt', 'name': 'f1a0e3c3-42b2-4559-9a77-4930d5957f1f', 'created': '2024-10-22T12:33:14.301Z', 'updated': '2024-10-22T12:33:14.364Z', 'created_by': 'khurshid@fbk.eu', 'updated_by': 'khurshid@fbk.eu'}, 'spec': {'task': 'dbt+transform://project-dbt/function-dbt:3923eafb-2c33-4445-b40d-d105399a1279', 'local_execution': False, 'function': 'dbt://project-dbt/function-dbt:3923eafb-2c33-4445-b40d-d105399a1279', 'source': {'base64': 'CldJVEggdGFiIEFTICgKICAgIFNFTEVDVCAgKgogICAgRlJPTSAgICB7eyByZWYoJ2VtcGxveWVlcycpIH19CikKU0VMRUNUICAqCkZST00gICAgdGFiCldIRVJFICAgdGFiLiJERVBBUlRNRU5UX0lEIiA9ICc1MCcK', 'lang': 'sql'}, 'inputs': {'employees': 'store://project-dbt/dataitem/table/employees-dbt:cd94b87c-c8dd-4b9f-9186-1ded416329d5'}, 'outputs': {'output_table': 'department-50'}, 'parameters': {}}, 'status': {'state': 'RUNNING', 'message': 'job j-dbttransform-f1a0e3c3-42b2-4559-9a77-4930d5957f1f created', 'transitions': [{'status': 'RUNNING', 'message': 'job j-dbttransform-f1a0e3c3-42b2-4559-9a77-4930d5957f1f created', 'time': '2024-10-22T12:33:14.360687869Z'}, {'status': 'READY', 'time': '2024-10-22T12:33:14.32365682Z'}, {'status': 'BUILT', 'time': '2024-10-22T12:33:14.30845165Z'}], 'k8s': {'secret': {'secret': {'apiVersion': 'v1', 'kind': 'Secret', 'metadata': {'labels': {'dhcore/framework': 'k8sjob', 'app.kubernetes.io/managed-by': 'dhcore', 'app.kubernetes.io/part-of': 'dhcore-project-dbt', 'dhcore/project': 'project-dbt', 'dhcore/runtime': 'dbt', 'app.kubernetes.io/instance': 'dhcore-f1a0e3c3-42b2-4559-9a77-4930d5957f1f', 'app.kubernetes.io/version': 'f1a0e3c3-42b2-4559-9a77-4930d5957f1f'}, 'name': 'sec-dbttransform-f1a0e3c3-42b2-4559-9a77-4930d5957f1f', 'namespace': 'digitalhub-tenant2'}}}, 'job': {'job': {'apiVersion': 'batch/v1', 'kind': 'Job', 'metadata': {'creationTimestamp': 1729600394.0, 'generation': 1, 'labels': {'app.kubernetes.io/instance': 'dhcore-f1a0e3c3-42b2-4559-9a77-4930d5957f1f', 'app.kubernetes.io/managed-by': 'dhcore', 'app.kubernetes.io/part-of': 'dhcore-project-dbt', 'app.kubernetes.io/version': 'f1a0e3c3-42b2-4559-9a77-4930d5957f1f', 'dhcore/framework': 'k8sjob', 'dhcore/project': 'project-dbt', 'dhcore/runtime': 'dbt'}, 'managedFields': [{'apiVersion': 'batch/v1', 'fieldsType': 'FieldsV1', 'manager': 'Kubernetes Java Client', 'operation': 'Update', 'time': 1729600394.0}], 'name': 'j-dbttransform-f1a0e3c3-42b2-4559-9a77-4930d5957f1f', 'namespace': 'digitalhub-tenant2', 'resourceVersion': '405893', 'uid': '4ab2d2e2-15c0-468b-a976-f25116d7426b'}, 'spec': {'activeDeadlineSeconds': 604800, 'backoffLimit': 3, 'completionMode': 'NonIndexed', 'completions': 1, 'manualSelector': False, 'parallelism': 1, 'podReplacementPolicy': 'TerminatingOrFailed', 'selector': {'matchLabels': {'batch.kubernetes.io/controller-uid': '4ab2d2e2-15c0-468b-a976-f25116d7426b'}}, 'suspend': False, 'template': {'metadata': {'labels': {'app.kubernetes.io/instance': 'dhcore-f1a0e3c3-42b2-4559-9a77-4930d5957f1f', 'app.kubernetes.io/managed-by': 'dhcore', 'app.kubernetes.io/part-of': 'dhcore-project-dbt', 'app.kubernetes.io/version': 'f1a0e3c3-42b2-4559-9a77-4930d5957f1f', 'batch.kubernetes.io/controller-uid': '4ab2d2e2-15c0-468b-a976-f25116d7426b', 'batch.kubernetes.io/job-name': 'j-dbttransform-f1a0e3c3-42b2-4559-9a77-4930d5957f1f', 'controller-uid': '4ab2d2e2-15c0-468b-a976-f25116d7426b', 'dhcore/framework': 'k8sjob', 'dhcore/project': 'project-dbt', 'dhcore/runtime': 'dbt', 'job-name': 'j-dbttransform-f1a0e3c3-42b2-4559-9a77-4930d5957f1f'}, 'name': 'j-dbttransform-f1a0e3c3-42b2-4559-9a77-4930d5957f1f'}, 'spec': {'containers': [{'args': ['wrapper.py'], 'command': ['python'], 'env': [{'name': 'DH_RUN_SECRET_NAME', 'value': 'sec-dbttransform-f1a0e3c3-42b2-4559-9a77-4930d5957f1f'}, {'name': 'DHCORE_ACCESS_TOKEN', 'valueFrom': {'secretKeyRef': {'key': 'DHCORE_ACCESS_TOKEN', 'name': 'sec-dbttransform-f1a0e3c3-42b2-4559-9a77-4930d5957f1f'}}}, {'name': 'DHCORE_REFRESH_TOKEN', 'valueFrom': {'secretKeyRef': {'key': 'DHCORE_REFRESH_TOKEN', 'name': 'sec-dbttransform-f1a0e3c3-42b2-4559-9a77-4930d5957f1f'}}}, {'name': 'DHCORE_CLIENT_ID', 'valueFrom': {'secretKeyRef': {'key': 'DHCORE_CLIENT_ID', 'name': 'sec-dbttransform-f1a0e3c3-42b2-4559-9a77-4930d5957f1f'}}}, {'name': 'DHCORE_TOKEN_TYPE', 'valueFrom': {'secretKeyRef': {'key': 'DHCORE_TOKEN_TYPE', 'name': 'sec-dbttransform-f1a0e3c3-42b2-4559-9a77-4930d5957f1f'}}}, {'name': 'DHCORE_ISSUER', 'valueFrom': {'secretKeyRef': {'key': 'DHCORE_ISSUER', 'name': 'sec-dbttransform-f1a0e3c3-42b2-4559-9a77-4930d5957f1f'}}}, {'name': 'PROJECT_NAME', 'value': 'project-dbt'}, {'name': 'DHCORE_EXPIRES_IN', 'valueFrom': {'secretKeyRef': {'key': 'DHCORE_EXPIRES_IN', 'name': 'sec-dbttransform-f1a0e3c3-42b2-4559-9a77-4930d5957f1f'}}}, {'name': 'RUN_ID', 'value': 'f1a0e3c3-42b2-4559-9a77-4930d5957f1f'}], 'envFrom': [{'configMapRef': {'name': 'digitalhub-common-env'}}, {'secretRef': {'name': 'digitalhub-common-creds'}}], 'image': 'ghcr.io/scc-digitalhub/digitalhub-sdk/wrapper-dbt:latest', 'imagePullPolicy': 'IfNotPresent', 'name': 'c-dbttransform-f1a0e3c3-42b2-4559-9a77-4930d5957f1f', 'resources': {'requests': {'cpu': {'number': 0.1, 'format': 'DECIMAL_SI'}, 'memory': {'number': 0.064, 'format': 'DECIMAL_SI'}}}, 'securityContext': {'allowPrivilegeEscalation': False, 'privileged': False, 'runAsNonRoot': True}, 'terminationMessagePath': '/dev/termination-log', 'terminationMessagePolicy': 'File'}], 'dnsPolicy': 'ClusterFirst', 'imagePullSecrets': [{'name': 'registry-credentials'}], 'restartPolicy': 'Never', 'schedulerName': 'default-scheduler', 'securityContext': {'runAsNonRoot': True}, 'terminationGracePeriodSeconds': 30}}}}}}}, 'user': 'khurshid@fbk.eu', 'project': 'project-dbt', 'id': 'f1a0e3c3-42b2-4559-9a77-4930d5957f1f', 'key': 'store://project-dbt/run/dbt+run/f1a0e3c3-42b2-4559-9a77-4930d5957f1f'}"
      ]
     },
     "execution_count": 19,
     "metadata": {},
     "output_type": "execute_result"
    }
   ],
   "source": [
    "run"
   ]
  },
  {
   "cell_type": "code",
   "execution_count": 20,
   "id": "0eeffcfc-4163-4858-a950-336ed46a1a72",
   "metadata": {},
   "outputs": [
    {
     "data": {
      "text/html": [
       "<div>\n",
       "<style scoped>\n",
       "    .dataframe tbody tr th:only-of-type {\n",
       "        vertical-align: middle;\n",
       "    }\n",
       "\n",
       "    .dataframe tbody tr th {\n",
       "        vertical-align: top;\n",
       "    }\n",
       "\n",
       "    .dataframe thead th {\n",
       "        text-align: right;\n",
       "    }\n",
       "</style>\n",
       "<table border=\"1\" class=\"dataframe\">\n",
       "  <thead>\n",
       "    <tr style=\"text-align: right;\">\n",
       "      <th></th>\n",
       "      <th>EMPLOYEE_ID</th>\n",
       "      <th>FIRST_NAME</th>\n",
       "      <th>LAST_NAME</th>\n",
       "      <th>EMAIL</th>\n",
       "      <th>PHONE_NUMBER</th>\n",
       "      <th>HIRE_DATE</th>\n",
       "      <th>JOB_ID</th>\n",
       "      <th>SALARY</th>\n",
       "      <th>COMMISSION_PCT</th>\n",
       "      <th>MANAGER_ID</th>\n",
       "      <th>DEPARTMENT_ID</th>\n",
       "    </tr>\n",
       "  </thead>\n",
       "  <tbody>\n",
       "    <tr>\n",
       "      <th>0</th>\n",
       "      <td>198</td>\n",
       "      <td>Donald</td>\n",
       "      <td>OConnell</td>\n",
       "      <td>DOCONNEL</td>\n",
       "      <td>650.507.9833</td>\n",
       "      <td>21-JUN-07</td>\n",
       "      <td>SH_CLERK</td>\n",
       "      <td>2600</td>\n",
       "      <td>-</td>\n",
       "      <td>124</td>\n",
       "      <td>50</td>\n",
       "    </tr>\n",
       "    <tr>\n",
       "      <th>1</th>\n",
       "      <td>199</td>\n",
       "      <td>Douglas</td>\n",
       "      <td>Grant</td>\n",
       "      <td>DGRANT</td>\n",
       "      <td>650.507.9844</td>\n",
       "      <td>13-JAN-08</td>\n",
       "      <td>SH_CLERK</td>\n",
       "      <td>2600</td>\n",
       "      <td>-</td>\n",
       "      <td>124</td>\n",
       "      <td>50</td>\n",
       "    </tr>\n",
       "    <tr>\n",
       "      <th>2</th>\n",
       "      <td>120</td>\n",
       "      <td>Matthew</td>\n",
       "      <td>Weiss</td>\n",
       "      <td>MWEISS</td>\n",
       "      <td>650.123.1234</td>\n",
       "      <td>18-JUL-04</td>\n",
       "      <td>ST_MAN</td>\n",
       "      <td>8000</td>\n",
       "      <td>-</td>\n",
       "      <td>100</td>\n",
       "      <td>50</td>\n",
       "    </tr>\n",
       "    <tr>\n",
       "      <th>3</th>\n",
       "      <td>121</td>\n",
       "      <td>Adam</td>\n",
       "      <td>Fripp</td>\n",
       "      <td>AFRIPP</td>\n",
       "      <td>650.123.2234</td>\n",
       "      <td>10-APR-05</td>\n",
       "      <td>ST_MAN</td>\n",
       "      <td>8200</td>\n",
       "      <td>-</td>\n",
       "      <td>100</td>\n",
       "      <td>50</td>\n",
       "    </tr>\n",
       "    <tr>\n",
       "      <th>4</th>\n",
       "      <td>122</td>\n",
       "      <td>Payam</td>\n",
       "      <td>Kaufling</td>\n",
       "      <td>PKAUFLIN</td>\n",
       "      <td>650.123.3234</td>\n",
       "      <td>01-MAY-03</td>\n",
       "      <td>ST_MAN</td>\n",
       "      <td>7900</td>\n",
       "      <td>-</td>\n",
       "      <td>100</td>\n",
       "      <td>50</td>\n",
       "    </tr>\n",
       "  </tbody>\n",
       "</table>\n",
       "</div>"
      ],
      "text/plain": [
       "   EMPLOYEE_ID FIRST_NAME LAST_NAME     EMAIL  PHONE_NUMBER  HIRE_DATE  \\\n",
       "0          198     Donald  OConnell  DOCONNEL  650.507.9833  21-JUN-07   \n",
       "1          199    Douglas     Grant    DGRANT  650.507.9844  13-JAN-08   \n",
       "2          120    Matthew     Weiss    MWEISS  650.123.1234  18-JUL-04   \n",
       "3          121       Adam     Fripp    AFRIPP  650.123.2234  10-APR-05   \n",
       "4          122      Payam  Kaufling  PKAUFLIN  650.123.3234  01-MAY-03   \n",
       "\n",
       "     JOB_ID  SALARY COMMISSION_PCT MANAGER_ID  DEPARTMENT_ID  \n",
       "0  SH_CLERK    2600             -         124             50  \n",
       "1  SH_CLERK    2600             -         124             50  \n",
       "2    ST_MAN    8000             -         100             50  \n",
       "3    ST_MAN    8200             -         100             50  \n",
       "4    ST_MAN    7900             -         100             50  "
      ]
     },
     "execution_count": 20,
     "metadata": {},
     "output_type": "execute_result"
    }
   ],
   "source": [
    "proj = dh.get_or_create_project(\"project-dbt\")\n",
    "di = proj.get_dataitem('department-50')\n",
    "df = di.as_df()\n",
    "df.head()"
   ]
  }
 ],
 "metadata": {
  "kernelspec": {
   "display_name": "Python 3 (ipykernel)",
   "language": "python",
   "name": "python3"
  },
  "language_info": {
   "codemirror_mode": {
    "name": "ipython",
    "version": 3
   },
   "file_extension": ".py",
   "mimetype": "text/x-python",
   "name": "python",
   "nbconvert_exporter": "python",
   "pygments_lexer": "ipython3",
   "version": "3.10.11"
  }
 },
 "nbformat": 4,
 "nbformat_minor": 5
}
