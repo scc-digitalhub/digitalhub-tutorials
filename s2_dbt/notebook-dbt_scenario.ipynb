{
 "cells": [
  {
   "cell_type": "code",
   "execution_count": 1,
   "id": "dc81fbbd-8bd0-4ec8-bcff-fa18337661e5",
   "metadata": {},
   "outputs": [],
   "source": [
    "import digitalhub as dh"
   ]
  },
  {
   "cell_type": "code",
   "execution_count": 6,
   "id": "e53d6547-2934-4119-bab4-355c2a7a59d9",
   "metadata": {},
   "outputs": [],
   "source": [
    "project = dh.get_or_create_project(\"project-dbt-ci\")"
   ]
  },
  {
   "cell_type": "code",
   "execution_count": 7,
   "id": "889951a4-199c-4027-8814-2fb14bc52681",
   "metadata": {},
   "outputs": [
    {
     "name": "stdout",
     "output_type": "stream",
     "text": [
      "{'kind': 'project', 'metadata': {'project': 'project-dbt-ci', 'name': 'project-dbt-ci', 'created': '2024-10-23T13:14:02.867Z', 'updated': '2024-10-23T13:14:02.867Z', 'created_by': 'khurshid@fbk.eu', 'updated_by': 'khurshid@fbk.eu'}, 'spec': {'context': './', 'functions': [], 'artifacts': [], 'workflows': [], 'dataitems': [], 'models': []}, 'status': {'state': 'CREATED'}, 'user': 'khurshid@fbk.eu', 'id': 'project-dbt-ci', 'name': 'project-dbt-ci', 'key': 'store://project-dbt-ci'}\n"
     ]
    }
   ],
   "source": [
    "print(project)"
   ]
  },
  {
   "cell_type": "code",
   "execution_count": 8,
   "id": "c3ffed72-7b5f-4386-af48-d5e697f75899",
   "metadata": {},
   "outputs": [],
   "source": [
    "url = \"https://gist.githubusercontent.com/kevin336/acbb2271e66c10a5b73aacf82ca82784/raw/e38afe62e088394d61ed30884dd50a6826eee0a8/employees.csv\"\n",
    "di = project.new_dataitem(name=\"employees-dbt\",\n",
    "                          kind=\"table\",\n",
    "                          path=url)"
   ]
  },
  {
   "cell_type": "code",
   "execution_count": 9,
   "id": "09a9e552-654a-49ff-a61b-29a7d9b24bb8",
   "metadata": {},
   "outputs": [],
   "source": [
    "sql = \"\"\"\n",
    "WITH tab AS (\n",
    "    SELECT  *\n",
    "    FROM    {{ ref('employees') }}\n",
    ")\n",
    "SELECT  *\n",
    "FROM    tab\n",
    "WHERE   tab.\"DEPARTMENT_ID\" = '50'\n",
    "\"\"\""
   ]
  },
  {
   "cell_type": "code",
   "execution_count": 10,
   "id": "babd80ce-f1ae-44b6-93db-af58e698cde9",
   "metadata": {},
   "outputs": [],
   "source": [
    "function = project.new_function(name=\"function-dbt\",\n",
    "                                kind=\"dbt\",\n",
    "                                code=sql)"
   ]
  },
  {
   "cell_type": "code",
   "execution_count": 25,
   "id": "9ed079cf-07c7-4d42-aa55-19cf7c0f2451",
   "metadata": {},
   "outputs": [],
   "source": [
    "run = function.run(\"transform\",\n",
    "                   inputs={\"employees\": di.key},\n",
    "                   outputs={\"output_table\": \"department-50\"})"
   ]
  },
  {
   "cell_type": "code",
   "execution_count": 12,
   "id": "c504f472-ac90-4c0f-9c3e-b11459f023a4",
   "metadata": {},
   "outputs": [
    {
     "name": "stdout",
     "output_type": "stream",
     "text": [
      "{'state': 'RUNNING', 'message': 'job j-dbttransform-17ceb79c-9449-444b-8397-59273c498e74 created', 'transitions': [{'status': 'RUNNING', 'message': 'job j-dbttransform-17ceb79c-9449-444b-8397-59273c498e74 created', 'time': '2024-10-23T13:14:24.08321968Z'}, {'status': 'READY', 'time': '2024-10-23T13:14:24.042246908Z'}, {'status': 'BUILT', 'time': '2024-10-23T13:14:24.019606525Z'}], 'k8s': {'secret': {'secret': {'apiVersion': 'v1', 'kind': 'Secret', 'metadata': {'labels': {'dhcore/framework': 'k8sjob', 'app.kubernetes.io/managed-by': 'dhcore', 'app.kubernetes.io/part-of': 'dhcore-project-dbt-ci', 'dhcore/project': 'project-dbt-ci', 'dhcore/runtime': 'dbt', 'app.kubernetes.io/instance': 'dhcore-17ceb79c-9449-444b-8397-59273c498e74', 'app.kubernetes.io/version': '17ceb79c-9449-444b-8397-59273c498e74'}, 'name': 'sec-dbttransform-17ceb79c-9449-444b-8397-59273c498e74', 'namespace': 'digitalhub-tenant1'}}}, 'job': {'job': {'apiVersion': 'batch/v1', 'kind': 'Job', 'metadata': {'creationTimestamp': 1729689264.0, 'generation': 1, 'labels': {'app.kubernetes.io/instance': 'dhcore-17ceb79c-9449-444b-8397-59273c498e74', 'app.kubernetes.io/managed-by': 'dhcore', 'app.kubernetes.io/part-of': 'dhcore-project-dbt-ci', 'app.kubernetes.io/version': '17ceb79c-9449-444b-8397-59273c498e74', 'dhcore/framework': 'k8sjob', 'dhcore/project': 'project-dbt-ci', 'dhcore/runtime': 'dbt'}, 'managedFields': [{'apiVersion': 'batch/v1', 'fieldsType': 'FieldsV1', 'manager': 'Kubernetes Java Client', 'operation': 'Update', 'time': 1729689264.0}], 'name': 'j-dbttransform-17ceb79c-9449-444b-8397-59273c498e74', 'namespace': 'digitalhub-tenant1', 'resourceVersion': '457302', 'uid': '4bfa39f3-ac89-44ec-a38d-ce6b36344e7c'}, 'spec': {'activeDeadlineSeconds': 604800, 'backoffLimit': 3, 'completionMode': 'NonIndexed', 'completions': 1, 'manualSelector': False, 'parallelism': 1, 'podReplacementPolicy': 'TerminatingOrFailed', 'selector': {'matchLabels': {'batch.kubernetes.io/controller-uid': '4bfa39f3-ac89-44ec-a38d-ce6b36344e7c'}}, 'suspend': False, 'template': {'metadata': {'labels': {'app.kubernetes.io/instance': 'dhcore-17ceb79c-9449-444b-8397-59273c498e74', 'app.kubernetes.io/managed-by': 'dhcore', 'app.kubernetes.io/part-of': 'dhcore-project-dbt-ci', 'app.kubernetes.io/version': '17ceb79c-9449-444b-8397-59273c498e74', 'batch.kubernetes.io/controller-uid': '4bfa39f3-ac89-44ec-a38d-ce6b36344e7c', 'batch.kubernetes.io/job-name': 'j-dbttransform-17ceb79c-9449-444b-8397-59273c498e74', 'controller-uid': '4bfa39f3-ac89-44ec-a38d-ce6b36344e7c', 'dhcore/framework': 'k8sjob', 'dhcore/project': 'project-dbt-ci', 'dhcore/runtime': 'dbt', 'job-name': 'j-dbttransform-17ceb79c-9449-444b-8397-59273c498e74'}, 'name': 'j-dbttransform-17ceb79c-9449-444b-8397-59273c498e74'}, 'spec': {'containers': [{'args': ['wrapper.py'], 'command': ['python'], 'env': [{'name': 'DH_RUN_SECRET_NAME', 'value': 'sec-dbttransform-17ceb79c-9449-444b-8397-59273c498e74'}, {'name': 'DHCORE_ACCESS_TOKEN', 'valueFrom': {'secretKeyRef': {'key': 'DHCORE_ACCESS_TOKEN', 'name': 'sec-dbttransform-17ceb79c-9449-444b-8397-59273c498e74'}}}, {'name': 'DHCORE_REFRESH_TOKEN', 'valueFrom': {'secretKeyRef': {'key': 'DHCORE_REFRESH_TOKEN', 'name': 'sec-dbttransform-17ceb79c-9449-444b-8397-59273c498e74'}}}, {'name': 'DHCORE_CLIENT_ID', 'valueFrom': {'secretKeyRef': {'key': 'DHCORE_CLIENT_ID', 'name': 'sec-dbttransform-17ceb79c-9449-444b-8397-59273c498e74'}}}, {'name': 'DHCORE_TOKEN_TYPE', 'valueFrom': {'secretKeyRef': {'key': 'DHCORE_TOKEN_TYPE', 'name': 'sec-dbttransform-17ceb79c-9449-444b-8397-59273c498e74'}}}, {'name': 'DHCORE_ISSUER', 'valueFrom': {'secretKeyRef': {'key': 'DHCORE_ISSUER', 'name': 'sec-dbttransform-17ceb79c-9449-444b-8397-59273c498e74'}}}, {'name': 'PROJECT_NAME', 'value': 'project-dbt-ci'}, {'name': 'DHCORE_EXPIRES_IN', 'valueFrom': {'secretKeyRef': {'key': 'DHCORE_EXPIRES_IN', 'name': 'sec-dbttransform-17ceb79c-9449-444b-8397-59273c498e74'}}}, {'name': 'RUN_ID', 'value': '17ceb79c-9449-444b-8397-59273c498e74'}], 'envFrom': [{'configMapRef': {'name': 'digitalhub-common-env'}}, {'secretRef': {'name': 'digitalhub-common-creds'}}], 'image': 'ghcr.io/scc-digitalhub/digitalhub-sdk/wrapper-dbt:latest', 'imagePullPolicy': 'IfNotPresent', 'name': 'c-dbttransform-17ceb79c-9449-444b-8397-59273c498e74', 'securityContext': {'allowPrivilegeEscalation': False, 'privileged': False, 'runAsNonRoot': True}, 'terminationMessagePath': '/dev/termination-log', 'terminationMessagePolicy': 'File'}], 'dnsPolicy': 'ClusterFirst', 'imagePullSecrets': [{'name': 'registry-credentials'}], 'restartPolicy': 'Never', 'schedulerName': 'default-scheduler', 'securityContext': {'runAsNonRoot': True}, 'terminationGracePeriodSeconds': 30}}}}}}}\n"
     ]
    }
   ],
   "source": [
    "print(run.refresh().status)"
   ]
  },
  {
   "cell_type": "code",
   "execution_count": 13,
   "id": "0eeffcfc-4163-4858-a950-336ed46a1a72",
   "metadata": {},
   "outputs": [
    {
     "data": {
      "text/html": [
       "<div>\n",
       "<style scoped>\n",
       "    .dataframe tbody tr th:only-of-type {\n",
       "        vertical-align: middle;\n",
       "    }\n",
       "\n",
       "    .dataframe tbody tr th {\n",
       "        vertical-align: top;\n",
       "    }\n",
       "\n",
       "    .dataframe thead th {\n",
       "        text-align: right;\n",
       "    }\n",
       "</style>\n",
       "<table border=\"1\" class=\"dataframe\">\n",
       "  <thead>\n",
       "    <tr style=\"text-align: right;\">\n",
       "      <th></th>\n",
       "      <th>EMPLOYEE_ID</th>\n",
       "      <th>FIRST_NAME</th>\n",
       "      <th>LAST_NAME</th>\n",
       "      <th>EMAIL</th>\n",
       "      <th>PHONE_NUMBER</th>\n",
       "      <th>HIRE_DATE</th>\n",
       "      <th>JOB_ID</th>\n",
       "      <th>SALARY</th>\n",
       "      <th>COMMISSION_PCT</th>\n",
       "      <th>MANAGER_ID</th>\n",
       "      <th>DEPARTMENT_ID</th>\n",
       "    </tr>\n",
       "  </thead>\n",
       "  <tbody>\n",
       "    <tr>\n",
       "      <th>0</th>\n",
       "      <td>198</td>\n",
       "      <td>Donald</td>\n",
       "      <td>OConnell</td>\n",
       "      <td>DOCONNEL</td>\n",
       "      <td>650.507.9833</td>\n",
       "      <td>21-JUN-07</td>\n",
       "      <td>SH_CLERK</td>\n",
       "      <td>2600</td>\n",
       "      <td>-</td>\n",
       "      <td>124</td>\n",
       "      <td>50</td>\n",
       "    </tr>\n",
       "    <tr>\n",
       "      <th>1</th>\n",
       "      <td>199</td>\n",
       "      <td>Douglas</td>\n",
       "      <td>Grant</td>\n",
       "      <td>DGRANT</td>\n",
       "      <td>650.507.9844</td>\n",
       "      <td>13-JAN-08</td>\n",
       "      <td>SH_CLERK</td>\n",
       "      <td>2600</td>\n",
       "      <td>-</td>\n",
       "      <td>124</td>\n",
       "      <td>50</td>\n",
       "    </tr>\n",
       "    <tr>\n",
       "      <th>2</th>\n",
       "      <td>120</td>\n",
       "      <td>Matthew</td>\n",
       "      <td>Weiss</td>\n",
       "      <td>MWEISS</td>\n",
       "      <td>650.123.1234</td>\n",
       "      <td>18-JUL-04</td>\n",
       "      <td>ST_MAN</td>\n",
       "      <td>8000</td>\n",
       "      <td>-</td>\n",
       "      <td>100</td>\n",
       "      <td>50</td>\n",
       "    </tr>\n",
       "    <tr>\n",
       "      <th>3</th>\n",
       "      <td>121</td>\n",
       "      <td>Adam</td>\n",
       "      <td>Fripp</td>\n",
       "      <td>AFRIPP</td>\n",
       "      <td>650.123.2234</td>\n",
       "      <td>10-APR-05</td>\n",
       "      <td>ST_MAN</td>\n",
       "      <td>8200</td>\n",
       "      <td>-</td>\n",
       "      <td>100</td>\n",
       "      <td>50</td>\n",
       "    </tr>\n",
       "    <tr>\n",
       "      <th>4</th>\n",
       "      <td>122</td>\n",
       "      <td>Payam</td>\n",
       "      <td>Kaufling</td>\n",
       "      <td>PKAUFLIN</td>\n",
       "      <td>650.123.3234</td>\n",
       "      <td>01-MAY-03</td>\n",
       "      <td>ST_MAN</td>\n",
       "      <td>7900</td>\n",
       "      <td>-</td>\n",
       "      <td>100</td>\n",
       "      <td>50</td>\n",
       "    </tr>\n",
       "  </tbody>\n",
       "</table>\n",
       "</div>"
      ],
      "text/plain": [
       "   EMPLOYEE_ID FIRST_NAME LAST_NAME     EMAIL  PHONE_NUMBER  HIRE_DATE  \\\n",
       "0          198     Donald  OConnell  DOCONNEL  650.507.9833  21-JUN-07   \n",
       "1          199    Douglas     Grant    DGRANT  650.507.9844  13-JAN-08   \n",
       "2          120    Matthew     Weiss    MWEISS  650.123.1234  18-JUL-04   \n",
       "3          121       Adam     Fripp    AFRIPP  650.123.2234  10-APR-05   \n",
       "4          122      Payam  Kaufling  PKAUFLIN  650.123.3234  01-MAY-03   \n",
       "\n",
       "     JOB_ID  SALARY COMMISSION_PCT MANAGER_ID  DEPARTMENT_ID  \n",
       "0  SH_CLERK    2600             -         124             50  \n",
       "1  SH_CLERK    2600             -         124             50  \n",
       "2    ST_MAN    8000             -         100             50  \n",
       "3    ST_MAN    8200             -         100             50  \n",
       "4    ST_MAN    7900             -         100             50  "
      ]
     },
     "execution_count": 13,
     "metadata": {},
     "output_type": "execute_result"
    }
   ],
   "source": [
    "proj = dh.get_or_create_project(\"project-dbt-ci\")\n",
    "di = proj.get_dataitem('department-50')\n",
    "df = di.as_df()\n",
    "df.head()"
   ]
  },
  {
   "cell_type": "code",
   "execution_count": 31,
   "id": "d5341f8a-6e4c-402d-8cae-2f04773b55c5",
   "metadata": {},
   "outputs": [],
   "source": [
    "import os\n",
    "new_folder = 'src'\n",
    "if not os.path.exists(new_folder):\n",
    "    os.makedirs(new_folder)"
   ]
  },
  {
   "cell_type": "code",
   "execution_count": 32,
   "id": "dc55e8c1-adf7-4790-bbed-6634a84b794c",
   "metadata": {},
   "outputs": [
    {
     "name": "stdout",
     "output_type": "stream",
     "text": [
      "Overwriting src/dbt_ci_pipeline.py\n"
     ]
    }
   ],
   "source": [
    "%%writefile \"src/dbt_ci_pipeline.py\"\n",
    "\n",
    "from digitalhub_runtime_kfp.dsl import pipeline_context\n",
    "\n",
    "def myhandler(url):\n",
    "    with pipeline_context() as pc:\n",
    "        s1_dataset = pc.step(name=\"dbt\", function=\"function-dbt\", action=\"transform\", inputs={\"employees\":url}, outputs={\"output_table\": \"department-50\"})"
   ]
  },
  {
   "cell_type": "code",
   "execution_count": 27,
   "id": "3fed6732-7c05-4368-9073-93e42b3d4710",
   "metadata": {},
   "outputs": [],
   "source": [
    "workflow = proj.new_workflow(name=\"pipeline_dbt\", kind=\"kfp\", code_src= \"src/dbt_ci_pipeline.py\", handler = \"myhandler\")"
   ]
  },
  {
   "cell_type": "code",
   "execution_count": 28,
   "id": "d1bacfdb-68c0-4bc0-b402-636df3195629",
   "metadata": {},
   "outputs": [],
   "source": [
    "di_url = proj.new_dataitem(name=\"url_data_item\",kind=\"table\",path=url)"
   ]
  },
  {
   "cell_type": "code",
   "execution_count": 29,
   "id": "4f3e3554-aa3f-45a1-be52-cc157e02ac4c",
   "metadata": {},
   "outputs": [],
   "source": [
    "workflow_run = workflow.run(parameters={\"url\": di_url.key})"
   ]
  }
 ],
 "metadata": {
  "kernelspec": {
   "display_name": "Python 3 (ipykernel)",
   "language": "python",
   "name": "python3"
  },
  "language_info": {
   "codemirror_mode": {
    "name": "ipython",
    "version": 3
   },
   "file_extension": ".py",
   "mimetype": "text/x-python",
   "name": "python",
   "nbconvert_exporter": "python",
   "pygments_lexer": "ipython3",
   "version": "3.10.11"
  }
 },
 "nbformat": 4,
 "nbformat_minor": 5
}
