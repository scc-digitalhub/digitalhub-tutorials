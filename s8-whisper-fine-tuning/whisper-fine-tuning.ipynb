{
 "cells": [
  {
   "cell_type": "code",
   "execution_count": null,
   "id": "3444773d-4c79-44e1-a020-667c49256688",
   "metadata": {},
   "outputs": [],
   "source": [
    "import  digitalhub as dh\n",
    "\n",
    "project = dh.get_or_create_project(\"whisper-test\")"
   ]
  },
  {
   "cell_type": "code",
   "execution_count": null,
   "id": "2de8703c-ee9c-42e4-a0aa-ba77eb01f7ec",
   "metadata": {},
   "outputs": [],
   "source": [
    "func = project.new_function(\n",
    "    name=\"train-whisper\", \n",
    "    kind=\"python\", \n",
    "    python_version=\"PYTHON3_10\", \n",
    "    code_src=\"src/whisper_fine_tuning.py\",  \n",
    "    handler=\"train_and_log_model\",\n",
    "    requirements=[\"datasets[audio]==3.6.0\", \"transformers==4.56.1\", \"torch==2.8.0\", \"evaluate\", \"tensorboard==2.8.0\"]\n",
    ")"
   ]
  },
  {
   "cell_type": "code",
   "execution_count": null,
   "id": "cdfd73c1-62e5-4ddc-be42-78a01887efe9",
   "metadata": {},
   "outputs": [],
   "source": [
    "train_run = func.run(action=\"job\",\n",
    "                     profile=\"1xa100\",\n",
    "                     parameters={\n",
    "                         \"model_id\": \"openai/whisper-small\",\n",
    "                         \"model_name\": \"whisper-ft\",\n",
    "                         \"hf_dataset_name\": \"mozilla-foundation/common_voice_11_0\",\n",
    "                         \"language\": \"Italian\",\n",
    "                         \"language_code\": \"it\"\n",
    "                     },\n",
    "                     secrets=[\"HF_TOKEN\"],\n",
    "                     volumes=[{\n",
    "                        \"volume_type\": \"persistent_volume_claim\",\n",
    "                        \"name\": \"volume-llmpa\",\n",
    "                        \"mount_path\": \"/app/local_data\",\n",
    "                        \"spec\": { \"size\": \"20Gi\" }}]\n",
    "\t\t\t\t\t)"
   ]
  }
 ],
 "metadata": {
  "kernelspec": {
   "display_name": "Python 3 (ipykernel)",
   "language": "python",
   "name": "python3"
  },
  "language_info": {
   "codemirror_mode": {
    "name": "ipython",
    "version": 3
   },
   "file_extension": ".py",
   "mimetype": "text/x-python",
   "name": "python",
   "nbconvert_exporter": "python",
   "pygments_lexer": "ipython3",
   "version": "3.10.11"
  }
 },
 "nbformat": 4,
 "nbformat_minor": 5
}
