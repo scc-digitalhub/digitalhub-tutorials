{
 "cells": [
  {
   "cell_type": "code",
   "execution_count": null,
   "id": "3444773d-4c79-44e1-a020-667c49256688",
   "metadata": {},
   "outputs": [],
   "source": [
    "import  digitalhub as dh\n",
    "\n",
    "project = dh.get_or_create_project(\"llmpa-test\")"
   ]
  },
  {
   "cell_type": "markdown",
   "id": "9a982148-b80a-459e-84a1-c5cdd2b043ca",
   "metadata": {},
   "source": [
    "## 1. Create and Preprocess dataset"
   ]
  },
  {
   "cell_type": "code",
   "execution_count": null,
   "id": "c34b5d0a-ff0a-4df9-8760-c7667cf97786",
   "metadata": {},
   "outputs": [],
   "source": [
    "func = project.new_function(\n",
    "    name=\"create-dataset\", \n",
    "    kind=\"python\", \n",
    "    python_version=\"PYTHON3_10\", \n",
    "    code_src=\"src/dataset_preprocessing.py\",  \n",
    "    handler=\"create_and_log_dataset\",\n",
    "    requirements=[\"datasets[audio]==4.1.0\", \"transformers==4.52.0\"]\n",
    ")"
   ]
  },
  {
   "cell_type": "code",
   "execution_count": null,
   "id": "db8dd6b4-d5e2-4b9c-ae6c-490cc5974b54",
   "metadata": {},
   "outputs": [],
   "source": [
    "train_run = func.run(action=\"job\",\n",
    "                     parameters={\n",
    "                         \"model_id\": \"openai/whisper-small\",\n",
    "                         \"dataset_name\": \"audio-dataset\",\n",
    "                         \"hf_dataset_name\": \"mozilla-foundation/common_voice_17_0\",\n",
    "                         \"language\": \"Italian\",\n",
    "                         \"language_code\": \"it\"\n",
    "                     },\n",
    "                     secrets=[\"HF_TOKEN\"],\n",
    "                     envs=[\n",
    "                        {\"name\": \"HF_HOME\", \"value\": \"shared/data/huggingface\"},\n",
    "                        {\"name\": \"TRANSFORMERS_CACHE\", \"value\":  \"shared/data/huggingface\"}\n",
    "                     ],\n",
    "                     volumes=[{\n",
    "                        \"volume_type\": \"persistent_volume_claim\",\n",
    "                        \"name\": \"volume-llmpa\",\n",
    "                        \"mount_path\": \"/shared/data\",\n",
    "                        \"spec\": { \"size\": \"300Gi\" }}]\n",
    "\t\t\t\t\t)"
   ]
  },
  {
   "cell_type": "markdown",
   "id": "d251900a-09b4-4ae6-bf1c-f04b3b0c3bc0",
   "metadata": {},
   "source": [
    "## 2. Fine-tuning"
   ]
  },
  {
   "cell_type": "code",
   "execution_count": null,
   "id": "2de8703c-ee9c-42e4-a0aa-ba77eb01f7ec",
   "metadata": {},
   "outputs": [],
   "source": [
    "func = project.new_function(\n",
    "    name=\"train-whisper\", \n",
    "    kind=\"python\", \n",
    "    python_version=\"PYTHON3_10\", \n",
    "    code_src=\"src/whisper_fine_tuning.py\",  \n",
    "    handler=\"train_and_log_model\",\n",
    "    requirements=[\"datasets[audio]=4.1.0\", \"transformers==4.52.0\", \"torch==2.8.0\", \"accelerate==1.10.1\", \"evaluate==0.4.5\", \"jiwer==4.0.0\", \"tensorboard==2.20.0\"]\n",
    ")"
   ]
  },
  {
   "cell_type": "code",
   "execution_count": null,
   "id": "cdfd73c1-62e5-4ddc-be42-78a01887efe9",
   "metadata": {},
   "outputs": [],
   "source": [
    "train_run = func.run(action=\"job\",\n",
    "                     parameters={\n",
    "                         \"model_id\": \"openai/whisper-small\",\n",
    "                         \"model_name\": \"whisper-ft\",\n",
    "                         \"artifact_name\": \"audio-dataset\",\n",
    "                         \"language\": \"Italian\",\n",
    "                         \"language_code\": \"it\"\n",
    "                     },\n",
    "                     profile=\"1xa100\",\n",
    "                     secrets=[\"HF_TOKEN\"],\n",
    "                     envs=[\n",
    "                        {\"name\": \"HF_HOME\", \"value\": \"shared/data/huggingface\"},\n",
    "                        {\"name\": \"TRANSFORMERS_CACHE\", \"value\":  \"shared/data/huggingface\"}\n",
    "                     ],\n",
    "                     volumes=[{\n",
    "                        \"volume_type\": \"persistent_volume_claim\",\n",
    "                        \"name\": \"volume-llmpa\",\n",
    "                        \"mount_path\": \"/shared/data\",\n",
    "                        \"spec\": { \"size\": \"100Gi\" }}]\n",
    "\t\t\t\t\t)"
   ]
  }
 ],
 "metadata": {
  "kernelspec": {
   "display_name": "Python 3 (ipykernel)",
   "language": "python",
   "name": "python3"
  },
  "language_info": {
   "codemirror_mode": {
    "name": "ipython",
    "version": 3
   },
   "file_extension": ".py",
   "mimetype": "text/x-python",
   "name": "python",
   "nbconvert_exporter": "python",
   "pygments_lexer": "ipython3",
   "version": "3.10.11"
  }
 },
 "nbformat": 4,
 "nbformat_minor": 5
}
