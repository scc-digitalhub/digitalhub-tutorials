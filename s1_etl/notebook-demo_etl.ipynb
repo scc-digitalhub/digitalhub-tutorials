{
 "cells": [
  {
   "cell_type": "code",
   "execution_count": 20,
   "id": "82e6cab4-a33e-4682-8629-083e483b68fd",
   "metadata": {},
   "outputs": [],
   "source": [
    "import digitalhub as dh\n",
    "import pandas as pd\n",
    "import requests\n",
    "import os"
   ]
  },
  {
   "cell_type": "code",
   "execution_count": 21,
   "id": "8de0aff8-754a-4cab-93d6-a934528477e5",
   "metadata": {},
   "outputs": [],
   "source": [
    "PROJECT = \"demo-etl\"\n",
    "project = dh.get_or_create_project(PROJECT)"
   ]
  },
  {
   "cell_type": "code",
   "execution_count": 22,
   "id": "5867cb24-0b93-4be4-8e68-bd20de3e87cc",
   "metadata": {},
   "outputs": [
    {
     "name": "stdout",
     "output_type": "stream",
     "text": [
      "{'kind': 'project', 'metadata': {'project': 'demo-etl', 'name': 'demo-etl', 'created': '2024-10-22T12:27:54.403Z', 'updated': '2024-10-22T12:27:54.403Z', 'created_by': 'khurshid@fbk.eu', 'updated_by': 'khurshid@fbk.eu'}, 'spec': {'context': './', 'functions': [], 'artifacts': [], 'workflows': [], 'dataitems': [], 'models': []}, 'status': {'state': 'CREATED'}, 'user': 'khurshid@fbk.eu', 'id': 'demo-etl', 'name': 'demo-etl', 'key': 'store://demo-etl'}\n"
     ]
    }
   ],
   "source": [
    "print(project)"
   ]
  },
  {
   "cell_type": "code",
   "execution_count": 23,
   "id": "0d08adc1-0597-4296-8ab0-62bcc3190cc1",
   "metadata": {},
   "outputs": [],
   "source": [
    "URL = \"https://opendata.comune.bologna.it/api/explore/v2.1/catalog/datasets/rilevazione-flusso-veicoli-tramite-spire-anno-2023/exports/csv?lang=it&timezone=Europe%2FRome&use_labels=true&delimiter=%3B\"\n",
    "filename = \"rilevazione-flusso-veicoli-tramite-spire-anno-2023.csv\""
   ]
  },
  {
   "cell_type": "code",
   "execution_count": null,
   "id": "54d04f13-3c91-440c-b590-3e6f79ef71c4",
   "metadata": {},
   "outputs": [],
   "source": [
    "with requests.get(URL) as r:\n",
    "    with open(filename, \"wb\") as f:\n",
    "        f.write(r.content)"
   ]
  },
  {
   "cell_type": "code",
   "execution_count": null,
   "id": "a3e9c12e-080a-4c80-b7c5-d9811f80c256",
   "metadata": {},
   "outputs": [],
   "source": [
    "df = pd.read_csv(filename, sep=\";\")"
   ]
  }
 ],
 "metadata": {
  "kernelspec": {
   "display_name": "Python 3 (ipykernel)",
   "language": "python",
   "name": "python3"
  },
  "language_info": {
   "codemirror_mode": {
    "name": "ipython",
    "version": 3
   },
   "file_extension": ".py",
   "mimetype": "text/x-python",
   "name": "python",
   "nbconvert_exporter": "python",
   "pygments_lexer": "ipython3",
   "version": "3.10.11"
  }
 },
 "nbformat": 4,
 "nbformat_minor": 5
}
