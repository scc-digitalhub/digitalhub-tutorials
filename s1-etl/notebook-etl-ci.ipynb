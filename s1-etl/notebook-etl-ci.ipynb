{
 "cells": [
  {
   "cell_type": "code",
   "execution_count": null,
   "id": "baa5b909",
   "metadata": {},
   "outputs": [],
   "source": [
    "from pathlib import Path\n",
    "Path(\"src\").mkdir(exist_ok=True)"
   ]
  },
  {
   "cell_type": "code",
   "execution_count": null,
   "id": "82e6cab4-a33e-4682-8629-083e483b68fd",
   "metadata": {},
   "outputs": [],
   "source": [
    "import digitalhub as dh"
   ]
  },
  {
   "cell_type": "code",
   "execution_count": null,
   "id": "8de0aff8-754a-4cab-93d6-a934528477e5",
   "metadata": {},
   "outputs": [],
   "source": [
    "PROJECT = \"project-etl-ci\"\n",
    "project = dh.get_or_create_project(PROJECT)"
   ]
  },
  {
   "cell_type": "code",
   "execution_count": null,
   "id": "568190bc-d842-4e8c-b43a-90b73f8a39f2",
   "metadata": {},
   "outputs": [],
   "source": [
    "%%writefile \"src/download-data.py\"\n",
    "\n",
    "from digitalhub_runtime_python import handler\n",
    "\n",
    "@handler(outputs=[\"dataset\"])\n",
    "def downloader(url):\n",
    "    return url.as_df(file_format='csv',sep=\";\")"
   ]
  },
  {
   "cell_type": "code",
   "execution_count": null,
   "id": "acc122e5-0823-4c02-af3d-5a021b35e911",
   "metadata": {},
   "outputs": [],
   "source": [
    "func = project.new_function(name=\"download-data\",\n",
    "                            kind=\"python\",\n",
    "                            python_version=\"PYTHON3_10\",\n",
    "                            code_src=\"src/download-data.py\",\n",
    "                            handler=\"downloader\")"
   ]
  },
  {
   "cell_type": "code",
   "execution_count": null,
   "id": "dd2e5dbf-bfc1-49b6-8fc6-a00e88e78245",
   "metadata": {},
   "outputs": [],
   "source": [
    "URL = \"https://opendata.comune.bologna.it/api/explore/v2.1/catalog/datasets/rilevazione-flusso-veicoli-tramite-spire-anno-2023/exports/csv?lang=it&timezone=Europe%2FRome&use_labels=true&delimiter=%3B\"\n",
    "di = project.new_dataitem(name=\"url_data_item\",\n",
    "                          kind=\"table\",\n",
    "                          path=URL)"
   ]
  },
  {
   "cell_type": "code",
   "execution_count": null,
   "id": "3f3d3035-27f5-4a1d-b3a3-9d55bd593239",
   "metadata": {},
   "outputs": [],
   "source": [
    "run = func.run(\"job\",\n",
    "               inputs={'url': di.key},\n",
    "               wait=True)"
   ]
  },
  {
   "cell_type": "markdown",
   "id": "d3a975a6-4b3a-4753-8d64-d64cfe217ea2",
   "metadata": {},
   "source": [
    "Wait until the 'run' job is completed. One can view the state of job from digitalhub application console or using digitalhub sdk API call."
   ]
  },
  {
   "cell_type": "code",
   "execution_count": null,
   "id": "741195a0-6d6e-497b-83c0-4cc3179dbb03",
   "metadata": {},
   "outputs": [],
   "source": [
    "run.refresh().status.state"
   ]
  },
  {
   "cell_type": "markdown",
   "id": "33219840-b6eb-4c32-8ca8-ef045a8e974e",
   "metadata": {},
   "source": [
    "Once 'Completed', retrieve the newly created dataset."
   ]
  },
  {
   "cell_type": "code",
   "execution_count": null,
   "id": "5df6a2bb-eadf-4397-85dd-fff1c2dd76d2",
   "metadata": {},
   "outputs": [],
   "source": [
    "dataset_di = project.get_dataitem('dataset')\n",
    "dataset_di.as_df().head()"
   ]
  },
  {
   "cell_type": "code",
   "execution_count": null,
   "id": "aa501023-edfb-48d8-bd1a-abd00cd8bc2a",
   "metadata": {},
   "outputs": [],
   "source": [
    "%%writefile \"src/process-spire.py\"\n",
    "\n",
    "from digitalhub_runtime_python import handler\n",
    "\n",
    "KEYS=['codice spira','longitudine','latitudine',\n",
    "      'Livello','tipologia','codice','codice arco',\n",
    "      'codice via','Nome via', 'stato','direzione',\n",
    "      'angolo','geopoint']\n",
    "\n",
    "@handler(outputs=[\"dataset-spire\"])\n",
    "def process(project, di):\n",
    "    df = di.as_df()\n",
    "    sdf= df.groupby(['codice spira']).first().reset_index()[KEYS]\n",
    "    return sdf"
   ]
  },
  {
   "cell_type": "code",
   "execution_count": null,
   "id": "5260e03b-13ee-42d5-8980-7d096f88d5ea",
   "metadata": {},
   "outputs": [],
   "source": [
    "process_func = project.new_function(name=\"process-spire\",\n",
    "                                    kind=\"python\",\n",
    "                                    python_version=\"PYTHON3_10\",\n",
    "                                    code_src=\"src/process-spire.py\",\n",
    "                                    handler=\"process\")"
   ]
  },
  {
   "cell_type": "code",
   "execution_count": null,
   "id": "a10d4ed4-cc2e-4106-b7ef-0f9f382487f3",
   "metadata": {},
   "outputs": [],
   "source": [
    "process_run = process_func.run(\"job\",\n",
    "                               inputs={'di':dataset_di.key},\n",
    "                               wait=True)"
   ]
  },
  {
   "cell_type": "markdown",
   "id": "f82667a4-704d-45b3-9855-3b0545ebd299",
   "metadata": {},
   "source": [
    "Wait until 'run' job is completed. Check the state of run from application console or using digitalhub sdk API call."
   ]
  },
  {
   "cell_type": "code",
   "execution_count": null,
   "id": "f7c2679e-7bda-41c8-a89e-3011c9d80f2a",
   "metadata": {},
   "outputs": [],
   "source": [
    "process_run.refresh().status.state"
   ]
  },
  {
   "cell_type": "markdown",
   "id": "1e49698f-1794-426d-94b8-b0cc850ad6f1",
   "metadata": {},
   "source": [
    "Once completed, proceed with the next steps of scenario"
   ]
  },
  {
   "cell_type": "code",
   "execution_count": null,
   "id": "70e57ec3-e276-4bee-a75a-539d4d09e2a8",
   "metadata": {},
   "outputs": [],
   "source": [
    "process_run.output('dataset-spire').as_df().head()"
   ]
  },
  {
   "cell_type": "code",
   "execution_count": null,
   "id": "5ed0ff52-1406-4661-9e3f-d5400fad593e",
   "metadata": {},
   "outputs": [],
   "source": [
    "%%writefile \"src/process-measures.py\"\n",
    "\n",
    "from digitalhub_runtime_python import handler\n",
    "import pandas as pd\n",
    "\n",
    "KEYS = ['00:00-01:00', '01:00-02:00', '02:00-03:00', '03:00-04:00',\n",
    "        '04:00-05:00', '05:00-06:00', '06:00-07:00', '07:00-08:00',\n",
    "        '08:00-09:00', '09:00-10:00', '10:00-11:00', '11:00-12:00',\n",
    "        '12:00-13:00', '13:00-14:00', '14:00-15:00', '15:00-16:00',\n",
    "        '16:00-17:00', '17:00-18:00', '18:00-19:00', '19:00-20:00',\n",
    "        '20:00-21:00', '21:00-22:00', '22:00-23:00', '23:00-24:00']\n",
    "COLUMNS=['data','codice spira']\n",
    "\n",
    "@handler(outputs=[\"dataset-measures\"])\n",
    "def process(project, di):\n",
    "    df = di.as_df()\n",
    "    rdf = df[COLUMNS+KEYS]\n",
    "    ls = []\n",
    "    for key in KEYS:\n",
    "        k = key.split(\"-\")[0]\n",
    "        xdf = rdf[COLUMNS + [key]]\n",
    "        xdf['time'] = xdf.data.apply(lambda x: x+' ' +k)\n",
    "        xdf['value'] = xdf[key]\n",
    "        ls.append(xdf[['time','codice spira','value']])\n",
    "    edf = pd.concat(ls)\n",
    "    return edf"
   ]
  },
  {
   "cell_type": "code",
   "execution_count": null,
   "id": "7824c93b-e6f1-4316-b41b-bffe9a660c0a",
   "metadata": {},
   "outputs": [],
   "source": [
    "process_measures_func = project.new_function(name=\"process-measures\",\n",
    "                                             kind=\"python\",\n",
    "                                             python_version=\"PYTHON3_10\",\n",
    "                                             code_src=\"src/process-measures.py\",\n",
    "                                             handler=\"process\")"
   ]
  },
  {
   "cell_type": "code",
   "execution_count": null,
   "id": "3f6f7218-eb0d-4976-a5c6-fa9183e49eab",
   "metadata": {},
   "outputs": [],
   "source": [
    "process_measures_run = process_measures_func.run(\"job\",\n",
    "                                                 inputs={'di':dataset_di.key},\n",
    "                                                 wait=True)"
   ]
  },
  {
   "cell_type": "markdown",
   "id": "89b47a84-f341-4cc1-9884-ce4715ae58f9",
   "metadata": {},
   "source": [
    "Wait until 'run' is completed. One can see the state of 'run' job from application console or using the digitalhub sdk API"
   ]
  },
  {
   "cell_type": "code",
   "execution_count": null,
   "id": "f0736da5-02b4-441f-bf58-facaa7afc9de",
   "metadata": {},
   "outputs": [],
   "source": [
    "process_measures_run.refresh().status.state"
   ]
  },
  {
   "cell_type": "markdown",
   "id": "dc74285e-95b3-431e-8901-6fffdbb8730e",
   "metadata": {},
   "source": [
    "Once 'Completed', proceed with next steps of scenario."
   ]
  },
  {
   "cell_type": "code",
   "execution_count": null,
   "id": "3b39565c-d220-4214-a46e-84b9aa9f0c38",
   "metadata": {},
   "outputs": [],
   "source": [
    "process_measures_run.output('dataset-measures').as_df().head()"
   ]
  },
  {
   "cell_type": "markdown",
   "id": "b3430002-98b4-44dd-8f10-b2a3a53e771b",
   "metadata": {},
   "source": [
    "## Serve"
   ]
  },
  {
   "cell_type": "code",
   "execution_count": null,
   "id": "7104408c-35f4-41c5-b77b-5fad96a1080e",
   "metadata": {},
   "outputs": [],
   "source": [
    "%%writefile 'src/api.py'\n",
    "\n",
    "def init_context(context):\n",
    "    di = context.project.get_dataitem('dataset-measures')\n",
    "    df = di.as_df()\n",
    "    setattr(context, \"df\", df)\n",
    "\n",
    "def handler(context, event):\n",
    "    df = context.df\n",
    "\n",
    "    if df is None:\n",
    "        return \"\"\n",
    "\n",
    "    # mock REST api\n",
    "    method = event.method\n",
    "    path = event.path\n",
    "    fields = event.fields\n",
    "\n",
    "    id = False\n",
    "\n",
    "    # pagination\n",
    "    page = 0\n",
    "    pageSize = 50\n",
    "\n",
    "    if \"page\" in fields:\n",
    "        page = int(fields['page'])\n",
    "\n",
    "    if \"size\" in fields:\n",
    "        pageSize = int(fields['size'])\n",
    "\n",
    "    if page < 0:\n",
    "        page = 0\n",
    "\n",
    "    if pageSize < 1:\n",
    "        pageSize = 1\n",
    "\n",
    "    if pageSize > 100:\n",
    "        pageSize = 100\n",
    "\n",
    "    start = page * pageSize\n",
    "    end = start + pageSize\n",
    "    total = len(df)\n",
    "\n",
    "    if end > total:\n",
    "        end = total\n",
    "\n",
    "    ds = df.iloc[start:end]\n",
    "    json = ds.to_json(orient=\"records\")\n",
    "\n",
    "    res = {\"data\": json, \"page\": page, \"size\": pageSize, \"total\": total}\n",
    "\n",
    "    return res"
   ]
  },
  {
   "cell_type": "code",
   "execution_count": null,
   "id": "96e72d61-c896-4e7a-9ba4-f4b3a078f11b",
   "metadata": {},
   "outputs": [],
   "source": [
    "api_func = project.new_function(name=\"api\",\n",
    "                                kind=\"python\",\n",
    "                                python_version=\"PYTHON3_10\",\n",
    "                                code_src=\"src/api.py\",\n",
    "                                handler=\"handler\",\n",
    "                                init_function=\"init_context\")"
   ]
  },
  {
   "cell_type": "code",
   "execution_count": null,
   "id": "041540f3-3a6e-4a99-8474-b0f9b4c1c805",
   "metadata": {},
   "outputs": [],
   "source": [
    "run_serve_model = api_func.run(\"serve\", wait=True)"
   ]
  },
  {
   "cell_type": "markdown",
   "id": "74482f10-9a0c-495b-98ed-a92e3a21231d",
   "metadata": {},
   "source": [
    "Wait until serve job is completed. See the application console to view the state of 'serve' job or query it via digitalhub sdk API call."
   ]
  },
  {
   "cell_type": "code",
   "execution_count": null,
   "id": "875743b8-83b5-4dfa-ba2a-2c2812d1a0fa",
   "metadata": {},
   "outputs": [],
   "source": [
    "svc_url = f\"http://{run_serve_model.status.service['url']}/?page=5&size=10\"\n",
    "res = run_serve_model.invoke(url=svc_url).json()"
   ]
  },
  {
   "cell_type": "code",
   "execution_count": null,
   "id": "796afbe4-1b14-45b2-8a87-cd89f4fb2d16",
   "metadata": {},
   "outputs": [],
   "source": [
    "import pandas as pd\n",
    "\n",
    "rdf = pd.read_json(res['data'], orient='records')\n",
    "rdf.head()"
   ]
  },
  {
   "cell_type": "markdown",
   "id": "59accb31",
   "metadata": {},
   "source": [
    "## Pipeline"
   ]
  },
  {
   "cell_type": "code",
   "execution_count": null,
   "id": "ae47f2f9",
   "metadata": {},
   "outputs": [],
   "source": [
    "%%writefile \"src/pipeline.py\"\n",
    "from hera.workflows import Workflow, DAG, Parameter\n",
    "from digitalhub_runtime_hera.dsl import step\n",
    "\n",
    "\n",
    "def pipeline():\n",
    "    with Workflow(entrypoint=\"dag\", arguments=Parameter(name=\"url\")) as w:\n",
    "\n",
    "        with DAG(name=\"dag\"):\n",
    "            A = step(template={\"action\":\"job\", \"inputs\": {\"url\": \"{{workflow.parameters.url}}\"}},\n",
    "                     function=\"download-data\",\n",
    "                     outputs=[\"dataset\"])\n",
    "            B = step(template={\"action\":\"job\", \"inputs\": {\"di\": \"{{inputs.parameters.di}}\"}},\n",
    "                     function=\"process-spire\",\n",
    "                     inputs={\"di\": A.get_parameter(\"dataset\")})\n",
    "            C = step(template={\"action\":\"job\", \"inputs\": {\"di\": \"{{inputs.parameters.di}}\"}},\n",
    "                     function=\"process-measures\",\n",
    "                     inputs={\"di\": A.get_parameter(\"dataset\")},\n",
    "                     outputs=[\"dataset-measures\"])\n",
    "            D = step(template={\"action\": \"serve\", \"init_parameters\": {\"dataitem\": \"{{inputs.parameters.dataitem}}\"}},\n",
    "                     function=\"api\",\n",
    "                     inputs={\"dataitem\": C.get_parameter(\"dataset-measures\")})\n",
    "            A >> [B, C]\n",
    "            C >> D\n",
    "    return w"
   ]
  },
  {
   "cell_type": "code",
   "execution_count": null,
   "id": "564ef4fe",
   "metadata": {},
   "outputs": [],
   "source": [
    "workflow = project.new_workflow(name=\"pipeline\",\n",
    "                                kind=\"hera\",\n",
    "                                code_src=\"src/pipeline.py\",\n",
    "                                handler=\"pipeline\")"
   ]
  },
  {
   "cell_type": "code",
   "execution_count": null,
   "id": "632450b6",
   "metadata": {},
   "outputs": [],
   "source": [
    "wf_run = workflow.run(\"build\", wait=True)"
   ]
  },
  {
   "cell_type": "code",
   "execution_count": null,
   "id": "e1a3dc68",
   "metadata": {},
   "outputs": [],
   "source": [
    "wf_run = workflow.run(\"pipeline\", parameters={\"url\": di.key}, wait=True)"
   ]
  }
 ],
 "metadata": {
  "kernelspec": {
   "display_name": "3.10.9",
   "language": "python",
   "name": "python3"
  },
  "language_info": {
   "codemirror_mode": {
    "name": "ipython",
    "version": 3
   },
   "file_extension": ".py",
   "mimetype": "text/x-python",
   "name": "python",
   "nbconvert_exporter": "python",
   "pygments_lexer": "ipython3",
   "version": "3.10.9"
  }
 },
 "nbformat": 4,
 "nbformat_minor": 5
}
