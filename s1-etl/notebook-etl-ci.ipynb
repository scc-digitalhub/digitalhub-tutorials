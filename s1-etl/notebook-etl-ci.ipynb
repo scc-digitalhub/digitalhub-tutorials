{
 "cells": [
  {
   "cell_type": "markdown",
   "id": "965d5f1a-7c83-4822-bdb1-7bce64558b3c",
   "metadata": {},
   "source": [
    "## Data Manipulation"
   ]
  },
  {
   "cell_type": "code",
   "execution_count": 1,
   "id": "82e6cab4-a33e-4682-8629-083e483b68fd",
   "metadata": {},
   "outputs": [],
   "source": [
    "import digitalhub as dh\n",
    "import pandas as pd\n",
    "import requests\n",
    "import os"
   ]
  },
  {
   "cell_type": "code",
   "execution_count": 2,
   "id": "8de0aff8-754a-4cab-93d6-a934528477e5",
   "metadata": {},
   "outputs": [],
   "source": [
    "PROJECT = \"project-etl-ci\"\n",
    "project = dh.get_or_create_project(PROJECT)"
   ]
  },
  {
   "cell_type": "code",
   "execution_count": 3,
   "id": "5867cb24-0b93-4be4-8e68-bd20de3e87cc",
   "metadata": {
    "scrolled": true
   },
   "outputs": [
    {
     "data": {
      "text/plain": [
       "{'kind': 'project',\n",
       " 'metadata': {'project': 'project-etl-ci',\n",
       "  'name': 'project-etl-ci',\n",
       "  'created': '2024-10-30T09:41:31.887Z',\n",
       "  'updated': '2024-10-30T09:41:31.887Z',\n",
       "  'created_by': 'khurshid@fbk.eu',\n",
       "  'updated_by': 'khurshid@fbk.eu'},\n",
       " 'spec': {'context': './',\n",
       "  'functions': [],\n",
       "  'artifacts': [],\n",
       "  'workflows': [],\n",
       "  'dataitems': [],\n",
       "  'models': []},\n",
       " 'status': {'state': 'CREATED'},\n",
       " 'user': 'khurshid@fbk.eu',\n",
       " 'id': 'project-etl-ci',\n",
       " 'name': 'project-etl-ci',\n",
       " 'key': 'store://project-etl-ci'}"
      ]
     },
     "execution_count": 3,
     "metadata": {},
     "output_type": "execute_result"
    }
   ],
   "source": [
    "project.to_dict()"
   ]
  },
  {
   "cell_type": "code",
   "execution_count": 4,
   "id": "0d08adc1-0597-4296-8ab0-62bcc3190cc1",
   "metadata": {},
   "outputs": [],
   "source": [
    "URL = \"https://opendata.comune.bologna.it/api/explore/v2.1/catalog/datasets/rilevazione-flusso-veicoli-tramite-spire-anno-2023/exports/csv?lang=it&timezone=Europe%2FRome&use_labels=true&delimiter=%3B\"\n",
    "filename = \"rilevazione-flusso-veicoli-tramite-spire-anno-2023.csv\""
   ]
  },
  {
   "cell_type": "code",
   "execution_count": 5,
   "id": "54d04f13-3c91-440c-b590-3e6f79ef71c4",
   "metadata": {},
   "outputs": [],
   "source": [
    "with requests.get(URL) as r:\n",
    "    with open(filename, \"wb\") as f:\n",
    "        f.write(r.content)"
   ]
  },
  {
   "cell_type": "code",
   "execution_count": 6,
   "id": "a3e9c12e-080a-4c80-b7c5-d9811f80c256",
   "metadata": {},
   "outputs": [],
   "source": [
    "df = pd.read_csv(filename, sep=\";\")"
   ]
  },
  {
   "cell_type": "code",
   "execution_count": 7,
   "id": "52f9dffe-212e-43ea-9bde-941814dfca69",
   "metadata": {},
   "outputs": [
    {
     "data": {
      "text/html": [
       "<div>\n",
       "<style scoped>\n",
       "    .dataframe tbody tr th:only-of-type {\n",
       "        vertical-align: middle;\n",
       "    }\n",
       "\n",
       "    .dataframe tbody tr th {\n",
       "        vertical-align: top;\n",
       "    }\n",
       "\n",
       "    .dataframe thead th {\n",
       "        text-align: right;\n",
       "    }\n",
       "</style>\n",
       "<table border=\"1\" class=\"dataframe\">\n",
       "  <thead>\n",
       "    <tr style=\"text-align: right;\">\n",
       "      <th></th>\n",
       "      <th>data</th>\n",
       "      <th>codice spira</th>\n",
       "      <th>00:00-01:00</th>\n",
       "      <th>01:00-02:00</th>\n",
       "      <th>02:00-03:00</th>\n",
       "      <th>03:00-04:00</th>\n",
       "      <th>04:00-05:00</th>\n",
       "      <th>05:00-06:00</th>\n",
       "      <th>06:00-07:00</th>\n",
       "      <th>07:00-08:00</th>\n",
       "      <th>...</th>\n",
       "      <th>ordinanza</th>\n",
       "      <th>stato</th>\n",
       "      <th>codimpsem</th>\n",
       "      <th>direzione</th>\n",
       "      <th>angolo</th>\n",
       "      <th>longitudine</th>\n",
       "      <th>latitudine</th>\n",
       "      <th>geopoint</th>\n",
       "      <th>ID_univoco_stazione_spira</th>\n",
       "      <th>giorno settimana</th>\n",
       "    </tr>\n",
       "  </thead>\n",
       "  <tbody>\n",
       "    <tr>\n",
       "      <th>0</th>\n",
       "      <td>2023-03-25</td>\n",
       "      <td>0.127 3.89 6 1</td>\n",
       "      <td>97</td>\n",
       "      <td>55</td>\n",
       "      <td>31</td>\n",
       "      <td>16</td>\n",
       "      <td>15</td>\n",
       "      <td>38</td>\n",
       "      <td>77</td>\n",
       "      <td>194</td>\n",
       "      <td>...</td>\n",
       "      <td>4000/343434</td>\n",
       "      <td>A</td>\n",
       "      <td>156</td>\n",
       "      <td>N</td>\n",
       "      <td>348.0</td>\n",
       "      <td>11.373242</td>\n",
       "      <td>44.499532</td>\n",
       "      <td>44.4995320603747, 11.3732419756135</td>\n",
       "      <td>207.0</td>\n",
       "      <td>Sabato</td>\n",
       "    </tr>\n",
       "    <tr>\n",
       "      <th>1</th>\n",
       "      <td>2023-03-25</td>\n",
       "      <td>0.127 3.89 8 1</td>\n",
       "      <td>52</td>\n",
       "      <td>25</td>\n",
       "      <td>12</td>\n",
       "      <td>14</td>\n",
       "      <td>5</td>\n",
       "      <td>13</td>\n",
       "      <td>24</td>\n",
       "      <td>69</td>\n",
       "      <td>...</td>\n",
       "      <td>4000/343434</td>\n",
       "      <td>A</td>\n",
       "      <td>156</td>\n",
       "      <td>E</td>\n",
       "      <td>242.0</td>\n",
       "      <td>11.372867</td>\n",
       "      <td>44.499893</td>\n",
       "      <td>44.4998932893995, 11.3728670312021</td>\n",
       "      <td>208.0</td>\n",
       "      <td>Sabato</td>\n",
       "    </tr>\n",
       "    <tr>\n",
       "      <th>2</th>\n",
       "      <td>2023-03-25</td>\n",
       "      <td>0.127 3.90 6 1</td>\n",
       "      <td>167</td>\n",
       "      <td>94</td>\n",
       "      <td>69</td>\n",
       "      <td>37</td>\n",
       "      <td>42</td>\n",
       "      <td>62</td>\n",
       "      <td>85</td>\n",
       "      <td>151</td>\n",
       "      <td>...</td>\n",
       "      <td>4000/343434</td>\n",
       "      <td>A</td>\n",
       "      <td>232</td>\n",
       "      <td>NE</td>\n",
       "      <td>308.0</td>\n",
       "      <td>11.410369</td>\n",
       "      <td>44.524032</td>\n",
       "      <td>44.52403243227343, 11.410369186317224</td>\n",
       "      <td>211.0</td>\n",
       "      <td>Sabato</td>\n",
       "    </tr>\n",
       "    <tr>\n",
       "      <th>3</th>\n",
       "      <td>2023-03-25</td>\n",
       "      <td>0.127 3.93 4 1</td>\n",
       "      <td>5</td>\n",
       "      <td>3</td>\n",
       "      <td>0</td>\n",
       "      <td>5</td>\n",
       "      <td>5</td>\n",
       "      <td>7</td>\n",
       "      <td>10</td>\n",
       "      <td>26</td>\n",
       "      <td>...</td>\n",
       "      <td>4000/343434</td>\n",
       "      <td>A</td>\n",
       "      <td>106</td>\n",
       "      <td>SE</td>\n",
       "      <td>217.0</td>\n",
       "      <td>11.381753</td>\n",
       "      <td>44.518132</td>\n",
       "      <td>44.5181320170998, 11.381752851058</td>\n",
       "      <td>217.0</td>\n",
       "      <td>Sabato</td>\n",
       "    </tr>\n",
       "    <tr>\n",
       "      <th>4</th>\n",
       "      <td>2023-03-25</td>\n",
       "      <td>0.127 3.93 6 1</td>\n",
       "      <td>234</td>\n",
       "      <td>136</td>\n",
       "      <td>95</td>\n",
       "      <td>85</td>\n",
       "      <td>55</td>\n",
       "      <td>103</td>\n",
       "      <td>141</td>\n",
       "      <td>287</td>\n",
       "      <td>...</td>\n",
       "      <td>4000/343434</td>\n",
       "      <td>A</td>\n",
       "      <td>106</td>\n",
       "      <td>NE</td>\n",
       "      <td>321.0</td>\n",
       "      <td>11.381681</td>\n",
       "      <td>44.517642</td>\n",
       "      <td>44.5176422952597, 11.3816808772175</td>\n",
       "      <td>218.0</td>\n",
       "      <td>Sabato</td>\n",
       "    </tr>\n",
       "  </tbody>\n",
       "</table>\n",
       "<p>5 rows × 45 columns</p>\n",
       "</div>"
      ],
      "text/plain": [
       "         data    codice spira  00:00-01:00  01:00-02:00  02:00-03:00  \\\n",
       "0  2023-03-25  0.127 3.89 6 1           97           55           31   \n",
       "1  2023-03-25  0.127 3.89 8 1           52           25           12   \n",
       "2  2023-03-25  0.127 3.90 6 1          167           94           69   \n",
       "3  2023-03-25  0.127 3.93 4 1            5            3            0   \n",
       "4  2023-03-25  0.127 3.93 6 1          234          136           95   \n",
       "\n",
       "   03:00-04:00  04:00-05:00  05:00-06:00  06:00-07:00  07:00-08:00  ...  \\\n",
       "0           16           15           38           77          194  ...   \n",
       "1           14            5           13           24           69  ...   \n",
       "2           37           42           62           85          151  ...   \n",
       "3            5            5            7           10           26  ...   \n",
       "4           85           55          103          141          287  ...   \n",
       "\n",
       "     ordinanza  stato  codimpsem  direzione  angolo  longitudine  latitudine  \\\n",
       "0  4000/343434      A        156          N   348.0    11.373242   44.499532   \n",
       "1  4000/343434      A        156          E   242.0    11.372867   44.499893   \n",
       "2  4000/343434      A        232         NE   308.0    11.410369   44.524032   \n",
       "3  4000/343434      A        106         SE   217.0    11.381753   44.518132   \n",
       "4  4000/343434      A        106         NE   321.0    11.381681   44.517642   \n",
       "\n",
       "                                geopoint  ID_univoco_stazione_spira  \\\n",
       "0     44.4995320603747, 11.3732419756135                      207.0   \n",
       "1     44.4998932893995, 11.3728670312021                      208.0   \n",
       "2  44.52403243227343, 11.410369186317224                      211.0   \n",
       "3      44.5181320170998, 11.381752851058                      217.0   \n",
       "4     44.5176422952597, 11.3816808772175                      218.0   \n",
       "\n",
       "   giorno settimana  \n",
       "0            Sabato  \n",
       "1            Sabato  \n",
       "2            Sabato  \n",
       "3            Sabato  \n",
       "4            Sabato  \n",
       "\n",
       "[5 rows x 45 columns]"
      ]
     },
     "execution_count": 7,
     "metadata": {},
     "output_type": "execute_result"
    }
   ],
   "source": [
    "df.head()"
   ]
  },
  {
   "cell_type": "code",
   "execution_count": 8,
   "id": "f83dbe38-1126-44fd-a6ce-4f1cbc74afc5",
   "metadata": {},
   "outputs": [],
   "source": [
    "new_folder = 'src'\n",
    "if not os.path.exists(new_folder):\n",
    "    os.makedirs(new_folder)"
   ]
  },
  {
   "cell_type": "code",
   "execution_count": 9,
   "id": "568190bc-d842-4e8c-b43a-90b73f8a39f2",
   "metadata": {},
   "outputs": [
    {
     "name": "stdout",
     "output_type": "stream",
     "text": [
      "Overwriting src/download-data.py\n"
     ]
    }
   ],
   "source": [
    "%%writefile \"src/download-data.py\"\n",
    "\n",
    "from digitalhub_runtime_python import handler\n",
    "\n",
    "@handler(outputs=[\"dataset\"])\n",
    "def downloader(url):\n",
    "    # read and rewrite to normalize and export as data\n",
    "    df = url.as_df(file_format='csv',sep=\";\")\n",
    "    return df"
   ]
  },
  {
   "cell_type": "code",
   "execution_count": 10,
   "id": "acc122e5-0823-4c02-af3d-5a021b35e911",
   "metadata": {},
   "outputs": [],
   "source": [
    "func = project.new_function(\n",
    "                         name=\"download-data\",\n",
    "                         kind=\"python\",\n",
    "                         python_version=\"PYTHON3_10\",\n",
    "                         code_src=\"src/download-data.py\",\n",
    "                         handler=\"downloader\")"
   ]
  },
  {
   "cell_type": "code",
   "execution_count": 11,
   "id": "dd2e5dbf-bfc1-49b6-8fc6-a00e88e78245",
   "metadata": {},
   "outputs": [],
   "source": [
    "URL = \"https://opendata.comune.bologna.it/api/explore/v2.1/catalog/datasets/rilevazione-flusso-veicoli-tramite-spire-anno-2023/exports/csv?lang=it&timezone=Europe%2FRome&use_labels=true&delimiter=%3B\"\n",
    "di= project.new_dataitem(name=\"url_data_item\",kind=\"table\",path=URL)"
   ]
  },
  {
   "cell_type": "code",
   "execution_count": 12,
   "id": "3f3d3035-27f5-4a1d-b3a3-9d55bd593239",
   "metadata": {},
   "outputs": [],
   "source": [
    "run = func.run(action=\"job\", inputs={'url':di.key}, outputs={\"dataset\": \"dataset\"}, local_execution=False)"
   ]
  },
  {
   "cell_type": "markdown",
   "id": "d3a975a6-4b3a-4753-8d64-d64cfe217ea2",
   "metadata": {},
   "source": [
    "Wait until the 'run' job is completed. One can view the state of job from digitalhub application console or using digitalhub sdk API call."
   ]
  },
  {
   "cell_type": "code",
   "execution_count": 20,
   "id": "741195a0-6d6e-497b-83c0-4cc3179dbb03",
   "metadata": {},
   "outputs": [
    {
     "data": {
      "text/plain": [
       "'COMPLETED'"
      ]
     },
     "execution_count": 20,
     "metadata": {},
     "output_type": "execute_result"
    }
   ],
   "source": [
    "run.refresh().status.state"
   ]
  },
  {
   "cell_type": "markdown",
   "id": "33219840-b6eb-4c32-8ca8-ef045a8e974e",
   "metadata": {},
   "source": [
    "Once 'Completed', retrieve the newly created dataset."
   ]
  },
  {
   "cell_type": "code",
   "execution_count": 21,
   "id": "5df6a2bb-eadf-4397-85dd-fff1c2dd76d2",
   "metadata": {},
   "outputs": [],
   "source": [
    "dataset_di = project.get_dataitem('dataset')"
   ]
  },
  {
   "cell_type": "code",
   "execution_count": 22,
   "id": "1f200a49-1b37-4349-9215-2846df05379b",
   "metadata": {},
   "outputs": [],
   "source": [
    "dataset_df = dataset_di.as_df()"
   ]
  },
  {
   "cell_type": "code",
   "execution_count": 23,
   "id": "ab199352-f77f-4e9f-85a0-5e544e4f8eb6",
   "metadata": {},
   "outputs": [
    {
     "data": {
      "text/html": [
       "<div>\n",
       "<style scoped>\n",
       "    .dataframe tbody tr th:only-of-type {\n",
       "        vertical-align: middle;\n",
       "    }\n",
       "\n",
       "    .dataframe tbody tr th {\n",
       "        vertical-align: top;\n",
       "    }\n",
       "\n",
       "    .dataframe thead th {\n",
       "        text-align: right;\n",
       "    }\n",
       "</style>\n",
       "<table border=\"1\" class=\"dataframe\">\n",
       "  <thead>\n",
       "    <tr style=\"text-align: right;\">\n",
       "      <th></th>\n",
       "      <th>data</th>\n",
       "      <th>codice spira</th>\n",
       "      <th>00:00-01:00</th>\n",
       "      <th>01:00-02:00</th>\n",
       "      <th>02:00-03:00</th>\n",
       "      <th>03:00-04:00</th>\n",
       "      <th>04:00-05:00</th>\n",
       "      <th>05:00-06:00</th>\n",
       "      <th>06:00-07:00</th>\n",
       "      <th>07:00-08:00</th>\n",
       "      <th>...</th>\n",
       "      <th>ordinanza</th>\n",
       "      <th>stato</th>\n",
       "      <th>codimpsem</th>\n",
       "      <th>direzione</th>\n",
       "      <th>angolo</th>\n",
       "      <th>longitudine</th>\n",
       "      <th>latitudine</th>\n",
       "      <th>geopoint</th>\n",
       "      <th>ID_univoco_stazione_spira</th>\n",
       "      <th>giorno settimana</th>\n",
       "    </tr>\n",
       "  </thead>\n",
       "  <tbody>\n",
       "    <tr>\n",
       "      <th>0</th>\n",
       "      <td>2023-03-25</td>\n",
       "      <td>0.127 3.89 6 1</td>\n",
       "      <td>97</td>\n",
       "      <td>55</td>\n",
       "      <td>31</td>\n",
       "      <td>16</td>\n",
       "      <td>15</td>\n",
       "      <td>38</td>\n",
       "      <td>77</td>\n",
       "      <td>194</td>\n",
       "      <td>...</td>\n",
       "      <td>4000/343434</td>\n",
       "      <td>A</td>\n",
       "      <td>156</td>\n",
       "      <td>N</td>\n",
       "      <td>348.0</td>\n",
       "      <td>11.373242</td>\n",
       "      <td>44.499532</td>\n",
       "      <td>44.4995320603747, 11.3732419756135</td>\n",
       "      <td>207.0</td>\n",
       "      <td>Sabato</td>\n",
       "    </tr>\n",
       "    <tr>\n",
       "      <th>1</th>\n",
       "      <td>2023-03-25</td>\n",
       "      <td>0.127 3.89 8 1</td>\n",
       "      <td>52</td>\n",
       "      <td>25</td>\n",
       "      <td>12</td>\n",
       "      <td>14</td>\n",
       "      <td>5</td>\n",
       "      <td>13</td>\n",
       "      <td>24</td>\n",
       "      <td>69</td>\n",
       "      <td>...</td>\n",
       "      <td>4000/343434</td>\n",
       "      <td>A</td>\n",
       "      <td>156</td>\n",
       "      <td>E</td>\n",
       "      <td>242.0</td>\n",
       "      <td>11.372867</td>\n",
       "      <td>44.499893</td>\n",
       "      <td>44.4998932893995, 11.3728670312021</td>\n",
       "      <td>208.0</td>\n",
       "      <td>Sabato</td>\n",
       "    </tr>\n",
       "    <tr>\n",
       "      <th>2</th>\n",
       "      <td>2023-03-25</td>\n",
       "      <td>0.127 3.90 6 1</td>\n",
       "      <td>167</td>\n",
       "      <td>94</td>\n",
       "      <td>69</td>\n",
       "      <td>37</td>\n",
       "      <td>42</td>\n",
       "      <td>62</td>\n",
       "      <td>85</td>\n",
       "      <td>151</td>\n",
       "      <td>...</td>\n",
       "      <td>4000/343434</td>\n",
       "      <td>A</td>\n",
       "      <td>232</td>\n",
       "      <td>NE</td>\n",
       "      <td>308.0</td>\n",
       "      <td>11.410369</td>\n",
       "      <td>44.524032</td>\n",
       "      <td>44.52403243227343, 11.410369186317224</td>\n",
       "      <td>211.0</td>\n",
       "      <td>Sabato</td>\n",
       "    </tr>\n",
       "    <tr>\n",
       "      <th>3</th>\n",
       "      <td>2023-03-25</td>\n",
       "      <td>0.127 3.93 4 1</td>\n",
       "      <td>5</td>\n",
       "      <td>3</td>\n",
       "      <td>0</td>\n",
       "      <td>5</td>\n",
       "      <td>5</td>\n",
       "      <td>7</td>\n",
       "      <td>10</td>\n",
       "      <td>26</td>\n",
       "      <td>...</td>\n",
       "      <td>4000/343434</td>\n",
       "      <td>A</td>\n",
       "      <td>106</td>\n",
       "      <td>SE</td>\n",
       "      <td>217.0</td>\n",
       "      <td>11.381753</td>\n",
       "      <td>44.518132</td>\n",
       "      <td>44.5181320170998, 11.381752851058</td>\n",
       "      <td>217.0</td>\n",
       "      <td>Sabato</td>\n",
       "    </tr>\n",
       "    <tr>\n",
       "      <th>4</th>\n",
       "      <td>2023-03-25</td>\n",
       "      <td>0.127 3.93 6 1</td>\n",
       "      <td>234</td>\n",
       "      <td>136</td>\n",
       "      <td>95</td>\n",
       "      <td>85</td>\n",
       "      <td>55</td>\n",
       "      <td>103</td>\n",
       "      <td>141</td>\n",
       "      <td>287</td>\n",
       "      <td>...</td>\n",
       "      <td>4000/343434</td>\n",
       "      <td>A</td>\n",
       "      <td>106</td>\n",
       "      <td>NE</td>\n",
       "      <td>321.0</td>\n",
       "      <td>11.381681</td>\n",
       "      <td>44.517642</td>\n",
       "      <td>44.5176422952597, 11.3816808772175</td>\n",
       "      <td>218.0</td>\n",
       "      <td>Sabato</td>\n",
       "    </tr>\n",
       "  </tbody>\n",
       "</table>\n",
       "<p>5 rows × 45 columns</p>\n",
       "</div>"
      ],
      "text/plain": [
       "         data    codice spira  00:00-01:00  01:00-02:00  02:00-03:00  \\\n",
       "0  2023-03-25  0.127 3.89 6 1           97           55           31   \n",
       "1  2023-03-25  0.127 3.89 8 1           52           25           12   \n",
       "2  2023-03-25  0.127 3.90 6 1          167           94           69   \n",
       "3  2023-03-25  0.127 3.93 4 1            5            3            0   \n",
       "4  2023-03-25  0.127 3.93 6 1          234          136           95   \n",
       "\n",
       "   03:00-04:00  04:00-05:00  05:00-06:00  06:00-07:00  07:00-08:00  ...  \\\n",
       "0           16           15           38           77          194  ...   \n",
       "1           14            5           13           24           69  ...   \n",
       "2           37           42           62           85          151  ...   \n",
       "3            5            5            7           10           26  ...   \n",
       "4           85           55          103          141          287  ...   \n",
       "\n",
       "     ordinanza  stato  codimpsem  direzione  angolo  longitudine  latitudine  \\\n",
       "0  4000/343434      A        156          N   348.0    11.373242   44.499532   \n",
       "1  4000/343434      A        156          E   242.0    11.372867   44.499893   \n",
       "2  4000/343434      A        232         NE   308.0    11.410369   44.524032   \n",
       "3  4000/343434      A        106         SE   217.0    11.381753   44.518132   \n",
       "4  4000/343434      A        106         NE   321.0    11.381681   44.517642   \n",
       "\n",
       "                                geopoint  ID_univoco_stazione_spira  \\\n",
       "0     44.4995320603747, 11.3732419756135                      207.0   \n",
       "1     44.4998932893995, 11.3728670312021                      208.0   \n",
       "2  44.52403243227343, 11.410369186317224                      211.0   \n",
       "3      44.5181320170998, 11.381752851058                      217.0   \n",
       "4     44.5176422952597, 11.3816808772175                      218.0   \n",
       "\n",
       "   giorno settimana  \n",
       "0            Sabato  \n",
       "1            Sabato  \n",
       "2            Sabato  \n",
       "3            Sabato  \n",
       "4            Sabato  \n",
       "\n",
       "[5 rows x 45 columns]"
      ]
     },
     "execution_count": 23,
     "metadata": {},
     "output_type": "execute_result"
    }
   ],
   "source": [
    "dataset_df.head()"
   ]
  },
  {
   "cell_type": "code",
   "execution_count": 24,
   "id": "aa501023-edfb-48d8-bd1a-abd00cd8bc2a",
   "metadata": {},
   "outputs": [
    {
     "name": "stdout",
     "output_type": "stream",
     "text": [
      "Overwriting src/process-spire.py\n"
     ]
    }
   ],
   "source": [
    "%%writefile \"src/process-spire.py\"\n",
    "\n",
    "from digitalhub_runtime_python import handler\n",
    "\n",
    "KEYS=['codice spira','longitudine','latitudine','Livello','tipologia','codice','codice arco','codice via','Nome via', 'stato','direzione','angolo','geopoint']\n",
    "\n",
    "@handler(outputs=[\"dataset-spire\"])\n",
    "def process(project, di):\n",
    "    df = di.as_df()\n",
    "    sdf= df.groupby(['codice spira']).first().reset_index()[KEYS]\n",
    "    return sdf"
   ]
  },
  {
   "cell_type": "code",
   "execution_count": 25,
   "id": "5260e03b-13ee-42d5-8980-7d096f88d5ea",
   "metadata": {},
   "outputs": [],
   "source": [
    "process_func = project.new_function(\n",
    "                         name=\"process-spire\",\n",
    "                         kind=\"python\",\n",
    "                         python_version=\"PYTHON3_10\",\n",
    "                         code_src=\"src/process-spire.py\",\n",
    "                         handler=\"process\")"
   ]
  },
  {
   "cell_type": "code",
   "execution_count": 26,
   "id": "a10d4ed4-cc2e-4106-b7ef-0f9f382487f3",
   "metadata": {},
   "outputs": [],
   "source": [
    "process_run = process_func.run(action=\"job\", inputs={'di': dataset_di.key}, outputs={'dataset-spire': 'dataset-spire'}, local_execution=False)"
   ]
  },
  {
   "cell_type": "markdown",
   "id": "f82667a4-704d-45b3-9855-3b0545ebd299",
   "metadata": {},
   "source": [
    "Wait until 'run' job is completed. Check the state of run from application console or using digitalhub sdk API call."
   ]
  },
  {
   "cell_type": "code",
   "execution_count": 32,
   "id": "f7c2679e-7bda-41c8-a89e-3011c9d80f2a",
   "metadata": {},
   "outputs": [
    {
     "data": {
      "text/plain": [
       "'COMPLETED'"
      ]
     },
     "execution_count": 32,
     "metadata": {},
     "output_type": "execute_result"
    }
   ],
   "source": [
    "process_run.refresh().status.state"
   ]
  },
  {
   "cell_type": "markdown",
   "id": "1e49698f-1794-426d-94b8-b0cc850ad6f1",
   "metadata": {},
   "source": [
    "Once completed, proceed with the next steps of scenario"
   ]
  },
  {
   "cell_type": "code",
   "execution_count": 33,
   "id": "70e57ec3-e276-4bee-a75a-539d4d09e2a8",
   "metadata": {},
   "outputs": [],
   "source": [
    "spire_di = project.get_dataitem('dataset-spire')\n",
    "spire_df = spire_di.as_df()"
   ]
  },
  {
   "cell_type": "code",
   "execution_count": 34,
   "id": "de0b7350-736f-4f24-a270-5d874cf9288e",
   "metadata": {},
   "outputs": [
    {
     "data": {
      "text/html": [
       "<div>\n",
       "<style scoped>\n",
       "    .dataframe tbody tr th:only-of-type {\n",
       "        vertical-align: middle;\n",
       "    }\n",
       "\n",
       "    .dataframe tbody tr th {\n",
       "        vertical-align: top;\n",
       "    }\n",
       "\n",
       "    .dataframe thead th {\n",
       "        text-align: right;\n",
       "    }\n",
       "</style>\n",
       "<table border=\"1\" class=\"dataframe\">\n",
       "  <thead>\n",
       "    <tr style=\"text-align: right;\">\n",
       "      <th></th>\n",
       "      <th>codice spira</th>\n",
       "      <th>longitudine</th>\n",
       "      <th>latitudine</th>\n",
       "      <th>Livello</th>\n",
       "      <th>tipologia</th>\n",
       "      <th>codice</th>\n",
       "      <th>codice arco</th>\n",
       "      <th>codice via</th>\n",
       "      <th>Nome via</th>\n",
       "      <th>stato</th>\n",
       "      <th>direzione</th>\n",
       "      <th>angolo</th>\n",
       "      <th>geopoint</th>\n",
       "    </tr>\n",
       "  </thead>\n",
       "  <tbody>\n",
       "    <tr>\n",
       "      <th>0</th>\n",
       "      <td>0.127 1.1 6 1</td>\n",
       "      <td>11.354166</td>\n",
       "      <td>44.498535</td>\n",
       "      <td>1</td>\n",
       "      <td>spira</td>\n",
       "      <td>498.0</td>\n",
       "      <td>3312</td>\n",
       "      <td>19900</td>\n",
       "      <td>VIA G.BATTISTA DE ROLANDIS</td>\n",
       "      <td>A</td>\n",
       "      <td>N</td>\n",
       "      <td>342.0</td>\n",
       "      <td>44.4985349106485, 11.3541657967424</td>\n",
       "    </tr>\n",
       "    <tr>\n",
       "      <th>1</th>\n",
       "      <td>0.127 1.12 8 1</td>\n",
       "      <td>11.338970</td>\n",
       "      <td>44.495251</td>\n",
       "      <td>1</td>\n",
       "      <td>spira</td>\n",
       "      <td>1045.0</td>\n",
       "      <td>1016</td>\n",
       "      <td>5900</td>\n",
       "      <td>VIA CESARE BATTISTI</td>\n",
       "      <td>A</td>\n",
       "      <td>N</td>\n",
       "      <td>350.0</td>\n",
       "      <td>44.4952505129043, 11.338970003537</td>\n",
       "    </tr>\n",
       "    <tr>\n",
       "      <th>2</th>\n",
       "      <td>0.127 1.13 6 1</td>\n",
       "      <td>11.346420</td>\n",
       "      <td>44.491648</td>\n",
       "      <td>1</td>\n",
       "      <td>spira</td>\n",
       "      <td>130.0</td>\n",
       "      <td>1169</td>\n",
       "      <td>14700</td>\n",
       "      <td>VIA CASTIGLIONE</td>\n",
       "      <td>A</td>\n",
       "      <td>S</td>\n",
       "      <td>198.0</td>\n",
       "      <td>44.4916483847646, 11.3464200565732</td>\n",
       "    </tr>\n",
       "    <tr>\n",
       "      <th>3</th>\n",
       "      <td>0.127 1.14 4 1</td>\n",
       "      <td>11.339836</td>\n",
       "      <td>44.490116</td>\n",
       "      <td>1</td>\n",
       "      <td>spira</td>\n",
       "      <td>521.0</td>\n",
       "      <td>1050</td>\n",
       "      <td>59900</td>\n",
       "      <td>VIA URBANA</td>\n",
       "      <td>A</td>\n",
       "      <td>E</td>\n",
       "      <td>264.0</td>\n",
       "      <td>44.4901162203284, 11.3398356513878</td>\n",
       "    </tr>\n",
       "    <tr>\n",
       "      <th>4</th>\n",
       "      <td>0.127 1.15 2 1</td>\n",
       "      <td>11.343358</td>\n",
       "      <td>44.489507</td>\n",
       "      <td>1</td>\n",
       "      <td>spira</td>\n",
       "      <td>132.0</td>\n",
       "      <td>1064</td>\n",
       "      <td>25800</td>\n",
       "      <td>VIA GARIBALDI</td>\n",
       "      <td>A</td>\n",
       "      <td>N</td>\n",
       "      <td>347.0</td>\n",
       "      <td>44.4895074220971, 11.3433581064329</td>\n",
       "    </tr>\n",
       "  </tbody>\n",
       "</table>\n",
       "</div>"
      ],
      "text/plain": [
       "     codice spira  longitudine  latitudine  Livello tipologia  codice  \\\n",
       "0   0.127 1.1 6 1    11.354166   44.498535        1     spira   498.0   \n",
       "1  0.127 1.12 8 1    11.338970   44.495251        1     spira  1045.0   \n",
       "2  0.127 1.13 6 1    11.346420   44.491648        1     spira   130.0   \n",
       "3  0.127 1.14 4 1    11.339836   44.490116        1     spira   521.0   \n",
       "4  0.127 1.15 2 1    11.343358   44.489507        1     spira   132.0   \n",
       "\n",
       "   codice arco  codice via                    Nome via stato direzione  \\\n",
       "0         3312       19900  VIA G.BATTISTA DE ROLANDIS     A         N   \n",
       "1         1016        5900         VIA CESARE BATTISTI     A         N   \n",
       "2         1169       14700             VIA CASTIGLIONE     A         S   \n",
       "3         1050       59900                  VIA URBANA     A         E   \n",
       "4         1064       25800               VIA GARIBALDI     A         N   \n",
       "\n",
       "   angolo                            geopoint  \n",
       "0   342.0  44.4985349106485, 11.3541657967424  \n",
       "1   350.0   44.4952505129043, 11.338970003537  \n",
       "2   198.0  44.4916483847646, 11.3464200565732  \n",
       "3   264.0  44.4901162203284, 11.3398356513878  \n",
       "4   347.0  44.4895074220971, 11.3433581064329  "
      ]
     },
     "execution_count": 34,
     "metadata": {},
     "output_type": "execute_result"
    }
   ],
   "source": [
    "spire_df.head()"
   ]
  },
  {
   "cell_type": "code",
   "execution_count": 35,
   "id": "5ed0ff52-1406-4661-9e3f-d5400fad593e",
   "metadata": {},
   "outputs": [
    {
     "name": "stdout",
     "output_type": "stream",
     "text": [
      "Overwriting src/process-measures.py\n"
     ]
    }
   ],
   "source": [
    "%%writefile \"src/process-measures.py\"\n",
    "\n",
    "from digitalhub_runtime_python import handler\n",
    "import pandas as pd\n",
    "\n",
    "KEYS = ['00:00-01:00', '01:00-02:00', '02:00-03:00', '03:00-04:00', '04:00-05:00', '05:00-06:00', '06:00-07:00', '07:00-08:00', '08:00-09:00', '09:00-10:00', '10:00-11:00', '11:00-12:00', '12:00-13:00', '13:00-14:00', '14:00-15:00', '15:00-16:00', '16:00-17:00', '17:00-18:00', '18:00-19:00', '19:00-20:00', '20:00-21:00', '21:00-22:00', '22:00-23:00', '23:00-24:00']\n",
    "COLUMNS=['data','codice spira']\n",
    "\n",
    "@handler(outputs=[\"dataset-measures\"])\n",
    "def process(project, di):\n",
    "    df = di.as_df()\n",
    "    rdf = df[COLUMNS+KEYS]\n",
    "    ls = []\n",
    "    for key in KEYS:\n",
    "        k = key.split(\"-\")[0]\n",
    "        xdf = rdf[COLUMNS + [key]]\n",
    "        xdf['time'] = xdf.data.apply(lambda x: x+' ' +k)\n",
    "        xdf['value'] = xdf[key]\n",
    "        ls.append(xdf[['time','codice spira','value']])\n",
    "    edf = pd.concat(ls)\n",
    "    return edf"
   ]
  },
  {
   "cell_type": "code",
   "execution_count": 36,
   "id": "7824c93b-e6f1-4316-b41b-bffe9a660c0a",
   "metadata": {},
   "outputs": [],
   "source": [
    "process_measures_func = project.new_function(\n",
    "                         name=\"process-measures\",\n",
    "                         kind=\"python\",\n",
    "                         python_version=\"PYTHON3_10\",\n",
    "                         code_src=\"src/process-measures.py\",\n",
    "                         handler=\"process\")"
   ]
  },
  {
   "cell_type": "code",
   "execution_count": 37,
   "id": "3f6f7218-eb0d-4976-a5c6-fa9183e49eab",
   "metadata": {},
   "outputs": [],
   "source": [
    "process_measures_run = process_measures_func.run(action=\"job\", inputs={'di': dataset_di.key}, outputs={'dataset-measures': 'dataset-measures'}, local_execution=False)"
   ]
  },
  {
   "cell_type": "markdown",
   "id": "89b47a84-f341-4cc1-9884-ce4715ae58f9",
   "metadata": {},
   "source": [
    "Wait until 'run' is completed. One can see the state of 'run' job from application console or using the digitalhub sdk API"
   ]
  },
  {
   "cell_type": "code",
   "execution_count": 45,
   "id": "f0736da5-02b4-441f-bf58-facaa7afc9de",
   "metadata": {},
   "outputs": [
    {
     "data": {
      "text/plain": [
       "'COMPLETED'"
      ]
     },
     "execution_count": 45,
     "metadata": {},
     "output_type": "execute_result"
    }
   ],
   "source": [
    "process_measures_run.refresh().status.state"
   ]
  },
  {
   "cell_type": "markdown",
   "id": "dc74285e-95b3-431e-8901-6fffdbb8730e",
   "metadata": {},
   "source": [
    "Once 'Completed', proceed with next steps of scenario."
   ]
  },
  {
   "cell_type": "code",
   "execution_count": 46,
   "id": "3b39565c-d220-4214-a46e-84b9aa9f0c38",
   "metadata": {},
   "outputs": [
    {
     "data": {
      "text/html": [
       "<div>\n",
       "<style scoped>\n",
       "    .dataframe tbody tr th:only-of-type {\n",
       "        vertical-align: middle;\n",
       "    }\n",
       "\n",
       "    .dataframe tbody tr th {\n",
       "        vertical-align: top;\n",
       "    }\n",
       "\n",
       "    .dataframe thead th {\n",
       "        text-align: right;\n",
       "    }\n",
       "</style>\n",
       "<table border=\"1\" class=\"dataframe\">\n",
       "  <thead>\n",
       "    <tr style=\"text-align: right;\">\n",
       "      <th></th>\n",
       "      <th>time</th>\n",
       "      <th>codice spira</th>\n",
       "      <th>value</th>\n",
       "    </tr>\n",
       "  </thead>\n",
       "  <tbody>\n",
       "    <tr>\n",
       "      <th>0</th>\n",
       "      <td>2023-03-25 00:00</td>\n",
       "      <td>0.127 3.89 6 1</td>\n",
       "      <td>97</td>\n",
       "    </tr>\n",
       "    <tr>\n",
       "      <th>1</th>\n",
       "      <td>2023-03-25 00:00</td>\n",
       "      <td>0.127 3.89 8 1</td>\n",
       "      <td>52</td>\n",
       "    </tr>\n",
       "    <tr>\n",
       "      <th>2</th>\n",
       "      <td>2023-03-25 00:00</td>\n",
       "      <td>0.127 3.90 6 1</td>\n",
       "      <td>167</td>\n",
       "    </tr>\n",
       "    <tr>\n",
       "      <th>3</th>\n",
       "      <td>2023-03-25 00:00</td>\n",
       "      <td>0.127 3.93 4 1</td>\n",
       "      <td>5</td>\n",
       "    </tr>\n",
       "    <tr>\n",
       "      <th>4</th>\n",
       "      <td>2023-03-25 00:00</td>\n",
       "      <td>0.127 3.93 6 1</td>\n",
       "      <td>234</td>\n",
       "    </tr>\n",
       "  </tbody>\n",
       "</table>\n",
       "</div>"
      ],
      "text/plain": [
       "               time    codice spira  value\n",
       "0  2023-03-25 00:00  0.127 3.89 6 1     97\n",
       "1  2023-03-25 00:00  0.127 3.89 8 1     52\n",
       "2  2023-03-25 00:00  0.127 3.90 6 1    167\n",
       "3  2023-03-25 00:00  0.127 3.93 4 1      5\n",
       "4  2023-03-25 00:00  0.127 3.93 6 1    234"
      ]
     },
     "execution_count": 46,
     "metadata": {},
     "output_type": "execute_result"
    }
   ],
   "source": [
    "measures_di = project.get_dataitem('dataset-measures')\n",
    "measures_df = measures_di.as_df()\n",
    "measures_df.head()"
   ]
  },
  {
   "cell_type": "markdown",
   "id": "0160d673-5544-4c45-b162-ca52c321a8f7",
   "metadata": {},
   "source": [
    "## Pipeline"
   ]
  },
  {
   "cell_type": "code",
   "execution_count": 47,
   "id": "8aa3e44d-bff6-434a-bfe8-d6a4b5b7abd9",
   "metadata": {},
   "outputs": [
    {
     "name": "stdout",
     "output_type": "stream",
     "text": [
      "Overwriting src/pipeline.py\n"
     ]
    }
   ],
   "source": [
    "%%writefile \"src/pipeline.py\"\n",
    "\n",
    "from digitalhub_runtime_kfp.dsl import pipeline_context\n",
    "\n",
    "def pipeline(url):\n",
    "    with pipeline_context() as pc:\n",
    "        downloader = pc.step(\n",
    "            name=\"download-data\",\n",
    "            function=\"download-data\",\n",
    "            action=\"job\",\n",
    "            inputs={\"url\": url},\n",
    "            outputs={\"dataset\": \"dataset\"},\n",
    "        )\n",
    "\n",
    "        process_spire = pc.step(\n",
    "            name=\"process-spire\",\n",
    "            function=\"process-spire\",\n",
    "            action=\"job\",\n",
    "            inputs={\"di\": downloader.outputs[\"dataset\"]}\n",
    "        )\n",
    "\n",
    "        process_measures = pc.step(\n",
    "            name=\"process-measures\",\n",
    "            function=\"process-measures\",\n",
    "            action=\"job\",\n",
    "            inputs={\"di\": downloader.outputs[\"dataset\"]}\n",
    "        )"
   ]
  },
  {
   "cell_type": "code",
   "execution_count": 48,
   "id": "bf41522f-87b0-4616-b924-470ac3b34a24",
   "metadata": {},
   "outputs": [],
   "source": [
    "workflow = project.new_workflow(name=\"pipeline\", kind=\"kfp\", code_src=\"src/pipeline.py\", handler=\"pipeline\")"
   ]
  },
  {
   "cell_type": "code",
   "execution_count": 72,
   "id": "60b10c08-0aa0-45e3-be26-a1428dda34ec",
   "metadata": {},
   "outputs": [],
   "source": [
    "wf_run = workflow.run(parameters={\"url\": di.key})"
   ]
  },
  {
   "cell_type": "code",
   "execution_count": 79,
   "id": "49c23325-4a95-493b-8b8f-950448beafc1",
   "metadata": {},
   "outputs": [
    {
     "data": {
      "text/plain": [
       "'RUNNING'"
      ]
     },
     "execution_count": 79,
     "metadata": {},
     "output_type": "execute_result"
    }
   ],
   "source": [
    "wf_run.refresh().status.state"
   ]
  },
  {
   "cell_type": "markdown",
   "id": "b3430002-98b4-44dd-8f10-b2a3a53e771b",
   "metadata": {},
   "source": [
    "## Serve"
   ]
  },
  {
   "cell_type": "code",
   "execution_count": 80,
   "id": "7104408c-35f4-41c5-b77b-5fad96a1080e",
   "metadata": {},
   "outputs": [
    {
     "name": "stdout",
     "output_type": "stream",
     "text": [
      "Overwriting src/api.py\n"
     ]
    }
   ],
   "source": [
    "%%writefile 'src/api.py'\n",
    "\n",
    "def init_context(context):\n",
    "    di = context.project.get_dataitem('dataset-measures')\n",
    "    df = di.as_df()\n",
    "    setattr(context, \"df\", df)\n",
    "\n",
    "def handler(context, event):\n",
    "    df = context.df\n",
    "\n",
    "    if df is None:\n",
    "        return \"\"\n",
    "\n",
    "    # mock REST api\n",
    "    method = event.method\n",
    "    path = event.path\n",
    "    fields = event.fields\n",
    "\n",
    "    id = False\n",
    "\n",
    "    # pagination\n",
    "    page = 0\n",
    "    pageSize = 50\n",
    "\n",
    "    if \"page\" in fields:\n",
    "        page = int(fields['page'])\n",
    "\n",
    "    if \"size\" in fields:\n",
    "        pageSize = int(fields['size'])\n",
    "\n",
    "    if page < 0:\n",
    "        page = 0\n",
    "\n",
    "    if pageSize < 1:\n",
    "        pageSize = 1\n",
    "\n",
    "    if pageSize > 100:\n",
    "        pageSize = 100\n",
    "\n",
    "    start = page * pageSize\n",
    "    end = start + pageSize\n",
    "    total = len(df)\n",
    "\n",
    "    if end > total:\n",
    "        end = total\n",
    "\n",
    "    ds = df.iloc[start:end]\n",
    "    json = ds.to_json(orient=\"records\")\n",
    "\n",
    "    res = {\"data\": json, \"page\": page, \"size\": pageSize, \"total\": total}\n",
    "\n",
    "    return res"
   ]
  },
  {
   "cell_type": "code",
   "execution_count": 81,
   "id": "96e72d61-c896-4e7a-9ba4-f4b3a078f11b",
   "metadata": {},
   "outputs": [],
   "source": [
    "api_func = project.new_function(\n",
    "                         name=\"api\",\n",
    "                         kind=\"python\",\n",
    "                         python_version=\"PYTHON3_10\",\n",
    "                         code_src=\"src/api.py\",\n",
    "                         handler=\"handler\",\n",
    "                         init_function=\"init_context\")"
   ]
  },
  {
   "cell_type": "code",
   "execution_count": 82,
   "id": "041540f3-3a6e-4a99-8474-b0f9b4c1c805",
   "metadata": {},
   "outputs": [],
   "source": [
    "run_serve_model = api_func.run(action=\"serve\")"
   ]
  },
  {
   "cell_type": "markdown",
   "id": "74482f10-9a0c-495b-98ed-a92e3a21231d",
   "metadata": {},
   "source": [
    "Wait until serve job is completed. See the application console to view the state of 'serve' job or query it via digitalhub sdk API call."
   ]
  },
  {
   "cell_type": "code",
   "execution_count": 83,
   "id": "875743b8-83b5-4dfa-ba2a-2c2812d1a0fa",
   "metadata": {},
   "outputs": [
    {
     "data": {
      "text/plain": [
       "'RUNNING'"
      ]
     },
     "execution_count": 83,
     "metadata": {},
     "output_type": "execute_result"
    }
   ],
   "source": [
    "run_serve_model.refresh().status.state"
   ]
  },
  {
   "cell_type": "code",
   "execution_count": 91,
   "id": "99fed899-6350-42fc-86ee-6bf06f9daf64",
   "metadata": {},
   "outputs": [
    {
     "data": {
      "text/plain": [
       "{'name': 's-pythonserve-103fe8c2-1c80-4d6a-82dc-dbb8d8a5de22',\n",
       " 'namespace': 'digitalhub-test',\n",
       " 'type': 'NodePort',\n",
       " 'clusterIP': '10.98.214.182',\n",
       " 'ports': [{'name': 'port8080',\n",
       "   'nodePort': 31624,\n",
       "   'port': 8080,\n",
       "   'protocol': 'TCP',\n",
       "   'targetPort': 8080}],\n",
       " 'url': 's-pythonserve-103fe8c2-1c80-4d6a-82dc-dbb8d8a5de22.digitalhub-test:8080'}"
      ]
     },
     "execution_count": 91,
     "metadata": {},
     "output_type": "execute_result"
    }
   ],
   "source": [
    "service = run_serve_model.refresh().status.service\n",
    "service"
   ]
  },
  {
   "cell_type": "markdown",
   "id": "8a78bbfe-bd38-44ce-93f4-c79ce61f12f7",
   "metadata": {},
   "source": [
    "Once 'Service' object available, proceed by making call to deployed service."
   ]
  },
  {
   "cell_type": "code",
   "execution_count": 92,
   "id": "d7d9a150-18de-46ca-9308-20606aa49035",
   "metadata": {},
   "outputs": [
    {
     "data": {
      "text/plain": [
       "'http://s-pythonserve-103fe8c2-1c80-4d6a-82dc-dbb8d8a5de22.digitalhub-test:8080'"
      ]
     },
     "execution_count": 92,
     "metadata": {},
     "output_type": "execute_result"
    }
   ],
   "source": [
    "SERVICE_URL = f\"http://{run_serve_model.status.to_dict()['service']['url']}\"\n",
    "SERVICE_URL"
   ]
  },
  {
   "cell_type": "code",
   "execution_count": 93,
   "id": "3120d09d-1747-4bfc-9049-a7be61027f7f",
   "metadata": {},
   "outputs": [
    {
     "name": "stdout",
     "output_type": "stream",
     "text": [
      "{'data': '[{\"time\":\"2023-03-25 00:00\",\"codice spira\":\"1.8 1.11 6 1\",\"value\":100},{\"time\":\"2023-03-25 00:00\",\"codice spira\":\"1.8 1.12 2 1\",\"value\":140},{\"time\":\"2023-03-25 00:00\",\"codice spira\":\"1.8 1.18 6 1\",\"value\":106},{\"time\":\"2023-03-25 00:00\",\"codice spira\":\"1.9 1.8 2 1\",\"value\":146},{\"time\":\"2023-03-25 00:00\",\"codice spira\":\"1.11 1.8 2 1\",\"value\":155},{\"time\":\"2023-03-25 00:00\",\"codice spira\":\"1.12 1.8 6 1\",\"value\":98},{\"time\":\"2023-03-25 00:00\",\"codice spira\":\"1.13 1.19 8 1\",\"value\":0},{\"time\":\"2023-03-25 00:00\",\"codice spira\":\"1.16 1.17 8 1\",\"value\":28},{\"time\":\"2023-03-25 00:00\",\"codice spira\":\"1.17 4.19 6 1\",\"value\":151},{\"time\":\"2023-03-25 00:00\",\"codice spira\":\"1.18 1.10 4 1\",\"value\":78}]', 'page': 5, 'size': 10, 'total': 7513608}\n"
     ]
    }
   ],
   "source": [
    "with requests.get(f'{SERVICE_URL}/?page=5&size=10') as r:\n",
    "    res = r.json()\n",
    "print(res)"
   ]
  },
  {
   "cell_type": "code",
   "execution_count": 94,
   "id": "796afbe4-1b14-45b2-8a87-cd89f4fb2d16",
   "metadata": {},
   "outputs": [
    {
     "data": {
      "text/html": [
       "<div>\n",
       "<style scoped>\n",
       "    .dataframe tbody tr th:only-of-type {\n",
       "        vertical-align: middle;\n",
       "    }\n",
       "\n",
       "    .dataframe tbody tr th {\n",
       "        vertical-align: top;\n",
       "    }\n",
       "\n",
       "    .dataframe thead th {\n",
       "        text-align: right;\n",
       "    }\n",
       "</style>\n",
       "<table border=\"1\" class=\"dataframe\">\n",
       "  <thead>\n",
       "    <tr style=\"text-align: right;\">\n",
       "      <th></th>\n",
       "      <th>time</th>\n",
       "      <th>codice spira</th>\n",
       "      <th>value</th>\n",
       "    </tr>\n",
       "  </thead>\n",
       "  <tbody>\n",
       "    <tr>\n",
       "      <th>0</th>\n",
       "      <td>2023-03-25 00:00</td>\n",
       "      <td>1.8 1.11 6 1</td>\n",
       "      <td>100</td>\n",
       "    </tr>\n",
       "    <tr>\n",
       "      <th>1</th>\n",
       "      <td>2023-03-25 00:00</td>\n",
       "      <td>1.8 1.12 2 1</td>\n",
       "      <td>140</td>\n",
       "    </tr>\n",
       "    <tr>\n",
       "      <th>2</th>\n",
       "      <td>2023-03-25 00:00</td>\n",
       "      <td>1.8 1.18 6 1</td>\n",
       "      <td>106</td>\n",
       "    </tr>\n",
       "    <tr>\n",
       "      <th>3</th>\n",
       "      <td>2023-03-25 00:00</td>\n",
       "      <td>1.9 1.8 2 1</td>\n",
       "      <td>146</td>\n",
       "    </tr>\n",
       "    <tr>\n",
       "      <th>4</th>\n",
       "      <td>2023-03-25 00:00</td>\n",
       "      <td>1.11 1.8 2 1</td>\n",
       "      <td>155</td>\n",
       "    </tr>\n",
       "  </tbody>\n",
       "</table>\n",
       "</div>"
      ],
      "text/plain": [
       "               time  codice spira  value\n",
       "0  2023-03-25 00:00  1.8 1.11 6 1    100\n",
       "1  2023-03-25 00:00  1.8 1.12 2 1    140\n",
       "2  2023-03-25 00:00  1.8 1.18 6 1    106\n",
       "3  2023-03-25 00:00   1.9 1.8 2 1    146\n",
       "4  2023-03-25 00:00  1.11 1.8 2 1    155"
      ]
     },
     "execution_count": 94,
     "metadata": {},
     "output_type": "execute_result"
    }
   ],
   "source": [
    "rdf = pd.read_json(res['data'], orient='records')\n",
    "rdf.head()"
   ]
  },
  {
   "cell_type": "code",
   "execution_count": null,
   "id": "07f403b4-224f-4d6a-8f81-ffa14a1b3595",
   "metadata": {},
   "outputs": [],
   "source": []
  }
 ],
 "metadata": {
  "kernelspec": {
   "display_name": "Python 3 (ipykernel)",
   "language": "python",
   "name": "python3"
  },
  "language_info": {
   "codemirror_mode": {
    "name": "ipython",
    "version": 3
   },
   "file_extension": ".py",
   "mimetype": "text/x-python",
   "name": "python",
   "nbconvert_exporter": "python",
   "pygments_lexer": "ipython3",
   "version": "3.10.11"
  }
 },
 "nbformat": 4,
 "nbformat_minor": 5
}
