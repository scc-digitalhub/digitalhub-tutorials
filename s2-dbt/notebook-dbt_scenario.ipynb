{
 "cells": [
  {
   "cell_type": "code",
   "execution_count": 1,
   "id": "dc81fbbd-8bd0-4ec8-bcff-fa18337661e5",
   "metadata": {},
   "outputs": [],
   "source": [
    "import digitalhub as dh"
   ]
  },
  {
   "cell_type": "code",
   "execution_count": 2,
   "id": "e53d6547-2934-4119-bab4-355c2a7a59d9",
   "metadata": {},
   "outputs": [],
   "source": [
    "project = dh.get_or_create_project(\"project-dbt-ci\")"
   ]
  },
  {
   "cell_type": "code",
   "execution_count": 6,
   "id": "889951a4-199c-4027-8814-2fb14bc52681",
   "metadata": {},
   "outputs": [
    {
     "data": {
      "text/plain": [
       "{'kind': 'project',\n",
       " 'metadata': {'project': 'project-dbt-ci',\n",
       "  'name': 'project-dbt-ci',\n",
       "  'created': '2024-10-29T13:14:13.993Z',\n",
       "  'updated': '2024-10-29T13:14:13.993Z',\n",
       "  'created_by': 'khurshid@fbk.eu',\n",
       "  'updated_by': 'khurshid@fbk.eu'},\n",
       " 'spec': {'context': './',\n",
       "  'functions': [],\n",
       "  'artifacts': [],\n",
       "  'workflows': [],\n",
       "  'dataitems': [],\n",
       "  'models': []},\n",
       " 'status': {'state': 'CREATED'},\n",
       " 'user': 'khurshid@fbk.eu',\n",
       " 'id': 'project-dbt-ci',\n",
       " 'name': 'project-dbt-ci',\n",
       " 'key': 'store://project-dbt-ci'}"
      ]
     },
     "execution_count": 6,
     "metadata": {},
     "output_type": "execute_result"
    }
   ],
   "source": [
    "project.refresh().to_dict()"
   ]
  },
  {
   "cell_type": "code",
   "execution_count": 7,
   "id": "c3ffed72-7b5f-4386-af48-d5e697f75899",
   "metadata": {},
   "outputs": [],
   "source": [
    "url = \"https://gist.githubusercontent.com/kevin336/acbb2271e66c10a5b73aacf82ca82784/raw/e38afe62e088394d61ed30884dd50a6826eee0a8/employees.csv\"\n",
    "di = project.new_dataitem(name=\"employees-dbt\",\n",
    "                          kind=\"table\",\n",
    "                          path=url)"
   ]
  },
  {
   "cell_type": "code",
   "execution_count": 8,
   "id": "09a9e552-654a-49ff-a61b-29a7d9b24bb8",
   "metadata": {},
   "outputs": [],
   "source": [
    "sql = \"\"\"\n",
    "WITH tab AS (\n",
    "    SELECT  *\n",
    "    FROM    {{ ref('employees') }}\n",
    ")\n",
    "SELECT  *\n",
    "FROM    tab\n",
    "WHERE   tab.\"DEPARTMENT_ID\" = '50'\n",
    "\"\"\""
   ]
  },
  {
   "cell_type": "code",
   "execution_count": 9,
   "id": "babd80ce-f1ae-44b6-93db-af58e698cde9",
   "metadata": {},
   "outputs": [],
   "source": [
    "function = project.new_function(name=\"function-dbt\",\n",
    "                                kind=\"dbt\",\n",
    "                                code=sql)"
   ]
  },
  {
   "cell_type": "code",
   "execution_count": 10,
   "id": "9ed079cf-07c7-4d42-aa55-19cf7c0f2451",
   "metadata": {},
   "outputs": [],
   "source": [
    "run = function.run(\"transform\",\n",
    "                   inputs={\"employees\": di.key},\n",
    "                   outputs={\"output_table\": \"department-50\"})"
   ]
  },
  {
   "cell_type": "markdown",
   "id": "99ca8b6b-aabb-49b7-93e5-5a102d157ec2",
   "metadata": {},
   "source": [
    "Wait until data transform 'run' is completed. One can view the state of 'run' from digitalhub Console application or can query it using the digitalhub sdk API call"
   ]
  },
  {
   "cell_type": "code",
   "execution_count": 12,
   "id": "c504f472-ac90-4c0f-9c3e-b11459f023a4",
   "metadata": {},
   "outputs": [
    {
     "name": "stdout",
     "output_type": "stream",
     "text": [
      "{'state': 'RUNNING', 'message': 'job j-dbttransform-17ceb79c-9449-444b-8397-59273c498e74 created', 'transitions': [{'status': 'RUNNING', 'message': 'job j-dbttransform-17ceb79c-9449-444b-8397-59273c498e74 created', 'time': '2024-10-23T13:14:24.08321968Z'}, {'status': 'READY', 'time': '2024-10-23T13:14:24.042246908Z'}, {'status': 'BUILT', 'time': '2024-10-23T13:14:24.019606525Z'}], 'k8s': {'secret': {'secret': {'apiVersion': 'v1', 'kind': 'Secret', 'metadata': {'labels': {'dhcore/framework': 'k8sjob', 'app.kubernetes.io/managed-by': 'dhcore', 'app.kubernetes.io/part-of': 'dhcore-project-dbt-ci', 'dhcore/project': 'project-dbt-ci', 'dhcore/runtime': 'dbt', 'app.kubernetes.io/instance': 'dhcore-17ceb79c-9449-444b-8397-59273c498e74', 'app.kubernetes.io/version': '17ceb79c-9449-444b-8397-59273c498e74'}, 'name': 'sec-dbttransform-17ceb79c-9449-444b-8397-59273c498e74', 'namespace': 'digitalhub-tenant1'}}}, 'job': {'job': {'apiVersion': 'batch/v1', 'kind': 'Job', 'metadata': {'creationTimestamp': 1729689264.0, 'generation': 1, 'labels': {'app.kubernetes.io/instance': 'dhcore-17ceb79c-9449-444b-8397-59273c498e74', 'app.kubernetes.io/managed-by': 'dhcore', 'app.kubernetes.io/part-of': 'dhcore-project-dbt-ci', 'app.kubernetes.io/version': '17ceb79c-9449-444b-8397-59273c498e74', 'dhcore/framework': 'k8sjob', 'dhcore/project': 'project-dbt-ci', 'dhcore/runtime': 'dbt'}, 'managedFields': [{'apiVersion': 'batch/v1', 'fieldsType': 'FieldsV1', 'manager': 'Kubernetes Java Client', 'operation': 'Update', 'time': 1729689264.0}], 'name': 'j-dbttransform-17ceb79c-9449-444b-8397-59273c498e74', 'namespace': 'digitalhub-tenant1', 'resourceVersion': '457302', 'uid': '4bfa39f3-ac89-44ec-a38d-ce6b36344e7c'}, 'spec': {'activeDeadlineSeconds': 604800, 'backoffLimit': 3, 'completionMode': 'NonIndexed', 'completions': 1, 'manualSelector': False, 'parallelism': 1, 'podReplacementPolicy': 'TerminatingOrFailed', 'selector': {'matchLabels': {'batch.kubernetes.io/controller-uid': '4bfa39f3-ac89-44ec-a38d-ce6b36344e7c'}}, 'suspend': False, 'template': {'metadata': {'labels': {'app.kubernetes.io/instance': 'dhcore-17ceb79c-9449-444b-8397-59273c498e74', 'app.kubernetes.io/managed-by': 'dhcore', 'app.kubernetes.io/part-of': 'dhcore-project-dbt-ci', 'app.kubernetes.io/version': '17ceb79c-9449-444b-8397-59273c498e74', 'batch.kubernetes.io/controller-uid': '4bfa39f3-ac89-44ec-a38d-ce6b36344e7c', 'batch.kubernetes.io/job-name': 'j-dbttransform-17ceb79c-9449-444b-8397-59273c498e74', 'controller-uid': '4bfa39f3-ac89-44ec-a38d-ce6b36344e7c', 'dhcore/framework': 'k8sjob', 'dhcore/project': 'project-dbt-ci', 'dhcore/runtime': 'dbt', 'job-name': 'j-dbttransform-17ceb79c-9449-444b-8397-59273c498e74'}, 'name': 'j-dbttransform-17ceb79c-9449-444b-8397-59273c498e74'}, 'spec': {'containers': [{'args': ['wrapper.py'], 'command': ['python'], 'env': [{'name': 'DH_RUN_SECRET_NAME', 'value': 'sec-dbttransform-17ceb79c-9449-444b-8397-59273c498e74'}, {'name': 'DHCORE_ACCESS_TOKEN', 'valueFrom': {'secretKeyRef': {'key': 'DHCORE_ACCESS_TOKEN', 'name': 'sec-dbttransform-17ceb79c-9449-444b-8397-59273c498e74'}}}, {'name': 'DHCORE_REFRESH_TOKEN', 'valueFrom': {'secretKeyRef': {'key': 'DHCORE_REFRESH_TOKEN', 'name': 'sec-dbttransform-17ceb79c-9449-444b-8397-59273c498e74'}}}, {'name': 'DHCORE_CLIENT_ID', 'valueFrom': {'secretKeyRef': {'key': 'DHCORE_CLIENT_ID', 'name': 'sec-dbttransform-17ceb79c-9449-444b-8397-59273c498e74'}}}, {'name': 'DHCORE_TOKEN_TYPE', 'valueFrom': {'secretKeyRef': {'key': 'DHCORE_TOKEN_TYPE', 'name': 'sec-dbttransform-17ceb79c-9449-444b-8397-59273c498e74'}}}, {'name': 'DHCORE_ISSUER', 'valueFrom': {'secretKeyRef': {'key': 'DHCORE_ISSUER', 'name': 'sec-dbttransform-17ceb79c-9449-444b-8397-59273c498e74'}}}, {'name': 'PROJECT_NAME', 'value': 'project-dbt-ci'}, {'name': 'DHCORE_EXPIRES_IN', 'valueFrom': {'secretKeyRef': {'key': 'DHCORE_EXPIRES_IN', 'name': 'sec-dbttransform-17ceb79c-9449-444b-8397-59273c498e74'}}}, {'name': 'RUN_ID', 'value': '17ceb79c-9449-444b-8397-59273c498e74'}], 'envFrom': [{'configMapRef': {'name': 'digitalhub-common-env'}}, {'secretRef': {'name': 'digitalhub-common-creds'}}], 'image': 'ghcr.io/scc-digitalhub/digitalhub-sdk/wrapper-dbt:latest', 'imagePullPolicy': 'IfNotPresent', 'name': 'c-dbttransform-17ceb79c-9449-444b-8397-59273c498e74', 'securityContext': {'allowPrivilegeEscalation': False, 'privileged': False, 'runAsNonRoot': True}, 'terminationMessagePath': '/dev/termination-log', 'terminationMessagePolicy': 'File'}], 'dnsPolicy': 'ClusterFirst', 'imagePullSecrets': [{'name': 'registry-credentials'}], 'restartPolicy': 'Never', 'schedulerName': 'default-scheduler', 'securityContext': {'runAsNonRoot': True}, 'terminationGracePeriodSeconds': 30}}}}}}}\n"
     ]
    }
   ],
   "source": [
    "run.refresh().get_state()"
   ]
  },
  {
   "cell_type": "code",
   "execution_count": 11,
   "id": "0eeffcfc-4163-4858-a950-336ed46a1a72",
   "metadata": {},
   "outputs": [
    {
     "data": {
      "text/html": [
       "<div>\n",
       "<style scoped>\n",
       "    .dataframe tbody tr th:only-of-type {\n",
       "        vertical-align: middle;\n",
       "    }\n",
       "\n",
       "    .dataframe tbody tr th {\n",
       "        vertical-align: top;\n",
       "    }\n",
       "\n",
       "    .dataframe thead th {\n",
       "        text-align: right;\n",
       "    }\n",
       "</style>\n",
       "<table border=\"1\" class=\"dataframe\">\n",
       "  <thead>\n",
       "    <tr style=\"text-align: right;\">\n",
       "      <th></th>\n",
       "      <th>EMPLOYEE_ID</th>\n",
       "      <th>FIRST_NAME</th>\n",
       "      <th>LAST_NAME</th>\n",
       "      <th>EMAIL</th>\n",
       "      <th>PHONE_NUMBER</th>\n",
       "      <th>HIRE_DATE</th>\n",
       "      <th>JOB_ID</th>\n",
       "      <th>SALARY</th>\n",
       "      <th>COMMISSION_PCT</th>\n",
       "      <th>MANAGER_ID</th>\n",
       "      <th>DEPARTMENT_ID</th>\n",
       "    </tr>\n",
       "  </thead>\n",
       "  <tbody>\n",
       "    <tr>\n",
       "      <th>0</th>\n",
       "      <td>198</td>\n",
       "      <td>Donald</td>\n",
       "      <td>OConnell</td>\n",
       "      <td>DOCONNEL</td>\n",
       "      <td>650.507.9833</td>\n",
       "      <td>21-JUN-07</td>\n",
       "      <td>SH_CLERK</td>\n",
       "      <td>2600</td>\n",
       "      <td>-</td>\n",
       "      <td>124</td>\n",
       "      <td>50</td>\n",
       "    </tr>\n",
       "    <tr>\n",
       "      <th>1</th>\n",
       "      <td>199</td>\n",
       "      <td>Douglas</td>\n",
       "      <td>Grant</td>\n",
       "      <td>DGRANT</td>\n",
       "      <td>650.507.9844</td>\n",
       "      <td>13-JAN-08</td>\n",
       "      <td>SH_CLERK</td>\n",
       "      <td>2600</td>\n",
       "      <td>-</td>\n",
       "      <td>124</td>\n",
       "      <td>50</td>\n",
       "    </tr>\n",
       "    <tr>\n",
       "      <th>2</th>\n",
       "      <td>120</td>\n",
       "      <td>Matthew</td>\n",
       "      <td>Weiss</td>\n",
       "      <td>MWEISS</td>\n",
       "      <td>650.123.1234</td>\n",
       "      <td>18-JUL-04</td>\n",
       "      <td>ST_MAN</td>\n",
       "      <td>8000</td>\n",
       "      <td>-</td>\n",
       "      <td>100</td>\n",
       "      <td>50</td>\n",
       "    </tr>\n",
       "    <tr>\n",
       "      <th>3</th>\n",
       "      <td>121</td>\n",
       "      <td>Adam</td>\n",
       "      <td>Fripp</td>\n",
       "      <td>AFRIPP</td>\n",
       "      <td>650.123.2234</td>\n",
       "      <td>10-APR-05</td>\n",
       "      <td>ST_MAN</td>\n",
       "      <td>8200</td>\n",
       "      <td>-</td>\n",
       "      <td>100</td>\n",
       "      <td>50</td>\n",
       "    </tr>\n",
       "    <tr>\n",
       "      <th>4</th>\n",
       "      <td>122</td>\n",
       "      <td>Payam</td>\n",
       "      <td>Kaufling</td>\n",
       "      <td>PKAUFLIN</td>\n",
       "      <td>650.123.3234</td>\n",
       "      <td>01-MAY-03</td>\n",
       "      <td>ST_MAN</td>\n",
       "      <td>7900</td>\n",
       "      <td>-</td>\n",
       "      <td>100</td>\n",
       "      <td>50</td>\n",
       "    </tr>\n",
       "  </tbody>\n",
       "</table>\n",
       "</div>"
      ],
      "text/plain": [
       "   EMPLOYEE_ID FIRST_NAME LAST_NAME     EMAIL  PHONE_NUMBER  HIRE_DATE  \\\n",
       "0          198     Donald  OConnell  DOCONNEL  650.507.9833  21-JUN-07   \n",
       "1          199    Douglas     Grant    DGRANT  650.507.9844  13-JAN-08   \n",
       "2          120    Matthew     Weiss    MWEISS  650.123.1234  18-JUL-04   \n",
       "3          121       Adam     Fripp    AFRIPP  650.123.2234  10-APR-05   \n",
       "4          122      Payam  Kaufling  PKAUFLIN  650.123.3234  01-MAY-03   \n",
       "\n",
       "     JOB_ID  SALARY COMMISSION_PCT MANAGER_ID  DEPARTMENT_ID  \n",
       "0  SH_CLERK    2600             -         124             50  \n",
       "1  SH_CLERK    2600             -         124             50  \n",
       "2    ST_MAN    8000             -         100             50  \n",
       "3    ST_MAN    8200             -         100             50  \n",
       "4    ST_MAN    7900             -         100             50  "
      ]
     },
     "execution_count": 11,
     "metadata": {},
     "output_type": "execute_result"
    }
   ],
   "source": [
    "proj = dh.get_or_create_project(\"project-dbt-ci\")\n",
    "di = proj.get_dataitem('department-50')\n",
    "df = di.as_df()\n",
    "df.head()"
   ]
  },
  {
   "cell_type": "code",
   "execution_count": 12,
   "id": "d5341f8a-6e4c-402d-8cae-2f04773b55c5",
   "metadata": {},
   "outputs": [],
   "source": [
    "import os\n",
    "new_folder = 'src'\n",
    "if not os.path.exists(new_folder):\n",
    "    os.makedirs(new_folder)"
   ]
  },
  {
   "cell_type": "code",
   "execution_count": 13,
   "id": "dc55e8c1-adf7-4790-bbed-6634a84b794c",
   "metadata": {},
   "outputs": [
    {
     "name": "stdout",
     "output_type": "stream",
     "text": [
      "Writing src/dbt_ci_pipeline.py\n"
     ]
    }
   ],
   "source": [
    "%%writefile \"src/dbt_ci_pipeline.py\"\n",
    "\n",
    "from digitalhub_runtime_kfp.dsl import pipeline_context\n",
    "\n",
    "def myhandler(url):\n",
    "    with pipeline_context() as pc:\n",
    "        s1_dataset = pc.step(name=\"dbt\", function=\"function-dbt\", action=\"transform\", inputs={\"employees\":url}, outputs={\"output_table\": \"department-50\"})"
   ]
  },
  {
   "cell_type": "code",
   "execution_count": 14,
   "id": "3fed6732-7c05-4368-9073-93e42b3d4710",
   "metadata": {},
   "outputs": [],
   "source": [
    "workflow = proj.new_workflow(name=\"pipeline_dbt\", kind=\"kfp\", code_src= \"src/dbt_ci_pipeline.py\", handler = \"myhandler\")"
   ]
  },
  {
   "cell_type": "code",
   "execution_count": 15,
   "id": "d1bacfdb-68c0-4bc0-b402-636df3195629",
   "metadata": {},
   "outputs": [],
   "source": [
    "di_url = proj.new_dataitem(name=\"url_data_item\",kind=\"table\",path=url)"
   ]
  },
  {
   "cell_type": "code",
   "execution_count": 16,
   "id": "4f3e3554-aa3f-45a1-be52-cc157e02ac4c",
   "metadata": {},
   "outputs": [],
   "source": [
    "workflow_run = workflow.run(parameters={\"url\": di_url.key})"
   ]
  },
  {
   "cell_type": "code",
   "execution_count": 18,
   "id": "bb057b5c-6ea5-4068-9f1e-5b453cc4aba0",
   "metadata": {},
   "outputs": [
    {
     "data": {
      "text/plain": [
       "{'kind': 'kfp+run', 'metadata': {'project': 'project-dbt-ci', 'name': '1e7e164d-4d37-4bee-8fcd-794b1b4b824f', 'created': '2024-10-29T13:16:36.661Z', 'updated': '2024-10-29T13:16:36.687Z', 'created_by': 'khurshid@fbk.eu', 'updated_by': 'khurshid@fbk.eu'}, 'spec': {'task': 'kfp+pipeline://project-dbt-ci/pipeline_dbt:96d94d81-ee1e-46d8-a373-3c4df12776f8', 'local_execution': False, 'function': 'kfp://project-dbt-ci/pipeline_dbt:96d94d81-ee1e-46d8-a373-3c4df12776f8', 'source': {'source': 'src/dbt_ci_pipeline.py', 'handler': 'myhandler', 'base64': 'CmZyb20gZGlnaXRhbGh1Yl9ydW50aW1lX2tmcC5kc2wgaW1wb3J0IHBpcGVsaW5lX2NvbnRleHQKCmRlZiBteWhhbmRsZXIodXJsKToKICAgIHdpdGggcGlwZWxpbmVfY29udGV4dCgpIGFzIHBjOgogICAgICAgIHMxX2RhdGFzZXQgPSBwYy5zdGVwKG5hbWU9ImRidCIsIGZ1bmN0aW9uPSJmdW5jdGlvbi1kYnQiLCBhY3Rpb249InRyYW5zZm9ybSIsIGlucHV0cz17ImVtcGxveWVlcyI6dXJsfSwgb3V0cHV0cz17Im91dHB1dF90YWJsZSI6ICJkZXBhcnRtZW50LTUwIn0pCg==', 'lang': 'python'}, 'inputs': {}, 'outputs': {}, 'parameters': {'url': 'store://project-dbt-ci/dataitem/table/url_data_item:1cd328e9-7e8b-454e-9377-fb09d39ff060'}}, 'status': {'state': 'READY', 'transitions': [{'status': 'READY', 'time': '2024-10-29T13:16:36.686900633Z'}, {'status': 'BUILT', 'time': '2024-10-29T13:16:36.669372179Z'}]}, 'user': 'khurshid@fbk.eu', 'project': 'project-dbt-ci', 'id': '1e7e164d-4d37-4bee-8fcd-794b1b4b824f', 'key': 'store://project-dbt-ci/run/kfp+run/1e7e164d-4d37-4bee-8fcd-794b1b4b824f'}"
      ]
     },
     "execution_count": 18,
     "metadata": {},
     "output_type": "execute_result"
    }
   ],
   "source": [
    "workflow_run"
   ]
  },
  {
   "cell_type": "markdown",
   "id": "41ab3710-531a-4a52-bb0a-c0cf38d26329",
   "metadata": {},
   "source": [
    "Wait until workflow pipeline is executed completely. One can view the state of workflow from the console application or using the digitalhub sdk API call. "
   ]
  },
  {
   "cell_type": "code",
   "execution_count": null,
   "id": "85ad07cd-de7c-4eec-825b-1d3303af4876",
   "metadata": {},
   "outputs": [],
   "source": [
    "workflow_run.refresh().get_state()"
   ]
  },
  {
   "cell_type": "markdown",
   "id": "01543388-1b26-4a3d-8917-59e4cf17569f",
   "metadata": {},
   "source": [
    "Once completed, one can view the scenario results by fetching the list of newly created dataitems using digithub sdk."
   ]
  },
  {
   "cell_type": "code",
   "execution_count": 19,
   "id": "84b70388-d39c-4a85-b381-6f17228c47a9",
   "metadata": {},
   "outputs": [],
   "source": [
    "data_items = dh.list_dataitems(project='project-dbt-ci')"
   ]
  },
  {
   "cell_type": "code",
   "execution_count": 20,
   "id": "891382a4-3652-4507-816b-87444ed1cd02",
   "metadata": {},
   "outputs": [
    {
     "data": {
      "text/plain": [
       "5"
      ]
     },
     "execution_count": 20,
     "metadata": {},
     "output_type": "execute_result"
    }
   ],
   "source": [
    "len(data_items)"
   ]
  },
  {
   "cell_type": "markdown",
   "id": "e3cb09de-6aa2-460d-b042-6d78bc901ace",
   "metadata": {},
   "source": [
    "As the result of scenario 5 data items are created in the core project. One can use the 'Core' application instance to view them in the project console or can use the digitalhub sdk API to fetch them."
   ]
  },
  {
   "cell_type": "code",
   "execution_count": 23,
   "id": "0233fb2b-fd2c-44e0-b45a-d3e9782cff3d",
   "metadata": {},
   "outputs": [
    {
     "data": {
      "text/plain": [
       "[{'kind': 'table', 'metadata': {'project': 'project-dbt-ci', 'name': 'department-50', 'version': 'f0ea40e9-f6a2-4c54-b6cc-70f6918a9269', 'created': '2024-10-29T13:16:49.682Z', 'updated': '2024-10-29T13:16:49.682Z', 'created_by': 'khurshid@fbk.eu', 'updated_by': 'khurshid@fbk.eu', 'embedded': False}, 'spec': {'path': 'sql://digitalhub/public/department-50_vf0ea40e9-f6a2-4c54-b6cc-70f6918a9269', 'schema': {'fields': [{'name': 'EMPLOYEE_ID', 'type': 'integer'}, {'name': 'FIRST_NAME', 'type': 'string'}, {'name': 'LAST_NAME', 'type': 'string'}, {'name': 'EMAIL', 'type': 'string'}, {'name': 'PHONE_NUMBER', 'type': 'string'}, {'name': 'HIRE_DATE', 'type': 'string'}, {'name': 'JOB_ID', 'type': 'string'}, {'name': 'SALARY', 'type': 'integer'}, {'name': 'COMMISSION_PCT', 'type': 'string'}, {'name': 'MANAGER_ID', 'type': 'string'}, {'name': 'DEPARTMENT_ID', 'type': 'integer'}]}}, 'status': {'state': 'CREATED', 'files': [], 'preview': {'cols': [{'name': 'EMPLOYEE_ID', 'value': [198, 199, 120, 121, 122, 123, 124, 125, 126, 127]}, {'name': 'FIRST_NAME', 'value': ['Donald', 'Douglas', 'Matthew', 'Adam', 'Payam', 'Shanta', 'Kevin', 'Julia', 'Irene', 'James']}, {'name': 'LAST_NAME', 'value': ['OConnell', 'Grant', 'Weiss', 'Fripp', 'Kaufling', 'Vollman', 'Mourgos', 'Nayer', 'Mikkilineni', 'Landry']}, {'name': 'EMAIL', 'value': ['DOCONNEL', 'DGRANT', 'MWEISS', 'AFRIPP', 'PKAUFLIN', 'SVOLLMAN', 'KMOURGOS', 'JNAYER', 'IMIKKILI', 'JLANDRY']}, {'name': 'PHONE_NUMBER', 'value': ['650.507.9833', '650.507.9844', '650.123.1234', '650.123.2234', '650.123.3234', '650.123.4234', '650.123.5234', '650.124.1214', '650.124.1224', '650.124.1334']}, {'name': 'HIRE_DATE', 'value': ['21-JUN-07', '13-JAN-08', '18-JUL-04', '10-APR-05', '01-MAY-03', '10-OCT-05', '16-NOV-07', '16-JUL-05', '28-SEP-06', '14-JAN-07']}, {'name': 'JOB_ID', 'value': ['SH_CLERK', 'SH_CLERK', 'ST_MAN', 'ST_MAN', 'ST_MAN', 'ST_MAN', 'ST_MAN', 'ST_CLERK', 'ST_CLERK', 'ST_CLERK']}, {'name': 'SALARY', 'value': [2600, 2600, 8000, 8200, 7900, 6500, 5800, 3200, 2700, 2400]}, {'name': 'COMMISSION_PCT', 'value': [' - ', ' - ', ' - ', ' - ', ' - ', ' - ', ' - ', ' - ', ' - ', ' - ']}, {'name': 'MANAGER_ID', 'value': ['124', '124', '100', '100', '100', '100', '100', '120', '120', '120']}, {'name': 'DEPARTMENT_ID', 'value': [50, 50, 50, 50, 50, 50, 50, 50, 50, 50]}], 'rows': 23}}, 'user': 'khurshid@fbk.eu', 'project': 'project-dbt-ci', 'name': 'department-50', 'id': 'f0ea40e9-f6a2-4c54-b6cc-70f6918a9269', 'key': 'store://project-dbt-ci/dataitem/table/department-50:f0ea40e9-f6a2-4c54-b6cc-70f6918a9269'},\n",
       " {'kind': 'table', 'metadata': {'project': 'project-dbt-ci', 'name': 'employees_v1cd328e9-7e8b-454e-9377-fb09d39ff060', 'version': 'c5931b95-5160-47a9-b216-ef36ba2ea935', 'created': '2024-10-29T13:16:47.202Z', 'updated': '2024-10-29T13:16:47.202Z', 'created_by': 'khurshid@fbk.eu', 'updated_by': 'khurshid@fbk.eu', 'embedded': False}, 'spec': {'path': 'sql://digitalhub/public/employees_v1cd328e9-7e8b-454e-9377-fb09d39ff060'}, 'status': {'state': 'CREATED', 'files': []}, 'user': 'khurshid@fbk.eu', 'project': 'project-dbt-ci', 'name': 'employees_v1cd328e9-7e8b-454e-9377-fb09d39ff060', 'id': 'c5931b95-5160-47a9-b216-ef36ba2ea935', 'key': 'store://project-dbt-ci/dataitem/table/employees_v1cd328e9-7e8b-454e-9377-fb09d39ff060:c5931b95-5160-47a9-b216-ef36ba2ea935'},\n",
       " {'kind': 'table', 'metadata': {'project': 'project-dbt-ci', 'name': 'url_data_item', 'version': '1cd328e9-7e8b-454e-9377-fb09d39ff060', 'created': '2024-10-29T13:16:34.936Z', 'updated': '2024-10-29T13:16:34.936Z', 'created_by': 'khurshid@fbk.eu', 'updated_by': 'khurshid@fbk.eu', 'embedded': False}, 'spec': {'path': 'https://gist.githubusercontent.com/kevin336/acbb2271e66c10a5b73aacf82ca82784/raw/e38afe62e088394d61ed30884dd50a6826eee0a8/employees.csv'}, 'status': {'state': 'CREATED', 'files': [{'path': 'https://gist.githubusercontent.com/kevin336/acbb2271e66c10a5b73aacf82ca82784/raw/e38afe62e088394d61ed30884dd50a6826eee0a8/employees.csv', 'name': 'employees.csv', 'size': 3778, 'content_type': 'text/plain;charset=utf-8', 'last_modified': '1969-12-31T23:59:59.999+00:00'}]}, 'user': 'khurshid@fbk.eu', 'project': 'project-dbt-ci', 'name': 'url_data_item', 'id': '1cd328e9-7e8b-454e-9377-fb09d39ff060', 'key': 'store://project-dbt-ci/dataitem/table/url_data_item:1cd328e9-7e8b-454e-9377-fb09d39ff060'},\n",
       " {'kind': 'table', 'metadata': {'project': 'project-dbt-ci', 'name': 'employees_vd3122cfa-830d-443b-a00f-549327d3f361', 'version': '02c9be21-06c2-4c59-8739-4b12d48ec9e0', 'created': '2024-10-29T13:15:14.697Z', 'updated': '2024-10-29T13:15:14.697Z', 'created_by': 'khurshid@fbk.eu', 'updated_by': 'khurshid@fbk.eu', 'embedded': False}, 'spec': {'path': 'sql://digitalhub/public/employees_vd3122cfa-830d-443b-a00f-549327d3f361'}, 'status': {'state': 'CREATED', 'files': []}, 'user': 'khurshid@fbk.eu', 'project': 'project-dbt-ci', 'name': 'employees_vd3122cfa-830d-443b-a00f-549327d3f361', 'id': '02c9be21-06c2-4c59-8739-4b12d48ec9e0', 'key': 'store://project-dbt-ci/dataitem/table/employees_vd3122cfa-830d-443b-a00f-549327d3f361:02c9be21-06c2-4c59-8739-4b12d48ec9e0'},\n",
       " {'kind': 'table', 'metadata': {'project': 'project-dbt-ci', 'name': 'employees-dbt', 'version': 'd3122cfa-830d-443b-a00f-549327d3f361', 'created': '2024-10-29T13:15:06.498Z', 'updated': '2024-10-29T13:15:06.498Z', 'created_by': 'khurshid@fbk.eu', 'updated_by': 'khurshid@fbk.eu', 'embedded': False}, 'spec': {'path': 'https://gist.githubusercontent.com/kevin336/acbb2271e66c10a5b73aacf82ca82784/raw/e38afe62e088394d61ed30884dd50a6826eee0a8/employees.csv'}, 'status': {'state': 'CREATED', 'files': [{'path': 'https://gist.githubusercontent.com/kevin336/acbb2271e66c10a5b73aacf82ca82784/raw/e38afe62e088394d61ed30884dd50a6826eee0a8/employees.csv', 'name': 'employees.csv', 'size': 3778, 'content_type': 'text/plain;charset=utf-8', 'last_modified': '1969-12-31T23:59:59.999+00:00'}]}, 'user': 'khurshid@fbk.eu', 'project': 'project-dbt-ci', 'name': 'employees-dbt', 'id': 'd3122cfa-830d-443b-a00f-549327d3f361', 'key': 'store://project-dbt-ci/dataitem/table/employees-dbt:d3122cfa-830d-443b-a00f-549327d3f361'}]"
      ]
     },
     "execution_count": 23,
     "metadata": {},
     "output_type": "execute_result"
    }
   ],
   "source": [
    "data_items"
   ]
  },
  {
   "cell_type": "code",
   "execution_count": null,
   "id": "d6b20e8b-b468-438f-a1bd-636fe66ee869",
   "metadata": {},
   "outputs": [],
   "source": []
  }
 ],
 "metadata": {
  "kernelspec": {
   "display_name": "Python 3 (ipykernel)",
   "language": "python",
   "name": "python3"
  },
  "language_info": {
   "codemirror_mode": {
    "name": "ipython",
    "version": 3
   },
   "file_extension": ".py",
   "mimetype": "text/x-python",
   "name": "python",
   "nbconvert_exporter": "python",
   "pygments_lexer": "ipython3",
   "version": "3.10.11"
  }
 },
 "nbformat": 4,
 "nbformat_minor": 5
}
