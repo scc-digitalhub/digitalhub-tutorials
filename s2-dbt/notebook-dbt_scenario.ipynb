{
 "cells": [
  {
   "cell_type": "code",
   "execution_count": null,
   "id": "9fea2816",
   "metadata": {},
   "outputs": [],
   "source": [
    "from pathlib import Path\n",
    "Path(\"src\").mkdir(exist_ok=True)"
   ]
  },
  {
   "cell_type": "code",
   "execution_count": null,
   "id": "dc81fbbd-8bd0-4ec8-bcff-fa18337661e5",
   "metadata": {},
   "outputs": [],
   "source": [
    "import digitalhub as dh"
   ]
  },
  {
   "cell_type": "code",
   "execution_count": null,
   "id": "e53d6547-2934-4119-bab4-355c2a7a59d9",
   "metadata": {},
   "outputs": [],
   "source": [
    "project = dh.get_or_create_project(\"project-dbt-ci\")"
   ]
  },
  {
   "cell_type": "code",
   "execution_count": null,
   "id": "c3ffed72-7b5f-4386-af48-d5e697f75899",
   "metadata": {},
   "outputs": [],
   "source": [
    "url = \"https://gist.githubusercontent.com/kevin336/acbb2271e66c10a5b73aacf82ca82784/raw/e38afe62e088394d61ed30884dd50a6826eee0a8/employees.csv\"\n",
    "di = project.new_dataitem(name=\"employees-dbt\",\n",
    "                          kind=\"table\",\n",
    "                          path=url)"
   ]
  },
  {
   "cell_type": "code",
   "execution_count": null,
   "id": "09a9e552-654a-49ff-a61b-29a7d9b24bb8",
   "metadata": {},
   "outputs": [],
   "source": [
    "sql = \"\"\"\n",
    "WITH tab AS (\n",
    "    SELECT  *\n",
    "    FROM    {{ ref('employees') }}\n",
    ")\n",
    "SELECT  *\n",
    "FROM    tab\n",
    "WHERE   tab.\"DEPARTMENT_ID\" = '50'\n",
    "\"\"\""
   ]
  },
  {
   "cell_type": "code",
   "execution_count": null,
   "id": "babd80ce-f1ae-44b6-93db-af58e698cde9",
   "metadata": {},
   "outputs": [],
   "source": [
    "function = project.new_function(name=\"function-dbt\",\n",
    "                                kind=\"dbt\",\n",
    "                                code=sql)"
   ]
  },
  {
   "cell_type": "code",
   "execution_count": null,
   "id": "9ed079cf-07c7-4d42-aa55-19cf7c0f2451",
   "metadata": {},
   "outputs": [],
   "source": [
    "run = function.run(\"transform\",\n",
    "                   inputs={\"employees\": di.key},\n",
    "                   outputs={\"output_table\": \"department-50\"},\n",
    "                   wait=True)"
   ]
  },
  {
   "cell_type": "markdown",
   "id": "7a727d79-befe-4f1c-bdc6-747bf59e1c0d",
   "metadata": {},
   "source": [
    "Wait until data transform 'run' is completed."
   ]
  },
  {
   "cell_type": "code",
   "execution_count": null,
   "id": "0eeffcfc-4163-4858-a950-336ed46a1a72",
   "metadata": {},
   "outputs": [],
   "source": [
    "run.output('department-50').as_df().head()"
   ]
  },
  {
   "cell_type": "code",
   "execution_count": null,
   "id": "dc55e8c1-adf7-4790-bbed-6634a84b794c",
   "metadata": {},
   "outputs": [],
   "source": [
    "%%writefile \"src/dbt_pipeline.py\"\n",
    "\n",
    "from digitalhub_runtime_kfp.dsl import pipeline_context\n",
    "\n",
    "def myhandler(url):\n",
    "    with pipeline_context() as pc:\n",
    "        s1_dataset = pc.step(name=\"dbt\",\n",
    "                             function=\"function-dbt\",\n",
    "                             action=\"transform\",\n",
    "                             inputs={\"employees\":url},\n",
    "                             outputs={\"output_table\": \"department-50\"})"
   ]
  },
  {
   "cell_type": "code",
   "execution_count": null,
   "id": "3fed6732-7c05-4368-9073-93e42b3d4710",
   "metadata": {},
   "outputs": [],
   "source": [
    "workflow = project.new_workflow(name=\"pipeline_dbt\",\n",
    "                                kind=\"kfp\",\n",
    "                                code_src=\"src/dbt_pipeline.py\",\n",
    "                                handler=\"myhandler\")"
   ]
  },
  {
   "cell_type": "code",
   "execution_count": null,
   "id": "4f3e3554-aa3f-45a1-be52-cc157e02ac4c",
   "metadata": {},
   "outputs": [],
   "source": [
    "workflow.run(\"build\", wait=True)"
   ]
  },
  {
   "cell_type": "code",
   "execution_count": null,
   "id": "bb057b5c-6ea5-4068-9f1e-5b453cc4aba0",
   "metadata": {},
   "outputs": [],
   "source": [
    "workflow_run = workflow.run(\"pipeline\", parameters={\"url\": di.key}, wait=True)"
   ]
  },
  {
   "cell_type": "markdown",
   "id": "41ab3710-531a-4a52-bb0a-c0cf38d26329",
   "metadata": {},
   "source": [
    "Wait until workflow pipeline is executed completely. One can view the state of workflow from the console application or using the digitalhub sdk API call. "
   ]
  }
 ],
 "metadata": {
  "kernelspec": {
   "display_name": "Python 3 (ipykernel)",
   "language": "python",
   "name": "python3"
  },
  "language_info": {
   "codemirror_mode": {
    "name": "ipython",
    "version": 3
   },
   "file_extension": ".py",
   "mimetype": "text/x-python",
   "name": "python",
   "nbconvert_exporter": "python",
   "pygments_lexer": "ipython3",
   "version": "3.10.11"
  }
 },
 "nbformat": 4,
 "nbformat_minor": 5
}
