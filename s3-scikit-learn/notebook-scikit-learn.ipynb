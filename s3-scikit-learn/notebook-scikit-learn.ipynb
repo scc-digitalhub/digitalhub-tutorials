{
 "cells": [
  {
   "cell_type": "code",
   "execution_count": 1,
   "id": "1c7d61fa-be81-4359-9ef9-20f0d80346fc",
   "metadata": {},
   "outputs": [],
   "source": [
    "import digitalhub as dh\n",
    "\n",
    "project = dh.get_or_create_project(\"project-ml-ci\")"
   ]
  },
  {
   "cell_type": "code",
   "execution_count": 2,
   "id": "ec274acb-d605-49b4-8ea3-eba139312941",
   "metadata": {},
   "outputs": [],
   "source": [
    "import os\n",
    "new_folder = 'src'\n",
    "if not os.path.exists(new_folder):\n",
    "    os.makedirs(new_folder)"
   ]
  },
  {
   "cell_type": "code",
   "execution_count": 3,
   "id": "54981da8-0111-48e8-96ae-c467f4eec676",
   "metadata": {},
   "outputs": [
    {
     "name": "stdout",
     "output_type": "stream",
     "text": [
      "Writing src/data-prep.py\n"
     ]
    }
   ],
   "source": [
    "%%writefile \"src/data-prep.py\"\n",
    "\n",
    "import pandas as pd\n",
    "from sklearn.datasets import load_breast_cancer\n",
    "\n",
    "from digitalhub_runtime_python import handler\n",
    "\n",
    "@handler(outputs=[\"dataset\"])\n",
    "def breast_cancer_generator():\n",
    "    \"\"\"\n",
    "    A function which generates the breast cancer dataset\n",
    "    \"\"\"\n",
    "    breast_cancer = load_breast_cancer()\n",
    "    breast_cancer_dataset = pd.DataFrame(\n",
    "        data=breast_cancer.data, columns=breast_cancer.feature_names\n",
    "    )\n",
    "    breast_cancer_labels = pd.DataFrame(data=breast_cancer.target, columns=[\"target\"])\n",
    "    breast_cancer_dataset = pd.concat(\n",
    "        [breast_cancer_dataset, breast_cancer_labels], axis=1\n",
    "    )\n",
    "\n",
    "    return breast_cancer_dataset"
   ]
  },
  {
   "cell_type": "code",
   "execution_count": 4,
   "id": "9c3f1278-c019-463a-b29c-7480c64d41b1",
   "metadata": {},
   "outputs": [],
   "source": [
    "data_gen_fn = project.new_function(name=\"data-prep\",\n",
    "                                   kind=\"python\",\n",
    "                                   python_version=\"PYTHON3_10\",\n",
    "                                   code_src=\"src/data-prep.py\",\n",
    "                                   handler=\"breast_cancer_generator\")"
   ]
  },
  {
   "cell_type": "code",
   "execution_count": 5,
   "id": "2894bc91-fb1b-4544-a0e4-9cb4396d2961",
   "metadata": {},
   "outputs": [],
   "source": [
    "gen_data_run = data_gen_fn.run(action=\"job\", outputs={\"dataset\": \"dataset\"}, local_execution=False)"
   ]
  },
  {
   "cell_type": "markdown",
   "id": "63da8f8a-13f8-436d-b572-c228607fb832",
   "metadata": {},
   "source": [
    "Wait for data manipulation job to be completed. One can view the state of run from console or using the digitalhub sdk API"
   ]
  },
  {
   "cell_type": "code",
   "execution_count": 7,
   "id": "8861c0f7-cffe-462a-8882-2ca4317e16a8",
   "metadata": {},
   "outputs": [],
   "source": [
    "gen_data_run.refresh().get_state()"
   ]
  },
  {
   "cell_type": "code",
   "execution_count": 8,
   "id": "e3ea719c-d610-4ee9-82e3-c4e61c62325c",
   "metadata": {},
   "outputs": [
    {
     "data": {
      "text/html": [
       "<div>\n",
       "<style scoped>\n",
       "    .dataframe tbody tr th:only-of-type {\n",
       "        vertical-align: middle;\n",
       "    }\n",
       "\n",
       "    .dataframe tbody tr th {\n",
       "        vertical-align: top;\n",
       "    }\n",
       "\n",
       "    .dataframe thead th {\n",
       "        text-align: right;\n",
       "    }\n",
       "</style>\n",
       "<table border=\"1\" class=\"dataframe\">\n",
       "  <thead>\n",
       "    <tr style=\"text-align: right;\">\n",
       "      <th></th>\n",
       "      <th>mean radius</th>\n",
       "      <th>mean texture</th>\n",
       "      <th>mean perimeter</th>\n",
       "      <th>mean area</th>\n",
       "      <th>mean smoothness</th>\n",
       "      <th>mean compactness</th>\n",
       "      <th>mean concavity</th>\n",
       "      <th>mean concave points</th>\n",
       "      <th>mean symmetry</th>\n",
       "      <th>mean fractal dimension</th>\n",
       "      <th>...</th>\n",
       "      <th>worst texture</th>\n",
       "      <th>worst perimeter</th>\n",
       "      <th>worst area</th>\n",
       "      <th>worst smoothness</th>\n",
       "      <th>worst compactness</th>\n",
       "      <th>worst concavity</th>\n",
       "      <th>worst concave points</th>\n",
       "      <th>worst symmetry</th>\n",
       "      <th>worst fractal dimension</th>\n",
       "      <th>target</th>\n",
       "    </tr>\n",
       "  </thead>\n",
       "  <tbody>\n",
       "    <tr>\n",
       "      <th>0</th>\n",
       "      <td>17.99</td>\n",
       "      <td>10.38</td>\n",
       "      <td>122.80</td>\n",
       "      <td>1001.0</td>\n",
       "      <td>0.11840</td>\n",
       "      <td>0.27760</td>\n",
       "      <td>0.3001</td>\n",
       "      <td>0.14710</td>\n",
       "      <td>0.2419</td>\n",
       "      <td>0.07871</td>\n",
       "      <td>...</td>\n",
       "      <td>17.33</td>\n",
       "      <td>184.60</td>\n",
       "      <td>2019.0</td>\n",
       "      <td>0.1622</td>\n",
       "      <td>0.6656</td>\n",
       "      <td>0.7119</td>\n",
       "      <td>0.2654</td>\n",
       "      <td>0.4601</td>\n",
       "      <td>0.11890</td>\n",
       "      <td>0</td>\n",
       "    </tr>\n",
       "    <tr>\n",
       "      <th>1</th>\n",
       "      <td>20.57</td>\n",
       "      <td>17.77</td>\n",
       "      <td>132.90</td>\n",
       "      <td>1326.0</td>\n",
       "      <td>0.08474</td>\n",
       "      <td>0.07864</td>\n",
       "      <td>0.0869</td>\n",
       "      <td>0.07017</td>\n",
       "      <td>0.1812</td>\n",
       "      <td>0.05667</td>\n",
       "      <td>...</td>\n",
       "      <td>23.41</td>\n",
       "      <td>158.80</td>\n",
       "      <td>1956.0</td>\n",
       "      <td>0.1238</td>\n",
       "      <td>0.1866</td>\n",
       "      <td>0.2416</td>\n",
       "      <td>0.1860</td>\n",
       "      <td>0.2750</td>\n",
       "      <td>0.08902</td>\n",
       "      <td>0</td>\n",
       "    </tr>\n",
       "    <tr>\n",
       "      <th>2</th>\n",
       "      <td>19.69</td>\n",
       "      <td>21.25</td>\n",
       "      <td>130.00</td>\n",
       "      <td>1203.0</td>\n",
       "      <td>0.10960</td>\n",
       "      <td>0.15990</td>\n",
       "      <td>0.1974</td>\n",
       "      <td>0.12790</td>\n",
       "      <td>0.2069</td>\n",
       "      <td>0.05999</td>\n",
       "      <td>...</td>\n",
       "      <td>25.53</td>\n",
       "      <td>152.50</td>\n",
       "      <td>1709.0</td>\n",
       "      <td>0.1444</td>\n",
       "      <td>0.4245</td>\n",
       "      <td>0.4504</td>\n",
       "      <td>0.2430</td>\n",
       "      <td>0.3613</td>\n",
       "      <td>0.08758</td>\n",
       "      <td>0</td>\n",
       "    </tr>\n",
       "    <tr>\n",
       "      <th>3</th>\n",
       "      <td>11.42</td>\n",
       "      <td>20.38</td>\n",
       "      <td>77.58</td>\n",
       "      <td>386.1</td>\n",
       "      <td>0.14250</td>\n",
       "      <td>0.28390</td>\n",
       "      <td>0.2414</td>\n",
       "      <td>0.10520</td>\n",
       "      <td>0.2597</td>\n",
       "      <td>0.09744</td>\n",
       "      <td>...</td>\n",
       "      <td>26.50</td>\n",
       "      <td>98.87</td>\n",
       "      <td>567.7</td>\n",
       "      <td>0.2098</td>\n",
       "      <td>0.8663</td>\n",
       "      <td>0.6869</td>\n",
       "      <td>0.2575</td>\n",
       "      <td>0.6638</td>\n",
       "      <td>0.17300</td>\n",
       "      <td>0</td>\n",
       "    </tr>\n",
       "    <tr>\n",
       "      <th>4</th>\n",
       "      <td>20.29</td>\n",
       "      <td>14.34</td>\n",
       "      <td>135.10</td>\n",
       "      <td>1297.0</td>\n",
       "      <td>0.10030</td>\n",
       "      <td>0.13280</td>\n",
       "      <td>0.1980</td>\n",
       "      <td>0.10430</td>\n",
       "      <td>0.1809</td>\n",
       "      <td>0.05883</td>\n",
       "      <td>...</td>\n",
       "      <td>16.67</td>\n",
       "      <td>152.20</td>\n",
       "      <td>1575.0</td>\n",
       "      <td>0.1374</td>\n",
       "      <td>0.2050</td>\n",
       "      <td>0.4000</td>\n",
       "      <td>0.1625</td>\n",
       "      <td>0.2364</td>\n",
       "      <td>0.07678</td>\n",
       "      <td>0</td>\n",
       "    </tr>\n",
       "  </tbody>\n",
       "</table>\n",
       "<p>5 rows × 31 columns</p>\n",
       "</div>"
      ],
      "text/plain": [
       "   mean radius  mean texture  mean perimeter  mean area  mean smoothness  \\\n",
       "0        17.99         10.38          122.80     1001.0          0.11840   \n",
       "1        20.57         17.77          132.90     1326.0          0.08474   \n",
       "2        19.69         21.25          130.00     1203.0          0.10960   \n",
       "3        11.42         20.38           77.58      386.1          0.14250   \n",
       "4        20.29         14.34          135.10     1297.0          0.10030   \n",
       "\n",
       "   mean compactness  mean concavity  mean concave points  mean symmetry  \\\n",
       "0           0.27760          0.3001              0.14710         0.2419   \n",
       "1           0.07864          0.0869              0.07017         0.1812   \n",
       "2           0.15990          0.1974              0.12790         0.2069   \n",
       "3           0.28390          0.2414              0.10520         0.2597   \n",
       "4           0.13280          0.1980              0.10430         0.1809   \n",
       "\n",
       "   mean fractal dimension  ...  worst texture  worst perimeter  worst area  \\\n",
       "0                 0.07871  ...          17.33           184.60      2019.0   \n",
       "1                 0.05667  ...          23.41           158.80      1956.0   \n",
       "2                 0.05999  ...          25.53           152.50      1709.0   \n",
       "3                 0.09744  ...          26.50            98.87       567.7   \n",
       "4                 0.05883  ...          16.67           152.20      1575.0   \n",
       "\n",
       "   worst smoothness  worst compactness  worst concavity  worst concave points  \\\n",
       "0            0.1622             0.6656           0.7119                0.2654   \n",
       "1            0.1238             0.1866           0.2416                0.1860   \n",
       "2            0.1444             0.4245           0.4504                0.2430   \n",
       "3            0.2098             0.8663           0.6869                0.2575   \n",
       "4            0.1374             0.2050           0.4000                0.1625   \n",
       "\n",
       "   worst symmetry  worst fractal dimension  target  \n",
       "0          0.4601                  0.11890       0  \n",
       "1          0.2750                  0.08902       0  \n",
       "2          0.3613                  0.08758       0  \n",
       "3          0.6638                  0.17300       0  \n",
       "4          0.2364                  0.07678       0  \n",
       "\n",
       "[5 rows x 31 columns]"
      ]
     },
     "execution_count": 8,
     "metadata": {},
     "output_type": "execute_result"
    }
   ],
   "source": [
    "gen_data_run.output(\"dataset\").as_df().head()"
   ]
  },
  {
   "cell_type": "code",
   "execution_count": 9,
   "id": "c7c5faba-a35d-4f6c-9631-4f72df3db5cd",
   "metadata": {},
   "outputs": [
    {
     "name": "stdout",
     "output_type": "stream",
     "text": [
      "Writing src/train-model.py\n"
     ]
    }
   ],
   "source": [
    "%%writefile \"src/train-model.py\"\n",
    "\n",
    "\n",
    "import pandas as pd\n",
    "from sklearn.datasets import load_breast_cancer\n",
    "from sklearn.model_selection import train_test_split\n",
    "\n",
    "from digitalhub_runtime_python import handler\n",
    "from sklearn.svm import SVC\n",
    "from pickle import dump\n",
    "import sklearn.metrics\n",
    "import os\n",
    "\n",
    "@handler(outputs=[\"dataset\"])\n",
    "def train(project, di):\n",
    "\n",
    "    df_cancer = di.as_df()\n",
    "    X = df_cancer.drop(['target'],axis=1)\n",
    "    y = df_cancer['target']\n",
    "    X_train, X_test, y_train, y_test = train_test_split(X, y, test_size = 0.20, random_state=5)\n",
    "    svc_model = SVC()\n",
    "    svc_model.fit(X_train, y_train)\n",
    "    y_predict = svc_model.predict(X_test)\n",
    "\n",
    "    if not os.path.exists(\"model\"):\n",
    "        os.makedirs(\"model\")\n",
    "\n",
    "    with open(\"model/cancer_classifier.pkl\", \"wb\") as f:\n",
    "        dump(svc_model, f, protocol=5)\n",
    "\n",
    "    metrics = {\n",
    "        \"f1_score\": sklearn.metrics.f1_score(y_test, y_predict),\n",
    "        \"accuracy\": sklearn.metrics.accuracy_score(y_test, y_predict),\n",
    "        \"precision\": sklearn.metrics.precision_score(y_test, y_predict),\n",
    "        \"recall\": sklearn.metrics.recall_score(y_test, y_predict),\n",
    "    }\n",
    "    project.log_model(\n",
    "            name=\"cancer_classifier\",\n",
    "            kind=\"sklearn\",\n",
    "            source=\"./model/\",\n",
    "            metrics=metrics\n",
    "    )"
   ]
  },
  {
   "cell_type": "code",
   "execution_count": 10,
   "id": "34f5800e-6639-4d68-8861-5bb95c67d9d4",
   "metadata": {},
   "outputs": [],
   "source": [
    "train_fn = project.new_function(name=\"train\",\n",
    "                                kind=\"python\",\n",
    "                                python_version=\"PYTHON3_10\",\n",
    "                                code_src=\"src/train-model.py\",\n",
    "                                handler=\"train\",\n",
    "                                requirements=[\"scikit-learn==1.2.2\"])"
   ]
  },
  {
   "cell_type": "code",
   "execution_count": 13,
   "id": "36e8e52c-800b-4a5f-a54b-d3c1d7c28680",
   "metadata": {},
   "outputs": [],
   "source": [
    "train_run = train_fn.run(action=\"job\", inputs={\"di\": gen_data_run.output(\"dataset\").key})"
   ]
  },
  {
   "cell_type": "markdown",
   "id": "8c31c441-8c4e-4f6d-99fa-a402046afb3f",
   "metadata": {},
   "source": [
    "Wait until the train job run is completed. The state of the run can be viewed using console or via digitalhub sdk API call"
   ]
  },
  {
   "cell_type": "code",
   "execution_count": null,
   "id": "e9a464f9-1b83-4cb9-8107-298f0565d519",
   "metadata": {},
   "outputs": [],
   "source": [
    "train_fn.get_state()"
   ]
  },
  {
   "cell_type": "code",
   "execution_count": 14,
   "id": "f714cb71-3423-4c19-ab54-db064609890b",
   "metadata": {},
   "outputs": [
    {
     "data": {
      "text/plain": [
       "'s3://datalake/project-ml-ci/model/cancer_classifier/d1f3b412-92d1-4bcc-8b08-be766d540e3c/'"
      ]
     },
     "execution_count": 14,
     "metadata": {},
     "output_type": "execute_result"
    }
   ],
   "source": [
    "model = project.refresh().get_model(\"cancer_classifier\")\n",
    "model.spec.path"
   ]
  },
  {
   "cell_type": "code",
   "execution_count": 22,
   "id": "98e11185-354b-43ab-9942-9091126bfda5",
   "metadata": {},
   "outputs": [],
   "source": [
    "func = project.new_function(name=\"serve_sklearnmodel\",\n",
    "                            kind=\"sklearnserve\",\n",
    "                            path=model.spec.path + 'model/cancer_classifier.pkl')\n",
    "\n",
    "serve_run = func.run(action=\"serve\", labels=[\"service_sklearn\"])"
   ]
  },
  {
   "cell_type": "markdown",
   "id": "12267dae-c0cb-412a-800b-c22f50796d3b",
   "metadata": {},
   "source": [
    "Let us wait till the 'serve' is finished. One can view the state of run from console or using digitalhub sdk api"
   ]
  },
  {
   "cell_type": "code",
   "execution_count": 23,
   "id": "c1529c1c-cdc8-48d0-8b5c-89ea88b7b516",
   "metadata": {},
   "outputs": [
    {
     "data": {
      "text/plain": [
       "{'project': 'project-ml-ci', 'name': '96c1ab19-c2b1-4851-a84d-6a3d40bf1728', 'labels': ['service_sklearn'], 'created': '2024-10-29T13:01:56.039Z', 'updated': '2024-10-29T13:01:56.155Z', 'created_by': 'khurshid@fbk.eu', 'updated_by': 'khurshid@fbk.eu'}"
      ]
     },
     "execution_count": 23,
     "metadata": {},
     "output_type": "execute_result"
    }
   ],
   "source": [
    "serve_run.refresh().metadata"
   ]
  },
  {
   "cell_type": "code",
   "execution_count": 19,
   "id": "870cd574-80b7-44fe-ad32-1c1c0cece781",
   "metadata": {},
   "outputs": [],
   "source": [
    "import numpy as np\n",
    "\n",
    "data = np.random.rand(2, 30).tolist()\n",
    "json = {\n",
    "    \"inputs\": [\n",
    "        {\n",
    "        \"name\": \"input-0\",\n",
    "        \"shape\": [2, 30],\n",
    "        \"datatype\": \"FP32\",\n",
    "        \"data\": data\n",
    "        }\n",
    "    ]\n",
    "}"
   ]
  },
  {
   "cell_type": "code",
   "execution_count": 25,
   "id": "48461461-68ed-4eaa-8201-035fd47380e2",
   "metadata": {},
   "outputs": [
    {
     "data": {
      "text/plain": [
       "{'model_name': 'model',\n",
       " 'id': 'ce819816-65c8-4414-a3e1-bad2ba36dfe5',\n",
       " 'parameters': {},\n",
       " 'outputs': [{'name': 'predict',\n",
       "   'shape': [2, 1],\n",
       "   'datatype': 'INT64',\n",
       "   'parameters': {'content_type': 'np'},\n",
       "   'data': [1, 1]}]}"
      ]
     },
     "execution_count": 25,
     "metadata": {},
     "output_type": "execute_result"
    }
   ],
   "source": [
    "serve_run.refresh().invoke(json=json).json()"
   ]
  },
  {
   "cell_type": "code",
   "execution_count": 26,
   "id": "0427ebd9-dca9-4f9c-bde5-78008031fa17",
   "metadata": {},
   "outputs": [
    {
     "name": "stdout",
     "output_type": "stream",
     "text": [
      "Writing src/dbt_ml_pipeline.py\n"
     ]
    }
   ],
   "source": [
    "%%writefile \"src/dbt_ml_pipeline.py\"\n",
    "\n",
    "from digitalhub_runtime_kfp.dsl import pipeline_context\n",
    "\n",
    "def myhandler(): #path\n",
    "    with pipeline_context() as pc:\n",
    "        downloader = pc.step(name=\"download-data\", function=\"data-prep\", action=\"job\", outputs={\"dataset\": \"dataset\"})\n",
    "        trainer = pc.step(name=\"train-model\", function=\"train\", action=\"job\", inputs={\"di\": downloader.outputs[\"dataset\"]})\n",
    "        # serve = pc.step(name=\"serve\", function=\"serve_sklearnmodel\", action=\"serve\", inputs={\"path\":path})"
   ]
  },
  {
   "cell_type": "code",
   "execution_count": 27,
   "id": "74721266-c79a-4259-ac69-c6d5aba6fd07",
   "metadata": {},
   "outputs": [],
   "source": [
    "workflow = project.new_workflow(name=\"pipeline_ml\", kind=\"kfp\", code_src= \"src/dbt_ml_pipeline.py\", handler = \"myhandler\")"
   ]
  },
  {
   "cell_type": "code",
   "execution_count": 28,
   "id": "684c39ce-8fd9-4355-a08f-ec93fb19335a",
   "metadata": {},
   "outputs": [
    {
     "data": {
      "text/plain": [
       "{'kind': 'kfp+run', 'metadata': {'project': 'project-ml-ci', 'name': 'c2f2b5a3-3106-4a6e-b472-4a975bb4e983', 'created': '2024-10-29T13:02:49.73Z', 'updated': '2024-10-29T13:02:49.748Z', 'created_by': 'khurshid@fbk.eu', 'updated_by': 'khurshid@fbk.eu'}, 'spec': {'task': 'kfp+pipeline://project-ml-ci/pipeline_ml:2a4458b6-285b-4d77-b5ef-f9ad8ae263ab', 'local_execution': False, 'function': 'kfp://project-ml-ci/pipeline_ml:2a4458b6-285b-4d77-b5ef-f9ad8ae263ab', 'source': {'source': 'src/dbt_ml_pipeline.py', 'handler': 'myhandler', 'base64': 'CmZyb20gZGlnaXRhbGh1Yl9ydW50aW1lX2tmcC5kc2wgaW1wb3J0IHBpcGVsaW5lX2NvbnRleHQKCmRlZiBteWhhbmRsZXIoKTogI3BhdGgKICAgIHdpdGggcGlwZWxpbmVfY29udGV4dCgpIGFzIHBjOgogICAgICAgIGRvd25sb2FkZXIgPSBwYy5zdGVwKG5hbWU9ImRvd25sb2FkLWRhdGEiLCBmdW5jdGlvbj0iZGF0YS1wcmVwIiwgYWN0aW9uPSJqb2IiLCBvdXRwdXRzPXsiZGF0YXNldCI6ICJkYXRhc2V0In0pCiAgICAgICAgdHJhaW5lciA9IHBjLnN0ZXAobmFtZT0idHJhaW4tbW9kZWwiLCBmdW5jdGlvbj0idHJhaW4iLCBhY3Rpb249ImpvYiIsIGlucHV0cz17ImRpIjogZG93bmxvYWRlci5vdXRwdXRzWyJkYXRhc2V0Il19KQogICAgICAgICMgc2VydmUgPSBwYy5zdGVwKG5hbWU9InNlcnZlIiwgZnVuY3Rpb249InNlcnZlX3NrbGVhcm5tb2RlbCIsIGFjdGlvbj0ic2VydmUiLCBpbnB1dHM9eyJwYXRoIjpwYXRofSkK', 'lang': 'python'}, 'inputs': {}, 'outputs': {}, 'parameters': {}}, 'status': {'state': 'READY', 'transitions': [{'status': 'READY', 'time': '2024-10-29T13:02:49.748124535Z'}, {'status': 'BUILT', 'time': '2024-10-29T13:02:49.735326667Z'}]}, 'user': 'khurshid@fbk.eu', 'project': 'project-ml-ci', 'id': 'c2f2b5a3-3106-4a6e-b472-4a975bb4e983', 'key': 'store://project-ml-ci/run/kfp+run/c2f2b5a3-3106-4a6e-b472-4a975bb4e983'}"
      ]
     },
     "execution_count": 28,
     "metadata": {},
     "output_type": "execute_result"
    }
   ],
   "source": [
    "# workflow.run(parameters={\"path\": model.spec.path + 'model/cancer_classifier.pkl'})\n",
    "workflow.run()"
   ]
  },
  {
   "cell_type": "code",
   "execution_count": null,
   "id": "fa6b837b-0cfb-484f-af5e-e8e0730dfd40",
   "metadata": {},
   "outputs": [],
   "source": []
  }
 ],
 "metadata": {
  "kernelspec": {
   "display_name": "Python 3 (ipykernel)",
   "language": "python",
   "name": "python3"
  },
  "language_info": {
   "codemirror_mode": {
    "name": "ipython",
    "version": 3
   },
   "file_extension": ".py",
   "mimetype": "text/x-python",
   "name": "python",
   "nbconvert_exporter": "python",
   "pygments_lexer": "ipython3",
   "version": "3.10.11"
  }
 },
 "nbformat": 4,
 "nbformat_minor": 5
}
