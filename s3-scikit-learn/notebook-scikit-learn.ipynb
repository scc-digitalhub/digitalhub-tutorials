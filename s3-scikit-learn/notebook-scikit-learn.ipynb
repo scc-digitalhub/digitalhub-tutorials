{
 "cells": [
  {
   "cell_type": "code",
   "execution_count": null,
   "id": "c3038311-7cff-475d-99cf-ff7d22434e73",
   "metadata": {},
   "outputs": [],
   "source": [
    "from pathlib import Path\n",
    "Path(\"src\").mkdir(exist_ok=True)"
   ]
  },
  {
   "cell_type": "code",
   "execution_count": null,
   "id": "1c7d61fa-be81-4359-9ef9-20f0d80346fc",
   "metadata": {},
   "outputs": [],
   "source": [
    "import digitalhub as dh\n",
    "project = dh.get_or_create_project(\"project-ml-ci\")"
   ]
  },
  {
   "cell_type": "code",
   "execution_count": null,
   "id": "54981da8-0111-48e8-96ae-c467f4eec676",
   "metadata": {},
   "outputs": [],
   "source": [
    "%%writefile \"src/data-prep.py\"\n",
    "\n",
    "import pandas as pd\n",
    "from sklearn.datasets import load_breast_cancer\n",
    "\n",
    "from digitalhub_runtime_python import handler\n",
    "\n",
    "@handler(outputs=[\"dataset\"])\n",
    "def breast_cancer_generator():\n",
    "    \"\"\"\n",
    "    A function which generates the breast cancer dataset\n",
    "    \"\"\"\n",
    "    breast_cancer = load_breast_cancer()\n",
    "    breast_cancer_dataset = pd.DataFrame(\n",
    "        data=breast_cancer.data, columns=breast_cancer.feature_names\n",
    "    )\n",
    "    breast_cancer_labels = pd.DataFrame(data=breast_cancer.target, columns=[\"target\"])\n",
    "    breast_cancer_dataset = pd.concat(\n",
    "        [breast_cancer_dataset, breast_cancer_labels], axis=1\n",
    "    )\n",
    "\n",
    "    return breast_cancer_dataset"
   ]
  },
  {
   "cell_type": "code",
   "execution_count": null,
   "id": "9c3f1278-c019-463a-b29c-7480c64d41b1",
   "metadata": {},
   "outputs": [],
   "source": [
    "data_gen_fn = project.new_function(name=\"data-prep\",\n",
    "                                   kind=\"python\",\n",
    "                                   python_version=\"PYTHON3_10\",\n",
    "                                   code_src=\"src/data-prep.py\",\n",
    "                                   handler=\"breast_cancer_generator\")"
   ]
  },
  {
   "cell_type": "code",
   "execution_count": null,
   "id": "2894bc91-fb1b-4544-a0e4-9cb4396d2961",
   "metadata": {},
   "outputs": [],
   "source": [
    "gen_data_run = data_gen_fn.run(\"job\", wait=True)"
   ]
  },
  {
   "cell_type": "markdown",
   "id": "63da8f8a-13f8-436d-b572-c228607fb832",
   "metadata": {},
   "source": [
    "Wait for data manipulation job to be completed. One can view the state of run from console or using the digitalhub sdk API"
   ]
  },
  {
   "cell_type": "code",
   "execution_count": null,
   "id": "8861c0f7-cffe-462a-8882-2ca4317e16a8",
   "metadata": {},
   "outputs": [],
   "source": [
    "gen_data_run.refresh().status.state"
   ]
  },
  {
   "cell_type": "markdown",
   "id": "1d5675f7-855a-4d7f-a791-2e16b173aeca",
   "metadata": {},
   "source": [
    "Once 'Completed', proceed with next steps."
   ]
  },
  {
   "cell_type": "code",
   "execution_count": null,
   "id": "e3ea719c-d610-4ee9-82e3-c4e61c62325c",
   "metadata": {},
   "outputs": [],
   "source": [
    "gen_data_run.output(\"dataset\").as_df().head()"
   ]
  },
  {
   "cell_type": "markdown",
   "id": "3bcfb89f-cfc8-42c8-8fea-e04f4feaeeb5",
   "metadata": {},
   "source": [
    "## Training"
   ]
  },
  {
   "cell_type": "code",
   "execution_count": null,
   "id": "c7c5faba-a35d-4f6c-9631-4f72df3db5cd",
   "metadata": {},
   "outputs": [],
   "source": [
    "%%writefile \"src/train-model.py\"\n",
    "\n",
    "\n",
    "import pandas as pd\n",
    "from sklearn.datasets import load_breast_cancer\n",
    "from sklearn.model_selection import train_test_split\n",
    "\n",
    "from digitalhub_runtime_python import handler\n",
    "from sklearn.svm import SVC\n",
    "from pickle import dump\n",
    "import sklearn.metrics\n",
    "import os\n",
    "\n",
    "@handler(outputs=[\"model\"])\n",
    "def train(project, di):\n",
    "\n",
    "    df_cancer = di.as_df()\n",
    "    X = df_cancer.drop(['target'],axis=1)\n",
    "    y = df_cancer['target']\n",
    "    X_train, X_test, y_train, y_test = train_test_split(X, y, test_size = 0.20, random_state=5)\n",
    "    svc_model = SVC()\n",
    "    svc_model.fit(X_train, y_train)\n",
    "    y_predict = svc_model.predict(X_test)\n",
    "\n",
    "    if not os.path.exists(\"model\"):\n",
    "        os.makedirs(\"model\")\n",
    "\n",
    "    with open(\"model/cancer_classifier.pkl\", \"wb\") as f:\n",
    "        dump(svc_model, f, protocol=5)\n",
    "\n",
    "    metrics = {\n",
    "        \"f1_score\": sklearn.metrics.f1_score(y_test, y_predict),\n",
    "        \"accuracy\": sklearn.metrics.accuracy_score(y_test, y_predict),\n",
    "        \"precision\": sklearn.metrics.precision_score(y_test, y_predict),\n",
    "        \"recall\": sklearn.metrics.recall_score(y_test, y_predict),\n",
    "    }\n",
    "    model = project.log_model(name=\"cancer_classifier\",\n",
    "                              kind=\"sklearn\",\n",
    "                              source=\"./model/\")\n",
    "    model.log_metrics(metrics)\n",
    "    return model"
   ]
  },
  {
   "cell_type": "code",
   "execution_count": null,
   "id": "34f5800e-6639-4d68-8861-5bb95c67d9d4",
   "metadata": {},
   "outputs": [],
   "source": [
    "train_fn = project.new_function(name=\"train\",\n",
    "                                kind=\"python\",\n",
    "                                python_version=\"PYTHON3_10\",\n",
    "                                code_src=\"src/train-model.py\",\n",
    "                                handler=\"train\",\n",
    "                                requirements=[\"numpy<2\"])"
   ]
  },
  {
   "cell_type": "code",
   "execution_count": null,
   "id": "36e8e52c-800b-4a5f-a54b-d3c1d7c28680",
   "metadata": {},
   "outputs": [],
   "source": [
    "train_run = train_fn.run(action=\"job\",\n",
    "                         inputs={\"di\": gen_data_run.output(\"dataset\").key},\n",
    "                         wait=True)"
   ]
  },
  {
   "cell_type": "markdown",
   "id": "8c31c441-8c4e-4f6d-99fa-a402046afb3f",
   "metadata": {},
   "source": [
    "Wait until the train job run is completed. The state of the run can be viewed using console or via digitalhub sdk API call"
   ]
  },
  {
   "cell_type": "code",
   "execution_count": null,
   "id": "e9a464f9-1b83-4cb9-8107-298f0565d519",
   "metadata": {},
   "outputs": [],
   "source": [
    "train_run.refresh().status.state"
   ]
  },
  {
   "cell_type": "markdown",
   "id": "7fadeae2-2912-4034-9618-e8ffa2e310a1",
   "metadata": {},
   "source": [
    "Once training is 'Completed', proceed with  serve."
   ]
  },
  {
   "cell_type": "markdown",
   "id": "992d147a-07b1-44a6-9cb3-2e967cbbe5c6",
   "metadata": {},
   "source": [
    "## Serve"
   ]
  },
  {
   "cell_type": "code",
   "execution_count": null,
   "id": "f714cb71-3423-4c19-ab54-db064609890b",
   "metadata": {},
   "outputs": [],
   "source": [
    "model = train_run.output(\"model\")"
   ]
  },
  {
   "cell_type": "code",
   "execution_count": null,
   "id": "98e11185-354b-43ab-9942-9091126bfda5",
   "metadata": {},
   "outputs": [],
   "source": [
    "func = project.new_function(name=\"serve_sklearnmodel\",\n",
    "                            kind=\"sklearnserve\",\n",
    "                            path=model.spec.path + 'cancer_classifier.pkl')\n",
    "\n",
    "serve_run = func.run(\"serve\",\n",
    "                     labels=[\"service_sklearn\"],\n",
    "                     wait=True)"
   ]
  },
  {
   "cell_type": "markdown",
   "id": "a91091d7-92dc-4c1e-a7c5-97b727e7a89d",
   "metadata": {},
   "source": [
    "Once 'Service' object available, proceed by making call to deployed service."
   ]
  },
  {
   "cell_type": "code",
   "execution_count": null,
   "id": "870cd574-80b7-44fe-ad32-1c1c0cece781",
   "metadata": {},
   "outputs": [],
   "source": [
    "import numpy as np\n",
    "\n",
    "data = np.random.rand(2, 30).tolist()\n",
    "json = {\n",
    "    \"inputs\": [\n",
    "        {\n",
    "        \"name\": \"input-0\",\n",
    "        \"shape\": [2, 30],\n",
    "        \"datatype\": \"FP32\",\n",
    "        \"data\": data\n",
    "        }\n",
    "    ]\n",
    "}"
   ]
  },
  {
   "cell_type": "code",
   "execution_count": null,
   "id": "48461461-68ed-4eaa-8201-035fd47380e2",
   "metadata": {},
   "outputs": [],
   "source": [
    "serve_run.refresh().invoke(json=json).json()"
   ]
  },
  {
   "cell_type": "markdown",
   "id": "5843d36a-414e-426f-9f87-1edcc203bdf2",
   "metadata": {},
   "source": [
    "## Pipeline"
   ]
  },
  {
   "cell_type": "code",
   "execution_count": null,
   "id": "0427ebd9-dca9-4f9c-bde5-78008031fa17",
   "metadata": {},
   "outputs": [],
   "source": [
    "%%writefile \"src/pipeline.py\"\n",
    "from hera.workflows import Workflow, DAG, Parameter\n",
    "from digitalhub_runtime_hera.dsl import step\n",
    "\n",
    "\n",
    "def pipeline():\n",
    "    with Workflow(entrypoint=\"dag\") as w:\n",
    "        with DAG(name=\"dag\"):\n",
    "            A = step(template={\"action\":\"job\"},\n",
    "                     function=\"download-prep\",\n",
    "                     outputs=[\"dataset\"])\n",
    "            B = step(template={\"action\":\"job\", \"inputs\": {\"di\": \"{{inputs.parameters.di}}\"}},\n",
    "                     function=\"train\",\n",
    "                     inputs={\"di\": A.get_parameter(\"dataset\")})\n",
    "            A >> B\n",
    "    return w\n"
   ]
  },
  {
   "cell_type": "code",
   "execution_count": null,
   "id": "74721266-c79a-4259-ac69-c6d5aba6fd07",
   "metadata": {},
   "outputs": [],
   "source": [
    "workflow = project.new_workflow(name=\"pipeline_ml\",\n",
    "                                kind=\"hera\",\n",
    "                                code_src=\"src/pipeline.py\",\n",
    "                                handler=\"pipeline\")"
   ]
  },
  {
   "cell_type": "code",
   "execution_count": null,
   "id": "684c39ce-8fd9-4355-a08f-ec93fb19335a",
   "metadata": {
    "scrolled": true
   },
   "outputs": [],
   "source": [
    "build_run = workflow.run(\"build\", wait=True)"
   ]
  },
  {
   "cell_type": "code",
   "execution_count": null,
   "id": "93dce7b7-5d6a-4b41-9c1f-983d792ecfaf",
   "metadata": {},
   "outputs": [],
   "source": [
    "wf_run = workflow.run(\"pipeline\", wait=True)"
   ]
  },
  {
   "cell_type": "markdown",
   "id": "53f48387-9037-4544-8f4f-c6f48bf7853d",
   "metadata": {},
   "source": [
    "The pipeline does not include the 'serve' phase of scenario."
   ]
  }
 ],
 "metadata": {
  "kernelspec": {
   "display_name": "3.10.9",
   "language": "python",
   "name": "python3"
  },
  "language_info": {
   "codemirror_mode": {
    "name": "ipython",
    "version": 3
   },
   "file_extension": ".py",
   "mimetype": "text/x-python",
   "name": "python",
   "nbconvert_exporter": "python",
   "pygments_lexer": "ipython3",
   "version": "3.10.9"
  }
 },
 "nbformat": 4,
 "nbformat_minor": 5
}
