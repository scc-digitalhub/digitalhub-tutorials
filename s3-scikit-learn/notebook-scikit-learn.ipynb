{
 "cells": [
  {
   "cell_type": "code",
   "execution_count": 1,
   "id": "1c7d61fa-be81-4359-9ef9-20f0d80346fc",
   "metadata": {},
   "outputs": [],
   "source": [
    "import digitalhub as dh\n",
    "\n",
    "project = dh.get_or_create_project(\"project-ml-ci\")"
   ]
  },
  {
   "cell_type": "code",
   "execution_count": 2,
   "id": "ec274acb-d605-49b4-8ea3-eba139312941",
   "metadata": {},
   "outputs": [],
   "source": [
    "import os\n",
    "new_folder = 'src'\n",
    "if not os.path.exists(new_folder):\n",
    "    os.makedirs(new_folder)"
   ]
  },
  {
   "cell_type": "code",
   "execution_count": 3,
   "id": "54981da8-0111-48e8-96ae-c467f4eec676",
   "metadata": {},
   "outputs": [
    {
     "name": "stdout",
     "output_type": "stream",
     "text": [
      "Writing src/data-prep.py\n"
     ]
    }
   ],
   "source": [
    "%%writefile \"src/data-prep.py\"\n",
    "\n",
    "import pandas as pd\n",
    "from sklearn.datasets import load_breast_cancer\n",
    "\n",
    "from digitalhub_runtime_python import handler\n",
    "\n",
    "@handler(outputs=[\"dataset\"])\n",
    "def breast_cancer_generator():\n",
    "    \"\"\"\n",
    "    A function which generates the breast cancer dataset\n",
    "    \"\"\"\n",
    "    breast_cancer = load_breast_cancer()\n",
    "    breast_cancer_dataset = pd.DataFrame(\n",
    "        data=breast_cancer.data, columns=breast_cancer.feature_names\n",
    "    )\n",
    "    breast_cancer_labels = pd.DataFrame(data=breast_cancer.target, columns=[\"target\"])\n",
    "    breast_cancer_dataset = pd.concat(\n",
    "        [breast_cancer_dataset, breast_cancer_labels], axis=1\n",
    "    )\n",
    "\n",
    "    return breast_cancer_dataset"
   ]
  },
  {
   "cell_type": "code",
   "execution_count": 4,
   "id": "9c3f1278-c019-463a-b29c-7480c64d41b1",
   "metadata": {},
   "outputs": [],
   "source": [
    "data_gen_fn = project.new_function(name=\"data-prep\",\n",
    "                                   kind=\"python\",\n",
    "                                   python_version=\"PYTHON3_10\",\n",
    "                                   code_src=\"src/data-prep.py\",\n",
    "                                   handler=\"breast_cancer_generator\")"
   ]
  },
  {
   "cell_type": "code",
   "execution_count": 5,
   "id": "2894bc91-fb1b-4544-a0e4-9cb4396d2961",
   "metadata": {},
   "outputs": [],
   "source": [
    "gen_data_run = data_gen_fn.run(action=\"job\", outputs={\"dataset\": \"dataset\"}, local_execution=False)"
   ]
  },
  {
   "cell_type": "code",
   "execution_count": 6,
   "id": "8861c0f7-cffe-462a-8882-2ca4317e16a8",
   "metadata": {},
   "outputs": [
    {
     "data": {
      "text/plain": [
       "{'kind': 'python+run', 'metadata': {'project': 'project-ml-ci', 'name': '2de5a902-0d00-41ec-bf7e-86729e3ed8ba', 'created': '2024-10-25T07:54:39.193Z', 'updated': '2024-10-25T07:54:44.231Z', 'created_by': 'khurshid@fbk.eu', 'updated_by': 'khurshid@fbk.eu'}, 'spec': {'task': 'python+job://project-ml-ci/data-prep:198e8387-0b03-4828-8eb7-914e10e4771e', 'local_execution': False, 'function': 'python://project-ml-ci/data-prep:198e8387-0b03-4828-8eb7-914e10e4771e', 'source': {'source': 'src/data-prep.py', 'handler': 'breast_cancer_generator', 'base64': 'CmltcG9ydCBwYW5kYXMgYXMgcGQKZnJvbSBza2xlYXJuLmRhdGFzZXRzIGltcG9ydCBsb2FkX2JyZWFzdF9jYW5jZXIKCmZyb20gZGlnaXRhbGh1Yl9ydW50aW1lX3B5dGhvbiBpbXBvcnQgaGFuZGxlcgoKQGhhbmRsZXIob3V0cHV0cz1bImRhdGFzZXQiXSkKZGVmIGJyZWFzdF9jYW5jZXJfZ2VuZXJhdG9yKCk6CiAgICAiIiIKICAgIEEgZnVuY3Rpb24gd2hpY2ggZ2VuZXJhdGVzIHRoZSBicmVhc3QgY2FuY2VyIGRhdGFzZXQKICAgICIiIgogICAgYnJlYXN0X2NhbmNlciA9IGxvYWRfYnJlYXN0X2NhbmNlcigpCiAgICBicmVhc3RfY2FuY2VyX2RhdGFzZXQgPSBwZC5EYXRhRnJhbWUoCiAgICAgICAgZGF0YT1icmVhc3RfY2FuY2VyLmRhdGEsIGNvbHVtbnM9YnJlYXN0X2NhbmNlci5mZWF0dXJlX25hbWVzCiAgICApCiAgICBicmVhc3RfY2FuY2VyX2xhYmVscyA9IHBkLkRhdGFGcmFtZShkYXRhPWJyZWFzdF9jYW5jZXIudGFyZ2V0LCBjb2x1bW5zPVsidGFyZ2V0Il0pCiAgICBicmVhc3RfY2FuY2VyX2RhdGFzZXQgPSBwZC5jb25jYXQoCiAgICAgICAgW2JyZWFzdF9jYW5jZXJfZGF0YXNldCwgYnJlYXN0X2NhbmNlcl9sYWJlbHNdLCBheGlzPTEKICAgICkKCiAgICByZXR1cm4gYnJlYXN0X2NhbmNlcl9kYXRhc2V0Cg==', 'lang': 'python'}, 'python_version': 'PYTHON3_10', 'inputs': {}, 'outputs': {'dataset': 'dataset'}, 'parameters': {}}, 'status': {'state': 'RUNNING', 'message': 'job j-pythonjob-2de5a902-0d00-41ec-bf7e-86729e3ed8ba created', 'transitions': [{'status': 'RUNNING', 'message': 'job j-pythonjob-2de5a902-0d00-41ec-bf7e-86729e3ed8ba created', 'time': '2024-10-25T07:54:39.282775353Z'}, {'status': 'READY', 'time': '2024-10-25T07:54:39.213085728Z'}, {'status': 'BUILT', 'time': '2024-10-25T07:54:39.199400052Z'}], 'k8s': {'configMap': {'configMap': {'metadata': {'labels': {'dhcore/framework': 'k8sjob', 'app.kubernetes.io/managed-by': 'dhcore', 'dhcore/function': 'data-prep', 'app.kubernetes.io/part-of': 'dhcore-project-ml-ci', 'dhcore/project': 'project-ml-ci', 'dhcore/runtime': 'python', 'app.kubernetes.io/version': '2de5a902-0d00-41ec-bf7e-86729e3ed8ba', 'app.kubernetes.io/instance': 'dhcore-2de5a902-0d00-41ec-bf7e-86729e3ed8ba'}, 'name': 'init-config-map-2de5a902-0d00-41ec-bf7e-86729e3ed8ba'}}}, 'secret': {'secret': {'apiVersion': 'v1', 'kind': 'Secret', 'metadata': {'labels': {'dhcore/framework': 'k8sjob', 'app.kubernetes.io/managed-by': 'dhcore', 'dhcore/function': 'data-prep', 'app.kubernetes.io/part-of': 'dhcore-project-ml-ci', 'dhcore/project': 'project-ml-ci', 'dhcore/runtime': 'python', 'app.kubernetes.io/version': '2de5a902-0d00-41ec-bf7e-86729e3ed8ba', 'app.kubernetes.io/instance': 'dhcore-2de5a902-0d00-41ec-bf7e-86729e3ed8ba'}, 'name': 'sec-pythonjob-2de5a902-0d00-41ec-bf7e-86729e3ed8ba', 'namespace': 'digitalhub-tenant1'}}}, 'job': {'job': {'apiVersion': 'batch/v1', 'kind': 'Job', 'metadata': {'creationTimestamp': 1729842879.0, 'generation': 1, 'labels': {'app.kubernetes.io/instance': 'dhcore-2de5a902-0d00-41ec-bf7e-86729e3ed8ba', 'app.kubernetes.io/managed-by': 'dhcore', 'app.kubernetes.io/part-of': 'dhcore-project-ml-ci', 'app.kubernetes.io/version': '2de5a902-0d00-41ec-bf7e-86729e3ed8ba', 'dhcore/framework': 'k8sjob', 'dhcore/function': 'data-prep', 'dhcore/project': 'project-ml-ci', 'dhcore/runtime': 'python'}, 'managedFields': [{'apiVersion': 'batch/v1', 'fieldsType': 'FieldsV1', 'manager': 'Kubernetes Java Client', 'operation': 'Update', 'time': 1729842879.0}], 'name': 'j-pythonjob-2de5a902-0d00-41ec-bf7e-86729e3ed8ba', 'namespace': 'digitalhub-tenant1', 'resourceVersion': '147994', 'uid': '62cc9b37-2cd5-4298-b6ae-5fc66a4b9bda'}, 'spec': {'activeDeadlineSeconds': 604800, 'backoffLimit': 0, 'completionMode': 'NonIndexed', 'completions': 1, 'manualSelector': False, 'parallelism': 1, 'podReplacementPolicy': 'TerminatingOrFailed', 'selector': {'matchLabels': {'batch.kubernetes.io/controller-uid': '62cc9b37-2cd5-4298-b6ae-5fc66a4b9bda'}}, 'suspend': False, 'template': {'metadata': {'labels': {'app.kubernetes.io/instance': 'dhcore-2de5a902-0d00-41ec-bf7e-86729e3ed8ba', 'app.kubernetes.io/managed-by': 'dhcore', 'app.kubernetes.io/part-of': 'dhcore-project-ml-ci', 'app.kubernetes.io/version': '2de5a902-0d00-41ec-bf7e-86729e3ed8ba', 'batch.kubernetes.io/controller-uid': '62cc9b37-2cd5-4298-b6ae-5fc66a4b9bda', 'batch.kubernetes.io/job-name': 'j-pythonjob-2de5a902-0d00-41ec-bf7e-86729e3ed8ba', 'controller-uid': '62cc9b37-2cd5-4298-b6ae-5fc66a4b9bda', 'dhcore/framework': 'k8sjob', 'dhcore/function': 'data-prep', 'dhcore/project': 'project-ml-ci', 'dhcore/runtime': 'python', 'job-name': 'j-pythonjob-2de5a902-0d00-41ec-bf7e-86729e3ed8ba'}, 'name': 'j-pythonjob-2de5a902-0d00-41ec-bf7e-86729e3ed8ba'}, 'spec': {'containers': [{'args': ['/shared/entrypoint.sh', '--processor', '/usr/local/bin/processor', '--config', '/shared/function.yaml', '--requirements', '/shared/requirements.txt'], 'command': ['/bin/bash'], 'env': [{'name': 'DH_RUN_SECRET_NAME', 'value': 'sec-pythonjob-2de5a902-0d00-41ec-bf7e-86729e3ed8ba'}, {'name': 'PYTHONPATH', 'value': '${PYTHONPATH}:/shared/'}, {'name': 'DHCORE_ACCESS_TOKEN', 'valueFrom': {'secretKeyRef': {'key': 'DHCORE_ACCESS_TOKEN', 'name': 'sec-pythonjob-2de5a902-0d00-41ec-bf7e-86729e3ed8ba'}}}, {'name': 'DHCORE_REFRESH_TOKEN', 'valueFrom': {'secretKeyRef': {'key': 'DHCORE_REFRESH_TOKEN', 'name': 'sec-pythonjob-2de5a902-0d00-41ec-bf7e-86729e3ed8ba'}}}, {'name': 'DHCORE_CLIENT_ID', 'valueFrom': {'secretKeyRef': {'key': 'DHCORE_CLIENT_ID', 'name': 'sec-pythonjob-2de5a902-0d00-41ec-bf7e-86729e3ed8ba'}}}, {'name': 'DHCORE_TOKEN_TYPE', 'valueFrom': {'secretKeyRef': {'key': 'DHCORE_TOKEN_TYPE', 'name': 'sec-pythonjob-2de5a902-0d00-41ec-bf7e-86729e3ed8ba'}}}, {'name': 'DHCORE_ISSUER', 'valueFrom': {'secretKeyRef': {'key': 'DHCORE_ISSUER', 'name': 'sec-pythonjob-2de5a902-0d00-41ec-bf7e-86729e3ed8ba'}}}, {'name': 'PROJECT_NAME', 'value': 'project-ml-ci'}, {'name': 'DHCORE_EXPIRES_IN', 'valueFrom': {'secretKeyRef': {'key': 'DHCORE_EXPIRES_IN', 'name': 'sec-pythonjob-2de5a902-0d00-41ec-bf7e-86729e3ed8ba'}}}, {'name': 'RUN_ID', 'value': '2de5a902-0d00-41ec-bf7e-86729e3ed8ba'}], 'envFrom': [{'configMapRef': {'name': 'digitalhub-common-env'}}, {'secretRef': {'name': 'digitalhub-common-creds'}}], 'image': 'ghcr.io/scc-digitalhub/digitalhub-serverless/python-runtime:3.10-latest', 'imagePullPolicy': 'IfNotPresent', 'name': 'c-pythonjob-2de5a902-0d00-41ec-bf7e-86729e3ed8ba', 'securityContext': {'allowPrivilegeEscalation': False, 'privileged': False, 'runAsNonRoot': True}, 'terminationMessagePath': '/dev/termination-log', 'terminationMessagePolicy': 'File', 'volumeMounts': [{'mountPath': '/shared', 'name': 'shared-dir'}, {'mountPath': '/init-config-map', 'name': 'init-config-map'}]}], 'dnsPolicy': 'ClusterFirst', 'imagePullSecrets': [{'name': 'registry-credentials'}], 'initContainers': [{'command': ['/bin/bash', '-c', '/app/builder-tool.sh'], 'env': [{'name': 'DH_RUN_SECRET_NAME', 'value': 'sec-pythonjob-2de5a902-0d00-41ec-bf7e-86729e3ed8ba'}, {'name': 'PYTHONPATH', 'value': '${PYTHONPATH}:/shared/'}, {'name': 'DHCORE_ACCESS_TOKEN', 'valueFrom': {'secretKeyRef': {'key': 'DHCORE_ACCESS_TOKEN', 'name': 'sec-pythonjob-2de5a902-0d00-41ec-bf7e-86729e3ed8ba'}}}, {'name': 'DHCORE_REFRESH_TOKEN', 'valueFrom': {'secretKeyRef': {'key': 'DHCORE_REFRESH_TOKEN', 'name': 'sec-pythonjob-2de5a902-0d00-41ec-bf7e-86729e3ed8ba'}}}, {'name': 'DHCORE_CLIENT_ID', 'valueFrom': {'secretKeyRef': {'key': 'DHCORE_CLIENT_ID', 'name': 'sec-pythonjob-2de5a902-0d00-41ec-bf7e-86729e3ed8ba'}}}, {'name': 'DHCORE_TOKEN_TYPE', 'valueFrom': {'secretKeyRef': {'key': 'DHCORE_TOKEN_TYPE', 'name': 'sec-pythonjob-2de5a902-0d00-41ec-bf7e-86729e3ed8ba'}}}, {'name': 'DHCORE_ISSUER', 'valueFrom': {'secretKeyRef': {'key': 'DHCORE_ISSUER', 'name': 'sec-pythonjob-2de5a902-0d00-41ec-bf7e-86729e3ed8ba'}}}, {'name': 'PROJECT_NAME', 'value': 'project-ml-ci'}, {'name': 'DHCORE_EXPIRES_IN', 'valueFrom': {'secretKeyRef': {'key': 'DHCORE_EXPIRES_IN', 'name': 'sec-pythonjob-2de5a902-0d00-41ec-bf7e-86729e3ed8ba'}}}, {'name': 'RUN_ID', 'value': '2de5a902-0d00-41ec-bf7e-86729e3ed8ba'}], 'envFrom': [{'configMapRef': {'name': 'digitalhub-common-env'}}, {'secretRef': {'name': 'digitalhub-common-creds'}}], 'image': 'ghcr.io/scc-digitalhub/digitalhub-core-builder-tool:latest', 'imagePullPolicy': 'Always', 'name': 'init-container-2de5a902-0d00-41ec-bf7e-86729e3ed8ba', 'terminationMessagePath': '/dev/termination-log', 'terminationMessagePolicy': 'File', 'volumeMounts': [{'mountPath': '/shared', 'name': 'shared-dir'}, {'mountPath': '/init-config-map', 'name': 'init-config-map'}]}], 'restartPolicy': 'Never', 'schedulerName': 'default-scheduler', 'securityContext': {'fsGroup': 1000, 'runAsNonRoot': True}, 'terminationGracePeriodSeconds': 30, 'volumes': [{'emptyDir': {'sizeLimit': {'number': 104857600, 'format': 'BINARY_SI'}}, 'name': 'shared-dir'}, {'configMap': {'defaultMode': 420, 'name': 'init-config-map-2de5a902-0d00-41ec-bf7e-86729e3ed8ba'}, 'name': 'init-config-map'}]}}}}}}, 'outputs': {'dataset': 'store://project-ml-ci/dataitem/table/dataset:40b65e31-c907-4a5b-ad58-5ce030cc88ff'}, 'results': {}}, 'user': 'khurshid@fbk.eu', 'project': 'project-ml-ci', 'id': '2de5a902-0d00-41ec-bf7e-86729e3ed8ba', 'key': 'store://project-ml-ci/run/python+run/2de5a902-0d00-41ec-bf7e-86729e3ed8ba'}"
      ]
     },
     "execution_count": 6,
     "metadata": {},
     "output_type": "execute_result"
    }
   ],
   "source": [
    "gen_data_run.refresh()"
   ]
  },
  {
   "cell_type": "code",
   "execution_count": 7,
   "id": "e3ea719c-d610-4ee9-82e3-c4e61c62325c",
   "metadata": {},
   "outputs": [
    {
     "data": {
      "text/html": [
       "<div>\n",
       "<style scoped>\n",
       "    .dataframe tbody tr th:only-of-type {\n",
       "        vertical-align: middle;\n",
       "    }\n",
       "\n",
       "    .dataframe tbody tr th {\n",
       "        vertical-align: top;\n",
       "    }\n",
       "\n",
       "    .dataframe thead th {\n",
       "        text-align: right;\n",
       "    }\n",
       "</style>\n",
       "<table border=\"1\" class=\"dataframe\">\n",
       "  <thead>\n",
       "    <tr style=\"text-align: right;\">\n",
       "      <th></th>\n",
       "      <th>mean radius</th>\n",
       "      <th>mean texture</th>\n",
       "      <th>mean perimeter</th>\n",
       "      <th>mean area</th>\n",
       "      <th>mean smoothness</th>\n",
       "      <th>mean compactness</th>\n",
       "      <th>mean concavity</th>\n",
       "      <th>mean concave points</th>\n",
       "      <th>mean symmetry</th>\n",
       "      <th>mean fractal dimension</th>\n",
       "      <th>...</th>\n",
       "      <th>worst texture</th>\n",
       "      <th>worst perimeter</th>\n",
       "      <th>worst area</th>\n",
       "      <th>worst smoothness</th>\n",
       "      <th>worst compactness</th>\n",
       "      <th>worst concavity</th>\n",
       "      <th>worst concave points</th>\n",
       "      <th>worst symmetry</th>\n",
       "      <th>worst fractal dimension</th>\n",
       "      <th>target</th>\n",
       "    </tr>\n",
       "  </thead>\n",
       "  <tbody>\n",
       "    <tr>\n",
       "      <th>0</th>\n",
       "      <td>17.99</td>\n",
       "      <td>10.38</td>\n",
       "      <td>122.80</td>\n",
       "      <td>1001.0</td>\n",
       "      <td>0.11840</td>\n",
       "      <td>0.27760</td>\n",
       "      <td>0.3001</td>\n",
       "      <td>0.14710</td>\n",
       "      <td>0.2419</td>\n",
       "      <td>0.07871</td>\n",
       "      <td>...</td>\n",
       "      <td>17.33</td>\n",
       "      <td>184.60</td>\n",
       "      <td>2019.0</td>\n",
       "      <td>0.1622</td>\n",
       "      <td>0.6656</td>\n",
       "      <td>0.7119</td>\n",
       "      <td>0.2654</td>\n",
       "      <td>0.4601</td>\n",
       "      <td>0.11890</td>\n",
       "      <td>0</td>\n",
       "    </tr>\n",
       "    <tr>\n",
       "      <th>1</th>\n",
       "      <td>20.57</td>\n",
       "      <td>17.77</td>\n",
       "      <td>132.90</td>\n",
       "      <td>1326.0</td>\n",
       "      <td>0.08474</td>\n",
       "      <td>0.07864</td>\n",
       "      <td>0.0869</td>\n",
       "      <td>0.07017</td>\n",
       "      <td>0.1812</td>\n",
       "      <td>0.05667</td>\n",
       "      <td>...</td>\n",
       "      <td>23.41</td>\n",
       "      <td>158.80</td>\n",
       "      <td>1956.0</td>\n",
       "      <td>0.1238</td>\n",
       "      <td>0.1866</td>\n",
       "      <td>0.2416</td>\n",
       "      <td>0.1860</td>\n",
       "      <td>0.2750</td>\n",
       "      <td>0.08902</td>\n",
       "      <td>0</td>\n",
       "    </tr>\n",
       "    <tr>\n",
       "      <th>2</th>\n",
       "      <td>19.69</td>\n",
       "      <td>21.25</td>\n",
       "      <td>130.00</td>\n",
       "      <td>1203.0</td>\n",
       "      <td>0.10960</td>\n",
       "      <td>0.15990</td>\n",
       "      <td>0.1974</td>\n",
       "      <td>0.12790</td>\n",
       "      <td>0.2069</td>\n",
       "      <td>0.05999</td>\n",
       "      <td>...</td>\n",
       "      <td>25.53</td>\n",
       "      <td>152.50</td>\n",
       "      <td>1709.0</td>\n",
       "      <td>0.1444</td>\n",
       "      <td>0.4245</td>\n",
       "      <td>0.4504</td>\n",
       "      <td>0.2430</td>\n",
       "      <td>0.3613</td>\n",
       "      <td>0.08758</td>\n",
       "      <td>0</td>\n",
       "    </tr>\n",
       "    <tr>\n",
       "      <th>3</th>\n",
       "      <td>11.42</td>\n",
       "      <td>20.38</td>\n",
       "      <td>77.58</td>\n",
       "      <td>386.1</td>\n",
       "      <td>0.14250</td>\n",
       "      <td>0.28390</td>\n",
       "      <td>0.2414</td>\n",
       "      <td>0.10520</td>\n",
       "      <td>0.2597</td>\n",
       "      <td>0.09744</td>\n",
       "      <td>...</td>\n",
       "      <td>26.50</td>\n",
       "      <td>98.87</td>\n",
       "      <td>567.7</td>\n",
       "      <td>0.2098</td>\n",
       "      <td>0.8663</td>\n",
       "      <td>0.6869</td>\n",
       "      <td>0.2575</td>\n",
       "      <td>0.6638</td>\n",
       "      <td>0.17300</td>\n",
       "      <td>0</td>\n",
       "    </tr>\n",
       "    <tr>\n",
       "      <th>4</th>\n",
       "      <td>20.29</td>\n",
       "      <td>14.34</td>\n",
       "      <td>135.10</td>\n",
       "      <td>1297.0</td>\n",
       "      <td>0.10030</td>\n",
       "      <td>0.13280</td>\n",
       "      <td>0.1980</td>\n",
       "      <td>0.10430</td>\n",
       "      <td>0.1809</td>\n",
       "      <td>0.05883</td>\n",
       "      <td>...</td>\n",
       "      <td>16.67</td>\n",
       "      <td>152.20</td>\n",
       "      <td>1575.0</td>\n",
       "      <td>0.1374</td>\n",
       "      <td>0.2050</td>\n",
       "      <td>0.4000</td>\n",
       "      <td>0.1625</td>\n",
       "      <td>0.2364</td>\n",
       "      <td>0.07678</td>\n",
       "      <td>0</td>\n",
       "    </tr>\n",
       "  </tbody>\n",
       "</table>\n",
       "<p>5 rows × 31 columns</p>\n",
       "</div>"
      ],
      "text/plain": [
       "   mean radius  mean texture  mean perimeter  mean area  mean smoothness  \\\n",
       "0        17.99         10.38          122.80     1001.0          0.11840   \n",
       "1        20.57         17.77          132.90     1326.0          0.08474   \n",
       "2        19.69         21.25          130.00     1203.0          0.10960   \n",
       "3        11.42         20.38           77.58      386.1          0.14250   \n",
       "4        20.29         14.34          135.10     1297.0          0.10030   \n",
       "\n",
       "   mean compactness  mean concavity  mean concave points  mean symmetry  \\\n",
       "0           0.27760          0.3001              0.14710         0.2419   \n",
       "1           0.07864          0.0869              0.07017         0.1812   \n",
       "2           0.15990          0.1974              0.12790         0.2069   \n",
       "3           0.28390          0.2414              0.10520         0.2597   \n",
       "4           0.13280          0.1980              0.10430         0.1809   \n",
       "\n",
       "   mean fractal dimension  ...  worst texture  worst perimeter  worst area  \\\n",
       "0                 0.07871  ...          17.33           184.60      2019.0   \n",
       "1                 0.05667  ...          23.41           158.80      1956.0   \n",
       "2                 0.05999  ...          25.53           152.50      1709.0   \n",
       "3                 0.09744  ...          26.50            98.87       567.7   \n",
       "4                 0.05883  ...          16.67           152.20      1575.0   \n",
       "\n",
       "   worst smoothness  worst compactness  worst concavity  worst concave points  \\\n",
       "0            0.1622             0.6656           0.7119                0.2654   \n",
       "1            0.1238             0.1866           0.2416                0.1860   \n",
       "2            0.1444             0.4245           0.4504                0.2430   \n",
       "3            0.2098             0.8663           0.6869                0.2575   \n",
       "4            0.1374             0.2050           0.4000                0.1625   \n",
       "\n",
       "   worst symmetry  worst fractal dimension  target  \n",
       "0          0.4601                  0.11890       0  \n",
       "1          0.2750                  0.08902       0  \n",
       "2          0.3613                  0.08758       0  \n",
       "3          0.6638                  0.17300       0  \n",
       "4          0.2364                  0.07678       0  \n",
       "\n",
       "[5 rows x 31 columns]"
      ]
     },
     "execution_count": 7,
     "metadata": {},
     "output_type": "execute_result"
    }
   ],
   "source": [
    "gen_data_run.output(\"dataset\").as_df().head()"
   ]
  },
  {
   "cell_type": "code",
   "execution_count": 8,
   "id": "c7c5faba-a35d-4f6c-9631-4f72df3db5cd",
   "metadata": {},
   "outputs": [
    {
     "name": "stdout",
     "output_type": "stream",
     "text": [
      "Writing src/train-model.py\n"
     ]
    }
   ],
   "source": [
    "%%writefile \"src/train-model.py\"\n",
    "\n",
    "\n",
    "import pandas as pd\n",
    "from sklearn.datasets import load_breast_cancer\n",
    "from sklearn.model_selection import train_test_split\n",
    "\n",
    "from digitalhub_runtime_python import handler\n",
    "from sklearn.svm import SVC\n",
    "from pickle import dump\n",
    "import sklearn.metrics\n",
    "import os\n",
    "\n",
    "@handler(outputs=[\"dataset\"])\n",
    "def train(project, di):\n",
    "\n",
    "    df_cancer = di.as_df()\n",
    "    X = df_cancer.drop(['target'],axis=1)\n",
    "    y = df_cancer['target']\n",
    "    X_train, X_test, y_train, y_test = train_test_split(X, y, test_size = 0.20, random_state=5)\n",
    "    svc_model = SVC()\n",
    "    svc_model.fit(X_train, y_train)\n",
    "    y_predict = svc_model.predict(X_test)\n",
    "\n",
    "    if not os.path.exists(\"model\"):\n",
    "        os.makedirs(\"model\")\n",
    "\n",
    "    with open(\"model/cancer_classifier.pkl\", \"wb\") as f:\n",
    "        dump(svc_model, f, protocol=5)\n",
    "\n",
    "    metrics = {\n",
    "        \"f1_score\": sklearn.metrics.f1_score(y_test, y_predict),\n",
    "        \"accuracy\": sklearn.metrics.accuracy_score(y_test, y_predict),\n",
    "        \"precision\": sklearn.metrics.precision_score(y_test, y_predict),\n",
    "        \"recall\": sklearn.metrics.recall_score(y_test, y_predict),\n",
    "    }\n",
    "    project.log_model(\n",
    "            name=\"cancer_classifier\",\n",
    "            kind=\"sklearn\",\n",
    "            source=\"./model/\",\n",
    "            metrics=metrics\n",
    "    )"
   ]
  },
  {
   "cell_type": "code",
   "execution_count": 9,
   "id": "34f5800e-6639-4d68-8861-5bb95c67d9d4",
   "metadata": {},
   "outputs": [],
   "source": [
    "train_fn = project.new_function(name=\"train\",\n",
    "                                kind=\"python\",\n",
    "                                python_version=\"PYTHON3_10\",\n",
    "                                code_src=\"src/train-model.py\",\n",
    "                                handler=\"train\",\n",
    "                                requirements=[\"scikit-learn==1.2.2\"])"
   ]
  },
  {
   "cell_type": "code",
   "execution_count": 10,
   "id": "36e8e52c-800b-4a5f-a54b-d3c1d7c28680",
   "metadata": {},
   "outputs": [],
   "source": [
    "train_run = train_fn.run(action=\"job\", inputs={\"di\": gen_data_run.output(\"dataset\").key})"
   ]
  },
  {
   "cell_type": "code",
   "execution_count": 11,
   "id": "f714cb71-3423-4c19-ab54-db064609890b",
   "metadata": {},
   "outputs": [
    {
     "data": {
      "text/plain": [
       "'s3://datalake/project-ml-ci/model/cancer_classifier/995a28fc-283c-4ab5-8351-c2425b9e2e0e/'"
      ]
     },
     "execution_count": 11,
     "metadata": {},
     "output_type": "execute_result"
    }
   ],
   "source": [
    "model = project.get_model(\"cancer_classifier\")\n",
    "model.spec.path"
   ]
  },
  {
   "cell_type": "code",
   "execution_count": 12,
   "id": "98e11185-354b-43ab-9942-9091126bfda5",
   "metadata": {},
   "outputs": [],
   "source": [
    "func = project.new_function(name=\"serve_sklearnmodel\",\n",
    "                            kind=\"sklearnserve\",\n",
    "                            path=model.spec.path + 'model/cancer_classifier.pkl')\n",
    "\n",
    "serve_run = func.run(action=\"serve\")"
   ]
  },
  {
   "cell_type": "markdown",
   "id": "12267dae-c0cb-412a-800b-c22f50796d3b",
   "metadata": {},
   "source": [
    "Let us wait till the 'serve' is finished "
   ]
  },
  {
   "cell_type": "code",
   "execution_count": 17,
   "id": "c1529c1c-cdc8-48d0-8b5c-89ea88b7b516",
   "metadata": {},
   "outputs": [
    {
     "data": {
      "text/plain": [
       "{'state': 'RUNNING', 'message': 'deployment d-sklearnserveserve-e3f62ae5-41cd-465b-9784-531907a3aaec created, service s-sklearnserveserve-e3f62ae5-41cd-465b-9784-531907a3aaec created', 'transitions': [{'status': 'RUNNING', 'message': 'deployment d-sklearnserveserve-e3f62ae5-41cd-465b-9784-531907a3aaec created, service s-sklearnserveserve-e3f62ae5-41cd-465b-9784-531907a3aaec created', 'time': '2024-10-25T07:56:35.897665387Z'}, {'status': 'READY', 'time': '2024-10-25T07:56:35.758802367Z'}, {'status': 'BUILT', 'time': '2024-10-25T07:56:35.745445087Z'}], 'k8s': {'pods': [{'metadata': {'creationTimestamp': 1729842995.0, 'generateName': 'd-sklearnserveserve-e3f62ae5-41cd-465b-9784-531907a3aaec-5f975c88dd-', 'labels': {'app.kubernetes.io/instance': 'dhcore-e3f62ae5-41cd-465b-9784-531907a3aaec', 'app.kubernetes.io/managed-by': 'dhcore', 'app.kubernetes.io/part-of': 'dhcore-project-ml-ci', 'app.kubernetes.io/version': 'e3f62ae5-41cd-465b-9784-531907a3aaec', 'dhcore/framework': 'k8sserve', 'dhcore/function': 'serve_sklearnmodel', 'dhcore/project': 'project-ml-ci', 'dhcore/runtime': 'sklearnserve', 'pod-template-hash': '5f975c88dd'}, 'managedFields': [{'apiVersion': 'v1', 'fieldsType': 'FieldsV1', 'manager': 'kube-controller-manager', 'operation': 'Update', 'time': 1729842995.0}, {'apiVersion': 'v1', 'fieldsType': 'FieldsV1', 'manager': 'kubelet', 'operation': 'Update', 'subresource': 'status', 'time': 1729843020.0}], 'name': 'd-sklearnserveserve-e3f62ae5-41cd-465b-9784-531907a3aaec-5kgqhf', 'namespace': 'digitalhub-tenant1', 'ownerReferences': [{'apiVersion': 'apps/v1', 'blockOwnerDeletion': True, 'controller': True, 'kind': 'ReplicaSet', 'name': 'd-sklearnserveserve-e3f62ae5-41cd-465b-9784-531907a3aaec-5f975c88dd', 'uid': '506a46aa-f86f-45d5-87fe-f09e00d1ed1f'}], 'resourceVersion': '150276', 'uid': '40984253-c126-4c06-a966-2a7ed6e7fd97'}, 'spec': {'containers': [{'args': ['start', '/shared/'], 'command': ['mlserver'], 'env': [{'name': 'DH_RUN_SECRET_NAME', 'value': 'sec-sklearnserveserve-e3f62ae5-41cd-465b-9784-531907a3aaec'}, {'name': 'DHCORE_ACCESS_TOKEN', 'valueFrom': {'secretKeyRef': {'key': 'DHCORE_ACCESS_TOKEN', 'name': 'sec-sklearnserveserve-e3f62ae5-41cd-465b-9784-531907a3aaec'}}}, {'name': 'DHCORE_REFRESH_TOKEN', 'valueFrom': {'secretKeyRef': {'key': 'DHCORE_REFRESH_TOKEN', 'name': 'sec-sklearnserveserve-e3f62ae5-41cd-465b-9784-531907a3aaec'}}}, {'name': 'DHCORE_CLIENT_ID', 'valueFrom': {'secretKeyRef': {'key': 'DHCORE_CLIENT_ID', 'name': 'sec-sklearnserveserve-e3f62ae5-41cd-465b-9784-531907a3aaec'}}}, {'name': 'DHCORE_TOKEN_TYPE', 'valueFrom': {'secretKeyRef': {'key': 'DHCORE_TOKEN_TYPE', 'name': 'sec-sklearnserveserve-e3f62ae5-41cd-465b-9784-531907a3aaec'}}}, {'name': 'DHCORE_ISSUER', 'valueFrom': {'secretKeyRef': {'key': 'DHCORE_ISSUER', 'name': 'sec-sklearnserveserve-e3f62ae5-41cd-465b-9784-531907a3aaec'}}}, {'name': 'PROJECT_NAME', 'value': 'project-ml-ci'}, {'name': 'DHCORE_EXPIRES_IN', 'valueFrom': {'secretKeyRef': {'key': 'DHCORE_EXPIRES_IN', 'name': 'sec-sklearnserveserve-e3f62ae5-41cd-465b-9784-531907a3aaec'}}}, {'name': 'RUN_ID', 'value': 'e3f62ae5-41cd-465b-9784-531907a3aaec'}], 'envFrom': [{'configMapRef': {'name': 'digitalhub-common-env'}}, {'secretRef': {'name': 'digitalhub-common-creds'}}], 'image': 'seldonio/mlserver:1.6.0-sklearn', 'imagePullPolicy': 'IfNotPresent', 'name': 'c-sklearnserveserve-e3f62ae5-41cd-465b-9784-531907a3aaec', 'securityContext': {'allowPrivilegeEscalation': False, 'privileged': False, 'runAsNonRoot': True}, 'terminationMessagePath': '/dev/termination-log', 'terminationMessagePolicy': 'File', 'volumeMounts': [{'mountPath': '/shared', 'name': 'shared-dir'}, {'mountPath': '/init-config-map', 'name': 'init-config-map'}, {'mountPath': '/var/run/secrets/kubernetes.io/serviceaccount', 'name': 'kube-api-access-lpv4x', 'readOnly': True}]}], 'dnsPolicy': 'ClusterFirst', 'enableServiceLinks': True, 'imagePullSecrets': [{'name': 'registry-credentials'}], 'initContainers': [{'command': ['/bin/bash', '-c', '/app/builder-tool.sh'], 'env': [{'name': 'DH_RUN_SECRET_NAME', 'value': 'sec-sklearnserveserve-e3f62ae5-41cd-465b-9784-531907a3aaec'}, {'name': 'DHCORE_ACCESS_TOKEN', 'valueFrom': {'secretKeyRef': {'key': 'DHCORE_ACCESS_TOKEN', 'name': 'sec-sklearnserveserve-e3f62ae5-41cd-465b-9784-531907a3aaec'}}}, {'name': 'DHCORE_REFRESH_TOKEN', 'valueFrom': {'secretKeyRef': {'key': 'DHCORE_REFRESH_TOKEN', 'name': 'sec-sklearnserveserve-e3f62ae5-41cd-465b-9784-531907a3aaec'}}}, {'name': 'DHCORE_CLIENT_ID', 'valueFrom': {'secretKeyRef': {'key': 'DHCORE_CLIENT_ID', 'name': 'sec-sklearnserveserve-e3f62ae5-41cd-465b-9784-531907a3aaec'}}}, {'name': 'DHCORE_TOKEN_TYPE', 'valueFrom': {'secretKeyRef': {'key': 'DHCORE_TOKEN_TYPE', 'name': 'sec-sklearnserveserve-e3f62ae5-41cd-465b-9784-531907a3aaec'}}}, {'name': 'DHCORE_ISSUER', 'valueFrom': {'secretKeyRef': {'key': 'DHCORE_ISSUER', 'name': 'sec-sklearnserveserve-e3f62ae5-41cd-465b-9784-531907a3aaec'}}}, {'name': 'PROJECT_NAME', 'value': 'project-ml-ci'}, {'name': 'DHCORE_EXPIRES_IN', 'valueFrom': {'secretKeyRef': {'key': 'DHCORE_EXPIRES_IN', 'name': 'sec-sklearnserveserve-e3f62ae5-41cd-465b-9784-531907a3aaec'}}}, {'name': 'RUN_ID', 'value': 'e3f62ae5-41cd-465b-9784-531907a3aaec'}], 'envFrom': [{'configMapRef': {'name': 'digitalhub-common-env'}}, {'secretRef': {'name': 'digitalhub-common-creds'}}], 'image': 'ghcr.io/scc-digitalhub/digitalhub-core-builder-tool:latest', 'imagePullPolicy': 'Always', 'name': 'init-container-e3f62ae5-41cd-465b-9784-531907a3aaec', 'terminationMessagePath': '/dev/termination-log', 'terminationMessagePolicy': 'File', 'volumeMounts': [{'mountPath': '/shared', 'name': 'shared-dir'}, {'mountPath': '/init-config-map', 'name': 'init-config-map'}, {'mountPath': '/var/run/secrets/kubernetes.io/serviceaccount', 'name': 'kube-api-access-lpv4x', 'readOnly': True}]}], 'nodeName': 'digitalhub-dev-md-0-jnfk6-l277n', 'preemptionPolicy': 'PreemptLowerPriority', 'priority': 0, 'restartPolicy': 'Always', 'schedulerName': 'default-scheduler', 'securityContext': {'runAsNonRoot': True}, 'serviceAccount': 'default', 'serviceAccountName': 'default', 'terminationGracePeriodSeconds': 30, 'tolerations': [{'effect': 'NoExecute', 'key': 'node.kubernetes.io/not-ready', 'operator': 'Exists', 'tolerationSeconds': 300}, {'effect': 'NoExecute', 'key': 'node.kubernetes.io/unreachable', 'operator': 'Exists', 'tolerationSeconds': 300}], 'volumes': [{'emptyDir': {'sizeLimit': {'number': 104857600, 'format': 'BINARY_SI'}}, 'name': 'shared-dir'}, {'configMap': {'defaultMode': 420, 'name': 'init-config-map-e3f62ae5-41cd-465b-9784-531907a3aaec'}, 'name': 'init-config-map'}, {'name': 'kube-api-access-lpv4x', 'projected': {'defaultMode': 420, 'sources': [{'serviceAccountToken': {'expirationSeconds': 3607, 'path': 'token'}}, {'configMap': {'items': [{'key': 'ca.crt', 'path': 'ca.crt'}], 'name': 'kube-root-ca.crt'}}, {'downwardAPI': {'items': [{'fieldRef': {'apiVersion': 'v1', 'fieldPath': 'metadata.namespace'}, 'path': 'namespace'}]}}]}}]}, 'status': {'conditions': [{'lastTransitionTime': 1729842997.0, 'status': 'True', 'type': 'PodReadyToStartContainers'}, {'lastTransitionTime': 1729842997.0, 'status': 'True', 'type': 'Initialized'}, {'lastTransitionTime': 1729843020.0, 'status': 'True', 'type': 'Ready'}, {'lastTransitionTime': 1729843020.0, 'status': 'True', 'type': 'ContainersReady'}, {'lastTransitionTime': 1729842995.0, 'status': 'True', 'type': 'PodScheduled'}], 'containerStatuses': [{'containerID': 'containerd://396196d1c4918e03664385c6da99458ce3a59981c9d5b7cf7299b2e823892c87', 'image': 'docker.io/seldonio/mlserver:1.6.0-sklearn', 'imageID': 'docker.io/seldonio/mlserver@sha256:51e938702ab6ecc38fd6f6a66e89d2e834b541856f593270de9d3ffe9fd5af26', 'name': 'c-sklearnserveserve-e3f62ae5-41cd-465b-9784-531907a3aaec', 'ready': True, 'restartCount': 0, 'started': True, 'state': {'running': {'startedAt': 1729843020.0}}}], 'hostIP': '10.1.0.4', 'hostIPs': [{'ip': '10.1.0.4'}], 'initContainerStatuses': [{'containerID': 'containerd://aa518c061684c92970d2be784b1e9e5a17dcdd7558a5cc235b8b361629f55990', 'image': 'ghcr.io/scc-digitalhub/digitalhub-core-builder-tool:latest', 'imageID': 'ghcr.io/scc-digitalhub/digitalhub-core-builder-tool@sha256:c302d32dce6c34bd00c7ee72e24d70cb0a1c4a970be785bc82d1738e51c2f26d', 'name': 'init-container-e3f62ae5-41cd-465b-9784-531907a3aaec', 'ready': True, 'restartCount': 0, 'started': False, 'state': {'terminated': {'containerID': 'containerd://aa518c061684c92970d2be784b1e9e5a17dcdd7558a5cc235b8b361629f55990', 'exitCode': 0, 'finishedAt': 1729842997.0, 'reason': 'Completed', 'startedAt': 1729842996.0}}}], 'phase': 'Running', 'podIP': '192.168.1.149', 'podIPs': [{'ip': '192.168.1.149'}], 'qosClass': 'BestEffort', 'startTime': 1729842995.0}}], 'secret': {'secret': {'apiVersion': 'v1', 'kind': 'Secret', 'metadata': {'labels': {'dhcore/framework': 'k8sserve', 'app.kubernetes.io/managed-by': 'dhcore', 'dhcore/function': 'serve_sklearnmodel', 'app.kubernetes.io/part-of': 'dhcore-project-ml-ci', 'dhcore/project': 'project-ml-ci', 'dhcore/runtime': 'sklearnserve', 'app.kubernetes.io/version': 'e3f62ae5-41cd-465b-9784-531907a3aaec', 'app.kubernetes.io/instance': 'dhcore-e3f62ae5-41cd-465b-9784-531907a3aaec'}, 'name': 'sec-sklearnserveserve-e3f62ae5-41cd-465b-9784-531907a3aaec', 'namespace': 'digitalhub-tenant1'}}}, 'configMap': {'configMap': {'metadata': {'labels': {'dhcore/framework': 'k8sserve', 'app.kubernetes.io/managed-by': 'dhcore', 'dhcore/function': 'serve_sklearnmodel', 'app.kubernetes.io/part-of': 'dhcore-project-ml-ci', 'dhcore/project': 'project-ml-ci', 'dhcore/runtime': 'sklearnserve', 'app.kubernetes.io/version': 'e3f62ae5-41cd-465b-9784-531907a3aaec', 'app.kubernetes.io/instance': 'dhcore-e3f62ae5-41cd-465b-9784-531907a3aaec'}, 'name': 'init-config-map-e3f62ae5-41cd-465b-9784-531907a3aaec'}}}, 'service': {'metadata': {'creationTimestamp': 1729842995.0, 'labels': {'app.kubernetes.io/instance': 'dhcore-e3f62ae5-41cd-465b-9784-531907a3aaec', 'app.kubernetes.io/managed-by': 'dhcore', 'app.kubernetes.io/part-of': 'dhcore-project-ml-ci', 'app.kubernetes.io/version': 'e3f62ae5-41cd-465b-9784-531907a3aaec', 'dhcore/framework': 'k8sserve', 'dhcore/function': 'serve_sklearnmodel', 'dhcore/project': 'project-ml-ci', 'dhcore/runtime': 'sklearnserve'}, 'managedFields': [{'apiVersion': 'v1', 'fieldsType': 'FieldsV1', 'manager': 'Kubernetes Java Client', 'operation': 'Update', 'time': 1729842995.0}], 'name': 's-sklearnserveserve-e3f62ae5-41cd-465b-9784-531907a3aaec', 'namespace': 'digitalhub-tenant1', 'resourceVersion': '149881', 'uid': 'bf66284b-4b71-45db-a378-db8acaa84563'}, 'apiVersion': 'v1', 'kind': 'Service', 'spec': {'clusterIP': '10.106.225.76', 'clusterIPs': ['10.106.225.76'], 'externalTrafficPolicy': 'Cluster', 'internalTrafficPolicy': 'Cluster', 'ipFamilies': ['IPv4'], 'ipFamilyPolicy': 'SingleStack', 'ports': [{'name': 'port8080', 'nodePort': 32639, 'port': 8080, 'protocol': 'TCP', 'targetPort': 8080}, {'name': 'port8081', 'nodePort': 31830, 'port': 8081, 'protocol': 'TCP', 'targetPort': 8081}], 'selector': {'app.kubernetes.io/instance': 'dhcore-e3f62ae5-41cd-465b-9784-531907a3aaec', 'app.kubernetes.io/managed-by': 'dhcore', 'app.kubernetes.io/part-of': 'dhcore-project-ml-ci', 'app.kubernetes.io/version': 'e3f62ae5-41cd-465b-9784-531907a3aaec', 'dhcore/framework': 'k8sserve', 'dhcore/function': 'serve_sklearnmodel', 'dhcore/project': 'project-ml-ci', 'dhcore/runtime': 'sklearnserve'}, 'sessionAffinity': 'None', 'type': 'NodePort'}}, 'deployment': {'metadata': {'annotations': {'deployment.kubernetes.io/revision': '1'}, 'creationTimestamp': 1729842995.0, 'generation': 1, 'labels': {'app.kubernetes.io/instance': 'dhcore-e3f62ae5-41cd-465b-9784-531907a3aaec', 'app.kubernetes.io/managed-by': 'dhcore', 'app.kubernetes.io/part-of': 'dhcore-project-ml-ci', 'app.kubernetes.io/version': 'e3f62ae5-41cd-465b-9784-531907a3aaec', 'dhcore/framework': 'k8sserve', 'dhcore/function': 'serve_sklearnmodel', 'dhcore/project': 'project-ml-ci', 'dhcore/runtime': 'sklearnserve'}, 'managedFields': [{'apiVersion': 'apps/v1', 'fieldsType': 'FieldsV1', 'manager': 'Kubernetes Java Client', 'operation': 'Update', 'time': 1729842995.0}, {'apiVersion': 'apps/v1', 'fieldsType': 'FieldsV1', 'manager': 'kube-controller-manager', 'operation': 'Update', 'subresource': 'status', 'time': 1729843020.0}], 'name': 'd-sklearnserveserve-e3f62ae5-41cd-465b-9784-531907a3aaec', 'namespace': 'digitalhub-tenant1', 'resourceVersion': '150280', 'uid': 'c1233d31-1852-4485-a8b7-15009cc85ac9'}, 'apiVersion': 'apps/v1', 'kind': 'Deployment', 'spec': {'progressDeadlineSeconds': 600, 'replicas': 1, 'revisionHistoryLimit': 10, 'selector': {'matchLabels': {'app.kubernetes.io/instance': 'dhcore-e3f62ae5-41cd-465b-9784-531907a3aaec', 'app.kubernetes.io/managed-by': 'dhcore', 'app.kubernetes.io/part-of': 'dhcore-project-ml-ci', 'app.kubernetes.io/version': 'e3f62ae5-41cd-465b-9784-531907a3aaec', 'dhcore/framework': 'k8sserve', 'dhcore/function': 'serve_sklearnmodel', 'dhcore/project': 'project-ml-ci', 'dhcore/runtime': 'sklearnserve'}}, 'strategy': {'rollingUpdate': {'maxSurge': '25%', 'maxUnavailable': '25%'}, 'type': 'RollingUpdate'}, 'template': {'metadata': {'labels': {'app.kubernetes.io/instance': 'dhcore-e3f62ae5-41cd-465b-9784-531907a3aaec', 'app.kubernetes.io/managed-by': 'dhcore', 'app.kubernetes.io/part-of': 'dhcore-project-ml-ci', 'app.kubernetes.io/version': 'e3f62ae5-41cd-465b-9784-531907a3aaec', 'dhcore/framework': 'k8sserve', 'dhcore/function': 'serve_sklearnmodel', 'dhcore/project': 'project-ml-ci', 'dhcore/runtime': 'sklearnserve'}, 'name': 'd-sklearnserveserve-e3f62ae5-41cd-465b-9784-531907a3aaec'}, 'spec': {'containers': [{'args': ['start', '/shared/'], 'command': ['mlserver'], 'env': [{'name': 'DH_RUN_SECRET_NAME', 'value': 'sec-sklearnserveserve-e3f62ae5-41cd-465b-9784-531907a3aaec'}, {'name': 'DHCORE_ACCESS_TOKEN', 'valueFrom': {'secretKeyRef': {'key': 'DHCORE_ACCESS_TOKEN', 'name': 'sec-sklearnserveserve-e3f62ae5-41cd-465b-9784-531907a3aaec'}}}, {'name': 'DHCORE_REFRESH_TOKEN', 'valueFrom': {'secretKeyRef': {'key': 'DHCORE_REFRESH_TOKEN', 'name': 'sec-sklearnserveserve-e3f62ae5-41cd-465b-9784-531907a3aaec'}}}, {'name': 'DHCORE_CLIENT_ID', 'valueFrom': {'secretKeyRef': {'key': 'DHCORE_CLIENT_ID', 'name': 'sec-sklearnserveserve-e3f62ae5-41cd-465b-9784-531907a3aaec'}}}, {'name': 'DHCORE_TOKEN_TYPE', 'valueFrom': {'secretKeyRef': {'key': 'DHCORE_TOKEN_TYPE', 'name': 'sec-sklearnserveserve-e3f62ae5-41cd-465b-9784-531907a3aaec'}}}, {'name': 'DHCORE_ISSUER', 'valueFrom': {'secretKeyRef': {'key': 'DHCORE_ISSUER', 'name': 'sec-sklearnserveserve-e3f62ae5-41cd-465b-9784-531907a3aaec'}}}, {'name': 'PROJECT_NAME', 'value': 'project-ml-ci'}, {'name': 'DHCORE_EXPIRES_IN', 'valueFrom': {'secretKeyRef': {'key': 'DHCORE_EXPIRES_IN', 'name': 'sec-sklearnserveserve-e3f62ae5-41cd-465b-9784-531907a3aaec'}}}, {'name': 'RUN_ID', 'value': 'e3f62ae5-41cd-465b-9784-531907a3aaec'}], 'envFrom': [{'configMapRef': {'name': 'digitalhub-common-env'}}, {'secretRef': {'name': 'digitalhub-common-creds'}}], 'image': 'seldonio/mlserver:1.6.0-sklearn', 'imagePullPolicy': 'IfNotPresent', 'name': 'c-sklearnserveserve-e3f62ae5-41cd-465b-9784-531907a3aaec', 'securityContext': {'allowPrivilegeEscalation': False, 'privileged': False, 'runAsNonRoot': True}, 'terminationMessagePath': '/dev/termination-log', 'terminationMessagePolicy': 'File', 'volumeMounts': [{'mountPath': '/shared', 'name': 'shared-dir'}, {'mountPath': '/init-config-map', 'name': 'init-config-map'}]}], 'dnsPolicy': 'ClusterFirst', 'imagePullSecrets': [{'name': 'registry-credentials'}], 'initContainers': [{'command': ['/bin/bash', '-c', '/app/builder-tool.sh'], 'env': [{'name': 'DH_RUN_SECRET_NAME', 'value': 'sec-sklearnserveserve-e3f62ae5-41cd-465b-9784-531907a3aaec'}, {'name': 'DHCORE_ACCESS_TOKEN', 'valueFrom': {'secretKeyRef': {'key': 'DHCORE_ACCESS_TOKEN', 'name': 'sec-sklearnserveserve-e3f62ae5-41cd-465b-9784-531907a3aaec'}}}, {'name': 'DHCORE_REFRESH_TOKEN', 'valueFrom': {'secretKeyRef': {'key': 'DHCORE_REFRESH_TOKEN', 'name': 'sec-sklearnserveserve-e3f62ae5-41cd-465b-9784-531907a3aaec'}}}, {'name': 'DHCORE_CLIENT_ID', 'valueFrom': {'secretKeyRef': {'key': 'DHCORE_CLIENT_ID', 'name': 'sec-sklearnserveserve-e3f62ae5-41cd-465b-9784-531907a3aaec'}}}, {'name': 'DHCORE_TOKEN_TYPE', 'valueFrom': {'secretKeyRef': {'key': 'DHCORE_TOKEN_TYPE', 'name': 'sec-sklearnserveserve-e3f62ae5-41cd-465b-9784-531907a3aaec'}}}, {'name': 'DHCORE_ISSUER', 'valueFrom': {'secretKeyRef': {'key': 'DHCORE_ISSUER', 'name': 'sec-sklearnserveserve-e3f62ae5-41cd-465b-9784-531907a3aaec'}}}, {'name': 'PROJECT_NAME', 'value': 'project-ml-ci'}, {'name': 'DHCORE_EXPIRES_IN', 'valueFrom': {'secretKeyRef': {'key': 'DHCORE_EXPIRES_IN', 'name': 'sec-sklearnserveserve-e3f62ae5-41cd-465b-9784-531907a3aaec'}}}, {'name': 'RUN_ID', 'value': 'e3f62ae5-41cd-465b-9784-531907a3aaec'}], 'envFrom': [{'configMapRef': {'name': 'digitalhub-common-env'}}, {'secretRef': {'name': 'digitalhub-common-creds'}}], 'image': 'ghcr.io/scc-digitalhub/digitalhub-core-builder-tool:latest', 'imagePullPolicy': 'Always', 'name': 'init-container-e3f62ae5-41cd-465b-9784-531907a3aaec', 'terminationMessagePath': '/dev/termination-log', 'terminationMessagePolicy': 'File', 'volumeMounts': [{'mountPath': '/shared', 'name': 'shared-dir'}, {'mountPath': '/init-config-map', 'name': 'init-config-map'}]}], 'restartPolicy': 'Always', 'schedulerName': 'default-scheduler', 'securityContext': {'runAsNonRoot': True}, 'terminationGracePeriodSeconds': 30, 'volumes': [{'emptyDir': {'sizeLimit': {'number': 104857600, 'format': 'BINARY_SI'}}, 'name': 'shared-dir'}, {'configMap': {'defaultMode': 420, 'name': 'init-config-map-e3f62ae5-41cd-465b-9784-531907a3aaec'}, 'name': 'init-config-map'}]}}}, 'status': {'availableReplicas': 1, 'conditions': [{'lastTransitionTime': 1729843020.0, 'lastUpdateTime': 1729843020.0, 'message': 'Deployment has minimum availability.', 'reason': 'MinimumReplicasAvailable', 'status': 'True', 'type': 'Available'}, {'lastTransitionTime': 1729842995.0, 'lastUpdateTime': 1729843020.0, 'message': 'ReplicaSet \"d-sklearnserveserve-e3f62ae5-41cd-465b-9784-531907a3aaec-5f975c88dd\" has successfully progressed.', 'reason': 'NewReplicaSetAvailable', 'status': 'True', 'type': 'Progressing'}], 'observedGeneration': 1, 'readyReplicas': 1, 'replicas': 1, 'updatedReplicas': 1}}}, 'service': {'name': 's-sklearnserveserve-e3f62ae5-41cd-465b-9784-531907a3aaec', 'namespace': 'digitalhub-tenant1', 'type': 'NodePort', 'clusterIP': '10.106.225.76', 'ports': [{'name': 'port8080', 'nodePort': 32639, 'port': 8080, 'protocol': 'TCP', 'targetPort': 8080}, {'name': 'port8081', 'nodePort': 31830, 'port': 8081, 'protocol': 'TCP', 'targetPort': 8081}], 'url': 's-sklearnserveserve-e3f62ae5-41cd-465b-9784-531907a3aaec.digitalhub-tenant1:8080', 'urls': ['s-sklearnserveserve-e3f62ae5-41cd-465b-9784-531907a3aaec.digitalhub-tenant1:8080', 's-sklearnserveserve-e3f62ae5-41cd-465b-9784-531907a3aaec.digitalhub-tenant1:8081']}}"
      ]
     },
     "execution_count": 17,
     "metadata": {},
     "output_type": "execute_result"
    }
   ],
   "source": [
    "serve_run.refresh().status"
   ]
  },
  {
   "cell_type": "code",
   "execution_count": 18,
   "id": "870cd574-80b7-44fe-ad32-1c1c0cece781",
   "metadata": {},
   "outputs": [],
   "source": [
    "import numpy as np\n",
    "\n",
    "data = np.random.rand(2, 30).tolist()\n",
    "json = {\n",
    "    \"inputs\": [\n",
    "        {\n",
    "        \"name\": \"input-0\",\n",
    "        \"shape\": [2, 30],\n",
    "        \"datatype\": \"FP32\",\n",
    "        \"data\": data\n",
    "        }\n",
    "    ]\n",
    "}"
   ]
  },
  {
   "cell_type": "code",
   "execution_count": 19,
   "id": "48461461-68ed-4eaa-8201-035fd47380e2",
   "metadata": {},
   "outputs": [
    {
     "data": {
      "text/plain": [
       "{'model_name': 'model',\n",
       " 'id': 'eb1e4d3e-56f1-4693-9cd6-ea0c13b20c5e',\n",
       " 'parameters': {},\n",
       " 'outputs': [{'name': 'predict',\n",
       "   'shape': [2, 1],\n",
       "   'datatype': 'INT64',\n",
       "   'parameters': {'content_type': 'np'},\n",
       "   'data': [1, 1]}]}"
      ]
     },
     "execution_count": 19,
     "metadata": {},
     "output_type": "execute_result"
    }
   ],
   "source": [
    "serve_run.invoke(json=json).json()"
   ]
  },
  {
   "cell_type": "code",
   "execution_count": 36,
   "id": "0427ebd9-dca9-4f9c-bde5-78008031fa17",
   "metadata": {},
   "outputs": [
    {
     "name": "stdout",
     "output_type": "stream",
     "text": [
      "Overwriting src/dbt_ml_pipeline.py\n"
     ]
    }
   ],
   "source": [
    "%%writefile \"src/dbt_ml_pipeline.py\"\n",
    "\n",
    "from digitalhub_runtime_kfp.dsl import pipeline_context\n",
    "\n",
    "def myhandler(): #path\n",
    "    with pipeline_context() as pc:\n",
    "        downloader = pc.step(name=\"download-data\", function=\"data-prep\", action=\"job\", outputs={\"dataset\": \"dataset\"})\n",
    "        trainer = pc.step(name=\"train-model\", function=\"train\", action=\"job\", inputs={\"di\": downloader.outputs[\"dataset\"]})\n",
    "        # serve = pc.step(name=\"serve\", function=\"serve_sklearnmodel\", action=\"serve\", inputs={\"path\":path})"
   ]
  },
  {
   "cell_type": "code",
   "execution_count": 37,
   "id": "74721266-c79a-4259-ac69-c6d5aba6fd07",
   "metadata": {},
   "outputs": [],
   "source": [
    "workflow = project.new_workflow(name=\"pipeline_ml\", kind=\"kfp\", code_src= \"src/dbt_ml_pipeline.py\", handler = \"myhandler\")"
   ]
  },
  {
   "cell_type": "code",
   "execution_count": 39,
   "id": "684c39ce-8fd9-4355-a08f-ec93fb19335a",
   "metadata": {},
   "outputs": [
    {
     "data": {
      "text/plain": [
       "{'kind': 'kfp+run', 'metadata': {'project': 'project-ml-ci', 'name': '5242c0a0-a22a-414c-9ac3-c132e8c70cc9', 'created': '2024-10-25T08:25:37.619Z', 'updated': '2024-10-25T08:25:37.801Z', 'created_by': 'khurshid@fbk.eu', 'updated_by': 'khurshid@fbk.eu'}, 'spec': {'task': 'kfp+pipeline://project-ml-ci/pipeline_ml:34e65c92-18cb-4f03-931c-6055fc908487', 'local_execution': False, 'function': 'kfp://project-ml-ci/pipeline_ml:34e65c92-18cb-4f03-931c-6055fc908487', 'source': {'source': 'src/dbt_ml_pipeline.py', 'handler': 'myhandler', 'base64': 'CmZyb20gZGlnaXRhbGh1Yl9ydW50aW1lX2tmcC5kc2wgaW1wb3J0IHBpcGVsaW5lX2NvbnRleHQKCmRlZiBteWhhbmRsZXIocGF0aCk6CiAgICB3aXRoIHBpcGVsaW5lX2NvbnRleHQoKSBhcyBwYzoKICAgICAgICBkb3dubG9hZGVyID0gcGMuc3RlcChuYW1lPSJkb3dubG9hZC1kYXRhIiwgZnVuY3Rpb249ImRhdGEtcHJlcCIsIGFjdGlvbj0iam9iIiwgb3V0cHV0cz17ImRhdGFzZXQiOiAiZGF0YXNldCJ9KQogICAgICAgIHRyYWluZXIgPSBwYy5zdGVwKG5hbWU9InRyYWluLW1vZGVsIiwgZnVuY3Rpb249InRyYWluIiwgYWN0aW9uPSJqb2IiLCBpbnB1dHM9eyJkaSI6IGRvd25sb2FkZXIub3V0cHV0c1siZGF0YXNldCJdfSkKICAgICAgICBzZXJ2ZSA9IHBjLnN0ZXAobmFtZT0ic2VydmUiLCBmdW5jdGlvbj0ic2VydmVfc2tsZWFybm1vZGVsIiwgYWN0aW9uPSJzZXJ2ZSIsIGlucHV0cz17InBhdGgiOnBhdGh9KQo=', 'lang': 'python'}, 'inputs': {}, 'outputs': {}, 'parameters': {'path': 's3://datalake/project-ml-ci/model/cancer_classifier/995a28fc-283c-4ab5-8351-c2425b9e2e0e/model/cancer_classifier.pkl'}}, 'status': {'state': 'READY', 'transitions': [{'status': 'READY', 'time': '2024-10-25T08:25:37.799638501Z'}, {'status': 'BUILT', 'time': '2024-10-25T08:25:37.625196069Z'}]}, 'user': 'khurshid@fbk.eu', 'project': 'project-ml-ci', 'id': '5242c0a0-a22a-414c-9ac3-c132e8c70cc9', 'key': 'store://project-ml-ci/run/kfp+run/5242c0a0-a22a-414c-9ac3-c132e8c70cc9'}"
      ]
     },
     "execution_count": 39,
     "metadata": {},
     "output_type": "execute_result"
    }
   ],
   "source": [
    "# workflow.run(parameters={\"path\": model.spec.path + 'model/cancer_classifier.pkl'})\n",
    "workflow.run()"
   ]
  },
  {
   "cell_type": "code",
   "execution_count": null,
   "id": "fa6b837b-0cfb-484f-af5e-e8e0730dfd40",
   "metadata": {},
   "outputs": [],
   "source": []
  }
 ],
 "metadata": {
  "kernelspec": {
   "display_name": "Python 3 (ipykernel)",
   "language": "python",
   "name": "python3"
  },
  "language_info": {
   "codemirror_mode": {
    "name": "ipython",
    "version": 3
   },
   "file_extension": ".py",
   "mimetype": "text/x-python",
   "name": "python",
   "nbconvert_exporter": "python",
   "pygments_lexer": "ipython3",
   "version": "3.10.11"
  }
 },
 "nbformat": 4,
 "nbformat_minor": 5
}
