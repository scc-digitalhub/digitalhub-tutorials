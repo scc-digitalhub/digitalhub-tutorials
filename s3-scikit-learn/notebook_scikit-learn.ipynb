{
 "cells": [
  {
   "cell_type": "code",
   "execution_count": 1,
   "id": "1c7d61fa-be81-4359-9ef9-20f0d80346fc",
   "metadata": {},
   "outputs": [],
   "source": [
    "import digitalhub as dh\n",
    "\n",
    "project = dh.get_or_create_project(\"demo-ml\")"
   ]
  },
  {
   "cell_type": "code",
   "execution_count": 2,
   "id": "54981da8-0111-48e8-96ae-c467f4eec676",
   "metadata": {},
   "outputs": [
    {
     "name": "stdout",
     "output_type": "stream",
     "text": [
      "Writing data-prep.py\n"
     ]
    }
   ],
   "source": [
    "%%writefile data-prep.py\n",
    "\n",
    "import pandas as pd\n",
    "from sklearn.datasets import load_breast_cancer\n",
    "\n",
    "from digitalhub_runtime_python import handler\n",
    "\n",
    "@handler(outputs=[\"dataset\"])\n",
    "def breast_cancer_generator():\n",
    "    \"\"\"\n",
    "    A function which generates the breast cancer dataset\n",
    "    \"\"\"\n",
    "    breast_cancer = load_breast_cancer()\n",
    "    breast_cancer_dataset = pd.DataFrame(\n",
    "        data=breast_cancer.data, columns=breast_cancer.feature_names\n",
    "    )\n",
    "    breast_cancer_labels = pd.DataFrame(data=breast_cancer.target, columns=[\"target\"])\n",
    "    breast_cancer_dataset = pd.concat(\n",
    "        [breast_cancer_dataset, breast_cancer_labels], axis=1\n",
    "    )\n",
    "\n",
    "    return breast_cancer_dataset"
   ]
  },
  {
   "cell_type": "code",
   "execution_count": 3,
   "id": "9c3f1278-c019-463a-b29c-7480c64d41b1",
   "metadata": {},
   "outputs": [],
   "source": [
    "data_gen_fn = project.new_function(name=\"data-prep\",\n",
    "                                   kind=\"python\",\n",
    "                                   python_version=\"PYTHON3_10\",\n",
    "                                   code_src=\"data-prep.py\",\n",
    "                                   handler=\"breast_cancer_generator\")"
   ]
  },
  {
   "cell_type": "code",
   "execution_count": 4,
   "id": "2894bc91-fb1b-4544-a0e4-9cb4396d2961",
   "metadata": {},
   "outputs": [
    {
     "name": "stderr",
     "output_type": "stream",
     "text": [
      "2024-10-23 09:17:21,160 - INFO - Validating task.\n",
      "2024-10-23 09:17:21,161 - INFO - Validating run.\n",
      "2024-10-23 09:17:21,161 - INFO - Starting task.\n",
      "2024-10-23 09:17:21,161 - INFO - Configuring execution.\n",
      "2024-10-23 09:17:21,634 - INFO - Composing function arguments.\n",
      "2024-10-23 09:17:21,634 - INFO - Executing run.\n",
      "2024-10-23 09:17:21,861 - INFO - Task completed, returning run status.\n"
     ]
    }
   ],
   "source": [
    "gen_data_run = data_gen_fn.run(action=\"job\", outputs={\"dataset\": \"dataset\"}, local_execution=True)"
   ]
  },
  {
   "cell_type": "code",
   "execution_count": 5,
   "id": "e3ea719c-d610-4ee9-82e3-c4e61c62325c",
   "metadata": {},
   "outputs": [
    {
     "data": {
      "text/html": [
       "<div>\n",
       "<style scoped>\n",
       "    .dataframe tbody tr th:only-of-type {\n",
       "        vertical-align: middle;\n",
       "    }\n",
       "\n",
       "    .dataframe tbody tr th {\n",
       "        vertical-align: top;\n",
       "    }\n",
       "\n",
       "    .dataframe thead th {\n",
       "        text-align: right;\n",
       "    }\n",
       "</style>\n",
       "<table border=\"1\" class=\"dataframe\">\n",
       "  <thead>\n",
       "    <tr style=\"text-align: right;\">\n",
       "      <th></th>\n",
       "      <th>mean radius</th>\n",
       "      <th>mean texture</th>\n",
       "      <th>mean perimeter</th>\n",
       "      <th>mean area</th>\n",
       "      <th>mean smoothness</th>\n",
       "      <th>mean compactness</th>\n",
       "      <th>mean concavity</th>\n",
       "      <th>mean concave points</th>\n",
       "      <th>mean symmetry</th>\n",
       "      <th>mean fractal dimension</th>\n",
       "      <th>...</th>\n",
       "      <th>worst texture</th>\n",
       "      <th>worst perimeter</th>\n",
       "      <th>worst area</th>\n",
       "      <th>worst smoothness</th>\n",
       "      <th>worst compactness</th>\n",
       "      <th>worst concavity</th>\n",
       "      <th>worst concave points</th>\n",
       "      <th>worst symmetry</th>\n",
       "      <th>worst fractal dimension</th>\n",
       "      <th>target</th>\n",
       "    </tr>\n",
       "  </thead>\n",
       "  <tbody>\n",
       "    <tr>\n",
       "      <th>0</th>\n",
       "      <td>17.99</td>\n",
       "      <td>10.38</td>\n",
       "      <td>122.80</td>\n",
       "      <td>1001.0</td>\n",
       "      <td>0.11840</td>\n",
       "      <td>0.27760</td>\n",
       "      <td>0.3001</td>\n",
       "      <td>0.14710</td>\n",
       "      <td>0.2419</td>\n",
       "      <td>0.07871</td>\n",
       "      <td>...</td>\n",
       "      <td>17.33</td>\n",
       "      <td>184.60</td>\n",
       "      <td>2019.0</td>\n",
       "      <td>0.1622</td>\n",
       "      <td>0.6656</td>\n",
       "      <td>0.7119</td>\n",
       "      <td>0.2654</td>\n",
       "      <td>0.4601</td>\n",
       "      <td>0.11890</td>\n",
       "      <td>0</td>\n",
       "    </tr>\n",
       "    <tr>\n",
       "      <th>1</th>\n",
       "      <td>20.57</td>\n",
       "      <td>17.77</td>\n",
       "      <td>132.90</td>\n",
       "      <td>1326.0</td>\n",
       "      <td>0.08474</td>\n",
       "      <td>0.07864</td>\n",
       "      <td>0.0869</td>\n",
       "      <td>0.07017</td>\n",
       "      <td>0.1812</td>\n",
       "      <td>0.05667</td>\n",
       "      <td>...</td>\n",
       "      <td>23.41</td>\n",
       "      <td>158.80</td>\n",
       "      <td>1956.0</td>\n",
       "      <td>0.1238</td>\n",
       "      <td>0.1866</td>\n",
       "      <td>0.2416</td>\n",
       "      <td>0.1860</td>\n",
       "      <td>0.2750</td>\n",
       "      <td>0.08902</td>\n",
       "      <td>0</td>\n",
       "    </tr>\n",
       "    <tr>\n",
       "      <th>2</th>\n",
       "      <td>19.69</td>\n",
       "      <td>21.25</td>\n",
       "      <td>130.00</td>\n",
       "      <td>1203.0</td>\n",
       "      <td>0.10960</td>\n",
       "      <td>0.15990</td>\n",
       "      <td>0.1974</td>\n",
       "      <td>0.12790</td>\n",
       "      <td>0.2069</td>\n",
       "      <td>0.05999</td>\n",
       "      <td>...</td>\n",
       "      <td>25.53</td>\n",
       "      <td>152.50</td>\n",
       "      <td>1709.0</td>\n",
       "      <td>0.1444</td>\n",
       "      <td>0.4245</td>\n",
       "      <td>0.4504</td>\n",
       "      <td>0.2430</td>\n",
       "      <td>0.3613</td>\n",
       "      <td>0.08758</td>\n",
       "      <td>0</td>\n",
       "    </tr>\n",
       "    <tr>\n",
       "      <th>3</th>\n",
       "      <td>11.42</td>\n",
       "      <td>20.38</td>\n",
       "      <td>77.58</td>\n",
       "      <td>386.1</td>\n",
       "      <td>0.14250</td>\n",
       "      <td>0.28390</td>\n",
       "      <td>0.2414</td>\n",
       "      <td>0.10520</td>\n",
       "      <td>0.2597</td>\n",
       "      <td>0.09744</td>\n",
       "      <td>...</td>\n",
       "      <td>26.50</td>\n",
       "      <td>98.87</td>\n",
       "      <td>567.7</td>\n",
       "      <td>0.2098</td>\n",
       "      <td>0.8663</td>\n",
       "      <td>0.6869</td>\n",
       "      <td>0.2575</td>\n",
       "      <td>0.6638</td>\n",
       "      <td>0.17300</td>\n",
       "      <td>0</td>\n",
       "    </tr>\n",
       "    <tr>\n",
       "      <th>4</th>\n",
       "      <td>20.29</td>\n",
       "      <td>14.34</td>\n",
       "      <td>135.10</td>\n",
       "      <td>1297.0</td>\n",
       "      <td>0.10030</td>\n",
       "      <td>0.13280</td>\n",
       "      <td>0.1980</td>\n",
       "      <td>0.10430</td>\n",
       "      <td>0.1809</td>\n",
       "      <td>0.05883</td>\n",
       "      <td>...</td>\n",
       "      <td>16.67</td>\n",
       "      <td>152.20</td>\n",
       "      <td>1575.0</td>\n",
       "      <td>0.1374</td>\n",
       "      <td>0.2050</td>\n",
       "      <td>0.4000</td>\n",
       "      <td>0.1625</td>\n",
       "      <td>0.2364</td>\n",
       "      <td>0.07678</td>\n",
       "      <td>0</td>\n",
       "    </tr>\n",
       "  </tbody>\n",
       "</table>\n",
       "<p>5 rows × 31 columns</p>\n",
       "</div>"
      ],
      "text/plain": [
       "   mean radius  mean texture  mean perimeter  mean area  mean smoothness  \\\n",
       "0        17.99         10.38          122.80     1001.0          0.11840   \n",
       "1        20.57         17.77          132.90     1326.0          0.08474   \n",
       "2        19.69         21.25          130.00     1203.0          0.10960   \n",
       "3        11.42         20.38           77.58      386.1          0.14250   \n",
       "4        20.29         14.34          135.10     1297.0          0.10030   \n",
       "\n",
       "   mean compactness  mean concavity  mean concave points  mean symmetry  \\\n",
       "0           0.27760          0.3001              0.14710         0.2419   \n",
       "1           0.07864          0.0869              0.07017         0.1812   \n",
       "2           0.15990          0.1974              0.12790         0.2069   \n",
       "3           0.28390          0.2414              0.10520         0.2597   \n",
       "4           0.13280          0.1980              0.10430         0.1809   \n",
       "\n",
       "   mean fractal dimension  ...  worst texture  worst perimeter  worst area  \\\n",
       "0                 0.07871  ...          17.33           184.60      2019.0   \n",
       "1                 0.05667  ...          23.41           158.80      1956.0   \n",
       "2                 0.05999  ...          25.53           152.50      1709.0   \n",
       "3                 0.09744  ...          26.50            98.87       567.7   \n",
       "4                 0.05883  ...          16.67           152.20      1575.0   \n",
       "\n",
       "   worst smoothness  worst compactness  worst concavity  worst concave points  \\\n",
       "0            0.1622             0.6656           0.7119                0.2654   \n",
       "1            0.1238             0.1866           0.2416                0.1860   \n",
       "2            0.1444             0.4245           0.4504                0.2430   \n",
       "3            0.2098             0.8663           0.6869                0.2575   \n",
       "4            0.1374             0.2050           0.4000                0.1625   \n",
       "\n",
       "   worst symmetry  worst fractal dimension  target  \n",
       "0          0.4601                  0.11890       0  \n",
       "1          0.2750                  0.08902       0  \n",
       "2          0.3613                  0.08758       0  \n",
       "3          0.6638                  0.17300       0  \n",
       "4          0.2364                  0.07678       0  \n",
       "\n",
       "[5 rows x 31 columns]"
      ]
     },
     "execution_count": 5,
     "metadata": {},
     "output_type": "execute_result"
    }
   ],
   "source": [
    "gen_data_run.output(\"dataset\").as_df().head()"
   ]
  },
  {
   "cell_type": "code",
   "execution_count": 6,
   "id": "c7c5faba-a35d-4f6c-9631-4f72df3db5cd",
   "metadata": {},
   "outputs": [
    {
     "name": "stdout",
     "output_type": "stream",
     "text": [
      "Writing train-model.py\n"
     ]
    }
   ],
   "source": [
    "%%writefile train-model.py\n",
    "\n",
    "\n",
    "import pandas as pd\n",
    "from sklearn.datasets import load_breast_cancer\n",
    "from sklearn.model_selection import train_test_split\n",
    "\n",
    "from digitalhub_runtime_python import handler\n",
    "from sklearn.svm import SVC\n",
    "from pickle import dump\n",
    "import sklearn.metrics\n",
    "import os\n",
    "\n",
    "@handler(outputs=[\"dataset\"])\n",
    "def train(project, di):\n",
    "\n",
    "    df_cancer = di.as_df()\n",
    "    X = df_cancer.drop(['target'],axis=1)\n",
    "    y = df_cancer['target']\n",
    "    X_train, X_test, y_train, y_test = train_test_split(X, y, test_size = 0.20, random_state=5)\n",
    "    svc_model = SVC()\n",
    "    svc_model.fit(X_train, y_train)\n",
    "    y_predict = svc_model.predict(X_test)\n",
    "\n",
    "    if not os.path.exists(\"model\"):\n",
    "        os.makedirs(\"model\")\n",
    "\n",
    "    with open(\"model/cancer_classifier.pkl\", \"wb\") as f:\n",
    "        dump(svc_model, f, protocol=5)\n",
    "\n",
    "    metrics = {\n",
    "        \"f1_score\": sklearn.metrics.f1_score(y_test, y_predict),\n",
    "        \"accuracy\": sklearn.metrics.accuracy_score(y_test, y_predict),\n",
    "        \"precision\": sklearn.metrics.precision_score(y_test, y_predict),\n",
    "        \"recall\": sklearn.metrics.recall_score(y_test, y_predict),\n",
    "    }\n",
    "    project.log_model(\n",
    "            name=\"cancer_classifier\",\n",
    "            kind=\"sklearn\",\n",
    "            source=\"./model/\",\n",
    "            metrics=metrics\n",
    "    )"
   ]
  },
  {
   "cell_type": "code",
   "execution_count": 7,
   "id": "34f5800e-6639-4d68-8861-5bb95c67d9d4",
   "metadata": {},
   "outputs": [],
   "source": [
    "train_fn = project.new_function(name=\"train\",\n",
    "                                kind=\"python\",\n",
    "                                python_version=\"PYTHON3_10\",\n",
    "                                code_src=\"train-model.py\",\n",
    "                                handler=\"train\",\n",
    "                                requirements=[\"scikit-learn==1.2.2\"])"
   ]
  },
  {
   "cell_type": "code",
   "execution_count": 8,
   "id": "36e8e52c-800b-4a5f-a54b-d3c1d7c28680",
   "metadata": {},
   "outputs": [],
   "source": [
    "train_run = train_fn.run(action=\"job\", inputs={\"di\": gen_data_run.output(\"dataset\").key})"
   ]
  },
  {
   "cell_type": "code",
   "execution_count": 9,
   "id": "f714cb71-3423-4c19-ab54-db064609890b",
   "metadata": {},
   "outputs": [
    {
     "data": {
      "text/plain": [
       "'s3://datalake/demo-ml/model/cancer_classifier/399c2616-6670-4733-9905-5860a04dc32b/'"
      ]
     },
     "execution_count": 9,
     "metadata": {},
     "output_type": "execute_result"
    }
   ],
   "source": [
    "model = project.get_model(\"cancer_classifier\")\n",
    "model.spec.path"
   ]
  },
  {
   "cell_type": "code",
   "execution_count": 10,
   "id": "98e11185-354b-43ab-9942-9091126bfda5",
   "metadata": {},
   "outputs": [],
   "source": [
    "func = project.new_function(name=\"serve_sklearnmodel\",\n",
    "                            kind=\"sklearnserve\",\n",
    "                            path=model.spec.path + 'model/cancer_classifier.pkl')\n",
    "\n",
    "serve_run = func.run(action=\"serve\")"
   ]
  },
  {
   "cell_type": "markdown",
   "id": "12267dae-c0cb-412a-800b-c22f50796d3b",
   "metadata": {},
   "source": [
    "Let us wait till the 'serve' is finished "
   ]
  },
  {
   "cell_type": "code",
   "execution_count": 12,
   "id": "c1529c1c-cdc8-48d0-8b5c-89ea88b7b516",
   "metadata": {},
   "outputs": [
    {
     "data": {
      "text/plain": [
       "{'state': 'RUNNING', 'message': 'deployment d-sklearnserveserve-99ca4848-ee96-4cb4-8b42-5923b8e191f8 created, service s-sklearnserveserve-99ca4848-ee96-4cb4-8b42-5923b8e191f8 created', 'transitions': [{'status': 'RUNNING', 'message': 'deployment d-sklearnserveserve-99ca4848-ee96-4cb4-8b42-5923b8e191f8 created, service s-sklearnserveserve-99ca4848-ee96-4cb4-8b42-5923b8e191f8 created', 'time': '2024-10-23T09:19:26.572298488Z'}, {'status': 'READY', 'time': '2024-10-23T09:19:26.377441728Z'}, {'status': 'BUILT', 'time': '2024-10-23T09:19:26.352119443Z'}], 'k8s': {'pods': [{'metadata': {'creationTimestamp': 1729675166.0, 'generateName': 'd-sklearnserveserve-99ca4848-ee96-4cb4-8b42-5923b8e191f8-59f585577b-', 'labels': {'app.kubernetes.io/instance': 'dhcore-99ca4848-ee96-4cb4-8b42-5923b8e191f8', 'app.kubernetes.io/managed-by': 'dhcore', 'app.kubernetes.io/part-of': 'dhcore-demo-ml', 'app.kubernetes.io/version': '99ca4848-ee96-4cb4-8b42-5923b8e191f8', 'dhcore/framework': 'k8sserve', 'dhcore/function': 'serve_sklearnmodel', 'dhcore/project': 'demo-ml', 'dhcore/runtime': 'sklearnserve', 'pod-template-hash': '59f585577b'}, 'managedFields': [{'apiVersion': 'v1', 'fieldsType': 'FieldsV1', 'manager': 'kube-controller-manager', 'operation': 'Update', 'time': 1729675166.0}, {'apiVersion': 'v1', 'fieldsType': 'FieldsV1', 'manager': 'kubelet', 'operation': 'Update', 'subresource': 'status', 'time': 1729675195.0}], 'name': 'd-sklearnserveserve-99ca4848-ee96-4cb4-8b42-5923b8e191f8-5sg2p8', 'namespace': 'digitalhub-tenant1', 'ownerReferences': [{'apiVersion': 'apps/v1', 'blockOwnerDeletion': True, 'controller': True, 'kind': 'ReplicaSet', 'name': 'd-sklearnserveserve-99ca4848-ee96-4cb4-8b42-5923b8e191f8-59f585577b', 'uid': '7ef38cc0-aa38-46be-a91b-1c2512521d83'}], 'resourceVersion': '227375', 'uid': 'e0fc882f-ade8-4da3-9c40-ee66123fc353'}, 'spec': {'containers': [{'args': ['start', '/shared/'], 'command': ['mlserver'], 'env': [{'name': 'DH_RUN_SECRET_NAME', 'value': 'sec-sklearnserveserve-99ca4848-ee96-4cb4-8b42-5923b8e191f8'}, {'name': 'DHCORE_ACCESS_TOKEN', 'valueFrom': {'secretKeyRef': {'key': 'DHCORE_ACCESS_TOKEN', 'name': 'sec-sklearnserveserve-99ca4848-ee96-4cb4-8b42-5923b8e191f8'}}}, {'name': 'DHCORE_REFRESH_TOKEN', 'valueFrom': {'secretKeyRef': {'key': 'DHCORE_REFRESH_TOKEN', 'name': 'sec-sklearnserveserve-99ca4848-ee96-4cb4-8b42-5923b8e191f8'}}}, {'name': 'DHCORE_CLIENT_ID', 'valueFrom': {'secretKeyRef': {'key': 'DHCORE_CLIENT_ID', 'name': 'sec-sklearnserveserve-99ca4848-ee96-4cb4-8b42-5923b8e191f8'}}}, {'name': 'DHCORE_TOKEN_TYPE', 'valueFrom': {'secretKeyRef': {'key': 'DHCORE_TOKEN_TYPE', 'name': 'sec-sklearnserveserve-99ca4848-ee96-4cb4-8b42-5923b8e191f8'}}}, {'name': 'DHCORE_ISSUER', 'valueFrom': {'secretKeyRef': {'key': 'DHCORE_ISSUER', 'name': 'sec-sklearnserveserve-99ca4848-ee96-4cb4-8b42-5923b8e191f8'}}}, {'name': 'PROJECT_NAME', 'value': 'demo-ml'}, {'name': 'DHCORE_EXPIRES_IN', 'valueFrom': {'secretKeyRef': {'key': 'DHCORE_EXPIRES_IN', 'name': 'sec-sklearnserveserve-99ca4848-ee96-4cb4-8b42-5923b8e191f8'}}}, {'name': 'RUN_ID', 'value': '99ca4848-ee96-4cb4-8b42-5923b8e191f8'}], 'envFrom': [{'configMapRef': {'name': 'digitalhub-common-env'}}, {'secretRef': {'name': 'digitalhub-common-creds'}}], 'image': 'seldonio/mlserver:1.6.0-sklearn', 'imagePullPolicy': 'IfNotPresent', 'name': 'c-sklearnserveserve-99ca4848-ee96-4cb4-8b42-5923b8e191f8', 'securityContext': {'allowPrivilegeEscalation': False, 'privileged': False, 'runAsNonRoot': True}, 'terminationMessagePath': '/dev/termination-log', 'terminationMessagePolicy': 'File', 'volumeMounts': [{'mountPath': '/shared', 'name': 'shared-dir'}, {'mountPath': '/init-config-map', 'name': 'init-config-map'}, {'mountPath': '/var/run/secrets/kubernetes.io/serviceaccount', 'name': 'kube-api-access-ldcw4', 'readOnly': True}]}], 'dnsPolicy': 'ClusterFirst', 'enableServiceLinks': True, 'imagePullSecrets': [{'name': 'registry-credentials'}], 'initContainers': [{'command': ['/bin/bash', '-c', '/app/builder-tool.sh'], 'env': [{'name': 'DH_RUN_SECRET_NAME', 'value': 'sec-sklearnserveserve-99ca4848-ee96-4cb4-8b42-5923b8e191f8'}, {'name': 'DHCORE_ACCESS_TOKEN', 'valueFrom': {'secretKeyRef': {'key': 'DHCORE_ACCESS_TOKEN', 'name': 'sec-sklearnserveserve-99ca4848-ee96-4cb4-8b42-5923b8e191f8'}}}, {'name': 'DHCORE_REFRESH_TOKEN', 'valueFrom': {'secretKeyRef': {'key': 'DHCORE_REFRESH_TOKEN', 'name': 'sec-sklearnserveserve-99ca4848-ee96-4cb4-8b42-5923b8e191f8'}}}, {'name': 'DHCORE_CLIENT_ID', 'valueFrom': {'secretKeyRef': {'key': 'DHCORE_CLIENT_ID', 'name': 'sec-sklearnserveserve-99ca4848-ee96-4cb4-8b42-5923b8e191f8'}}}, {'name': 'DHCORE_TOKEN_TYPE', 'valueFrom': {'secretKeyRef': {'key': 'DHCORE_TOKEN_TYPE', 'name': 'sec-sklearnserveserve-99ca4848-ee96-4cb4-8b42-5923b8e191f8'}}}, {'name': 'DHCORE_ISSUER', 'valueFrom': {'secretKeyRef': {'key': 'DHCORE_ISSUER', 'name': 'sec-sklearnserveserve-99ca4848-ee96-4cb4-8b42-5923b8e191f8'}}}, {'name': 'PROJECT_NAME', 'value': 'demo-ml'}, {'name': 'DHCORE_EXPIRES_IN', 'valueFrom': {'secretKeyRef': {'key': 'DHCORE_EXPIRES_IN', 'name': 'sec-sklearnserveserve-99ca4848-ee96-4cb4-8b42-5923b8e191f8'}}}, {'name': 'RUN_ID', 'value': '99ca4848-ee96-4cb4-8b42-5923b8e191f8'}], 'envFrom': [{'configMapRef': {'name': 'digitalhub-common-env'}}, {'secretRef': {'name': 'digitalhub-common-creds'}}], 'image': 'ghcr.io/scc-digitalhub/digitalhub-core-builder-tool:07b4667e', 'imagePullPolicy': 'IfNotPresent', 'name': 'init-container-99ca4848-ee96-4cb4-8b42-5923b8e191f8', 'terminationMessagePath': '/dev/termination-log', 'terminationMessagePolicy': 'File', 'volumeMounts': [{'mountPath': '/shared', 'name': 'shared-dir'}, {'mountPath': '/init-config-map', 'name': 'init-config-map'}, {'mountPath': '/var/run/secrets/kubernetes.io/serviceaccount', 'name': 'kube-api-access-ldcw4', 'readOnly': True}]}], 'nodeName': 'digitalhub-dev-md-0-l4bmb-z5v5s', 'preemptionPolicy': 'PreemptLowerPriority', 'priority': 0, 'restartPolicy': 'Always', 'schedulerName': 'default-scheduler', 'securityContext': {'runAsNonRoot': True}, 'serviceAccount': 'default', 'serviceAccountName': 'default', 'terminationGracePeriodSeconds': 30, 'tolerations': [{'effect': 'NoExecute', 'key': 'node.kubernetes.io/not-ready', 'operator': 'Exists', 'tolerationSeconds': 300}, {'effect': 'NoExecute', 'key': 'node.kubernetes.io/unreachable', 'operator': 'Exists', 'tolerationSeconds': 300}], 'volumes': [{'emptyDir': {'sizeLimit': {'number': 104857600, 'format': 'BINARY_SI'}}, 'name': 'shared-dir'}, {'configMap': {'defaultMode': 420, 'name': 'init-config-map-99ca4848-ee96-4cb4-8b42-5923b8e191f8'}, 'name': 'init-config-map'}, {'name': 'kube-api-access-ldcw4', 'projected': {'defaultMode': 420, 'sources': [{'serviceAccountToken': {'expirationSeconds': 3607, 'path': 'token'}}, {'configMap': {'items': [{'key': 'ca.crt', 'path': 'ca.crt'}], 'name': 'kube-root-ca.crt'}}, {'downwardAPI': {'items': [{'fieldRef': {'apiVersion': 'v1', 'fieldPath': 'metadata.namespace'}, 'path': 'namespace'}]}}]}}]}, 'status': {'conditions': [{'lastTransitionTime': 1729675167.0, 'status': 'True', 'type': 'PodReadyToStartContainers'}, {'lastTransitionTime': 1729675168.0, 'status': 'True', 'type': 'Initialized'}, {'lastTransitionTime': 1729675195.0, 'status': 'True', 'type': 'Ready'}, {'lastTransitionTime': 1729675195.0, 'status': 'True', 'type': 'ContainersReady'}, {'lastTransitionTime': 1729675166.0, 'status': 'True', 'type': 'PodScheduled'}], 'containerStatuses': [{'containerID': 'containerd://25f4e4c99db8e480050989906ffd7910e4191002eee6ca205dd263364f128588', 'image': 'docker.io/seldonio/mlserver:1.6.0-sklearn', 'imageID': 'docker.io/seldonio/mlserver@sha256:51e938702ab6ecc38fd6f6a66e89d2e834b541856f593270de9d3ffe9fd5af26', 'name': 'c-sklearnserveserve-99ca4848-ee96-4cb4-8b42-5923b8e191f8', 'ready': True, 'restartCount': 0, 'started': True, 'state': {'running': {'startedAt': 1729675195.0}}}], 'hostIP': '10.1.0.4', 'hostIPs': [{'ip': '10.1.0.4'}], 'initContainerStatuses': [{'containerID': 'containerd://9d2768031a7860ee026c08d6acf0ec1fb4462037b8db9f421ef107afe55169ca', 'image': 'ghcr.io/scc-digitalhub/digitalhub-core-builder-tool:07b4667e', 'imageID': 'ghcr.io/scc-digitalhub/digitalhub-core-builder-tool@sha256:a6928f4af6a27a0f2d4a2fe2d09f3cbcaff2bdb03156b4eee4f3f24673642009', 'name': 'init-container-99ca4848-ee96-4cb4-8b42-5923b8e191f8', 'ready': True, 'restartCount': 0, 'started': False, 'state': {'terminated': {'containerID': 'containerd://9d2768031a7860ee026c08d6acf0ec1fb4462037b8db9f421ef107afe55169ca', 'exitCode': 0, 'finishedAt': 1729675167.0, 'reason': 'Completed', 'startedAt': 1729675167.0}}}], 'phase': 'Running', 'podIP': '192.168.1.96', 'podIPs': [{'ip': '192.168.1.96'}], 'qosClass': 'BestEffort', 'startTime': 1729675166.0}}], 'secret': {'secret': {'apiVersion': 'v1', 'kind': 'Secret', 'metadata': {'labels': {'dhcore/framework': 'k8sserve', 'app.kubernetes.io/managed-by': 'dhcore', 'dhcore/function': 'serve_sklearnmodel', 'app.kubernetes.io/part-of': 'dhcore-demo-ml', 'dhcore/project': 'demo-ml', 'dhcore/runtime': 'sklearnserve', 'app.kubernetes.io/version': '99ca4848-ee96-4cb4-8b42-5923b8e191f8', 'app.kubernetes.io/instance': 'dhcore-99ca4848-ee96-4cb4-8b42-5923b8e191f8'}, 'name': 'sec-sklearnserveserve-99ca4848-ee96-4cb4-8b42-5923b8e191f8', 'namespace': 'digitalhub-tenant1'}}}, 'configMap': {'configMap': {'metadata': {'labels': {'dhcore/framework': 'k8sserve', 'app.kubernetes.io/managed-by': 'dhcore', 'dhcore/function': 'serve_sklearnmodel', 'app.kubernetes.io/part-of': 'dhcore-demo-ml', 'dhcore/project': 'demo-ml', 'dhcore/runtime': 'sklearnserve', 'app.kubernetes.io/version': '99ca4848-ee96-4cb4-8b42-5923b8e191f8', 'app.kubernetes.io/instance': 'dhcore-99ca4848-ee96-4cb4-8b42-5923b8e191f8'}, 'name': 'init-config-map-99ca4848-ee96-4cb4-8b42-5923b8e191f8'}}}, 'service': {'metadata': {'creationTimestamp': 1729675166.0, 'labels': {'app.kubernetes.io/instance': 'dhcore-99ca4848-ee96-4cb4-8b42-5923b8e191f8', 'app.kubernetes.io/managed-by': 'dhcore', 'app.kubernetes.io/part-of': 'dhcore-demo-ml', 'app.kubernetes.io/version': '99ca4848-ee96-4cb4-8b42-5923b8e191f8', 'dhcore/framework': 'k8sserve', 'dhcore/function': 'serve_sklearnmodel', 'dhcore/project': 'demo-ml', 'dhcore/runtime': 'sklearnserve'}, 'managedFields': [{'apiVersion': 'v1', 'fieldsType': 'FieldsV1', 'manager': 'Kubernetes Java Client', 'operation': 'Update', 'time': 1729675166.0}], 'name': 's-sklearnserveserve-99ca4848-ee96-4cb4-8b42-5923b8e191f8', 'namespace': 'digitalhub-tenant1', 'resourceVersion': '226905', 'uid': '2549cf00-5c10-4668-a01f-564c1b4bbf44'}, 'apiVersion': 'v1', 'kind': 'Service', 'spec': {'clusterIP': '10.100.104.198', 'clusterIPs': ['10.100.104.198'], 'externalTrafficPolicy': 'Cluster', 'internalTrafficPolicy': 'Cluster', 'ipFamilies': ['IPv4'], 'ipFamilyPolicy': 'SingleStack', 'ports': [{'name': 'port8080', 'nodePort': 30262, 'port': 8080, 'protocol': 'TCP', 'targetPort': 8080}, {'name': 'port8081', 'nodePort': 30588, 'port': 8081, 'protocol': 'TCP', 'targetPort': 8081}], 'selector': {'app.kubernetes.io/instance': 'dhcore-99ca4848-ee96-4cb4-8b42-5923b8e191f8', 'app.kubernetes.io/managed-by': 'dhcore', 'app.kubernetes.io/part-of': 'dhcore-demo-ml', 'app.kubernetes.io/version': '99ca4848-ee96-4cb4-8b42-5923b8e191f8', 'dhcore/framework': 'k8sserve', 'dhcore/function': 'serve_sklearnmodel', 'dhcore/project': 'demo-ml', 'dhcore/runtime': 'sklearnserve'}, 'sessionAffinity': 'None', 'type': 'NodePort'}}, 'deployment': {'metadata': {'annotations': {'deployment.kubernetes.io/revision': '1'}, 'creationTimestamp': 1729675166.0, 'generation': 1, 'labels': {'app.kubernetes.io/instance': 'dhcore-99ca4848-ee96-4cb4-8b42-5923b8e191f8', 'app.kubernetes.io/managed-by': 'dhcore', 'app.kubernetes.io/part-of': 'dhcore-demo-ml', 'app.kubernetes.io/version': '99ca4848-ee96-4cb4-8b42-5923b8e191f8', 'dhcore/framework': 'k8sserve', 'dhcore/function': 'serve_sklearnmodel', 'dhcore/project': 'demo-ml', 'dhcore/runtime': 'sklearnserve'}, 'managedFields': [{'apiVersion': 'apps/v1', 'fieldsType': 'FieldsV1', 'manager': 'Kubernetes Java Client', 'operation': 'Update', 'time': 1729675166.0}, {'apiVersion': 'apps/v1', 'fieldsType': 'FieldsV1', 'manager': 'kube-controller-manager', 'operation': 'Update', 'subresource': 'status', 'time': 1729675195.0}], 'name': 'd-sklearnserveserve-99ca4848-ee96-4cb4-8b42-5923b8e191f8', 'namespace': 'digitalhub-tenant1', 'resourceVersion': '227379', 'uid': '925e4414-cffe-48ed-82ee-bf5de6e6c69d'}, 'apiVersion': 'apps/v1', 'kind': 'Deployment', 'spec': {'progressDeadlineSeconds': 600, 'replicas': 1, 'revisionHistoryLimit': 10, 'selector': {'matchLabels': {'app.kubernetes.io/instance': 'dhcore-99ca4848-ee96-4cb4-8b42-5923b8e191f8', 'app.kubernetes.io/managed-by': 'dhcore', 'app.kubernetes.io/part-of': 'dhcore-demo-ml', 'app.kubernetes.io/version': '99ca4848-ee96-4cb4-8b42-5923b8e191f8', 'dhcore/framework': 'k8sserve', 'dhcore/function': 'serve_sklearnmodel', 'dhcore/project': 'demo-ml', 'dhcore/runtime': 'sklearnserve'}}, 'strategy': {'rollingUpdate': {'maxSurge': '25%', 'maxUnavailable': '25%'}, 'type': 'RollingUpdate'}, 'template': {'metadata': {'labels': {'app.kubernetes.io/instance': 'dhcore-99ca4848-ee96-4cb4-8b42-5923b8e191f8', 'app.kubernetes.io/managed-by': 'dhcore', 'app.kubernetes.io/part-of': 'dhcore-demo-ml', 'app.kubernetes.io/version': '99ca4848-ee96-4cb4-8b42-5923b8e191f8', 'dhcore/framework': 'k8sserve', 'dhcore/function': 'serve_sklearnmodel', 'dhcore/project': 'demo-ml', 'dhcore/runtime': 'sklearnserve'}, 'name': 'd-sklearnserveserve-99ca4848-ee96-4cb4-8b42-5923b8e191f8'}, 'spec': {'containers': [{'args': ['start', '/shared/'], 'command': ['mlserver'], 'env': [{'name': 'DH_RUN_SECRET_NAME', 'value': 'sec-sklearnserveserve-99ca4848-ee96-4cb4-8b42-5923b8e191f8'}, {'name': 'DHCORE_ACCESS_TOKEN', 'valueFrom': {'secretKeyRef': {'key': 'DHCORE_ACCESS_TOKEN', 'name': 'sec-sklearnserveserve-99ca4848-ee96-4cb4-8b42-5923b8e191f8'}}}, {'name': 'DHCORE_REFRESH_TOKEN', 'valueFrom': {'secretKeyRef': {'key': 'DHCORE_REFRESH_TOKEN', 'name': 'sec-sklearnserveserve-99ca4848-ee96-4cb4-8b42-5923b8e191f8'}}}, {'name': 'DHCORE_CLIENT_ID', 'valueFrom': {'secretKeyRef': {'key': 'DHCORE_CLIENT_ID', 'name': 'sec-sklearnserveserve-99ca4848-ee96-4cb4-8b42-5923b8e191f8'}}}, {'name': 'DHCORE_TOKEN_TYPE', 'valueFrom': {'secretKeyRef': {'key': 'DHCORE_TOKEN_TYPE', 'name': 'sec-sklearnserveserve-99ca4848-ee96-4cb4-8b42-5923b8e191f8'}}}, {'name': 'DHCORE_ISSUER', 'valueFrom': {'secretKeyRef': {'key': 'DHCORE_ISSUER', 'name': 'sec-sklearnserveserve-99ca4848-ee96-4cb4-8b42-5923b8e191f8'}}}, {'name': 'PROJECT_NAME', 'value': 'demo-ml'}, {'name': 'DHCORE_EXPIRES_IN', 'valueFrom': {'secretKeyRef': {'key': 'DHCORE_EXPIRES_IN', 'name': 'sec-sklearnserveserve-99ca4848-ee96-4cb4-8b42-5923b8e191f8'}}}, {'name': 'RUN_ID', 'value': '99ca4848-ee96-4cb4-8b42-5923b8e191f8'}], 'envFrom': [{'configMapRef': {'name': 'digitalhub-common-env'}}, {'secretRef': {'name': 'digitalhub-common-creds'}}], 'image': 'seldonio/mlserver:1.6.0-sklearn', 'imagePullPolicy': 'IfNotPresent', 'name': 'c-sklearnserveserve-99ca4848-ee96-4cb4-8b42-5923b8e191f8', 'securityContext': {'allowPrivilegeEscalation': False, 'privileged': False, 'runAsNonRoot': True}, 'terminationMessagePath': '/dev/termination-log', 'terminationMessagePolicy': 'File', 'volumeMounts': [{'mountPath': '/shared', 'name': 'shared-dir'}, {'mountPath': '/init-config-map', 'name': 'init-config-map'}]}], 'dnsPolicy': 'ClusterFirst', 'imagePullSecrets': [{'name': 'registry-credentials'}], 'initContainers': [{'command': ['/bin/bash', '-c', '/app/builder-tool.sh'], 'env': [{'name': 'DH_RUN_SECRET_NAME', 'value': 'sec-sklearnserveserve-99ca4848-ee96-4cb4-8b42-5923b8e191f8'}, {'name': 'DHCORE_ACCESS_TOKEN', 'valueFrom': {'secretKeyRef': {'key': 'DHCORE_ACCESS_TOKEN', 'name': 'sec-sklearnserveserve-99ca4848-ee96-4cb4-8b42-5923b8e191f8'}}}, {'name': 'DHCORE_REFRESH_TOKEN', 'valueFrom': {'secretKeyRef': {'key': 'DHCORE_REFRESH_TOKEN', 'name': 'sec-sklearnserveserve-99ca4848-ee96-4cb4-8b42-5923b8e191f8'}}}, {'name': 'DHCORE_CLIENT_ID', 'valueFrom': {'secretKeyRef': {'key': 'DHCORE_CLIENT_ID', 'name': 'sec-sklearnserveserve-99ca4848-ee96-4cb4-8b42-5923b8e191f8'}}}, {'name': 'DHCORE_TOKEN_TYPE', 'valueFrom': {'secretKeyRef': {'key': 'DHCORE_TOKEN_TYPE', 'name': 'sec-sklearnserveserve-99ca4848-ee96-4cb4-8b42-5923b8e191f8'}}}, {'name': 'DHCORE_ISSUER', 'valueFrom': {'secretKeyRef': {'key': 'DHCORE_ISSUER', 'name': 'sec-sklearnserveserve-99ca4848-ee96-4cb4-8b42-5923b8e191f8'}}}, {'name': 'PROJECT_NAME', 'value': 'demo-ml'}, {'name': 'DHCORE_EXPIRES_IN', 'valueFrom': {'secretKeyRef': {'key': 'DHCORE_EXPIRES_IN', 'name': 'sec-sklearnserveserve-99ca4848-ee96-4cb4-8b42-5923b8e191f8'}}}, {'name': 'RUN_ID', 'value': '99ca4848-ee96-4cb4-8b42-5923b8e191f8'}], 'envFrom': [{'configMapRef': {'name': 'digitalhub-common-env'}}, {'secretRef': {'name': 'digitalhub-common-creds'}}], 'image': 'ghcr.io/scc-digitalhub/digitalhub-core-builder-tool:07b4667e', 'imagePullPolicy': 'IfNotPresent', 'name': 'init-container-99ca4848-ee96-4cb4-8b42-5923b8e191f8', 'terminationMessagePath': '/dev/termination-log', 'terminationMessagePolicy': 'File', 'volumeMounts': [{'mountPath': '/shared', 'name': 'shared-dir'}, {'mountPath': '/init-config-map', 'name': 'init-config-map'}]}], 'restartPolicy': 'Always', 'schedulerName': 'default-scheduler', 'securityContext': {'runAsNonRoot': True}, 'terminationGracePeriodSeconds': 30, 'volumes': [{'emptyDir': {'sizeLimit': {'number': 104857600, 'format': 'BINARY_SI'}}, 'name': 'shared-dir'}, {'configMap': {'defaultMode': 420, 'name': 'init-config-map-99ca4848-ee96-4cb4-8b42-5923b8e191f8'}, 'name': 'init-config-map'}]}}}, 'status': {'availableReplicas': 1, 'conditions': [{'lastTransitionTime': 1729675195.0, 'lastUpdateTime': 1729675195.0, 'message': 'Deployment has minimum availability.', 'reason': 'MinimumReplicasAvailable', 'status': 'True', 'type': 'Available'}, {'lastTransitionTime': 1729675166.0, 'lastUpdateTime': 1729675195.0, 'message': 'ReplicaSet \"d-sklearnserveserve-99ca4848-ee96-4cb4-8b42-5923b8e191f8-59f585577b\" has successfully progressed.', 'reason': 'NewReplicaSetAvailable', 'status': 'True', 'type': 'Progressing'}], 'observedGeneration': 1, 'readyReplicas': 1, 'replicas': 1, 'updatedReplicas': 1}}}, 'service': {'name': 's-sklearnserveserve-99ca4848-ee96-4cb4-8b42-5923b8e191f8', 'namespace': 'digitalhub-tenant1', 'type': 'NodePort', 'clusterIP': '10.100.104.198', 'ports': [{'name': 'port8080', 'nodePort': 30262, 'port': 8080, 'protocol': 'TCP', 'targetPort': 8080}, {'name': 'port8081', 'nodePort': 30588, 'port': 8081, 'protocol': 'TCP', 'targetPort': 8081}], 'url': 's-sklearnserveserve-99ca4848-ee96-4cb4-8b42-5923b8e191f8.digitalhub-tenant1:8080', 'urls': ['s-sklearnserveserve-99ca4848-ee96-4cb4-8b42-5923b8e191f8.digitalhub-tenant1:8080', 's-sklearnserveserve-99ca4848-ee96-4cb4-8b42-5923b8e191f8.digitalhub-tenant1:8081']}}"
      ]
     },
     "execution_count": 12,
     "metadata": {},
     "output_type": "execute_result"
    }
   ],
   "source": [
    "serve_run.refresh().status"
   ]
  },
  {
   "cell_type": "code",
   "execution_count": 11,
   "id": "870cd574-80b7-44fe-ad32-1c1c0cece781",
   "metadata": {},
   "outputs": [],
   "source": [
    "import numpy as np\n",
    "\n",
    "data = np.random.rand(2, 30).tolist()\n",
    "json = {\n",
    "    \"inputs\": [\n",
    "        {\n",
    "        \"name\": \"input-0\",\n",
    "        \"shape\": [2, 30],\n",
    "        \"datatype\": \"FP32\",\n",
    "        \"data\": data\n",
    "        }\n",
    "    ]\n",
    "}"
   ]
  },
  {
   "cell_type": "code",
   "execution_count": 13,
   "id": "48461461-68ed-4eaa-8201-035fd47380e2",
   "metadata": {},
   "outputs": [
    {
     "data": {
      "text/plain": [
       "{'model_name': 'model',\n",
       " 'id': '5b3a66a2-3b14-454e-9d36-a38fc1e5056c',\n",
       " 'parameters': {},\n",
       " 'outputs': [{'name': 'predict',\n",
       "   'shape': [2, 1],\n",
       "   'datatype': 'INT64',\n",
       "   'parameters': {'content_type': 'np'},\n",
       "   'data': [1, 1]}]}"
      ]
     },
     "execution_count": 13,
     "metadata": {},
     "output_type": "execute_result"
    }
   ],
   "source": [
    "serve_run.invoke(json=json).json()"
   ]
  },
  {
   "cell_type": "code",
   "execution_count": null,
   "id": "0427ebd9-dca9-4f9c-bde5-78008031fa17",
   "metadata": {},
   "outputs": [],
   "source": []
  }
 ],
 "metadata": {
  "kernelspec": {
   "display_name": "Python 3 (ipykernel)",
   "language": "python",
   "name": "python3"
  },
  "language_info": {
   "codemirror_mode": {
    "name": "ipython",
    "version": 3
   },
   "file_extension": ".py",
   "mimetype": "text/x-python",
   "name": "python",
   "nbconvert_exporter": "python",
   "pygments_lexer": "ipython3",
   "version": "3.10.11"
  }
 },
 "nbformat": 4,
 "nbformat_minor": 5
}
