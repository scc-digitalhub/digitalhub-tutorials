{
 "cells": [
  {
   "cell_type": "code",
   "execution_count": 1,
   "id": "18477cbc-cfc4-465d-9909-23750a5bd452",
   "metadata": {},
   "outputs": [],
   "source": [
    "# %pip install mlflow scikit-learn"
   ]
  },
  {
   "cell_type": "code",
   "execution_count": 2,
   "id": "d5fe676a-3c74-4c5d-913e-9e7c76659499",
   "metadata": {},
   "outputs": [],
   "source": [
    "import digitalhub as dh\n",
    "\n",
    "project = dh.get_or_create_project(\"project-mlflow-model-ci\")"
   ]
  },
  {
   "cell_type": "code",
   "execution_count": 3,
   "id": "3a02add2-83bb-4c29-a347-1ed569919b73",
   "metadata": {},
   "outputs": [],
   "source": [
    "import os\n",
    "directory=\"src\"\n",
    "if not os.path.exists(directory):\n",
    "    os.makedirs(directory)"
   ]
  },
  {
   "cell_type": "code",
   "execution_count": 4,
   "id": "1f2bfe67-17da-4ee1-91cc-f6786e9df21b",
   "metadata": {},
   "outputs": [
    {
     "name": "stdout",
     "output_type": "stream",
     "text": [
      "Writing src/train-model.py\n"
     ]
    }
   ],
   "source": [
    "%%writefile \"src/train-model.py\"\n",
    "\n",
    "from digitalhub_runtime_python import handler\n",
    "from digitalhub import from_mlflow_run\n",
    "import mlflow\n",
    "\n",
    "from sklearn import datasets, svm\n",
    "from sklearn.model_selection import GridSearchCV\n",
    "\n",
    "@handler(outputs=[\"model\"])\n",
    "def train(project):\n",
    "    mlflow.sklearn.autolog(log_datasets=True)\n",
    "\n",
    "    iris = datasets.load_iris()\n",
    "    parameters = {\"kernel\": (\"linear\", \"rbf\"), \"C\": [1, 10]}\n",
    "    svc = svm.SVC()\n",
    "    clf = GridSearchCV(svc, parameters)\n",
    "\n",
    "    clf.fit(iris.data, iris.target)\n",
    "    run_id = mlflow.last_active_run().info.run_id\n",
    "\n",
    "    # utility to map mlflow run artifacts to model metadata\n",
    "    model_params = from_mlflow_run(run_id)\n",
    "\n",
    "    return (project.log_model(\n",
    "        name=\"model-mlflow\",\n",
    "        kind=\"mlflow\",\n",
    "        **model_params\n",
    "))"
   ]
  },
  {
   "cell_type": "code",
   "execution_count": 5,
   "id": "5778b007-b7f9-4810-adfc-bd559eadb85e",
   "metadata": {},
   "outputs": [],
   "source": [
    "train_fn = project.new_function(name=\"train\",\n",
    "                                kind=\"python\",\n",
    "                                python_version=\"PYTHON3_10\",\n",
    "                                code_src=\"src/train-model.py\",\n",
    "                                handler=\"train\",\n",
    "                                requirements=[\"scikit-learn\", \"mlflow\"])"
   ]
  },
  {
   "cell_type": "code",
   "execution_count": 6,
   "id": "dcad2975-f84a-4b95-8ad0-d8c915a39f66",
   "metadata": {},
   "outputs": [],
   "source": [
    "train_model = train_fn.run(action=\"job\", local_execution=False)"
   ]
  },
  {
   "cell_type": "markdown",
   "id": "fb4a65f9-a116-4a49-b0b9-acaef48bace3",
   "metadata": {},
   "source": [
    "Wait until the train model job is completed. One can view the state of run from console or using digitalhub sdk API using"
   ]
  },
  {
   "cell_type": "code",
   "execution_count": 7,
   "id": "3a05e6db-b250-4b05-85f2-c13ad1e6c499",
   "metadata": {},
   "outputs": [],
   "source": [
    "train_model.get_state()"
   ]
  },
  {
   "cell_type": "code",
   "execution_count": 11,
   "id": "acb0860d-5f7a-4578-9972-19c201fec2c8",
   "metadata": {},
   "outputs": [
    {
     "data": {
      "text/plain": [
       "'s3://datalake/project-mlflow-model-ci/model/model-mlflow/a20577a6-58e0-45d2-b793-ac08b57c87db/'"
      ]
     },
     "execution_count": 11,
     "metadata": {},
     "output_type": "execute_result"
    }
   ],
   "source": [
    "model_path=train_model.refresh().output('model').spec.path\n",
    "model_path"
   ]
  },
  {
   "cell_type": "code",
   "execution_count": 12,
   "id": "097479a0-e307-4c2c-bde4-0039f7613400",
   "metadata": {},
   "outputs": [],
   "source": [
    "func = project.new_function(name=\"serve_mlflowmodel\",\n",
    "                            kind=\"mlflowserve\",\n",
    "                            model_name=\"mlflow_model\",\n",
    "                            path=model_path + 'model/')"
   ]
  },
  {
   "cell_type": "code",
   "execution_count": 13,
   "id": "3a3a08cd-2ae8-4e36-a8c4-7dcacf7c1daa",
   "metadata": {},
   "outputs": [
    {
     "name": "stderr",
     "output_type": "stream",
     "text": [
      "2024-10-29 12:13:06,528 - INFO - Waiting for run 0724f9ad-d6d5-4632-89cf-405b9093f608 to deploy service.\n",
      "2024-10-29 12:13:11,634 - INFO - Waiting for run 0724f9ad-d6d5-4632-89cf-405b9093f608 to deploy service.\n",
      "2024-10-29 12:13:11,721 - INFO - Run 0724f9ad-d6d5-4632-89cf-405b9093f608 service deployed.\n"
     ]
    }
   ],
   "source": [
    "serve_run = func.run(action=\"serve\", wait=True)"
   ]
  },
  {
   "cell_type": "markdown",
   "id": "a9930c18-933d-44f6-9782-ed39fe2cf415",
   "metadata": {},
   "source": [
    "Let us wait till the 'serve' is loaded compeletey"
   ]
  },
  {
   "cell_type": "code",
   "execution_count": 14,
   "id": "addc1aaa-40c1-4b82-9713-56fde2134fa4",
   "metadata": {},
   "outputs": [],
   "source": [
    "from sklearn import datasets\n",
    "\n",
    "iris = datasets.load_iris()\n",
    "data = iris.data[0:2].tolist()\n",
    "json={\n",
    "    \"inputs\": [\n",
    "        {\n",
    "        \"name\": \"input-0\",\n",
    "        \"shape\": [-1, 4],\n",
    "        \"datatype\": \"FP64\",\n",
    "        \"data\": data\n",
    "        }\n",
    "    ]\n",
    "}"
   ]
  },
  {
   "cell_type": "code",
   "execution_count": 15,
   "id": "24f6a278-79fe-4e63-8783-45086aa0ee35",
   "metadata": {},
   "outputs": [
    {
     "data": {
      "text/plain": [
       "{'inputs': [{'name': 'input-0',\n",
       "   'shape': [-1, 4],\n",
       "   'datatype': 'FP64',\n",
       "   'data': [[5.1, 3.5, 1.4, 0.2], [4.9, 3.0, 1.4, 0.2]]}]}"
      ]
     },
     "execution_count": 15,
     "metadata": {},
     "output_type": "execute_result"
    }
   ],
   "source": [
    "json"
   ]
  },
  {
   "cell_type": "code",
   "execution_count": 16,
   "id": "0e72d841-3390-4f46-a696-d2e6efafb9d1",
   "metadata": {},
   "outputs": [],
   "source": [
    "# serve_run.invoke(model_name=\"mlflow_model\", json=json).json()"
   ]
  },
  {
   "cell_type": "code",
   "execution_count": 17,
   "id": "f7d3d648-358d-42d2-bfd5-47363c4b95b0",
   "metadata": {},
   "outputs": [
    {
     "data": {
      "text/plain": [
       "'http://s-mlflowserveserve-0724f9ad-d6d5-4632-89cf-405b9093f608.digitalhub-tenant1:8080/v2/models/mlflow_model/infer'"
      ]
     },
     "execution_count": 17,
     "metadata": {},
     "output_type": "execute_result"
    }
   ],
   "source": [
    "service_url = serve_run.refresh().status.to_dict()[\"service\"][\"url\"]\n",
    "url = f\"http://{service_url}/v2/models/mlflow_model/infer\"\n",
    "url"
   ]
  },
  {
   "cell_type": "markdown",
   "id": "c81b8eec-2387-4071-91c9-d7f14d6abc3f",
   "metadata": {},
   "source": [
    "<!-- /v2/models/model/infer -->"
   ]
  },
  {
   "cell_type": "code",
   "execution_count": 18,
   "id": "4a384737-811c-4024-ae51-92cc908d5662",
   "metadata": {},
   "outputs": [
    {
     "data": {
      "text/plain": [
       "{'inputs': [{'name': 'input-0',\n",
       "   'shape': [-1, 4],\n",
       "   'datatype': 'FP64',\n",
       "   'data': [[5.1, 3.5, 1.4, 0.2], [4.9, 3.0, 1.4, 0.2]]}]}"
      ]
     },
     "execution_count": 18,
     "metadata": {},
     "output_type": "execute_result"
    }
   ],
   "source": [
    "from sklearn import datasets\n",
    "\n",
    "iris = datasets.load_iris()\n",
    "data = iris.data[0:2].tolist()\n",
    "json={\n",
    "    \"inputs\": [\n",
    "        {\n",
    "        \"name\": \"input-0\",\n",
    "        \"shape\": [-1, 4],\n",
    "        \"datatype\": \"FP64\",\n",
    "        \"data\": data\n",
    "        }\n",
    "    ]\n",
    "}\n",
    "\n",
    "json"
   ]
  },
  {
   "cell_type": "code",
   "execution_count": 19,
   "id": "26ca0da6-386e-4ad4-b621-5778196233b8",
   "metadata": {},
   "outputs": [],
   "source": [
    "# url = 's-mlflowserveserve-66f056e7-99b9-481e-858d-d9888df35f91.digitalhub-tenant2:8080'"
   ]
  },
  {
   "cell_type": "code",
   "execution_count": 21,
   "id": "fa0d479f-8c7b-4121-bc2c-4f26634259c4",
   "metadata": {},
   "outputs": [
    {
     "data": {
      "text/plain": [
       "{'model_name': 'mlflow_model',\n",
       " 'id': 'fbfe5593-aa84-4c51-9c09-ab93b204344e',\n",
       " 'parameters': {'content_type': 'np'},\n",
       " 'outputs': [{'name': 'output-1',\n",
       "   'shape': [2, 1],\n",
       "   'datatype': 'INT64',\n",
       "   'parameters': {'content_type': 'np'},\n",
       "   'data': [0, 0]}]}"
      ]
     },
     "execution_count": 21,
     "metadata": {},
     "output_type": "execute_result"
    }
   ],
   "source": [
    "serve_run.invoke(url=url, json=json).json()\n",
    "# serve_run.invoke(model_name=\"mlflow_model\", url=url, json=json).json()"
   ]
  },
  {
   "cell_type": "code",
   "execution_count": 22,
   "id": "d098d463-bce7-48c1-bf81-b0a89a8a8cae",
   "metadata": {},
   "outputs": [
    {
     "name": "stdout",
     "output_type": "stream",
     "text": [
      "Writing src/mlflow_pipeline.py\n"
     ]
    }
   ],
   "source": [
    "%%writefile \"src/mlflow_pipeline.py\"\n",
    "\n",
    "from digitalhub_runtime_kfp.dsl import pipeline_context\n",
    "\n",
    "def myhandler(): \n",
    "    with pipeline_context() as pc:\n",
    "        train = pc.step(name=\"train\", function=\"train\", action=\"job\")\n",
    "        #serve = pc.step(name=\"serve\", function=\"serve_mlflowmodel\", action=\"serve\")"
   ]
  },
  {
   "cell_type": "code",
   "execution_count": 23,
   "id": "5979bba2-e9d6-4e94-af80-3dc3afdad3fa",
   "metadata": {},
   "outputs": [],
   "source": [
    "workflow = project.new_workflow(name=\"pipeline_mlflow\", kind=\"kfp\", code_src= \"src/mlflow_pipeline.py\", handler = \"myhandler\")"
   ]
  },
  {
   "cell_type": "code",
   "execution_count": 24,
   "id": "58c428f4-40b7-4f4a-a6f6-8f5fc9ff9383",
   "metadata": {},
   "outputs": [
    {
     "data": {
      "text/plain": [
       "{'kind': 'kfp+run', 'metadata': {'project': 'project-mlflow-model-ci', 'name': 'e72fcd46-9516-4aa0-8702-d2a6895d4a32', 'created': '2024-10-29T12:14:10.694Z', 'updated': '2024-10-29T12:14:10.709Z', 'created_by': 'khurshid@fbk.eu', 'updated_by': 'khurshid@fbk.eu'}, 'spec': {'task': 'kfp+pipeline://project-mlflow-model-ci/pipeline_mlflow:6af9304c-0a11-4827-8f25-4483d8318775', 'local_execution': False, 'function': 'kfp://project-mlflow-model-ci/pipeline_mlflow:6af9304c-0a11-4827-8f25-4483d8318775', 'source': {'source': 'src/mlflow_pipeline.py', 'handler': 'myhandler', 'base64': 'CmZyb20gZGlnaXRhbGh1Yl9ydW50aW1lX2tmcC5kc2wgaW1wb3J0IHBpcGVsaW5lX2NvbnRleHQKCmRlZiBteWhhbmRsZXIoKTogCiAgICB3aXRoIHBpcGVsaW5lX2NvbnRleHQoKSBhcyBwYzoKICAgICAgICB0cmFpbiA9IHBjLnN0ZXAobmFtZT0idHJhaW4iLCBmdW5jdGlvbj0idHJhaW4iLCBhY3Rpb249ImpvYiIpCiAgICAgICAgI3NlcnZlID0gcGMuc3RlcChuYW1lPSJzZXJ2ZSIsIGZ1bmN0aW9uPSJzZXJ2ZV9tbGZsb3dtb2RlbCIsIGFjdGlvbj0ic2VydmUiKQo=', 'lang': 'python'}, 'inputs': {}, 'outputs': {}, 'parameters': {}}, 'status': {'state': 'READY', 'transitions': [{'status': 'READY', 'time': '2024-10-29T12:14:10.709515959Z'}, {'status': 'BUILT', 'time': '2024-10-29T12:14:10.700214222Z'}]}, 'user': 'khurshid@fbk.eu', 'project': 'project-mlflow-model-ci', 'id': 'e72fcd46-9516-4aa0-8702-d2a6895d4a32', 'key': 'store://project-mlflow-model-ci/run/kfp+run/e72fcd46-9516-4aa0-8702-d2a6895d4a32'}"
      ]
     },
     "execution_count": 24,
     "metadata": {},
     "output_type": "execute_result"
    }
   ],
   "source": [
    "workflow.run()"
   ]
  },
  {
   "cell_type": "code",
   "execution_count": null,
   "id": "c847bb89-6f79-43d1-b844-6b2314e21a01",
   "metadata": {},
   "outputs": [],
   "source": []
  }
 ],
 "metadata": {
  "kernelspec": {
   "display_name": "Python 3 (ipykernel)",
   "language": "python",
   "name": "python3"
  },
  "language_info": {
   "codemirror_mode": {
    "name": "ipython",
    "version": 3
   },
   "file_extension": ".py",
   "mimetype": "text/x-python",
   "name": "python",
   "nbconvert_exporter": "python",
   "pygments_lexer": "ipython3",
   "version": "3.10.11"
  }
 },
 "nbformat": 4,
 "nbformat_minor": 5
}
