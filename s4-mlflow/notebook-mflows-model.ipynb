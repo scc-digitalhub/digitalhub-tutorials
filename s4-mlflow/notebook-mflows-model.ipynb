{
 "cells": [
  {
   "cell_type": "code",
   "execution_count": 1,
   "id": "18477cbc-cfc4-465d-9909-23750a5bd452",
   "metadata": {},
   "outputs": [
    {
     "name": "stdout",
     "output_type": "stream",
     "text": [
      "Requirement already satisfied: mlflow in /opt/conda/lib/python3.10/site-packages (2.17.1)\n",
      "Requirement already satisfied: scikit-learn in /opt/conda/lib/python3.10/site-packages (1.5.2)\n",
      "Requirement already satisfied: mlflow-skinny==2.17.1 in /opt/conda/lib/python3.10/site-packages (from mlflow) (2.17.1)\n",
      "Requirement already satisfied: Flask<4 in /opt/conda/lib/python3.10/site-packages (from mlflow) (3.0.3)\n",
      "Requirement already satisfied: alembic!=1.10.0,<2 in /opt/conda/lib/python3.10/site-packages (from mlflow) (1.11.1)\n",
      "Requirement already satisfied: docker<8,>=4.0.0 in /opt/conda/lib/python3.10/site-packages (from mlflow) (7.1.0)\n",
      "Requirement already satisfied: graphene<4 in /opt/conda/lib/python3.10/site-packages (from mlflow) (3.4.1)\n",
      "Requirement already satisfied: markdown<4,>=3.3 in /opt/conda/lib/python3.10/site-packages (from mlflow) (3.7)\n",
      "Requirement already satisfied: matplotlib<4 in /opt/conda/lib/python3.10/site-packages (from mlflow) (3.9.2)\n",
      "Requirement already satisfied: numpy<3 in /opt/conda/lib/python3.10/site-packages (from mlflow) (1.26.4)\n",
      "Requirement already satisfied: pandas<3 in /opt/conda/lib/python3.10/site-packages (from mlflow) (2.1.4)\n",
      "Requirement already satisfied: pyarrow<18,>=4.0.0 in /opt/conda/lib/python3.10/site-packages (from mlflow) (17.0.0)\n",
      "Requirement already satisfied: scipy<2 in /opt/conda/lib/python3.10/site-packages (from mlflow) (1.14.1)\n",
      "Requirement already satisfied: sqlalchemy<3,>=1.4.0 in /opt/conda/lib/python3.10/site-packages (from mlflow) (1.4.54)\n",
      "Requirement already satisfied: Jinja2<4,>=2.11 in /opt/conda/lib/python3.10/site-packages (from mlflow) (3.1.4)\n",
      "Requirement already satisfied: gunicorn<24 in /opt/conda/lib/python3.10/site-packages (from mlflow) (23.0.0)\n",
      "Requirement already satisfied: cachetools<6,>=5.0.0 in /opt/conda/lib/python3.10/site-packages (from mlflow-skinny==2.17.1->mlflow) (5.5.0)\n",
      "Requirement already satisfied: click<9,>=7.0 in /opt/conda/lib/python3.10/site-packages (from mlflow-skinny==2.17.1->mlflow) (8.1.7)\n",
      "Requirement already satisfied: cloudpickle<4 in /opt/conda/lib/python3.10/site-packages (from mlflow-skinny==2.17.1->mlflow) (3.1.0)\n",
      "Requirement already satisfied: databricks-sdk<1,>=0.20.0 in /opt/conda/lib/python3.10/site-packages (from mlflow-skinny==2.17.1->mlflow) (0.36.0)\n",
      "Requirement already satisfied: gitpython<4,>=3.1.9 in /opt/conda/lib/python3.10/site-packages (from mlflow-skinny==2.17.1->mlflow) (3.1.43)\n",
      "Requirement already satisfied: importlib-metadata!=4.7.0,<9,>=3.7.0 in /opt/conda/lib/python3.10/site-packages (from mlflow-skinny==2.17.1->mlflow) (6.6.0)\n",
      "Requirement already satisfied: opentelemetry-api<3,>=1.9.0 in /opt/conda/lib/python3.10/site-packages (from mlflow-skinny==2.17.1->mlflow) (1.27.0)\n",
      "Requirement already satisfied: opentelemetry-sdk<3,>=1.9.0 in /opt/conda/lib/python3.10/site-packages (from mlflow-skinny==2.17.1->mlflow) (1.27.0)\n",
      "Requirement already satisfied: packaging<25 in /opt/conda/lib/python3.10/site-packages (from mlflow-skinny==2.17.1->mlflow) (23.1)\n",
      "Requirement already satisfied: protobuf<6,>=3.12.0 in /opt/conda/lib/python3.10/site-packages (from mlflow-skinny==2.17.1->mlflow) (4.25.5)\n",
      "Requirement already satisfied: pyyaml<7,>=5.1 in /opt/conda/lib/python3.10/site-packages (from mlflow-skinny==2.17.1->mlflow) (6.0)\n",
      "Requirement already satisfied: requests<3,>=2.17.3 in /opt/conda/lib/python3.10/site-packages (from mlflow-skinny==2.17.1->mlflow) (2.31.0)\n",
      "Requirement already satisfied: sqlparse<1,>=0.4.0 in /opt/conda/lib/python3.10/site-packages (from mlflow-skinny==2.17.1->mlflow) (0.5.1)\n",
      "Requirement already satisfied: joblib>=1.2.0 in /opt/conda/lib/python3.10/site-packages (from scikit-learn) (1.4.2)\n",
      "Requirement already satisfied: threadpoolctl>=3.1.0 in /opt/conda/lib/python3.10/site-packages (from scikit-learn) (3.5.0)\n",
      "Requirement already satisfied: Mako in /opt/conda/lib/python3.10/site-packages (from alembic!=1.10.0,<2->mlflow) (1.2.4)\n",
      "Requirement already satisfied: typing-extensions>=4 in /opt/conda/lib/python3.10/site-packages (from alembic!=1.10.0,<2->mlflow) (4.12.2)\n",
      "Requirement already satisfied: urllib3>=1.26.0 in /opt/conda/lib/python3.10/site-packages (from docker<8,>=4.0.0->mlflow) (2.0.2)\n",
      "Requirement already satisfied: Werkzeug>=3.0.0 in /opt/conda/lib/python3.10/site-packages (from Flask<4->mlflow) (3.0.6)\n",
      "Requirement already satisfied: itsdangerous>=2.1.2 in /opt/conda/lib/python3.10/site-packages (from Flask<4->mlflow) (2.2.0)\n",
      "Requirement already satisfied: blinker>=1.6.2 in /opt/conda/lib/python3.10/site-packages (from Flask<4->mlflow) (1.6.2)\n",
      "Requirement already satisfied: graphql-core<3.3,>=3.1 in /opt/conda/lib/python3.10/site-packages (from graphene<4->mlflow) (3.2.5)\n",
      "Requirement already satisfied: graphql-relay<3.3,>=3.1 in /opt/conda/lib/python3.10/site-packages (from graphene<4->mlflow) (3.2.0)\n",
      "Requirement already satisfied: python-dateutil<3,>=2.7.0 in /opt/conda/lib/python3.10/site-packages (from graphene<4->mlflow) (2.8.2)\n",
      "Requirement already satisfied: MarkupSafe>=2.0 in /opt/conda/lib/python3.10/site-packages (from Jinja2<4,>=2.11->mlflow) (2.1.2)\n",
      "Requirement already satisfied: contourpy>=1.0.1 in /opt/conda/lib/python3.10/site-packages (from matplotlib<4->mlflow) (1.3.0)\n",
      "Requirement already satisfied: cycler>=0.10 in /opt/conda/lib/python3.10/site-packages (from matplotlib<4->mlflow) (0.12.1)\n",
      "Requirement already satisfied: fonttools>=4.22.0 in /opt/conda/lib/python3.10/site-packages (from matplotlib<4->mlflow) (4.54.1)\n",
      "Requirement already satisfied: kiwisolver>=1.3.1 in /opt/conda/lib/python3.10/site-packages (from matplotlib<4->mlflow) (1.4.7)\n",
      "Requirement already satisfied: pillow>=8 in /opt/conda/lib/python3.10/site-packages (from matplotlib<4->mlflow) (11.0.0)\n",
      "Requirement already satisfied: pyparsing>=2.3.1 in /opt/conda/lib/python3.10/site-packages (from matplotlib<4->mlflow) (3.2.0)\n",
      "Requirement already satisfied: pytz>=2020.1 in /opt/conda/lib/python3.10/site-packages (from pandas<3->mlflow) (2023.3)\n",
      "Requirement already satisfied: tzdata>=2022.1 in /opt/conda/lib/python3.10/site-packages (from pandas<3->mlflow) (2024.2)\n",
      "Requirement already satisfied: greenlet!=0.4.17 in /opt/conda/lib/python3.10/site-packages (from sqlalchemy<3,>=1.4.0->mlflow) (2.0.2)\n",
      "Requirement already satisfied: google-auth~=2.0 in /opt/conda/lib/python3.10/site-packages (from databricks-sdk<1,>=0.20.0->mlflow-skinny==2.17.1->mlflow) (2.35.0)\n",
      "Requirement already satisfied: gitdb<5,>=4.0.1 in /opt/conda/lib/python3.10/site-packages (from gitpython<4,>=3.1.9->mlflow-skinny==2.17.1->mlflow) (4.0.11)\n",
      "Requirement already satisfied: zipp>=0.5 in /opt/conda/lib/python3.10/site-packages (from importlib-metadata!=4.7.0,<9,>=3.7.0->mlflow-skinny==2.17.1->mlflow) (3.15.0)\n",
      "Requirement already satisfied: deprecated>=1.2.6 in /opt/conda/lib/python3.10/site-packages (from opentelemetry-api<3,>=1.9.0->mlflow-skinny==2.17.1->mlflow) (1.2.14)\n",
      "Requirement already satisfied: opentelemetry-semantic-conventions==0.48b0 in /opt/conda/lib/python3.10/site-packages (from opentelemetry-sdk<3,>=1.9.0->mlflow-skinny==2.17.1->mlflow) (0.48b0)\n",
      "Requirement already satisfied: six>=1.5 in /opt/conda/lib/python3.10/site-packages (from python-dateutil<3,>=2.7.0->graphene<4->mlflow) (1.16.0)\n",
      "Requirement already satisfied: charset-normalizer<4,>=2 in /opt/conda/lib/python3.10/site-packages (from requests<3,>=2.17.3->mlflow-skinny==2.17.1->mlflow) (3.1.0)\n",
      "Requirement already satisfied: idna<4,>=2.5 in /opt/conda/lib/python3.10/site-packages (from requests<3,>=2.17.3->mlflow-skinny==2.17.1->mlflow) (3.4)\n",
      "Requirement already satisfied: certifi>=2017.4.17 in /opt/conda/lib/python3.10/site-packages (from requests<3,>=2.17.3->mlflow-skinny==2.17.1->mlflow) (2023.5.7)\n",
      "Requirement already satisfied: wrapt<2,>=1.10 in /opt/conda/lib/python3.10/site-packages (from deprecated>=1.2.6->opentelemetry-api<3,>=1.9.0->mlflow-skinny==2.17.1->mlflow) (1.16.0)\n",
      "Requirement already satisfied: smmap<6,>=3.0.1 in /opt/conda/lib/python3.10/site-packages (from gitdb<5,>=4.0.1->gitpython<4,>=3.1.9->mlflow-skinny==2.17.1->mlflow) (5.0.1)\n",
      "Requirement already satisfied: pyasn1-modules>=0.2.1 in /opt/conda/lib/python3.10/site-packages (from google-auth~=2.0->databricks-sdk<1,>=0.20.0->mlflow-skinny==2.17.1->mlflow) (0.4.1)\n",
      "Requirement already satisfied: rsa<5,>=3.1.4 in /opt/conda/lib/python3.10/site-packages (from google-auth~=2.0->databricks-sdk<1,>=0.20.0->mlflow-skinny==2.17.1->mlflow) (4.9)\n",
      "Requirement already satisfied: pyasn1<0.7.0,>=0.4.6 in /opt/conda/lib/python3.10/site-packages (from pyasn1-modules>=0.2.1->google-auth~=2.0->databricks-sdk<1,>=0.20.0->mlflow-skinny==2.17.1->mlflow) (0.6.1)\n",
      "Note: you may need to restart the kernel to use updated packages.\n"
     ]
    }
   ],
   "source": [
    "%pip install mlflow scikit-learn"
   ]
  },
  {
   "cell_type": "code",
   "execution_count": 7,
   "id": "d5fe676a-3c74-4c5d-913e-9e7c76659499",
   "metadata": {},
   "outputs": [],
   "source": [
    "import digitalhub as dh\n",
    "\n",
    "project = dh.get_or_create_project(\"project-mlflow-model-ci\")"
   ]
  },
  {
   "cell_type": "code",
   "execution_count": 8,
   "id": "3a02add2-83bb-4c29-a347-1ed569919b73",
   "metadata": {},
   "outputs": [],
   "source": [
    "import os\n",
    "directory=\"src\"\n",
    "if not os.path.exists(directory):\n",
    "    os.makedirs(directory)"
   ]
  },
  {
   "cell_type": "code",
   "execution_count": 9,
   "id": "1f2bfe67-17da-4ee1-91cc-f6786e9df21b",
   "metadata": {},
   "outputs": [
    {
     "name": "stdout",
     "output_type": "stream",
     "text": [
      "Writing src/train-model.py\n"
     ]
    }
   ],
   "source": [
    "%%writefile \"src/train-model.py\"\n",
    "\n",
    "from digitalhub_runtime_python import handler\n",
    "from digitalhub import from_mlflow_run\n",
    "import mlflow\n",
    "\n",
    "from sklearn import datasets, svm\n",
    "from sklearn.model_selection import GridSearchCV\n",
    "\n",
    "@handler(outputs=[\"model\"])\n",
    "def train(project):\n",
    "    mlflow.sklearn.autolog(log_datasets=True)\n",
    "\n",
    "    iris = datasets.load_iris()\n",
    "    parameters = {\"kernel\": (\"linear\", \"rbf\"), \"C\": [1, 10]}\n",
    "    svc = svm.SVC()\n",
    "    clf = GridSearchCV(svc, parameters)\n",
    "\n",
    "    clf.fit(iris.data, iris.target)\n",
    "    run_id = mlflow.last_active_run().info.run_id\n",
    "\n",
    "    # utility to map mlflow run artifacts to model metadata\n",
    "    model_params = from_mlflow_run(run_id)\n",
    "\n",
    "    return (project.log_model(\n",
    "        name=\"model-mlflow\",\n",
    "        kind=\"mlflow\",\n",
    "        **model_params\n",
    "))"
   ]
  },
  {
   "cell_type": "code",
   "execution_count": 10,
   "id": "5778b007-b7f9-4810-adfc-bd559eadb85e",
   "metadata": {},
   "outputs": [],
   "source": [
    "train_fn = project.new_function(name=\"train\",\n",
    "                                kind=\"python\",\n",
    "                                python_version=\"PYTHON3_10\",\n",
    "                                code_src=\"src/train-model.py\",\n",
    "                                handler=\"train\",\n",
    "                                requirements=[\"scikit-learn\", \"mlflow\"])"
   ]
  },
  {
   "cell_type": "code",
   "execution_count": 11,
   "id": "dcad2975-f84a-4b95-8ad0-d8c915a39f66",
   "metadata": {},
   "outputs": [],
   "source": [
    "train_model = train_fn.run(action=\"job\", local_execution=False)"
   ]
  },
  {
   "cell_type": "code",
   "execution_count": 18,
   "id": "3a05e6db-b250-4b05-85f2-c13ad1e6c499",
   "metadata": {},
   "outputs": [
    {
     "data": {
      "text/plain": [
       "{'model': {'kind': 'mlflow', 'metadata': {'project': 'project-mlflow-model-ci', 'name': 'model-mlflow', 'version': '2c1e14ec-d061-4cca-b1ed-50714b9c4324', 'created': '2024-10-28T12:59:19.732Z', 'updated': '2024-10-28T12:59:20.243Z', 'created_by': 'khurshid@fbk.eu', 'updated_by': 'khurshid@fbk.eu', 'embedded': False}, 'spec': {'path': 's3://datalake/project-mlflow-model-ci/model/model-mlflow/2c1e14ec-d061-4cca-b1ed-50714b9c4324/', 'framework': 'sklearn', 'parameters': {'n_jobs': 'None', 'refit': 'True', 'param_grid': \"{'kernel': ('linear', 'rbf'), 'C': [1, 10]}\", 'verbose': '0', 'pre_dispatch': '2*n_jobs', 'estimator': 'SVC()', 'return_train_score': 'False', 'cv': 'None', 'scoring': 'None', 'best_C': '1', 'best_kernel': 'linear', 'error_score': 'nan'}, 'metrics': {'training_score': 0.9933333333333333, 'training_f1_score': 0.9933326665999933, 'training_precision_score': 0.9934640522875816, 'best_cv_score': 0.9800000000000001, 'training_recall_score': 0.9933333333333333, 'training_accuracy_score': 0.9933333333333333}, 'flavor': 'sklearn', 'input_datasets': [{'name': 'dataset', 'digest': '2bf3ace3', 'profile': '{\"features_shape\": [150, 4], \"features_size\": 600, \"features_nbytes\": 4800, \"targets_shape\": [150], \"targets_size\": 150, \"targets_nbytes\": 1200}', 'source': '{\"tags\": {\"mlflow.user\": \"jovyan\", \"mlflow.source.name\": \"/opt/nuclio/_nuclio_wrapper.py\", \"mlflow.source.type\": \"LOCAL\"}}', 'source_type': 'code'}], 'signature': {'inputs': '[{\"type\": \"tensor\", \"tensor-spec\": {\"dtype\": \"float64\", \"shape\": [-1, 4]}}]', 'outputs': '[{\"type\": \"tensor\", \"tensor-spec\": {\"dtype\": \"int64\", \"shape\": [-1]}}]'}}, 'status': {'state': 'CREATED', 'files': [{'path': 'cv_results.csv', 'name': 'cv_results.csv', 'size': 1143, 'hash': 'md5:99ac25b1ee3640f430da8a279ab16a1c', 'content_type': 'text/csv', 'last_modified': '2024-10-28T12:59:20.000+00:00'}, {'path': 'training_confusion_matrix.png', 'name': 'training_confusion_matrix.png', 'size': 28733, 'hash': 'md5:e965a94e1bb1a0b76134572a9e65b1a7', 'content_type': 'image/png', 'last_modified': '2024-10-28T12:59:20.000+00:00'}, {'path': 'estimator.html', 'name': 'estimator.html', 'size': 14205, 'hash': 'md5:7ab1b5e995f7c26171b3467d9dc5fa3a', 'content_type': 'text/html', 'last_modified': '2024-10-28T12:59:20.000+00:00'}, {'path': 'best_estimator/MLmodel', 'name': 'MLmodel', 'size': 734, 'hash': 'md5:b39754a37e008cb3d6cc6b6d47042ad1', 'content_type': 'binary/octet-stream', 'last_modified': '2024-10-28T12:59:20.000+00:00'}, {'path': 'best_estimator/conda.yaml', 'name': 'conda.yaml', 'size': 231, 'hash': 'md5:641e3a9b56caaa3bcc600e1289a9cc10', 'content_type': 'binary/octet-stream', 'last_modified': '2024-10-28T12:59:20.000+00:00'}, {'path': 'best_estimator/model.pkl', 'name': 'model.pkl', 'size': 2650, 'hash': 'md5:66b8ce6190eb7bc5609b8a404c4f0078', 'content_type': 'binary/octet-stream', 'last_modified': '2024-10-28T12:59:20.000+00:00'}, {'path': 'best_estimator/python_env.yaml', 'name': 'python_env.yaml', 'size': 123, 'hash': 'md5:3feb467e82c61b891b6e3b57b1f74878', 'content_type': 'binary/octet-stream', 'last_modified': '2024-10-28T12:59:20.000+00:00'}, {'path': 'best_estimator/requirements.txt', 'name': 'requirements.txt', 'size': 109, 'hash': 'md5:d53b69f66cf3bc970d8319eb12e20570', 'content_type': 'text/plain', 'last_modified': '2024-10-28T12:59:20.000+00:00'}, {'path': 'model/MLmodel', 'name': 'MLmodel', 'size': 725, 'hash': 'md5:3dab3b3f36af18eba3f2f9d50300d91e', 'content_type': 'binary/octet-stream', 'last_modified': '2024-10-28T12:59:20.000+00:00'}, {'path': 'model/conda.yaml', 'name': 'conda.yaml', 'size': 231, 'hash': 'md5:641e3a9b56caaa3bcc600e1289a9cc10', 'content_type': 'binary/octet-stream', 'last_modified': '2024-10-28T12:59:20.000+00:00'}, {'path': 'model/model.pkl', 'name': 'model.pkl', 'size': 5007, 'hash': 'md5:e6276ca267aac99d168e496729be5a46', 'content_type': 'binary/octet-stream', 'last_modified': '2024-10-28T12:59:20.000+00:00'}, {'path': 'model/python_env.yaml', 'name': 'python_env.yaml', 'size': 123, 'hash': 'md5:3feb467e82c61b891b6e3b57b1f74878', 'content_type': 'binary/octet-stream', 'last_modified': '2024-10-28T12:59:20.000+00:00'}, {'path': 'model/requirements.txt', 'name': 'requirements.txt', 'size': 109, 'hash': 'md5:d53b69f66cf3bc970d8319eb12e20570', 'content_type': 'text/plain', 'last_modified': '2024-10-28T12:59:20.000+00:00'}]}, 'user': 'khurshid@fbk.eu', 'project': 'project-mlflow-model-ci', 'name': 'model-mlflow', 'id': '2c1e14ec-d061-4cca-b1ed-50714b9c4324', 'key': 'store://project-mlflow-model-ci/model/mlflow/model-mlflow:2c1e14ec-d061-4cca-b1ed-50714b9c4324'}}"
      ]
     },
     "execution_count": 18,
     "metadata": {},
     "output_type": "execute_result"
    }
   ],
   "source": [
    "train_model.refresh().outputs()"
   ]
  },
  {
   "cell_type": "code",
   "execution_count": 22,
   "id": "acb0860d-5f7a-4578-9972-19c201fec2c8",
   "metadata": {},
   "outputs": [
    {
     "data": {
      "text/plain": [
       "'s3://datalake/project-mlflow-model-ci/model/model-mlflow/2c1e14ec-d061-4cca-b1ed-50714b9c4324/'"
      ]
     },
     "execution_count": 22,
     "metadata": {},
     "output_type": "execute_result"
    }
   ],
   "source": [
    "model_path=train_model.output('model').spec.path\n",
    "model_path"
   ]
  },
  {
   "cell_type": "code",
   "execution_count": 23,
   "id": "097479a0-e307-4c2c-bde4-0039f7613400",
   "metadata": {},
   "outputs": [],
   "source": [
    "func = project.new_function(name=\"serve_mlflowmodel\",\n",
    "                            kind=\"mlflowserve\",\n",
    "                            model_name=\"mlflow_model\",\n",
    "                            path=model_path + 'model/')"
   ]
  },
  {
   "cell_type": "code",
   "execution_count": 25,
   "id": "3a3a08cd-2ae8-4e36-a8c4-7dcacf7c1daa",
   "metadata": {},
   "outputs": [
    {
     "name": "stderr",
     "output_type": "stream",
     "text": [
      "2024-10-28 13:08:42,104 - INFO - Waiting for run 879aa69e-a95e-4fe1-8d03-77429385de51 to deploy service.\n",
      "2024-10-28 13:08:47,151 - INFO - Waiting for run 879aa69e-a95e-4fe1-8d03-77429385de51 to deploy service.\n",
      "2024-10-28 13:08:52,204 - INFO - Waiting for run 879aa69e-a95e-4fe1-8d03-77429385de51 to deploy service.\n",
      "2024-10-28 13:08:57,258 - INFO - Waiting for run 879aa69e-a95e-4fe1-8d03-77429385de51 to deploy service.\n",
      "2024-10-28 13:09:02,332 - INFO - Waiting for run 879aa69e-a95e-4fe1-8d03-77429385de51 to deploy service.\n",
      "2024-10-28 13:09:07,379 - INFO - Waiting for run 879aa69e-a95e-4fe1-8d03-77429385de51 to deploy service.\n",
      "2024-10-28 13:09:12,649 - INFO - Waiting for run 879aa69e-a95e-4fe1-8d03-77429385de51 to deploy service.\n",
      "2024-10-28 13:09:17,709 - INFO - Waiting for run 879aa69e-a95e-4fe1-8d03-77429385de51 to deploy service.\n",
      "2024-10-28 13:09:17,774 - INFO - Run 879aa69e-a95e-4fe1-8d03-77429385de51 service deployed.\n"
     ]
    }
   ],
   "source": [
    "serve_run = func.run(action=\"serve\", wait=True)"
   ]
  },
  {
   "cell_type": "markdown",
   "id": "a9930c18-933d-44f6-9782-ed39fe2cf415",
   "metadata": {},
   "source": [
    "Let us wait till the 'serve' is loaded compeletey"
   ]
  },
  {
   "cell_type": "code",
   "execution_count": 26,
   "id": "addc1aaa-40c1-4b82-9713-56fde2134fa4",
   "metadata": {},
   "outputs": [],
   "source": [
    "from sklearn import datasets\n",
    "\n",
    "iris = datasets.load_iris()\n",
    "data = iris.data[0:2].tolist()\n",
    "json={\n",
    "    \"inputs\": [\n",
    "        {\n",
    "        \"name\": \"input-0\",\n",
    "        \"shape\": [-1, 4],\n",
    "        \"datatype\": \"FP64\",\n",
    "        \"data\": data\n",
    "        }\n",
    "    ]\n",
    "}"
   ]
  },
  {
   "cell_type": "code",
   "execution_count": 27,
   "id": "24f6a278-79fe-4e63-8783-45086aa0ee35",
   "metadata": {},
   "outputs": [
    {
     "data": {
      "text/plain": [
       "{'inputs': [{'name': 'input-0',\n",
       "   'shape': [-1, 4],\n",
       "   'datatype': 'FP64',\n",
       "   'data': [[5.1, 3.5, 1.4, 0.2], [4.9, 3.0, 1.4, 0.2]]}]}"
      ]
     },
     "execution_count": 27,
     "metadata": {},
     "output_type": "execute_result"
    }
   ],
   "source": [
    "json"
   ]
  },
  {
   "cell_type": "code",
   "execution_count": 28,
   "id": "0e72d841-3390-4f46-a696-d2e6efafb9d1",
   "metadata": {},
   "outputs": [],
   "source": [
    "# serve_run.invoke(model_name=\"mlflow_model\", json=json).json()"
   ]
  },
  {
   "cell_type": "code",
   "execution_count": 29,
   "id": "f7d3d648-358d-42d2-bfd5-47363c4b95b0",
   "metadata": {},
   "outputs": [
    {
     "data": {
      "text/plain": [
       "'http://s-mlflowserveserve-879aa69e-a95e-4fe1-8d03-77429385de51.digitalhub-tenant1:8080/v2/models/mlflow_model/infer'"
      ]
     },
     "execution_count": 29,
     "metadata": {},
     "output_type": "execute_result"
    }
   ],
   "source": [
    "service_url = serve_run.refresh().status.to_dict()[\"service\"][\"url\"]\n",
    "url = f\"http://{service_url}/v2/models/mlflow_model/infer\"\n",
    "url"
   ]
  },
  {
   "cell_type": "markdown",
   "id": "c81b8eec-2387-4071-91c9-d7f14d6abc3f",
   "metadata": {},
   "source": [
    "<!-- /v2/models/model/infer -->"
   ]
  },
  {
   "cell_type": "code",
   "execution_count": 30,
   "id": "4a384737-811c-4024-ae51-92cc908d5662",
   "metadata": {},
   "outputs": [
    {
     "data": {
      "text/plain": [
       "{'inputs': [{'name': 'input-0',\n",
       "   'shape': [-1, 4],\n",
       "   'datatype': 'FP64',\n",
       "   'data': [[5.1, 3.5, 1.4, 0.2], [4.9, 3.0, 1.4, 0.2]]}]}"
      ]
     },
     "execution_count": 30,
     "metadata": {},
     "output_type": "execute_result"
    }
   ],
   "source": [
    "from sklearn import datasets\n",
    "\n",
    "iris = datasets.load_iris()\n",
    "data = iris.data[0:2].tolist()\n",
    "json={\n",
    "    \"inputs\": [\n",
    "        {\n",
    "        \"name\": \"input-0\",\n",
    "        \"shape\": [-1, 4],\n",
    "        \"datatype\": \"FP64\",\n",
    "        \"data\": data\n",
    "        }\n",
    "    ]\n",
    "}\n",
    "\n",
    "json"
   ]
  },
  {
   "cell_type": "code",
   "execution_count": 31,
   "id": "26ca0da6-386e-4ad4-b621-5778196233b8",
   "metadata": {},
   "outputs": [],
   "source": [
    "# url = 's-mlflowserveserve-66f056e7-99b9-481e-858d-d9888df35f91.digitalhub-tenant2:8080'"
   ]
  },
  {
   "cell_type": "code",
   "execution_count": 32,
   "id": "fa0d479f-8c7b-4121-bc2c-4f26634259c4",
   "metadata": {},
   "outputs": [
    {
     "data": {
      "text/plain": [
       "{'model_name': 'mlflow_model',\n",
       " 'id': '6d90360a-91e1-48d3-8cde-f088ae87db3c',\n",
       " 'parameters': {'content_type': 'np'},\n",
       " 'outputs': [{'name': 'output-1',\n",
       "   'shape': [2, 1],\n",
       "   'datatype': 'INT64',\n",
       "   'parameters': {'content_type': 'np'},\n",
       "   'data': [0, 0]}]}"
      ]
     },
     "execution_count": 32,
     "metadata": {},
     "output_type": "execute_result"
    }
   ],
   "source": [
    "serve_run.invoke(url=url, json=json).json()\n",
    "# serve_run.invoke(model_name=\"mlflow_model\", url=url, json=json).json()"
   ]
  },
  {
   "cell_type": "code",
   "execution_count": 39,
   "id": "d098d463-bce7-48c1-bf81-b0a89a8a8cae",
   "metadata": {},
   "outputs": [
    {
     "name": "stdout",
     "output_type": "stream",
     "text": [
      "Writing src/mlflow_pipeline.py\n"
     ]
    }
   ],
   "source": [
    "%%writefile \"src/mlflow_pipeline.py\"\n",
    "\n",
    "from digitalhub_runtime_kfp.dsl import pipeline_context\n",
    "\n",
    "def myhandler(): \n",
    "    with pipeline_context() as pc:\n",
    "        train = pc.step(name=\"train\", function=\"train\", action=\"job\")\n",
    "        #serve = pc.step(name=\"serve\", function=\"serve_mlflowmodel\", action=\"serve\")"
   ]
  },
  {
   "cell_type": "code",
   "execution_count": 40,
   "id": "5979bba2-e9d6-4e94-af80-3dc3afdad3fa",
   "metadata": {},
   "outputs": [],
   "source": [
    "workflow = project.new_workflow(name=\"pipeline_mlflow\", kind=\"kfp\", code_src= \"src/mlflow_pipeline.py\", handler = \"myhandler\")"
   ]
  },
  {
   "cell_type": "code",
   "execution_count": 41,
   "id": "58c428f4-40b7-4f4a-a6f6-8f5fc9ff9383",
   "metadata": {},
   "outputs": [
    {
     "data": {
      "text/plain": [
       "{'kind': 'kfp+run', 'metadata': {'project': 'project-mlflow-model-ci', 'name': 'fb69e2c5-490a-4b54-8212-06eeace2eed1', 'created': '2024-10-28T13:20:15.896Z', 'updated': '2024-10-28T13:20:15.908Z', 'created_by': 'khurshid@fbk.eu', 'updated_by': 'khurshid@fbk.eu'}, 'spec': {'task': 'kfp+pipeline://project-mlflow-model-ci/pipeline_mlflow:0a2a73a4-9ffe-48db-a503-04366492294a', 'local_execution': False, 'function': 'kfp://project-mlflow-model-ci/pipeline_mlflow:0a2a73a4-9ffe-48db-a503-04366492294a', 'source': {'source': 'src/mlflow_pipeline.py', 'handler': 'myhandler', 'base64': 'CmZyb20gZGlnaXRhbGh1Yl9ydW50aW1lX2tmcC5kc2wgaW1wb3J0IHBpcGVsaW5lX2NvbnRleHQKCmRlZiBteWhhbmRsZXIoKTogCiAgICB3aXRoIHBpcGVsaW5lX2NvbnRleHQoKSBhcyBwYzoKICAgICAgICB0cmFpbiA9IHBjLnN0ZXAobmFtZT0idHJhaW4iLCBmdW5jdGlvbj0idHJhaW4iLCBhY3Rpb249ImpvYiIpCiAgICAgICAgI3NlcnZlID0gcGMuc3RlcChuYW1lPSJzZXJ2ZSIsIGZ1bmN0aW9uPSJzZXJ2ZV9tbGZsb3dtb2RlbCIsIGFjdGlvbj0ic2VydmUiKQo=', 'lang': 'python'}, 'inputs': {}, 'outputs': {}, 'parameters': {}}, 'status': {'state': 'READY', 'transitions': [{'status': 'READY', 'time': '2024-10-28T13:20:15.908042253Z'}, {'status': 'BUILT', 'time': '2024-10-28T13:20:15.899695906Z'}]}, 'user': 'khurshid@fbk.eu', 'project': 'project-mlflow-model-ci', 'id': 'fb69e2c5-490a-4b54-8212-06eeace2eed1', 'key': 'store://project-mlflow-model-ci/run/kfp+run/fb69e2c5-490a-4b54-8212-06eeace2eed1'}"
      ]
     },
     "execution_count": 41,
     "metadata": {},
     "output_type": "execute_result"
    }
   ],
   "source": [
    "workflow.run()"
   ]
  },
  {
   "cell_type": "code",
   "execution_count": null,
   "id": "c847bb89-6f79-43d1-b844-6b2314e21a01",
   "metadata": {},
   "outputs": [],
   "source": []
  }
 ],
 "metadata": {
  "kernelspec": {
   "display_name": "Python 3 (ipykernel)",
   "language": "python",
   "name": "python3"
  },
  "language_info": {
   "codemirror_mode": {
    "name": "ipython",
    "version": 3
   },
   "file_extension": ".py",
   "mimetype": "text/x-python",
   "name": "python",
   "nbconvert_exporter": "python",
   "pygments_lexer": "ipython3",
   "version": "3.10.11"
  }
 },
 "nbformat": 4,
 "nbformat_minor": 5
}
