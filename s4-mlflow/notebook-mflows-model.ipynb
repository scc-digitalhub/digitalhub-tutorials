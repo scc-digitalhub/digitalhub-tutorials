{
 "cells": [
  {
   "cell_type": "markdown",
   "id": "37213ef3-07ae-40e1-9d0f-15339ec7fed0",
   "metadata": {},
   "source": [
    "## Data Training"
   ]
  },
  {
   "cell_type": "code",
   "execution_count": null,
   "id": "d5fe676a-3c74-4c5d-913e-9e7c76659499",
   "metadata": {},
   "outputs": [],
   "source": [
    "import digitalhub as dh\n",
    "\n",
    "project = dh.get_or_create_project(\"project-mlflow-model-ci\")"
   ]
  },
  {
   "cell_type": "code",
   "execution_count": null,
   "id": "3a02add2-83bb-4c29-a347-1ed569919b73",
   "metadata": {},
   "outputs": [],
   "source": [
    "import os\n",
    "directory=\"src\"\n",
    "if not os.path.exists(directory):\n",
    "    os.makedirs(directory)"
   ]
  },
  {
   "cell_type": "code",
   "execution_count": null,
   "id": "1f2bfe67-17da-4ee1-91cc-f6786e9df21b",
   "metadata": {},
   "outputs": [],
   "source": [
    "%%writefile \"src/train-model.py\"\n",
    "\n",
    "from digitalhub_runtime_python import handler\n",
    "from digitalhub import from_mlflow_run\n",
    "import mlflow\n",
    "\n",
    "from sklearn import datasets, svm\n",
    "from sklearn.model_selection import GridSearchCV\n",
    "\n",
    "@handler(outputs=[\"model\"])\n",
    "def train(project):\n",
    "    mlflow.sklearn.autolog(log_datasets=True)\n",
    "\n",
    "    iris = datasets.load_iris()\n",
    "    parameters = {\"kernel\": (\"linear\", \"rbf\"), \"C\": [1, 10]}\n",
    "    svc = svm.SVC()\n",
    "    clf = GridSearchCV(svc, parameters)\n",
    "\n",
    "    clf.fit(iris.data, iris.target)\n",
    "    run_id = mlflow.last_active_run().info.run_id\n",
    "\n",
    "    # utility to map mlflow run artifacts to model metadata\n",
    "    model_params = from_mlflow_run(run_id)\n",
    "\n",
    "    return (project.log_model(\n",
    "        name=\"model-mlflow\",\n",
    "        kind=\"mlflow\",\n",
    "        **model_params\n",
    "))"
   ]
  },
  {
   "cell_type": "code",
   "execution_count": null,
   "id": "5778b007-b7f9-4810-adfc-bd559eadb85e",
   "metadata": {},
   "outputs": [],
   "source": [
    "train_fn = project.new_function(name=\"train\",\n",
    "                                kind=\"python\",\n",
    "                                python_version=\"PYTHON3_10\",\n",
    "                                code_src=\"src/train-model.py\",\n",
    "                                handler=\"train\",\n",
    "                                requirements=[\"scikit-learn\", \"mlflow\"])"
   ]
  },
  {
   "cell_type": "code",
   "execution_count": null,
   "id": "dcad2975-f84a-4b95-8ad0-d8c915a39f66",
   "metadata": {},
   "outputs": [],
   "source": [
    "train_model_run = train_fn.run(action=\"job\", local_execution=False)"
   ]
  },
  {
   "cell_type": "markdown",
   "id": "fb4a65f9-a116-4a49-b0b9-acaef48bace3",
   "metadata": {},
   "source": [
    "Wait until the train model job is completed. One can view the state of run from console or using digitalhub sdk API using"
   ]
  },
  {
   "cell_type": "code",
   "execution_count": null,
   "id": "3a05e6db-b250-4b05-85f2-c13ad1e6c499",
   "metadata": {},
   "outputs": [],
   "source": [
    "train_model_run.refresh().status.state"
   ]
  },
  {
   "cell_type": "markdown",
   "id": "902f2685-6062-44d1-8845-94ea67596d11",
   "metadata": {},
   "source": [
    "Once 'Completed', proceed with model 'serve' step."
   ]
  },
  {
   "cell_type": "markdown",
   "id": "1fa558e1-684e-4414-9e17-02f53cfb2c28",
   "metadata": {},
   "source": [
    "## Serve"
   ]
  },
  {
   "cell_type": "code",
   "execution_count": null,
   "id": "acb0860d-5f7a-4578-9972-19c201fec2c8",
   "metadata": {},
   "outputs": [],
   "source": [
    "model_path=train_model_run.refresh().output('model').spec.path\n",
    "model_path"
   ]
  },
  {
   "cell_type": "code",
   "execution_count": null,
   "id": "097479a0-e307-4c2c-bde4-0039f7613400",
   "metadata": {},
   "outputs": [],
   "source": [
    "func = project.new_function(name=\"serve_mlflowmodel\",\n",
    "                            kind=\"mlflowserve\",\n",
    "                            model_name=\"mlflow_model\",\n",
    "                            path=model_path + 'model/')"
   ]
  },
  {
   "cell_type": "code",
   "execution_count": null,
   "id": "3a3a08cd-2ae8-4e36-a8c4-7dcacf7c1daa",
   "metadata": {},
   "outputs": [],
   "source": [
    "serve_run = func.run(action=\"serve\", wait=True)"
   ]
  },
  {
   "cell_type": "markdown",
   "id": "a9930c18-933d-44f6-9782-ed39fe2cf415",
   "metadata": {},
   "source": [
    "Let us wait till the 'serve' is loaded compeletey"
   ]
  },
  {
   "cell_type": "code",
   "execution_count": null,
   "id": "addc1aaa-40c1-4b82-9713-56fde2134fa4",
   "metadata": {},
   "outputs": [],
   "source": [
    "from sklearn import datasets\n",
    "\n",
    "iris = datasets.load_iris()\n",
    "data = iris.data[0:2].tolist()\n",
    "json={\n",
    "    \"inputs\": [\n",
    "        {\n",
    "        \"name\": \"input-0\",\n",
    "        \"shape\": [-1, 4],\n",
    "        \"datatype\": \"FP64\",\n",
    "        \"data\": data\n",
    "        }\n",
    "    ]\n",
    "}"
   ]
  },
  {
   "cell_type": "code",
   "execution_count": null,
   "id": "24f6a278-79fe-4e63-8783-45086aa0ee35",
   "metadata": {},
   "outputs": [],
   "source": [
    "json"
   ]
  },
  {
   "cell_type": "code",
   "execution_count": null,
   "id": "0e72d841-3390-4f46-a696-d2e6efafb9d1",
   "metadata": {},
   "outputs": [],
   "source": [
    "service = serve_run.refresh().status.service\n",
    "service"
   ]
  },
  {
   "cell_type": "markdown",
   "id": "fcefc409-39b7-4288-b47a-656c3d04e7d5",
   "metadata": {},
   "source": [
    "Once 'Service' object available, proceed by making call to deployed service."
   ]
  },
  {
   "cell_type": "code",
   "execution_count": null,
   "id": "f7d3d648-358d-42d2-bfd5-47363c4b95b0",
   "metadata": {},
   "outputs": [],
   "source": [
    "service_url = serve_run.refresh().status.to_dict()[\"service\"][\"url\"]\n",
    "url = f\"http://{service_url}/v2/models/mlflow_model/infer\"\n",
    "url"
   ]
  },
  {
   "cell_type": "markdown",
   "id": "c81b8eec-2387-4071-91c9-d7f14d6abc3f",
   "metadata": {},
   "source": [
    "<!-- /v2/models/model/infer -->"
   ]
  },
  {
   "cell_type": "code",
   "execution_count": null,
   "id": "4a384737-811c-4024-ae51-92cc908d5662",
   "metadata": {},
   "outputs": [],
   "source": [
    "from sklearn import datasets\n",
    "\n",
    "iris = datasets.load_iris()\n",
    "data = iris.data[0:2].tolist()\n",
    "json={\n",
    "    \"inputs\": [\n",
    "        {\n",
    "        \"name\": \"input-0\",\n",
    "        \"shape\": [-1, 4],\n",
    "        \"datatype\": \"FP64\",\n",
    "        \"data\": data\n",
    "        }\n",
    "    ]\n",
    "}\n",
    "\n",
    "json"
   ]
  },
  {
   "cell_type": "code",
   "execution_count": null,
   "id": "fa0d479f-8c7b-4121-bc2c-4f26634259c4",
   "metadata": {},
   "outputs": [],
   "source": [
    "serve_run.invoke(url=url, json=json).json()\n",
    "# serve_run.invoke(model_name=\"mlflow_model\", url=url, json=json).json()"
   ]
  },
  {
   "cell_type": "markdown",
   "id": "7f74f51e-a591-469a-9d09-b6134a335bbf",
   "metadata": {},
   "source": [
    "## Pipeline"
   ]
  },
  {
   "cell_type": "code",
   "execution_count": null,
   "id": "d098d463-bce7-48c1-bf81-b0a89a8a8cae",
   "metadata": {},
   "outputs": [],
   "source": [
    "%%writefile \"src/mlflow_pipeline.py\"\n",
    "\n",
    "from digitalhub_runtime_kfp.dsl import pipeline_context\n",
    "\n",
    "def myhandler(): \n",
    "    with pipeline_context() as pc:\n",
    "        train = pc.step(name=\"train\", function=\"train\", action=\"job\")\n",
    "        #serve = pc.step(name=\"serve\", function=\"serve_mlflowmodel\", action=\"serve\")"
   ]
  },
  {
   "cell_type": "code",
   "execution_count": null,
   "id": "5979bba2-e9d6-4e94-af80-3dc3afdad3fa",
   "metadata": {},
   "outputs": [],
   "source": [
    "workflow = project.new_workflow(name=\"pipeline_mlflow\", kind=\"kfp\", code_src= \"src/mlflow_pipeline.py\", handler = \"myhandler\")"
   ]
  },
  {
   "cell_type": "code",
   "execution_count": null,
   "id": "58c428f4-40b7-4f4a-a6f6-8f5fc9ff9383",
   "metadata": {},
   "outputs": [],
   "source": [
    "wf_run = workflow.run()"
   ]
  },
  {
   "cell_type": "code",
   "execution_count": null,
   "id": "c847bb89-6f79-43d1-b844-6b2314e21a01",
   "metadata": {},
   "outputs": [],
   "source": [
    "wf_run.refresh().status.state"
   ]
  }
 ],
 "metadata": {
  "kernelspec": {
   "display_name": "Python 3 (ipykernel)",
   "language": "python",
   "name": "python3"
  },
  "language_info": {
   "codemirror_mode": {
    "name": "ipython",
    "version": 3
   },
   "file_extension": ".py",
   "mimetype": "text/x-python",
   "name": "python",
   "nbconvert_exporter": "python",
   "pygments_lexer": "ipython3",
   "version": "3.10.11"
  }
 },
 "nbformat": 4,
 "nbformat_minor": 5
}
