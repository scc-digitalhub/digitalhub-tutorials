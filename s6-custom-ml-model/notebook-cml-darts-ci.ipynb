{
 "cells": [
  {
   "cell_type": "markdown",
   "id": "3e744ca2-78fc-409b-bd08-ada1d4332763",
   "metadata": {},
   "source": [
    "## Data Trainig"
   ]
  },
  {
   "cell_type": "code",
   "execution_count": null,
   "id": "bbf53e6b-d054-41b8-87d0-fe9248489809",
   "metadata": {},
   "outputs": [],
   "source": [
    "from pathlib import Path\n",
    "Path(\"src\").mkdir(exist_ok=True)"
   ]
  },
  {
   "cell_type": "code",
   "execution_count": null,
   "id": "d47af28a-e2c9-4f7b-a2f2-6dc67a702d30",
   "metadata": {},
   "outputs": [],
   "source": [
    "import digitalhub as dh"
   ]
  },
  {
   "cell_type": "code",
   "execution_count": null,
   "id": "33a53adc-d5b8-4488-b7c7-dc6886a4301c",
   "metadata": {},
   "outputs": [],
   "source": [
    "PROJECT = \"project-cml-darts-ci\"\n",
    "project = dh.get_or_create_project(PROJECT)"
   ]
  },
  {
   "cell_type": "code",
   "execution_count": null,
   "id": "5d541f7e-2e4b-4eec-b92d-53f0cedf920d",
   "metadata": {},
   "outputs": [],
   "source": [
    "%%writefile \"src/train-model.py\"\n",
    "\n",
    "\n",
    "from digitalhub_runtime_python import handler\n",
    "\n",
    "import pandas as pd\n",
    "import numpy as np\n",
    "\n",
    "from darts import TimeSeries\n",
    "from darts.datasets import AirPassengersDataset\n",
    "from darts.models import NBEATSModel\n",
    "from darts.metrics import mape, smape, mae\n",
    "\n",
    "from zipfile import ZipFile\n",
    "\n",
    "@handler()\n",
    "def train_model(project):\n",
    "    series = AirPassengersDataset().load()\n",
    "    train, val = series[:-36], series[-36:]\n",
    "\n",
    "    model = NBEATSModel(\n",
    "        input_chunk_length=24,\n",
    "        output_chunk_length=12,\n",
    "        n_epochs=200,\n",
    "        random_state=0\n",
    "    )\n",
    "    model.fit(train)\n",
    "    pred = model.predict(n=36)\n",
    "\n",
    "    model.save(\"predictor_model.pt\")\n",
    "    with ZipFile(\"predictor_model.pt.zip\", \"w\") as z:\n",
    "        z.write(\"predictor_model.pt\")\n",
    "        z.write(\"predictor_model.pt.ckpt\")\n",
    "    metrics = {\n",
    "        \"mape\": mape(series, pred),\n",
    "        \"smape\": smape(series, pred),\n",
    "        \"mae\": mae(series, pred)\n",
    "    }\n",
    "\n",
    "    model = project.log_model(\n",
    "        name=\"darts_model\",\n",
    "        kind=\"model\",\n",
    "        source=\"predictor_model.pt.zip\",\n",
    "        algorithm=\"darts.models.NBEATSModel\",\n",
    "        framework=\"darts\"\n",
    "    )\n",
    "    model.log_metrics(metrics)\n",
    "    return model"
   ]
  },
  {
   "cell_type": "code",
   "execution_count": null,
   "id": "db14f65f-e948-43c0-b8c1-c56569b3142f",
   "metadata": {},
   "outputs": [],
   "source": [
    "train_fn = project.new_function(name=\"train-darts\",\n",
    "                                kind=\"python\",\n",
    "                                python_version=\"PYTHON3_10\",\n",
    "                                code_src=\"src/train-model.py\",\n",
    "                                handler=\"train_model\")"
   ]
  },
  {
   "cell_type": "code",
   "execution_count": null,
   "id": "430db175-e792-4d23-9d88-984532fd17c7",
   "metadata": {},
   "outputs": [],
   "source": [
    "train_build = train_fn.run(\"build\",\n",
    "                           instructions=[\"pip3 install torch torchvision torchaudio --index-url https://download.pytorch.org/whl/cpu\",\"pip3 install darts patsy scikit-learn\"],\n",
    "                           wait=True)"
   ]
  },
  {
   "cell_type": "markdown",
   "id": "869be29e-2f44-4e47-9cc6-0d36585557b7",
   "metadata": {},
   "source": [
    "Wait until build job is completed. One can check the status of 'Run' from console or by typing the following command"
   ]
  },
  {
   "cell_type": "code",
   "execution_count": null,
   "id": "a8fe3d09-31fb-426f-8d9b-79310a83a4fa",
   "metadata": {},
   "outputs": [],
   "source": [
    "train_build.refresh().status.state"
   ]
  },
  {
   "cell_type": "markdown",
   "id": "5183f44b-1206-449f-a6c1-6a12e8db3b22",
   "metadata": {},
   "source": [
    "Once completed, proceed to run the training job."
   ]
  },
  {
   "cell_type": "code",
   "execution_count": null,
   "id": "485ee25b-641a-4d20-9fae-cecc18451882",
   "metadata": {},
   "outputs": [],
   "source": [
    "train_run = train_fn.run(\"job\", wait=True)"
   ]
  },
  {
   "cell_type": "markdown",
   "id": "ce976999-80ea-4014-a502-c019f8b08086",
   "metadata": {},
   "source": [
    "Wait for job to be completed. One can check the status of 'Run' from console or by typing the following command"
   ]
  },
  {
   "cell_type": "code",
   "execution_count": null,
   "id": "553d580b-76ea-4260-b6cb-7898accf5509",
   "metadata": {},
   "outputs": [],
   "source": [
    "train_run.refresh().status.state"
   ]
  },
  {
   "cell_type": "markdown",
   "id": "121a2392-10c5-4618-b91b-6b10fb8e721e",
   "metadata": {},
   "source": [
    "Once completed, proceed with serve run."
   ]
  },
  {
   "cell_type": "markdown",
   "id": "b5f2c0fa-fe24-411f-96f7-cc5e56350b6d",
   "metadata": {},
   "source": [
    "## Serve"
   ]
  },
  {
   "cell_type": "code",
   "execution_count": null,
   "id": "e5a44ff5-2b86-49f4-9eea-c4ff142dd44b",
   "metadata": {},
   "outputs": [],
   "source": [
    "%%writefile \"src/serve_darts_model.py\"\n",
    "\n",
    "from darts.models import NBEATSModel\n",
    "from zipfile import ZipFile\n",
    "from darts import TimeSeries\n",
    "import json\n",
    "import pandas as pd\n",
    "\n",
    "def init(context):\n",
    "    model_name = \"darts_model\"\n",
    "\n",
    "    model = context.project.get_model(model_name)\n",
    "    path = model.download()\n",
    "    local_path_model = \"extracted_model/\"\n",
    "\n",
    "    with ZipFile(path, 'r') as zip_ref:\n",
    "        zip_ref.extractall(local_path_model)\n",
    "\n",
    "    input_chunk_length = 24\n",
    "    output_chunk_length = 12\n",
    "    name_model_local = local_path_model +\"predictor_model.pt\"\n",
    "    mm = NBEATSModel(\n",
    "            input_chunk_length,\n",
    "            output_chunk_length\n",
    "    ).load(name_model_local)\n",
    "\n",
    "    setattr(context, \"model\", mm)\n",
    "\n",
    "def serve(context, event):\n",
    "\n",
    "    if isinstance(event.body, bytes):\n",
    "        body = json.loads(event.body)\n",
    "    else:\n",
    "        body = event.body\n",
    "    context.logger.info(f\"Received event: {body}\")\n",
    "    inference_input = body[\"inference_input\"]\n",
    "\n",
    "    pdf = pd.DataFrame(inference_input)\n",
    "    pdf['date'] = pd.to_datetime(pdf['date'], unit='ms')\n",
    "\n",
    "    ts = TimeSeries.from_dataframe(\n",
    "        pdf,\n",
    "        time_col=\"date\",\n",
    "        value_cols=\"value\"\n",
    "    )\n",
    "\n",
    "    output_chunk_length = 12\n",
    "    result = context.model.predict(n=output_chunk_length*2, series=ts)\n",
    "    # Convert the result to a pandas DataFrame, reset the index, and convert to a list\n",
    "    jsonstr = result.pd_dataframe().reset_index().to_json(orient='records')\n",
    "    return json.loads(jsonstr)"
   ]
  },
  {
   "cell_type": "code",
   "execution_count": null,
   "id": "79310799-708a-4121-8bb9-0d592a7fa22a",
   "metadata": {},
   "outputs": [],
   "source": [
    "func = project.new_function(name=\"serve_darts_model\",\n",
    "                            kind=\"python\",\n",
    "                            python_version=\"PYTHON3_10\",\n",
    "                            code_src=\"src/serve_darts_model.py\",\n",
    "                            handler=\"serve\",\n",
    "                            init_function=\"init\")"
   ]
  },
  {
   "cell_type": "code",
   "execution_count": null,
   "id": "73e43fc1-937f-4313-9d64-8bc7a2e60b2a",
   "metadata": {},
   "outputs": [],
   "source": [
    "run_build_model_serve = func.run(\"build\",\n",
    "                                 instructions=[\"pip3 install torch torchvision torchaudio --index-url https://download.pytorch.org/whl/cpu\",\"pip3 install darts patsy scikit-learn\"],\n",
    "                                 wait=True)"
   ]
  },
  {
   "cell_type": "markdown",
   "id": "86c5851c-70e4-4b1a-a9f8-5796b2ab7bee",
   "metadata": {},
   "source": [
    "Wait for job to be completed. One can check the status of 'Run' from console or by typing the following command"
   ]
  },
  {
   "cell_type": "code",
   "execution_count": null,
   "id": "d195a666-03c7-4452-b44b-e29b48123977",
   "metadata": {},
   "outputs": [],
   "source": [
    "run_build_model_serve.refresh().status.state"
   ]
  },
  {
   "cell_type": "markdown",
   "id": "3469a531-bc15-46d5-b50a-185ee6ed3289",
   "metadata": {},
   "source": [
    "Once completed, run the serve job."
   ]
  },
  {
   "cell_type": "code",
   "execution_count": null,
   "id": "32048ea6-6124-400b-a2d0-d9a560e00d59",
   "metadata": {},
   "outputs": [],
   "source": [
    "serve_run = func.run(\"serve\",\n",
    "                     labels=[\"service\"],\n",
    "                     wait=True)"
   ]
  },
  {
   "cell_type": "markdown",
   "id": "ab6654cd-3b7d-4fbc-b002-32442cc8ce77",
   "metadata": {},
   "source": [
    "Once 'Service' object available, proceed by making call to deployed service."
   ]
  },
  {
   "cell_type": "code",
   "execution_count": null,
   "id": "2626b59f-ad11-4281-be2f-6810438691d6",
   "metadata": {},
   "outputs": [],
   "source": [
    "%pip install darts"
   ]
  },
  {
   "cell_type": "markdown",
   "id": "edfb7114-2f8b-4e2d-b5b8-73fc3d874cf0",
   "metadata": {},
   "source": [
    "It takes a while to install darts library. Then we prepare the inference set."
   ]
  },
  {
   "cell_type": "code",
   "execution_count": null,
   "id": "328fe1f0-a124-4e5a-ba03-236297470be1",
   "metadata": {},
   "outputs": [],
   "source": [
    "import json\n",
    "from datetime import datetime\n",
    "from darts.datasets import AirPassengersDataset\n",
    "\n",
    "series = AirPassengersDataset().load()\n",
    "val = series[-24:]\n",
    "json_value = json.loads(val.to_json())\n",
    "\n",
    "data = map(lambda x, y: {\"value\": x[0], \"date\": datetime.timestamp(datetime.strptime(y, \"%Y-%m-%dT%H:%M:%S.%f\"))*1000}, json_value[\"data\"], json_value[\"index\"])\n",
    "inputs = {\"inference_input\": list(data)}"
   ]
  },
  {
   "cell_type": "code",
   "execution_count": null,
   "id": "66c9dadd-6fa4-4f43-8d76-fc20a12dc4f3",
   "metadata": {},
   "outputs": [],
   "source": [
    "serve_run.invoke(json=inputs).json()"
   ]
  },
  {
   "cell_type": "markdown",
   "id": "e81d666c-fc05-4c38-8ee8-b1feb950404e",
   "metadata": {},
   "source": [
    "## Workflow Pipeline"
   ]
  },
  {
   "cell_type": "code",
   "execution_count": null,
   "id": "f12b8637-4cd4-4e96-bb14-deb10b591492",
   "metadata": {},
   "outputs": [],
   "source": [
    "%%writefile \"src/cml_darts_pipeline.py\"\n",
    "\n",
    "from digitalhub_runtime_kfp.dsl import pipeline_context\n",
    "\n",
    "def myhandler():\n",
    "    with pipeline_context() as pc:\n",
    "        trainer = pc.step(name=\"train-model\", function=\"train-darts\", action=\"job\")"
   ]
  },
  {
   "cell_type": "code",
   "execution_count": null,
   "id": "4327d7f5-c2ec-4b4f-b8e4-2419490167dd",
   "metadata": {},
   "outputs": [],
   "source": [
    "workflow = project.new_workflow(name=\"pipeline_cml_darts\",\n",
    "                                kind=\"kfp\",\n",
    "                                code_src=\"src/cml_darts_pipeline.py\",\n",
    "                                handler =\"myhandler\")"
   ]
  },
  {
   "cell_type": "code",
   "execution_count": null,
   "id": "14ed5413-2161-48fb-ab22-9678c3ad0c6e",
   "metadata": {},
   "outputs": [],
   "source": [
    "wf_run = workflow.run(\"build\", wait=True)"
   ]
  },
  {
   "cell_type": "code",
   "execution_count": null,
   "id": "2472d7fd-81bf-41db-804f-3b38f49a3708",
   "metadata": {},
   "outputs": [],
   "source": [
    "wf_run = workflow.run(\"pipeline\", wait=True)"
   ]
  }
 ],
 "metadata": {
  "kernelspec": {
   "display_name": "Python 3 (ipykernel)",
   "language": "python",
   "name": "python3"
  },
  "language_info": {
   "codemirror_mode": {
    "name": "ipython",
    "version": 3
   },
   "file_extension": ".py",
   "mimetype": "text/x-python",
   "name": "python",
   "nbconvert_exporter": "python",
   "pygments_lexer": "ipython3",
   "version": "3.10.11"
  }
 },
 "nbformat": 4,
 "nbformat_minor": 5
}
