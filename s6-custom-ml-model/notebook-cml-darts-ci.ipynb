{
 "cells": [
  {
   "cell_type": "code",
   "execution_count": 2,
   "id": "bbf53e6b-d054-41b8-87d0-fe9248489809",
   "metadata": {},
   "outputs": [],
   "source": [
    "import digitalhub as dh\n",
    "import pandas as pd\n",
    "import os"
   ]
  },
  {
   "cell_type": "code",
   "execution_count": 3,
   "id": "d47af28a-e2c9-4f7b-a2f2-6dc67a702d30",
   "metadata": {},
   "outputs": [],
   "source": [
    "PROJECT = \"project-cml-darts-ci\"\n",
    "project = dh.get_or_create_project(PROJECT)"
   ]
  },
  {
   "cell_type": "code",
   "execution_count": 4,
   "id": "33a53adc-d5b8-4488-b7c7-dc6886a4301c",
   "metadata": {},
   "outputs": [],
   "source": [
    "new_folder = 'src'\n",
    "if not os.path.exists(new_folder):\n",
    "    os.makedirs(new_folder)"
   ]
  },
  {
   "cell_type": "code",
   "execution_count": 5,
   "id": "5d541f7e-2e4b-4eec-b92d-53f0cedf920d",
   "metadata": {},
   "outputs": [
    {
     "name": "stdout",
     "output_type": "stream",
     "text": [
      "Writing src/train-model.py\n"
     ]
    }
   ],
   "source": [
    "%%writefile \"src/train-model.py\"\n",
    "\n",
    "\n",
    "from digitalhub_runtime_python import handler\n",
    "\n",
    "import pandas as pd\n",
    "import numpy as np\n",
    "\n",
    "from darts import TimeSeries\n",
    "from darts.datasets import AirPassengersDataset\n",
    "from darts.models import NBEATSModel\n",
    "from darts.metrics import mape, smape, mae\n",
    "\n",
    "from zipfile import ZipFile\n",
    "\n",
    "@handler()\n",
    "def train_model(project):\n",
    "    series = AirPassengersDataset().load()\n",
    "    train, val = series[:-36], series[-36:]\n",
    "\n",
    "    model = NBEATSModel(\n",
    "        input_chunk_length=24,\n",
    "        output_chunk_length=12,\n",
    "        n_epochs=200,\n",
    "        random_state=0\n",
    "    )\n",
    "    model.fit(train)\n",
    "    pred = model.predict(n=36)\n",
    "\n",
    "    model.save(\"predictor_model.pt\")\n",
    "    with ZipFile(\"predictor_model.pt.zip\", \"w\") as z:\n",
    "        z.write(\"predictor_model.pt\")\n",
    "        z.write(\"predictor_model.pt.ckpt\")\n",
    "    metrics = {\n",
    "        \"mape\": mape(series, pred),\n",
    "        \"smape\": smape(series, pred),\n",
    "        \"mae\": mae(series, pred)\n",
    "    }\n",
    "\n",
    "    project.log_model(\n",
    "        name=\"darts_model\",\n",
    "        kind=\"model\",\n",
    "        source=\"predictor_model.pt.zip\",\n",
    "        algorithm=\"darts.models.NBEATSModel\",\n",
    "        framework=\"darts\",\n",
    "        metrics=metrics\n",
    "    )"
   ]
  },
  {
   "cell_type": "code",
   "execution_count": 6,
   "id": "db14f65f-e948-43c0-b8c1-c56569b3142f",
   "metadata": {},
   "outputs": [],
   "source": [
    "train_fn = project.new_function(\n",
    "     name=\"train-darts\",\n",
    "     kind=\"python\",\n",
    "     python_version=\"PYTHON3_10\",\n",
    "     source={\"source\": \"src/train-model.py\", \"handler\": \"train_model\"})"
   ]
  },
  {
   "cell_type": "code",
   "execution_count": 9,
   "id": "430db175-e792-4d23-9d88-984532fd17c7",
   "metadata": {},
   "outputs": [
    {
     "data": {
      "text/plain": [
       "{'kind': 'python+run', 'metadata': {'project': 'project-cml-darts-ci', 'name': 'cb15d70e-66bb-42be-b773-e2c38c028b4d', 'created': '2024-10-29T09:31:45.181Z', 'updated': '2024-10-29T09:31:45.198Z', 'created_by': 'khurshid@fbk.eu', 'updated_by': 'khurshid@fbk.eu'}, 'spec': {'task': 'python+build://project-cml-darts-ci/train-darts:9d40b7aa-43a7-4ba9-bdbf-c02f7d5e5935', 'local_execution': False, 'function': 'python://project-cml-darts-ci/train-darts:9d40b7aa-43a7-4ba9-bdbf-c02f7d5e5935', 'source': {'source': 'src/train-model.py', 'handler': 'train_model', 'base64': 'Cgpmcm9tIGRpZ2l0YWxodWJfcnVudGltZV9weXRob24gaW1wb3J0IGhhbmRsZXIKCmltcG9ydCBwYW5kYXMgYXMgcGQKaW1wb3J0IG51bXB5IGFzIG5wCgpmcm9tIGRhcnRzIGltcG9ydCBUaW1lU2VyaWVzCmZyb20gZGFydHMuZGF0YXNldHMgaW1wb3J0IEFpclBhc3NlbmdlcnNEYXRhc2V0CmZyb20gZGFydHMubW9kZWxzIGltcG9ydCBOQkVBVFNNb2RlbApmcm9tIGRhcnRzLm1ldHJpY3MgaW1wb3J0IG1hcGUsIHNtYXBlLCBtYWUKCmZyb20gemlwZmlsZSBpbXBvcnQgWmlwRmlsZQoKQGhhbmRsZXIoKQpkZWYgdHJhaW5fbW9kZWwocHJvamVjdCk6CiAgICBzZXJpZXMgPSBBaXJQYXNzZW5nZXJzRGF0YXNldCgpLmxvYWQoKQogICAgdHJhaW4sIHZhbCA9IHNlcmllc1s6LTM2XSwgc2VyaWVzWy0zNjpdCgogICAgbW9kZWwgPSBOQkVBVFNNb2RlbCgKICAgICAgICBpbnB1dF9jaHVua19sZW5ndGg9MjQsCiAgICAgICAgb3V0cHV0X2NodW5rX2xlbmd0aD0xMiwKICAgICAgICBuX2Vwb2Nocz0yMDAsCiAgICAgICAgcmFuZG9tX3N0YXRlPTAKICAgICkKICAgIG1vZGVsLmZpdCh0cmFpbikKICAgIHByZWQgPSBtb2RlbC5wcmVkaWN0KG49MzYpCgogICAgbW9kZWwuc2F2ZSgicHJlZGljdG9yX21vZGVsLnB0IikKICAgIHdpdGggWmlwRmlsZSgicHJlZGljdG9yX21vZGVsLnB0LnppcCIsICJ3IikgYXMgejoKICAgICAgICB6LndyaXRlKCJwcmVkaWN0b3JfbW9kZWwucHQiKQogICAgICAgIHoud3JpdGUoInByZWRpY3Rvcl9tb2RlbC5wdC5ja3B0IikKICAgIG1ldHJpY3MgPSB7CiAgICAgICAgIm1hcGUiOiBtYXBlKHNlcmllcywgcHJlZCksCiAgICAgICAgInNtYXBlIjogc21hcGUoc2VyaWVzLCBwcmVkKSwKICAgICAgICAibWFlIjogbWFlKHNlcmllcywgcHJlZCkKICAgIH0KCiAgICBwcm9qZWN0LmxvZ19tb2RlbCgKICAgICAgICBuYW1lPSJkYXJ0c19tb2RlbCIsCiAgICAgICAga2luZD0ibW9kZWwiLAogICAgICAgIHNvdXJjZT0icHJlZGljdG9yX21vZGVsLnB0LnppcCIsCiAgICAgICAgYWxnb3JpdGhtPSJkYXJ0cy5tb2RlbHMuTkJFQVRTTW9kZWwiLAogICAgICAgIGZyYW1ld29yaz0iZGFydHMiLAogICAgICAgIG1ldHJpY3M9bWV0cmljcwogICAgKQo=', 'lang': 'python'}, 'python_version': 'PYTHON3_10', 'instructions': ['pip3 install torch torchvision torchaudio --index-url https://download.pytorch.org/whl/cpu', 'pip3 install darts patsy scikit-learn'], 'inputs': {}, 'outputs': {}, 'parameters': {}}, 'status': {'state': 'READY', 'transitions': [{'status': 'READY', 'time': '2024-10-29T09:31:45.198327188Z'}, {'status': 'BUILT', 'time': '2024-10-29T09:31:45.186415995Z'}]}, 'user': 'khurshid@fbk.eu', 'project': 'project-cml-darts-ci', 'id': 'cb15d70e-66bb-42be-b773-e2c38c028b4d', 'key': 'store://project-cml-darts-ci/run/python+run/cb15d70e-66bb-42be-b773-e2c38c028b4d'}"
      ]
     },
     "execution_count": 9,
     "metadata": {},
     "output_type": "execute_result"
    }
   ],
   "source": [
    "train_fn.run(action=\"build\", instructions=[\"pip3 install torch torchvision torchaudio --index-url https://download.pytorch.org/whl/cpu\",\"pip3 install darts patsy scikit-learn\"])"
   ]
  },
  {
   "cell_type": "markdown",
   "id": "869be29e-2f44-4e47-9cc6-0d36585557b7",
   "metadata": {},
   "source": [
    "Wait until build job is completed. One can check the status of 'Run' from console or by typing the following command"
   ]
  },
  {
   "cell_type": "code",
   "execution_count": null,
   "id": "a8fe3d09-31fb-426f-8d9b-79310a83a4fa",
   "metadata": {},
   "outputs": [],
   "source": [
    "train_fn.get_state()"
   ]
  },
  {
   "cell_type": "markdown",
   "id": "5183f44b-1206-449f-a6c1-6a12e8db3b22",
   "metadata": {},
   "source": [
    "Once completed, proceed to run the training job."
   ]
  },
  {
   "cell_type": "code",
   "execution_count": 10,
   "id": "485ee25b-641a-4d20-9fae-cecc18451882",
   "metadata": {},
   "outputs": [
    {
     "data": {
      "text/plain": [
       "{'kind': 'python+run', 'metadata': {'project': 'project-cml-darts-ci', 'name': '403059fd-3a71-49b1-bb40-ca59c6bef6e7', 'created': '2024-10-29T09:37:23.15Z', 'updated': '2024-10-29T09:37:23.176Z', 'created_by': 'khurshid@fbk.eu', 'updated_by': 'khurshid@fbk.eu'}, 'spec': {'task': 'python+job://project-cml-darts-ci/train-darts:9d40b7aa-43a7-4ba9-bdbf-c02f7d5e5935', 'local_execution': False, 'function': 'python://project-cml-darts-ci/train-darts:9d40b7aa-43a7-4ba9-bdbf-c02f7d5e5935', 'source': {'source': 'src/train-model.py', 'handler': 'train_model', 'base64': 'Cgpmcm9tIGRpZ2l0YWxodWJfcnVudGltZV9weXRob24gaW1wb3J0IGhhbmRsZXIKCmltcG9ydCBwYW5kYXMgYXMgcGQKaW1wb3J0IG51bXB5IGFzIG5wCgpmcm9tIGRhcnRzIGltcG9ydCBUaW1lU2VyaWVzCmZyb20gZGFydHMuZGF0YXNldHMgaW1wb3J0IEFpclBhc3NlbmdlcnNEYXRhc2V0CmZyb20gZGFydHMubW9kZWxzIGltcG9ydCBOQkVBVFNNb2RlbApmcm9tIGRhcnRzLm1ldHJpY3MgaW1wb3J0IG1hcGUsIHNtYXBlLCBtYWUKCmZyb20gemlwZmlsZSBpbXBvcnQgWmlwRmlsZQoKQGhhbmRsZXIoKQpkZWYgdHJhaW5fbW9kZWwocHJvamVjdCk6CiAgICBzZXJpZXMgPSBBaXJQYXNzZW5nZXJzRGF0YXNldCgpLmxvYWQoKQogICAgdHJhaW4sIHZhbCA9IHNlcmllc1s6LTM2XSwgc2VyaWVzWy0zNjpdCgogICAgbW9kZWwgPSBOQkVBVFNNb2RlbCgKICAgICAgICBpbnB1dF9jaHVua19sZW5ndGg9MjQsCiAgICAgICAgb3V0cHV0X2NodW5rX2xlbmd0aD0xMiwKICAgICAgICBuX2Vwb2Nocz0yMDAsCiAgICAgICAgcmFuZG9tX3N0YXRlPTAKICAgICkKICAgIG1vZGVsLmZpdCh0cmFpbikKICAgIHByZWQgPSBtb2RlbC5wcmVkaWN0KG49MzYpCgogICAgbW9kZWwuc2F2ZSgicHJlZGljdG9yX21vZGVsLnB0IikKICAgIHdpdGggWmlwRmlsZSgicHJlZGljdG9yX21vZGVsLnB0LnppcCIsICJ3IikgYXMgejoKICAgICAgICB6LndyaXRlKCJwcmVkaWN0b3JfbW9kZWwucHQiKQogICAgICAgIHoud3JpdGUoInByZWRpY3Rvcl9tb2RlbC5wdC5ja3B0IikKICAgIG1ldHJpY3MgPSB7CiAgICAgICAgIm1hcGUiOiBtYXBlKHNlcmllcywgcHJlZCksCiAgICAgICAgInNtYXBlIjogc21hcGUoc2VyaWVzLCBwcmVkKSwKICAgICAgICAibWFlIjogbWFlKHNlcmllcywgcHJlZCkKICAgIH0KCiAgICBwcm9qZWN0LmxvZ19tb2RlbCgKICAgICAgICBuYW1lPSJkYXJ0c19tb2RlbCIsCiAgICAgICAga2luZD0ibW9kZWwiLAogICAgICAgIHNvdXJjZT0icHJlZGljdG9yX21vZGVsLnB0LnppcCIsCiAgICAgICAgYWxnb3JpdGhtPSJkYXJ0cy5tb2RlbHMuTkJFQVRTTW9kZWwiLAogICAgICAgIGZyYW1ld29yaz0iZGFydHMiLAogICAgICAgIG1ldHJpY3M9bWV0cmljcwogICAgKQo=', 'lang': 'python'}, 'image': 'registry.tenant1.digitalhub-dev.smartcommunitylab.it/digitalhub-tenant1-project-cml-darts-ci-train-darts:cb15d', 'python_version': 'PYTHON3_10', 'inputs': {}, 'outputs': {}, 'parameters': {}}, 'status': {'state': 'READY', 'transitions': [{'status': 'READY', 'time': '2024-10-29T09:37:23.176173115Z'}, {'status': 'BUILT', 'time': '2024-10-29T09:37:23.15812274Z'}]}, 'user': 'khurshid@fbk.eu', 'project': 'project-cml-darts-ci', 'id': '403059fd-3a71-49b1-bb40-ca59c6bef6e7', 'key': 'store://project-cml-darts-ci/run/python+run/403059fd-3a71-49b1-bb40-ca59c6bef6e7'}"
      ]
     },
     "execution_count": 10,
     "metadata": {},
     "output_type": "execute_result"
    }
   ],
   "source": [
    "train_fn.run(action=\"job\", local_execution=False)"
   ]
  },
  {
   "cell_type": "markdown",
   "id": "ce976999-80ea-4014-a502-c019f8b08086",
   "metadata": {},
   "source": [
    "Wait for job to be completed. One can check the status of 'Run' from console or by typing the following command"
   ]
  },
  {
   "cell_type": "code",
   "execution_count": null,
   "id": "553d580b-76ea-4260-b6cb-7898accf5509",
   "metadata": {},
   "outputs": [],
   "source": [
    "train_fn.get_state()"
   ]
  },
  {
   "cell_type": "markdown",
   "id": "121a2392-10c5-4618-b91b-6b10fb8e721e",
   "metadata": {},
   "source": [
    "Once completed, proceed with serve run."
   ]
  },
  {
   "cell_type": "code",
   "execution_count": 11,
   "id": "e5a44ff5-2b86-49f4-9eea-c4ff142dd44b",
   "metadata": {},
   "outputs": [
    {
     "name": "stdout",
     "output_type": "stream",
     "text": [
      "Writing src/serve_darts_model-nk.py\n"
     ]
    }
   ],
   "source": [
    "%%writefile \"src/serve_darts_model-nk.py\"\n",
    "\n",
    "from darts.models import NBEATSModel\n",
    "from zipfile import ZipFile\n",
    "from darts import TimeSeries\n",
    "import json\n",
    "import pandas as pd\n",
    "\n",
    "def init(context):\n",
    "    model_name = \"darts_model\"\n",
    "\n",
    "    model = context.project.get_model(model_name)\n",
    "    path = model.download()\n",
    "    local_path_model = \"extracted_model/\"\n",
    "\n",
    "    with ZipFile(path, 'r') as zip_ref:\n",
    "        zip_ref.extractall(local_path_model)\n",
    "\n",
    "    input_chunk_length = 24\n",
    "    output_chunk_length = 12\n",
    "    name_model_local = local_path_model +\"predictor_model.pt\"\n",
    "    mm = NBEATSModel(\n",
    "            input_chunk_length,\n",
    "            output_chunk_length\n",
    "    ).load(name_model_local)\n",
    "\n",
    "    setattr(context, \"model\", mm)\n",
    "\n",
    "def serve(context, event):\n",
    "\n",
    "    if isinstance(event.body, bytes):\n",
    "        body = json.loads(event.body)\n",
    "    else:\n",
    "        body = event.body\n",
    "    context.logger.info(f\"Received event: {body}\")\n",
    "    inference_input = body[\"inference_input\"]\n",
    "\n",
    "    pdf = pd.DataFrame(inference_input)\n",
    "    pdf['date'] = pd.to_datetime(pdf['date'], unit='ms')\n",
    "\n",
    "    ts = TimeSeries.from_dataframe(\n",
    "        pdf,\n",
    "        time_col=\"date\",\n",
    "        value_cols=\"value\"\n",
    "    )\n",
    "\n",
    "    output_chunk_length = 12\n",
    "    result = context.model.predict(n=output_chunk_length*2, series=ts)\n",
    "    # Convert the result to a pandas DataFrame, reset the index, and convert to a list\n",
    "    jsonstr = result.pd_dataframe().reset_index().to_json(orient='records')\n",
    "    return json.loads(jsonstr)"
   ]
  },
  {
   "cell_type": "code",
   "execution_count": 14,
   "id": "79310799-708a-4121-8bb9-0d592a7fa22a",
   "metadata": {},
   "outputs": [],
   "source": [
    "func = project.new_function(name=\"serve_darts_model\",\n",
    "                            kind=\"python\",\n",
    "                            python_version=\"PYTHON3_10\",\n",
    "                            source={\n",
    "                                 \"source\": \"src/serve_darts_model-nk.py\",\n",
    "                                 \"handler\": \"serve\",\n",
    "                                 \"init_function\": \"init\"})"
   ]
  },
  {
   "cell_type": "code",
   "execution_count": 15,
   "id": "73e43fc1-937f-4313-9d64-8bc7a2e60b2a",
   "metadata": {},
   "outputs": [],
   "source": [
    "run_build_model_serve = func.run(action=\"build\",instructions=[\"pip3 install torch torchvision torchaudio --index-url https://download.pytorch.org/whl/cpu\",\"pip3 install darts patsy scikit-learn\"])"
   ]
  },
  {
   "cell_type": "markdown",
   "id": "86c5851c-70e4-4b1a-a9f8-5796b2ab7bee",
   "metadata": {},
   "source": [
    "Wait for job to be completed. One can check the status of 'Run' from console or by typing the following command"
   ]
  },
  {
   "cell_type": "code",
   "execution_count": null,
   "id": "d195a666-03c7-4452-b44b-e29b48123977",
   "metadata": {},
   "outputs": [],
   "source": [
    "run_serve.get_state()"
   ]
  },
  {
   "cell_type": "markdown",
   "id": "3469a531-bc15-46d5-b50a-185ee6ed3289",
   "metadata": {},
   "source": [
    "Once completed, run the serve job."
   ]
  },
  {
   "cell_type": "code",
   "execution_count": 26,
   "id": "32048ea6-6124-400b-a2d0-d9a560e00d59",
   "metadata": {},
   "outputs": [],
   "source": [
    "run_serve = func.run(action=\"serve\", labels=[\"service\"])"
   ]
  },
  {
   "cell_type": "markdown",
   "id": "18916448-e413-4a4e-b523-398fa8cd6475",
   "metadata": {},
   "source": [
    "Wait for job to be in 'running' state. One can check the status of 'Run' from console or by typing the following command"
   ]
  },
  {
   "cell_type": "code",
   "execution_count": 28,
   "id": "361f12fc-5a92-4f40-812c-cf95f6a87484",
   "metadata": {},
   "outputs": [
    {
     "data": {
      "text/plain": [
       "{'project': 'project-cml-darts-ci', 'name': '734ea1da-650a-4dc6-8cc9-f00491f2127c', 'labels': ['nawaz'], 'created': '2024-10-29T10:24:40.564Z', 'updated': '2024-10-29T10:24:40.665Z', 'created_by': 'khurshid@fbk.eu', 'updated_by': 'khurshid@fbk.eu'}"
      ]
     },
     "execution_count": 28,
     "metadata": {},
     "output_type": "execute_result"
    }
   ],
   "source": [
    "run_serve.metadata"
   ]
  },
  {
   "cell_type": "markdown",
   "id": "ab6654cd-3b7d-4fbc-b002-32442cc8ce77",
   "metadata": {},
   "source": [
    "Once completed, make API call to the serve job."
   ]
  },
  {
   "cell_type": "code",
   "execution_count": 2,
   "id": "2626b59f-ad11-4281-be2f-6810438691d6",
   "metadata": {},
   "outputs": [
    {
     "name": "stdout",
     "output_type": "stream",
     "text": [
      "Collecting darts==0.30.0\n",
      "  Using cached darts-0.30.0-py3-none-any.whl (917 kB)\n",
      "Collecting holidays>=0.11.1 (from darts==0.30.0)\n",
      "  Using cached holidays-0.59-py3-none-any.whl (1.1 MB)\n",
      "Requirement already satisfied: joblib>=0.16.0 in /opt/conda/lib/python3.10/site-packages (from darts==0.30.0) (1.4.2)\n",
      "Requirement already satisfied: matplotlib>=3.3.0 in /opt/conda/lib/python3.10/site-packages (from darts==0.30.0) (3.9.2)\n",
      "Collecting nfoursid>=1.0.0 (from darts==0.30.0)\n",
      "  Using cached nfoursid-1.0.1-py3-none-any.whl (16 kB)\n",
      "Requirement already satisfied: numpy<2.0.0,>=1.19.0 in /opt/conda/lib/python3.10/site-packages (from darts==0.30.0) (1.26.4)\n",
      "Collecting pmdarima>=1.8.0 (from darts==0.30.0)\n",
      "  Using cached pmdarima-2.0.4-cp310-cp310-manylinux_2_17_x86_64.manylinux2014_x86_64.manylinux_2_28_x86_64.whl (2.1 MB)\n",
      "Collecting pyod>=0.9.5 (from darts==0.30.0)\n",
      "  Using cached pyod-2.0.2.tar.gz (165 kB)\n",
      "  Preparing metadata (setup.py) ... \u001b[?25ldone\n",
      "\u001b[?25hRequirement already satisfied: requests>=2.22.0 in /opt/conda/lib/python3.10/site-packages (from darts==0.30.0) (2.31.0)\n",
      "Requirement already satisfied: scikit-learn>=1.0.1 in /opt/conda/lib/python3.10/site-packages (from darts==0.30.0) (1.5.2)\n",
      "Requirement already satisfied: scipy>=1.3.2 in /opt/conda/lib/python3.10/site-packages (from darts==0.30.0) (1.14.1)\n",
      "Collecting shap>=0.40.0 (from darts==0.30.0)\n",
      "  Using cached shap-0.46.0-cp310-cp310-manylinux_2_12_x86_64.manylinux2010_x86_64.manylinux_2_17_x86_64.manylinux2014_x86_64.whl (540 kB)\n",
      "Collecting statsforecast>=1.4 (from darts==0.30.0)\n",
      "  Using cached statsforecast-1.7.8-cp310-cp310-manylinux_2_17_x86_64.manylinux2014_x86_64.whl (314 kB)\n",
      "Collecting statsmodels>=0.14.0 (from darts==0.30.0)\n",
      "  Using cached statsmodels-0.14.4-cp310-cp310-manylinux_2_17_x86_64.manylinux2014_x86_64.whl (10.8 MB)\n",
      "Collecting tbats>=1.1.0 (from darts==0.30.0)\n",
      "  Using cached tbats-1.1.3-py3-none-any.whl (44 kB)\n",
      "Requirement already satisfied: tqdm>=4.60.0 in /opt/conda/lib/python3.10/site-packages (from darts==0.30.0) (4.65.0)\n",
      "Requirement already satisfied: typing-extensions in /opt/conda/lib/python3.10/site-packages (from darts==0.30.0) (4.12.2)\n",
      "Collecting xarray>=0.17.0 (from darts==0.30.0)\n",
      "  Using cached xarray-2024.10.0-py3-none-any.whl (1.2 MB)\n",
      "Collecting xgboost>=1.6.0 (from darts==0.30.0)\n",
      "  Using cached xgboost-2.1.2-py3-none-manylinux_2_28_x86_64.whl (153.9 MB)\n",
      "Collecting pytorch-lightning>=1.5.0 (from darts==0.30.0)\n",
      "  Using cached pytorch_lightning-2.4.0-py3-none-any.whl (815 kB)\n",
      "Collecting tensorboardX>=2.1 (from darts==0.30.0)\n",
      "  Using cached tensorboardX-2.6.2.2-py2.py3-none-any.whl (101 kB)\n",
      "Collecting torch>=1.8.0 (from darts==0.30.0)\n",
      "  Downloading torch-2.5.0-cp310-cp310-manylinux1_x86_64.whl (906.4 MB)\n",
      "\u001b[2K     \u001b[90m━━━━━━━━━━━━━━━━━━━━━━━━━━━━━━━━━━━━━━━\u001b[0m \u001b[32m906.4/906.4 MB\u001b[0m \u001b[31m1.5 MB/s\u001b[0m eta \u001b[36m0:00:00\u001b[0m00:01\u001b[0m00:01\u001b[0m\n",
      "\u001b[?25hRequirement already satisfied: pandas>=1.0.5 in /opt/conda/lib/python3.10/site-packages (from darts==0.30.0) (2.1.4)\n",
      "Requirement already satisfied: python-dateutil in /opt/conda/lib/python3.10/site-packages (from holidays>=0.11.1->darts==0.30.0) (2.8.2)\n",
      "Requirement already satisfied: contourpy>=1.0.1 in /opt/conda/lib/python3.10/site-packages (from matplotlib>=3.3.0->darts==0.30.0) (1.3.0)\n",
      "Requirement already satisfied: cycler>=0.10 in /opt/conda/lib/python3.10/site-packages (from matplotlib>=3.3.0->darts==0.30.0) (0.12.1)\n",
      "Requirement already satisfied: fonttools>=4.22.0 in /opt/conda/lib/python3.10/site-packages (from matplotlib>=3.3.0->darts==0.30.0) (4.54.1)\n",
      "Requirement already satisfied: kiwisolver>=1.3.1 in /opt/conda/lib/python3.10/site-packages (from matplotlib>=3.3.0->darts==0.30.0) (1.4.7)\n",
      "Requirement already satisfied: packaging>=20.0 in /opt/conda/lib/python3.10/site-packages (from matplotlib>=3.3.0->darts==0.30.0) (23.1)\n",
      "Requirement already satisfied: pillow>=8 in /opt/conda/lib/python3.10/site-packages (from matplotlib>=3.3.0->darts==0.30.0) (11.0.0)\n",
      "Requirement already satisfied: pyparsing>=2.3.1 in /opt/conda/lib/python3.10/site-packages (from matplotlib>=3.3.0->darts==0.30.0) (3.2.0)\n",
      "Requirement already satisfied: pytz>=2020.1 in /opt/conda/lib/python3.10/site-packages (from pandas>=1.0.5->darts==0.30.0) (2023.3)\n",
      "Requirement already satisfied: tzdata>=2022.1 in /opt/conda/lib/python3.10/site-packages (from pandas>=1.0.5->darts==0.30.0) (2024.2)\n",
      "Collecting Cython!=0.29.18,!=0.29.31,>=0.29 (from pmdarima>=1.8.0->darts==0.30.0)\n",
      "  Downloading Cython-3.0.11-cp310-cp310-manylinux_2_17_x86_64.manylinux2014_x86_64.whl (3.6 MB)\n",
      "\u001b[2K     \u001b[90m━━━━━━━━━━━━━━━━━━━━━━━━━━━━━━━━━━━━━━━━\u001b[0m \u001b[32m3.6/3.6 MB\u001b[0m \u001b[31m30.2 MB/s\u001b[0m eta \u001b[36m0:00:00\u001b[0m00:01\u001b[0m00:01\u001b[0mm\n",
      "\u001b[?25hRequirement already satisfied: urllib3 in /opt/conda/lib/python3.10/site-packages (from pmdarima>=1.8.0->darts==0.30.0) (2.0.2)\n",
      "Requirement already satisfied: setuptools!=50.0.0,>=38.6.0 in /opt/conda/lib/python3.10/site-packages (from pmdarima>=1.8.0->darts==0.30.0) (67.7.2)\n",
      "Collecting numba>=0.51 (from pyod>=0.9.5->darts==0.30.0)\n",
      "  Downloading numba-0.60.0-cp310-cp310-manylinux2014_x86_64.manylinux_2_17_x86_64.whl (3.7 MB)\n",
      "\u001b[2K     \u001b[90m━━━━━━━━━━━━━━━━━━━━━━━━━━━━━━━━━━━━━━━━\u001b[0m \u001b[32m3.7/3.7 MB\u001b[0m \u001b[31m94.5 MB/s\u001b[0m eta \u001b[36m0:00:00\u001b[0m:00:01\u001b[0m\n",
      "\u001b[?25hRequirement already satisfied: PyYAML>=5.4 in /opt/conda/lib/python3.10/site-packages (from pytorch-lightning>=1.5.0->darts==0.30.0) (6.0)\n",
      "Collecting fsspec[http]>=2022.5.0 (from pytorch-lightning>=1.5.0->darts==0.30.0)\n",
      "  Downloading fsspec-2024.10.0-py3-none-any.whl (179 kB)\n",
      "\u001b[2K     \u001b[90m━━━━━━━━━━━━━━━━━━━━━━━━━━━━━━━━━━━━━━\u001b[0m \u001b[32m179.6/179.6 kB\u001b[0m \u001b[31m20.5 MB/s\u001b[0m eta \u001b[36m0:00:00\u001b[0m\n",
      "\u001b[?25hCollecting torchmetrics>=0.7.0 (from pytorch-lightning>=1.5.0->darts==0.30.0)\n",
      "  Downloading torchmetrics-1.5.1-py3-none-any.whl (890 kB)\n",
      "\u001b[2K     \u001b[90m━━━━━━━━━━━━━━━━━━━━━━━━━━━━━━━━━━━━━━\u001b[0m \u001b[32m890.6/890.6 kB\u001b[0m \u001b[31m57.9 MB/s\u001b[0m eta \u001b[36m0:00:00\u001b[0m\n",
      "\u001b[?25hCollecting lightning-utilities>=0.10.0 (from pytorch-lightning>=1.5.0->darts==0.30.0)\n",
      "  Downloading lightning_utilities-0.11.8-py3-none-any.whl (26 kB)\n",
      "Requirement already satisfied: charset-normalizer<4,>=2 in /opt/conda/lib/python3.10/site-packages (from requests>=2.22.0->darts==0.30.0) (3.1.0)\n",
      "Requirement already satisfied: idna<4,>=2.5 in /opt/conda/lib/python3.10/site-packages (from requests>=2.22.0->darts==0.30.0) (3.4)\n",
      "Requirement already satisfied: certifi>=2017.4.17 in /opt/conda/lib/python3.10/site-packages (from requests>=2.22.0->darts==0.30.0) (2023.5.7)\n",
      "Requirement already satisfied: threadpoolctl>=3.1.0 in /opt/conda/lib/python3.10/site-packages (from scikit-learn>=1.0.1->darts==0.30.0) (3.5.0)\n",
      "Collecting slicer==0.0.8 (from shap>=0.40.0->darts==0.30.0)\n",
      "  Downloading slicer-0.0.8-py3-none-any.whl (15 kB)\n",
      "Requirement already satisfied: cloudpickle in /opt/conda/lib/python3.10/site-packages (from shap>=0.40.0->darts==0.30.0) (3.1.0)\n",
      "Collecting coreforecast>=0.0.12 (from statsforecast>=1.4->darts==0.30.0)\n",
      "  Downloading coreforecast-0.0.13.1-cp310-cp310-manylinux_2_17_x86_64.manylinux2014_x86_64.whl (271 kB)\n",
      "\u001b[2K     \u001b[90m━━━━━━━━━━━━━━━━━━━━━━━━━━━━━━━━━━━━━━\u001b[0m \u001b[32m271.4/271.4 kB\u001b[0m \u001b[31m13.7 MB/s\u001b[0m eta \u001b[36m0:00:00\u001b[0m\n",
      "\u001b[?25hCollecting fugue>=0.8.1 (from statsforecast>=1.4->darts==0.30.0)\n",
      "  Downloading fugue-0.9.1-py3-none-any.whl (278 kB)\n",
      "\u001b[2K     \u001b[90m━━━━━━━━━━━━━━━━━━━━━━━━━━━━━━━━━━━━━━\u001b[0m \u001b[32m278.2/278.2 kB\u001b[0m \u001b[31m35.5 MB/s\u001b[0m eta \u001b[36m0:00:00\u001b[0m\n",
      "\u001b[?25hCollecting utilsforecast>=0.1.4 (from statsforecast>=1.4->darts==0.30.0)\n",
      "  Downloading utilsforecast-0.2.7-py3-none-any.whl (41 kB)\n",
      "\u001b[2K     \u001b[90m━━━━━━━━━━━━━━━━━━━━━━━━━━━━━━━━━━━━━━━━\u001b[0m \u001b[32m41.4/41.4 kB\u001b[0m \u001b[31m7.0 MB/s\u001b[0m eta \u001b[36m0:00:00\u001b[0m\n",
      "\u001b[?25hCollecting patsy>=0.5.6 (from statsmodels>=0.14.0->darts==0.30.0)\n",
      "  Downloading patsy-0.5.6-py2.py3-none-any.whl (233 kB)\n",
      "\u001b[2K     \u001b[90m━━━━━━━━━━━━━━━━━━━━━━━━━━━━━━━━━━━━━━\u001b[0m \u001b[32m233.9/233.9 kB\u001b[0m \u001b[31m32.6 MB/s\u001b[0m eta \u001b[36m0:00:00\u001b[0m\n",
      "\u001b[?25hRequirement already satisfied: protobuf>=3.20 in /opt/conda/lib/python3.10/site-packages (from tensorboardX>=2.1->darts==0.30.0) (4.25.5)\n",
      "Collecting filelock (from torch>=1.8.0->darts==0.30.0)\n",
      "  Downloading filelock-3.16.1-py3-none-any.whl (16 kB)\n",
      "Requirement already satisfied: networkx in /opt/conda/lib/python3.10/site-packages (from torch>=1.8.0->darts==0.30.0) (3.4.2)\n",
      "Requirement already satisfied: jinja2 in /opt/conda/lib/python3.10/site-packages (from torch>=1.8.0->darts==0.30.0) (3.1.4)\n",
      "Collecting nvidia-cuda-nvrtc-cu12==12.4.127 (from torch>=1.8.0->darts==0.30.0)\n",
      "  Downloading nvidia_cuda_nvrtc_cu12-12.4.127-py3-none-manylinux2014_x86_64.whl (24.6 MB)\n",
      "\u001b[2K     \u001b[90m━━━━━━━━━━━━━━━━━━━━━━━━━━━━━━━━━━━━━━━━\u001b[0m \u001b[32m24.6/24.6 MB\u001b[0m \u001b[31m77.0 MB/s\u001b[0m eta \u001b[36m0:00:00\u001b[0m00:01\u001b[0m00:01\u001b[0m\n",
      "\u001b[?25hCollecting nvidia-cuda-runtime-cu12==12.4.127 (from torch>=1.8.0->darts==0.30.0)\n",
      "  Downloading nvidia_cuda_runtime_cu12-12.4.127-py3-none-manylinux2014_x86_64.whl (883 kB)\n",
      "\u001b[2K     \u001b[90m━━━━━━━━━━━━━━━━━━━━━━━━━━━━━━━━━━━━━━\u001b[0m \u001b[32m883.7/883.7 kB\u001b[0m \u001b[31m54.7 MB/s\u001b[0m eta \u001b[36m0:00:00\u001b[0m\n",
      "\u001b[?25hCollecting nvidia-cuda-cupti-cu12==12.4.127 (from torch>=1.8.0->darts==0.30.0)\n",
      "  Downloading nvidia_cuda_cupti_cu12-12.4.127-py3-none-manylinux2014_x86_64.whl (13.8 MB)\n",
      "\u001b[2K     \u001b[90m━━━━━━━━━━━━━━━━━━━━━━━━━━━━━━━━━━━━━━━\u001b[0m \u001b[32m13.8/13.8 MB\u001b[0m \u001b[31m117.3 MB/s\u001b[0m eta \u001b[36m0:00:00\u001b[0m00:01\u001b[0m00:01\u001b[0m\n",
      "\u001b[?25hCollecting nvidia-cudnn-cu12==9.1.0.70 (from torch>=1.8.0->darts==0.30.0)\n",
      "  Downloading nvidia_cudnn_cu12-9.1.0.70-py3-none-manylinux2014_x86_64.whl (664.8 MB)\n",
      "\u001b[2K     \u001b[90m━━━━━━━━━━━━━━━━━━━━━━━━━━━━━━━━━━━━━━━\u001b[0m \u001b[32m664.8/664.8 MB\u001b[0m \u001b[31m1.7 MB/s\u001b[0m eta \u001b[36m0:00:00\u001b[0m00:01\u001b[0m00:01\u001b[0m\n",
      "\u001b[?25hCollecting nvidia-cublas-cu12==12.4.5.8 (from torch>=1.8.0->darts==0.30.0)\n",
      "  Downloading nvidia_cublas_cu12-12.4.5.8-py3-none-manylinux2014_x86_64.whl (363.4 MB)\n",
      "\u001b[2K     \u001b[90m━━━━━━━━━━━━━━━━━━━━━━━━━━━━━━━━━━━━━━━\u001b[0m \u001b[32m363.4/363.4 MB\u001b[0m \u001b[31m3.8 MB/s\u001b[0m eta \u001b[36m0:00:00\u001b[0m00:01\u001b[0m00:01\u001b[0m\n",
      "\u001b[?25hCollecting nvidia-cufft-cu12==11.2.1.3 (from torch>=1.8.0->darts==0.30.0)\n",
      "  Downloading nvidia_cufft_cu12-11.2.1.3-py3-none-manylinux2014_x86_64.whl (211.5 MB)\n",
      "\u001b[2K     \u001b[90m━━━━━━━━━━━━━━━━━━━━━━━━━━━━━━━━━━━━━━━\u001b[0m \u001b[32m211.5/211.5 MB\u001b[0m \u001b[31m5.8 MB/s\u001b[0m eta \u001b[36m0:00:00\u001b[0m00:01\u001b[0m00:01\u001b[0m\n",
      "\u001b[?25hCollecting nvidia-curand-cu12==10.3.5.147 (from torch>=1.8.0->darts==0.30.0)\n",
      "  Downloading nvidia_curand_cu12-10.3.5.147-py3-none-manylinux2014_x86_64.whl (56.3 MB)\n",
      "\u001b[2K     \u001b[90m━━━━━━━━━━━━━━━━━━━━━━━━━━━━━━━━━━━━━━━━\u001b[0m \u001b[32m56.3/56.3 MB\u001b[0m \u001b[31m29.2 MB/s\u001b[0m eta \u001b[36m0:00:00\u001b[0m00:01\u001b[0m00:01\u001b[0m\n",
      "\u001b[?25hCollecting nvidia-cusolver-cu12==11.6.1.9 (from torch>=1.8.0->darts==0.30.0)\n",
      "  Downloading nvidia_cusolver_cu12-11.6.1.9-py3-none-manylinux2014_x86_64.whl (127.9 MB)\n",
      "\u001b[2K     \u001b[90m━━━━━━━━━━━━━━━━━━━━━━━━━━━━━━━━━━━━━━━\u001b[0m \u001b[32m127.9/127.9 MB\u001b[0m \u001b[31m8.4 MB/s\u001b[0m eta \u001b[36m0:00:00\u001b[0m00:01\u001b[0m00:01\u001b[0m\n",
      "\u001b[?25hCollecting nvidia-cusparse-cu12==12.3.1.170 (from torch>=1.8.0->darts==0.30.0)\n",
      "  Downloading nvidia_cusparse_cu12-12.3.1.170-py3-none-manylinux2014_x86_64.whl (207.5 MB)\n",
      "\u001b[2K     \u001b[90m━━━━━━━━━━━━━━━━━━━━━━━━━━━━━━━━━━━━━━━\u001b[0m \u001b[32m207.5/207.5 MB\u001b[0m \u001b[31m4.6 MB/s\u001b[0m eta \u001b[36m0:00:00\u001b[0m00:01\u001b[0m00:01\u001b[0m\n",
      "\u001b[?25hCollecting nvidia-nccl-cu12==2.21.5 (from torch>=1.8.0->darts==0.30.0)\n",
      "  Downloading nvidia_nccl_cu12-2.21.5-py3-none-manylinux2014_x86_64.whl (188.7 MB)\n",
      "\u001b[2K     \u001b[90m━━━━━━━━━━━━━━━━━━━━━━━━━━━━━━━━━━━━━━━\u001b[0m \u001b[32m188.7/188.7 MB\u001b[0m \u001b[31m6.9 MB/s\u001b[0m eta \u001b[36m0:00:00\u001b[0m00:01\u001b[0m00:01\u001b[0m\n",
      "\u001b[?25hCollecting nvidia-nvtx-cu12==12.4.127 (from torch>=1.8.0->darts==0.30.0)\n",
      "  Downloading nvidia_nvtx_cu12-12.4.127-py3-none-manylinux2014_x86_64.whl (99 kB)\n",
      "\u001b[2K     \u001b[90m━━━━━━━━━━━━━━━━━━━━━━━━━━━━━━━━━━━━━━━━\u001b[0m \u001b[32m99.1/99.1 kB\u001b[0m \u001b[31m16.3 MB/s\u001b[0m eta \u001b[36m0:00:00\u001b[0m\n",
      "\u001b[?25hCollecting nvidia-nvjitlink-cu12==12.4.127 (from torch>=1.8.0->darts==0.30.0)\n",
      "  Downloading nvidia_nvjitlink_cu12-12.4.127-py3-none-manylinux2014_x86_64.whl (21.1 MB)\n",
      "\u001b[2K     \u001b[90m━━━━━━━━━━━━━━━━━━━━━━━━━━━━━━━━━━━━━━━━\u001b[0m \u001b[32m21.1/21.1 MB\u001b[0m \u001b[31m56.0 MB/s\u001b[0m eta \u001b[36m0:00:00\u001b[0m00:01\u001b[0m00:01\u001b[0m\n",
      "\u001b[?25hCollecting triton==3.1.0 (from torch>=1.8.0->darts==0.30.0)\n",
      "  Downloading triton-3.1.0-cp310-cp310-manylinux_2_17_x86_64.manylinux2014_x86_64.whl (209.5 MB)\n",
      "\u001b[2K     \u001b[90m━━━━━━━━━━━━━━━━━━━━━━━━━━━━━━━━━━━━━━━\u001b[0m \u001b[32m209.5/209.5 MB\u001b[0m \u001b[31m6.2 MB/s\u001b[0m eta \u001b[36m0:00:00\u001b[0m00:01\u001b[0m00:01\u001b[0m\n",
      "\u001b[?25hCollecting sympy==1.13.1 (from torch>=1.8.0->darts==0.30.0)\n",
      "  Downloading sympy-1.13.1-py3-none-any.whl (6.2 MB)\n",
      "\u001b[2K     \u001b[90m━━━━━━━━━━━━━━━━━━━━━━━━━━━━━━━━━━━━━━━━\u001b[0m \u001b[32m6.2/6.2 MB\u001b[0m \u001b[31m87.7 MB/s\u001b[0m eta \u001b[36m0:00:00\u001b[0m:00:01\u001b[0m\n",
      "\u001b[?25hCollecting mpmath<1.4,>=1.1.0 (from sympy==1.13.1->torch>=1.8.0->darts==0.30.0)\n",
      "  Downloading mpmath-1.3.0-py3-none-any.whl (536 kB)\n",
      "\u001b[2K     \u001b[90m━━━━━━━━━━━━━━━━━━━━━━━━━━━━━━━━━━━━━━\u001b[0m \u001b[32m536.2/536.2 kB\u001b[0m \u001b[31m39.7 MB/s\u001b[0m eta \u001b[36m0:00:00\u001b[0ma \u001b[36m0:00:01\u001b[0m\n",
      "\u001b[?25hCollecting aiohttp!=4.0.0a0,!=4.0.0a1 (from fsspec[http]>=2022.5.0->pytorch-lightning>=1.5.0->darts==0.30.0)\n",
      "  Downloading aiohttp-3.10.10-cp310-cp310-manylinux_2_17_x86_64.manylinux2014_x86_64.whl (1.2 MB)\n",
      "\u001b[2K     \u001b[90m━━━━━━━━━━━━━━━━━━━━━━━━━━━━━━━━━━━━━━━━\u001b[0m \u001b[32m1.2/1.2 MB\u001b[0m \u001b[31m59.7 MB/s\u001b[0m eta \u001b[36m0:00:00\u001b[0m\n",
      "\u001b[?25hCollecting triad>=0.9.7 (from fugue>=0.8.1->statsforecast>=1.4->darts==0.30.0)\n",
      "  Downloading triad-0.9.8-py3-none-any.whl (62 kB)\n",
      "\u001b[2K     \u001b[90m━━━━━━━━━━━━━━━━━━━━━━━━━━━━━━━━━━━━━━━━\u001b[0m \u001b[32m62.3/62.3 kB\u001b[0m \u001b[31m10.1 MB/s\u001b[0m eta \u001b[36m0:00:00\u001b[0m\n",
      "\u001b[?25hCollecting adagio>=0.2.4 (from fugue>=0.8.1->statsforecast>=1.4->darts==0.30.0)\n",
      "  Downloading adagio-0.2.6-py3-none-any.whl (19 kB)\n",
      "Collecting llvmlite<0.44,>=0.43.0dev0 (from numba>=0.51->pyod>=0.9.5->darts==0.30.0)\n",
      "  Downloading llvmlite-0.43.0-cp310-cp310-manylinux_2_17_x86_64.manylinux2014_x86_64.whl (43.9 MB)\n",
      "\u001b[2K     \u001b[90m━━━━━━━━━━━━━━━━━━━━━━━━━━━━━━━━━━━━━━━━\u001b[0m \u001b[32m43.9/43.9 MB\u001b[0m \u001b[31m33.2 MB/s\u001b[0m eta \u001b[36m0:00:00\u001b[0m00:01\u001b[0m00:01\u001b[0m\n",
      "\u001b[?25hRequirement already satisfied: six in /opt/conda/lib/python3.10/site-packages (from patsy>=0.5.6->statsmodels>=0.14.0->darts==0.30.0) (1.16.0)\n",
      "Requirement already satisfied: MarkupSafe>=2.0 in /opt/conda/lib/python3.10/site-packages (from jinja2->torch>=1.8.0->darts==0.30.0) (2.1.2)\n",
      "Collecting aiohappyeyeballs>=2.3.0 (from aiohttp!=4.0.0a0,!=4.0.0a1->fsspec[http]>=2022.5.0->pytorch-lightning>=1.5.0->darts==0.30.0)\n",
      "  Downloading aiohappyeyeballs-2.4.3-py3-none-any.whl (14 kB)\n",
      "Collecting aiosignal>=1.1.2 (from aiohttp!=4.0.0a0,!=4.0.0a1->fsspec[http]>=2022.5.0->pytorch-lightning>=1.5.0->darts==0.30.0)\n",
      "  Downloading aiosignal-1.3.1-py3-none-any.whl (7.6 kB)\n",
      "Requirement already satisfied: attrs>=17.3.0 in /opt/conda/lib/python3.10/site-packages (from aiohttp!=4.0.0a0,!=4.0.0a1->fsspec[http]>=2022.5.0->pytorch-lightning>=1.5.0->darts==0.30.0) (23.1.0)\n",
      "Collecting frozenlist>=1.1.1 (from aiohttp!=4.0.0a0,!=4.0.0a1->fsspec[http]>=2022.5.0->pytorch-lightning>=1.5.0->darts==0.30.0)\n",
      "  Downloading frozenlist-1.5.0-cp310-cp310-manylinux_2_5_x86_64.manylinux1_x86_64.manylinux_2_17_x86_64.manylinux2014_x86_64.whl (241 kB)\n",
      "\u001b[2K     \u001b[90m━━━━━━━━━━━━━━━━━━━━━━━━━━━━━━━━━━━━━━\u001b[0m \u001b[32m241.9/241.9 kB\u001b[0m \u001b[31m33.3 MB/s\u001b[0m eta \u001b[36m0:00:00\u001b[0m\n",
      "\u001b[?25hCollecting multidict<7.0,>=4.5 (from aiohttp!=4.0.0a0,!=4.0.0a1->fsspec[http]>=2022.5.0->pytorch-lightning>=1.5.0->darts==0.30.0)\n",
      "  Downloading multidict-6.1.0-cp310-cp310-manylinux_2_17_x86_64.manylinux2014_x86_64.whl (124 kB)\n",
      "\u001b[2K     \u001b[90m━━━━━━━━━━━━━━━━━━━━━━━━━━━━━━━━━━━━━━\u001b[0m \u001b[32m124.6/124.6 kB\u001b[0m \u001b[31m20.4 MB/s\u001b[0m eta \u001b[36m0:00:00\u001b[0m\n",
      "\u001b[?25hCollecting yarl<2.0,>=1.12.0 (from aiohttp!=4.0.0a0,!=4.0.0a1->fsspec[http]>=2022.5.0->pytorch-lightning>=1.5.0->darts==0.30.0)\n",
      "  Downloading yarl-1.17.0-cp310-cp310-manylinux_2_17_x86_64.manylinux2014_x86_64.whl (318 kB)\n",
      "\u001b[2K     \u001b[90m━━━━━━━━━━━━━━━━━━━━━━━━━━━━━━━━━━━━━━\u001b[0m \u001b[32m318.4/318.4 kB\u001b[0m \u001b[31m37.5 MB/s\u001b[0m eta \u001b[36m0:00:00\u001b[0m\n",
      "\u001b[?25hCollecting async-timeout<5.0,>=4.0 (from aiohttp!=4.0.0a0,!=4.0.0a1->fsspec[http]>=2022.5.0->pytorch-lightning>=1.5.0->darts==0.30.0)\n",
      "  Downloading async_timeout-4.0.3-py3-none-any.whl (5.7 kB)\n",
      "Requirement already satisfied: pyarrow>=6.0.1 in /opt/conda/lib/python3.10/site-packages (from triad>=0.9.7->fugue>=0.8.1->statsforecast>=1.4->darts==0.30.0) (17.0.0)\n",
      "Collecting fs (from triad>=0.9.7->fugue>=0.8.1->statsforecast>=1.4->darts==0.30.0)\n",
      "  Downloading fs-2.4.16-py2.py3-none-any.whl (135 kB)\n",
      "\u001b[2K     \u001b[90m━━━━━━━━━━━━━━━━━━━━━━━━━━━━━━━━━━━━━━\u001b[0m \u001b[32m135.3/135.3 kB\u001b[0m \u001b[31m20.5 MB/s\u001b[0m eta \u001b[36m0:00:00\u001b[0m\n",
      "\u001b[?25hCollecting propcache>=0.2.0 (from yarl<2.0,>=1.12.0->aiohttp!=4.0.0a0,!=4.0.0a1->fsspec[http]>=2022.5.0->pytorch-lightning>=1.5.0->darts==0.30.0)\n",
      "  Downloading propcache-0.2.0-cp310-cp310-manylinux_2_17_x86_64.manylinux2014_x86_64.whl (208 kB)\n",
      "\u001b[2K     \u001b[90m━━━━━━━━━━━━━━━━━━━━━━━━━━━━━━━━━━━━━━\u001b[0m \u001b[32m208.9/208.9 kB\u001b[0m \u001b[31m28.7 MB/s\u001b[0m eta \u001b[36m0:00:00\u001b[0m\n",
      "\u001b[?25hCollecting appdirs~=1.4.3 (from fs->triad>=0.9.7->fugue>=0.8.1->statsforecast>=1.4->darts==0.30.0)\n",
      "  Downloading appdirs-1.4.4-py2.py3-none-any.whl (9.6 kB)\n",
      "Building wheels for collected packages: pyod\n",
      "  Building wheel for pyod (setup.py) ... \u001b[?25ldone\n",
      "\u001b[?25h  Created wheel for pyod: filename=pyod-2.0.2-py3-none-any.whl size=198481 sha256=47de7d82f122789397ebf88b6e8bdfa27417470d75e57fff8431449c5ac75309\n",
      "  Stored in directory: /home/khurshid/.cache/pip/wheels/77/c2/20/34d1f15b41b701ba69f42a32304825810d680754d509f91391\n",
      "Successfully built pyod\n",
      "Installing collected packages: mpmath, appdirs, tensorboardX, sympy, slicer, propcache, patsy, nvidia-nvtx-cu12, nvidia-nvjitlink-cu12, nvidia-nccl-cu12, nvidia-curand-cu12, nvidia-cufft-cu12, nvidia-cuda-runtime-cu12, nvidia-cuda-nvrtc-cu12, nvidia-cuda-cupti-cu12, nvidia-cublas-cu12, multidict, llvmlite, lightning-utilities, fsspec, fs, frozenlist, filelock, Cython, coreforecast, async-timeout, aiohappyeyeballs, yarl, xgboost, triton, nvidia-cusparse-cu12, nvidia-cudnn-cu12, numba, holidays, aiosignal, xarray, utilsforecast, triad, statsmodels, shap, pyod, nvidia-cusolver-cu12, nfoursid, aiohttp, torch, pmdarima, adagio, torchmetrics, tbats, fugue, statsforecast, pytorch-lightning, darts\n",
      "Successfully installed Cython-3.0.11 adagio-0.2.6 aiohappyeyeballs-2.4.3 aiohttp-3.10.10 aiosignal-1.3.1 appdirs-1.4.4 async-timeout-4.0.3 coreforecast-0.0.13.1 darts-0.30.0 filelock-3.16.1 frozenlist-1.5.0 fs-2.4.16 fsspec-2024.10.0 fugue-0.9.1 holidays-0.59 lightning-utilities-0.11.8 llvmlite-0.43.0 mpmath-1.3.0 multidict-6.1.0 nfoursid-1.0.1 numba-0.60.0 nvidia-cublas-cu12-12.4.5.8 nvidia-cuda-cupti-cu12-12.4.127 nvidia-cuda-nvrtc-cu12-12.4.127 nvidia-cuda-runtime-cu12-12.4.127 nvidia-cudnn-cu12-9.1.0.70 nvidia-cufft-cu12-11.2.1.3 nvidia-curand-cu12-10.3.5.147 nvidia-cusolver-cu12-11.6.1.9 nvidia-cusparse-cu12-12.3.1.170 nvidia-nccl-cu12-2.21.5 nvidia-nvjitlink-cu12-12.4.127 nvidia-nvtx-cu12-12.4.127 patsy-0.5.6 pmdarima-2.0.4 propcache-0.2.0 pyod-2.0.2 pytorch-lightning-2.4.0 shap-0.46.0 slicer-0.0.8 statsforecast-1.7.8 statsmodels-0.14.4 sympy-1.13.1 tbats-1.1.3 tensorboardX-2.6.2.2 torch-2.5.0 torchmetrics-1.5.1 triad-0.9.8 triton-3.1.0 utilsforecast-0.2.7 xarray-2024.10.0 xgboost-2.1.2 yarl-1.17.0\n",
      "Note: you may need to restart the kernel to use updated packages.\n"
     ]
    }
   ],
   "source": [
    "%pip install darts==0.30.0"
   ]
  },
  {
   "cell_type": "code",
   "execution_count": 1,
   "id": "328fe1f0-a124-4e5a-ba03-236297470be1",
   "metadata": {},
   "outputs": [
    {
     "data": {
      "text/plain": [
       "{'inference_input': [{'value': 360.0, 'date': -347155200000.0},\n",
       "  {'value': 342.0, 'date': -344476800000.0},\n",
       "  {'value': 406.0, 'date': -342057600000.0},\n",
       "  {'value': 396.0, 'date': -339379200000.0},\n",
       "  {'value': 420.0, 'date': -336787200000.0},\n",
       "  {'value': 472.0, 'date': -334108800000.0},\n",
       "  {'value': 548.0, 'date': -331516800000.0},\n",
       "  {'value': 559.0, 'date': -328838400000.0},\n",
       "  {'value': 463.0, 'date': -326160000000.0},\n",
       "  {'value': 407.0, 'date': -323568000000.0},\n",
       "  {'value': 362.0, 'date': -320889600000.0},\n",
       "  {'value': 405.0, 'date': -318297600000.0},\n",
       "  {'value': 417.0, 'date': -315619200000.0},\n",
       "  {'value': 391.0, 'date': -312940800000.0},\n",
       "  {'value': 419.0, 'date': -310435200000.0},\n",
       "  {'value': 461.0, 'date': -307756800000.0},\n",
       "  {'value': 472.0, 'date': -305164800000.0},\n",
       "  {'value': 535.0, 'date': -302486400000.0},\n",
       "  {'value': 622.0, 'date': -299894400000.0},\n",
       "  {'value': 606.0, 'date': -297216000000.0},\n",
       "  {'value': 508.0, 'date': -294537600000.0},\n",
       "  {'value': 461.0, 'date': -291945600000.0},\n",
       "  {'value': 390.0, 'date': -289267200000.0},\n",
       "  {'value': 432.0, 'date': -286675200000.0}]}"
      ]
     },
     "execution_count": 1,
     "metadata": {},
     "output_type": "execute_result"
    }
   ],
   "source": [
    "import json\n",
    "from datetime import datetime\n",
    "from darts.datasets import AirPassengersDataset\n",
    "import requests\n",
    "\n",
    "series = AirPassengersDataset().load()\n",
    "val = series[-24:]\n",
    "json_value = json.loads(val.to_json())\n",
    "\n",
    "data = map(lambda x, y: {\"value\": x[0], \"date\": datetime.timestamp(datetime.strptime(y, \"%Y-%m-%dT%H:%M:%S.%f\"))*1000}, json_value[\"data\"], json_value[\"index\"])\n",
    "inference_input = list(data)\n",
    "json = {\"inference_input\": inference_input}\n",
    "json"
   ]
  },
  {
   "cell_type": "code",
   "execution_count": 2,
   "id": "0f4adbd7-6e3d-4358-af61-02e67453521f",
   "metadata": {},
   "outputs": [],
   "source": [
    "import digitalhub as dh\n",
    "PROJECT = \"project-cml-darts-ci\"\n",
    "project = dh.get_or_create_project(PROJECT)"
   ]
  },
  {
   "cell_type": "markdown",
   "id": "686b7f31-9451-4a5d-97c7-8104b38553e1",
   "metadata": {},
   "source": [
    "Get the id of service run from project function details."
   ]
  },
  {
   "cell_type": "code",
   "execution_count": 3,
   "id": "fe8dbf0e-79d8-4228-9921-0a3fbecfb791",
   "metadata": {},
   "outputs": [],
   "source": [
    "serve_func = project.get_function('serve_darts_model')\n",
    "list = serve_func.list_runs(params={\"labels\": [\"service\"]})"
   ]
  },
  {
   "cell_type": "code",
   "execution_count": 4,
   "id": "37fb3b28-f50f-42d9-abc5-c127280a9a26",
   "metadata": {},
   "outputs": [],
   "source": [
    "# filter = [x for x in list if(x.metadata.labels]"
   ]
  },
  {
   "cell_type": "code",
   "execution_count": 6,
   "id": "cb57b5a0-e92e-4db9-9be5-7112ab52b294",
   "metadata": {},
   "outputs": [],
   "source": [
    "# filtered_list = [e for e in list if e.metadata.name == '734ea1da-650a-4dc6-8cc9-f00491f2127c']\n",
    "# len(filtered_list)"
   ]
  },
  {
   "cell_type": "code",
   "execution_count": 7,
   "id": "02937c17-88fe-4c40-b4c1-8b98431317a5",
   "metadata": {},
   "outputs": [
    {
     "data": {
      "text/plain": [
       "1"
      ]
     },
     "execution_count": 7,
     "metadata": {},
     "output_type": "execute_result"
    }
   ],
   "source": [
    "filtered_list = [e for e in list if getattr(e.metadata, 'labels') is not None and 'nawaz' in e.metadata.labels]\n",
    "len(filtered_list)"
   ]
  },
  {
   "cell_type": "code",
   "execution_count": 8,
   "id": "9fb2072b-6715-4479-9112-cb7453f0ec48",
   "metadata": {},
   "outputs": [],
   "source": [
    "id = filtered_list[0].id"
   ]
  },
  {
   "cell_type": "code",
   "execution_count": 9,
   "id": "2da196f7-17d9-4821-9aad-ad5a394b7ef4",
   "metadata": {},
   "outputs": [
    {
     "name": "stdout",
     "output_type": "stream",
     "text": [
      "[{'date': -283996800000, 'value': 448.4713515232}, {'date': -281318400000, 'value': 416.9437679985}, {'date': -278899200000, 'value': 488.1964291872}, {'date': -276220800000, 'value': 498.348927999}, {'date': -273628800000, 'value': 509.5799418856}, {'date': -270950400000, 'value': 614.4077203825}, {'date': -268358400000, 'value': 703.8526003896}, {'date': -265680000000, 'value': 691.8522541339}, {'date': -263001600000, 'value': 606.4765462227}, {'date': -260409600000, 'value': 532.2036568194}, {'date': -257731200000, 'value': 454.02867762}, {'date': -255139200000, 'value': 497.8013444336}, {'date': -252460800000, 'value': 524.1175493405}, {'date': -249782400000, 'value': 490.7081232278}, {'date': -247363200000, 'value': 572.8023540875}, {'date': -244684800000, 'value': 584.0529239754}, {'date': -242092800000, 'value': 595.3217350383}, {'date': -239414400000, 'value': 707.6626039279}, {'date': -236822400000, 'value': 812.7016954389}, {'date': -234144000000, 'value': 805.2495930826}, {'date': -231465600000, 'value': 714.0584825641}, {'date': -228873600000, 'value': 620.5925153638}, {'date': -226195200000, 'value': 521.528793967}, {'date': -223603200000, 'value': 566.4787526622}]\n"
     ]
    }
   ],
   "source": [
    "run_serve = project.get_run(identifier=id)\n",
    "SERVICE_URL = run_serve.refresh().status.to_dict()[\"service\"][\"url\"]\n",
    "\n",
    "with requests.post(f'http://{SERVICE_URL}', json={\"inference_input\":inference_input}) as r:\n",
    "    res = r.json()\n",
    "print(res)"
   ]
  },
  {
   "cell_type": "markdown",
   "id": "e81d666c-fc05-4c38-8ee8-b1feb950404e",
   "metadata": {},
   "source": [
    "## Workflow Pipeline"
   ]
  },
  {
   "cell_type": "code",
   "execution_count": 10,
   "id": "f12b8637-4cd4-4e96-bb14-deb10b591492",
   "metadata": {},
   "outputs": [
    {
     "name": "stdout",
     "output_type": "stream",
     "text": [
      "Writing src/dbt_cml_darts_pipeline.py\n"
     ]
    }
   ],
   "source": [
    "%%writefile \"src/dbt_cml_darts_pipeline.py\"\n",
    "\n",
    "from digitalhub_runtime_kfp.dsl import pipeline_context\n",
    "\n",
    "def myhandler():\n",
    "    with pipeline_context() as pc:\n",
    "        trainer = pc.step(name=\"train-model\", function=\"train-darts\", action=\"job\")        "
   ]
  },
  {
   "cell_type": "code",
   "execution_count": 11,
   "id": "4327d7f5-c2ec-4b4f-b8e4-2419490167dd",
   "metadata": {},
   "outputs": [],
   "source": [
    "workflow = project.new_workflow(name=\"pipeline_cml_darts\", kind=\"kfp\", code_src= \"src/dbt_cml_darts_pipeline.py\", handler = \"myhandler\")"
   ]
  },
  {
   "cell_type": "code",
   "execution_count": 12,
   "id": "14ed5413-2161-48fb-ab22-9678c3ad0c6e",
   "metadata": {},
   "outputs": [
    {
     "data": {
      "text/plain": [
       "{'kind': 'kfp+run', 'metadata': {'project': 'project-cml-darts-ci', 'name': '55322ae4-5ba1-405c-bc93-1d493820b56e', 'created': '2024-10-29T10:47:42.234Z', 'updated': '2024-10-29T10:47:42.263Z', 'created_by': 'khurshid@fbk.eu', 'updated_by': 'khurshid@fbk.eu'}, 'spec': {'task': 'kfp+pipeline://project-cml-darts-ci/pipeline_cml_darts:674e1d8c-f8ed-46df-89b9-7e104d3168bf', 'local_execution': False, 'function': 'kfp://project-cml-darts-ci/pipeline_cml_darts:674e1d8c-f8ed-46df-89b9-7e104d3168bf', 'source': {'source': 'src/dbt_cml_darts_pipeline.py', 'handler': 'myhandler', 'base64': 'CmZyb20gZGlnaXRhbGh1Yl9ydW50aW1lX2tmcC5kc2wgaW1wb3J0IHBpcGVsaW5lX2NvbnRleHQKCmRlZiBteWhhbmRsZXIoKToKICAgIHdpdGggcGlwZWxpbmVfY29udGV4dCgpIGFzIHBjOgogICAgICAgIHRyYWluZXIgPSBwYy5zdGVwKG5hbWU9InRyYWluLW1vZGVsIiwgZnVuY3Rpb249InRyYWluLWRhcnRzIiwgYWN0aW9uPSJqb2IiKSAgICAgICAgCg==', 'lang': 'python'}, 'inputs': {}, 'outputs': {}, 'parameters': {}}, 'status': {'state': 'READY', 'transitions': [{'status': 'READY', 'time': '2024-10-29T10:47:42.26351374Z'}, {'status': 'BUILT', 'time': '2024-10-29T10:47:42.243297407Z'}]}, 'user': 'khurshid@fbk.eu', 'project': 'project-cml-darts-ci', 'id': '55322ae4-5ba1-405c-bc93-1d493820b56e', 'key': 'store://project-cml-darts-ci/run/kfp+run/55322ae4-5ba1-405c-bc93-1d493820b56e'}"
      ]
     },
     "execution_count": 12,
     "metadata": {},
     "output_type": "execute_result"
    }
   ],
   "source": [
    "workflow.run(localExecution=True)"
   ]
  },
  {
   "cell_type": "code",
   "execution_count": null,
   "id": "2472d7fd-81bf-41db-804f-3b38f49a3708",
   "metadata": {},
   "outputs": [],
   "source": []
  }
 ],
 "metadata": {
  "kernelspec": {
   "display_name": "Python 3 (ipykernel)",
   "language": "python",
   "name": "python3"
  },
  "language_info": {
   "codemirror_mode": {
    "name": "ipython",
    "version": 3
   },
   "file_extension": ".py",
   "mimetype": "text/x-python",
   "name": "python",
   "nbconvert_exporter": "python",
   "pygments_lexer": "ipython3",
   "version": "3.10.11"
  }
 },
 "nbformat": 4,
 "nbformat_minor": 5
}
