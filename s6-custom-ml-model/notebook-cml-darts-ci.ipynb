{
 "cells": [
  {
   "cell_type": "code",
   "execution_count": 25,
   "id": "bbf53e6b-d054-41b8-87d0-fe9248489809",
   "metadata": {},
   "outputs": [],
   "source": [
    "import digitalhub as dh\n",
    "import pandas as pd\n",
    "import os"
   ]
  },
  {
   "cell_type": "code",
   "execution_count": 26,
   "id": "d47af28a-e2c9-4f7b-a2f2-6dc67a702d30",
   "metadata": {},
   "outputs": [],
   "source": [
    "PROJECT = \"project-cml-darts-ci\"\n",
    "project = dh.get_or_create_project(PROJECT)"
   ]
  },
  {
   "cell_type": "code",
   "execution_count": 27,
   "id": "33a53adc-d5b8-4488-b7c7-dc6886a4301c",
   "metadata": {},
   "outputs": [],
   "source": [
    "new_folder = 'src'\n",
    "if not os.path.exists(new_folder):\n",
    "    os.makedirs(new_folder)"
   ]
  },
  {
   "cell_type": "code",
   "execution_count": 28,
   "id": "5d541f7e-2e4b-4eec-b92d-53f0cedf920d",
   "metadata": {},
   "outputs": [
    {
     "name": "stdout",
     "output_type": "stream",
     "text": [
      "Overwriting src/train-model.py\n"
     ]
    }
   ],
   "source": [
    "%%writefile \"src/train-model.py\"\n",
    "\n",
    "\n",
    "from digitalhub_runtime_python import handler\n",
    "\n",
    "import pandas as pd\n",
    "import numpy as np\n",
    "\n",
    "from darts import TimeSeries\n",
    "from darts.datasets import AirPassengersDataset\n",
    "from darts.models import NBEATSModel\n",
    "from darts.metrics import mape, smape, mae\n",
    "\n",
    "from zipfile import ZipFile\n",
    "\n",
    "@handler()\n",
    "def train_model(project):\n",
    "    series = AirPassengersDataset().load()\n",
    "    train, val = series[:-36], series[-36:]\n",
    "\n",
    "    model = NBEATSModel(\n",
    "        input_chunk_length=24,\n",
    "        output_chunk_length=12,\n",
    "        n_epochs=200,\n",
    "        random_state=0\n",
    "    )\n",
    "    model.fit(train)\n",
    "    pred = model.predict(n=36)\n",
    "\n",
    "    model.save(\"predictor_model.pt\")\n",
    "    with ZipFile(\"predictor_model.pt.zip\", \"w\") as z:\n",
    "        z.write(\"predictor_model.pt\")\n",
    "        z.write(\"predictor_model.pt.ckpt\")\n",
    "    metrics = {\n",
    "        \"mape\": mape(series, pred),\n",
    "        \"smape\": smape(series, pred),\n",
    "        \"mae\": mae(series, pred)\n",
    "    }\n",
    "\n",
    "    project.log_model(\n",
    "        name=\"darts_model\",\n",
    "        kind=\"model\",\n",
    "        source=\"predictor_model.pt.zip\",\n",
    "        algorithm=\"darts.models.NBEATSModel\",\n",
    "        framework=\"darts\",\n",
    "        metrics=metrics\n",
    "    )"
   ]
  },
  {
   "cell_type": "code",
   "execution_count": 29,
   "id": "db14f65f-e948-43c0-b8c1-c56569b3142f",
   "metadata": {},
   "outputs": [],
   "source": [
    "train_fn = project.new_function(\n",
    "     name=\"train-darts\",\n",
    "     kind=\"python\",\n",
    "     python_version=\"PYTHON3_10\",\n",
    "     source={\"source\": \"src/train-model.py\", \"handler\": \"train_model\"})"
   ]
  },
  {
   "cell_type": "code",
   "execution_count": 30,
   "id": "430db175-e792-4d23-9d88-984532fd17c7",
   "metadata": {},
   "outputs": [
    {
     "data": {
      "text/plain": [
       "{'kind': 'python+run', 'metadata': {'project': 'project-cml-darts-ci', 'name': '51b32d8b-cecb-4eed-8663-c39f1532613c', 'created': '2024-10-29T10:54:01.762Z', 'updated': '2024-10-29T10:54:01.782Z', 'created_by': 'khurshid@fbk.eu', 'updated_by': 'khurshid@fbk.eu'}, 'spec': {'task': 'python+build://project-cml-darts-ci/train-darts:0da059ca-736a-4f15-81b4-c425c97440ae', 'local_execution': False, 'function': 'python://project-cml-darts-ci/train-darts:0da059ca-736a-4f15-81b4-c425c97440ae', 'source': {'source': 'src/train-model.py', 'handler': 'train_model', 'base64': 'Cgpmcm9tIGRpZ2l0YWxodWJfcnVudGltZV9weXRob24gaW1wb3J0IGhhbmRsZXIKCmltcG9ydCBwYW5kYXMgYXMgcGQKaW1wb3J0IG51bXB5IGFzIG5wCgpmcm9tIGRhcnRzIGltcG9ydCBUaW1lU2VyaWVzCmZyb20gZGFydHMuZGF0YXNldHMgaW1wb3J0IEFpclBhc3NlbmdlcnNEYXRhc2V0CmZyb20gZGFydHMubW9kZWxzIGltcG9ydCBOQkVBVFNNb2RlbApmcm9tIGRhcnRzLm1ldHJpY3MgaW1wb3J0IG1hcGUsIHNtYXBlLCBtYWUKCmZyb20gemlwZmlsZSBpbXBvcnQgWmlwRmlsZQoKQGhhbmRsZXIoKQpkZWYgdHJhaW5fbW9kZWwocHJvamVjdCk6CiAgICBzZXJpZXMgPSBBaXJQYXNzZW5nZXJzRGF0YXNldCgpLmxvYWQoKQogICAgdHJhaW4sIHZhbCA9IHNlcmllc1s6LTM2XSwgc2VyaWVzWy0zNjpdCgogICAgbW9kZWwgPSBOQkVBVFNNb2RlbCgKICAgICAgICBpbnB1dF9jaHVua19sZW5ndGg9MjQsCiAgICAgICAgb3V0cHV0X2NodW5rX2xlbmd0aD0xMiwKICAgICAgICBuX2Vwb2Nocz0yMDAsCiAgICAgICAgcmFuZG9tX3N0YXRlPTAKICAgICkKICAgIG1vZGVsLmZpdCh0cmFpbikKICAgIHByZWQgPSBtb2RlbC5wcmVkaWN0KG49MzYpCgogICAgbW9kZWwuc2F2ZSgicHJlZGljdG9yX21vZGVsLnB0IikKICAgIHdpdGggWmlwRmlsZSgicHJlZGljdG9yX21vZGVsLnB0LnppcCIsICJ3IikgYXMgejoKICAgICAgICB6LndyaXRlKCJwcmVkaWN0b3JfbW9kZWwucHQiKQogICAgICAgIHoud3JpdGUoInByZWRpY3Rvcl9tb2RlbC5wdC5ja3B0IikKICAgIG1ldHJpY3MgPSB7CiAgICAgICAgIm1hcGUiOiBtYXBlKHNlcmllcywgcHJlZCksCiAgICAgICAgInNtYXBlIjogc21hcGUoc2VyaWVzLCBwcmVkKSwKICAgICAgICAibWFlIjogbWFlKHNlcmllcywgcHJlZCkKICAgIH0KCiAgICBwcm9qZWN0LmxvZ19tb2RlbCgKICAgICAgICBuYW1lPSJkYXJ0c19tb2RlbCIsCiAgICAgICAga2luZD0ibW9kZWwiLAogICAgICAgIHNvdXJjZT0icHJlZGljdG9yX21vZGVsLnB0LnppcCIsCiAgICAgICAgYWxnb3JpdGhtPSJkYXJ0cy5tb2RlbHMuTkJFQVRTTW9kZWwiLAogICAgICAgIGZyYW1ld29yaz0iZGFydHMiLAogICAgICAgIG1ldHJpY3M9bWV0cmljcwogICAgKQo=', 'lang': 'python'}, 'python_version': 'PYTHON3_10', 'instructions': ['pip3 install torch torchvision torchaudio --index-url https://download.pytorch.org/whl/cpu', 'pip3 install darts patsy scikit-learn'], 'inputs': {}, 'outputs': {}, 'parameters': {}}, 'status': {'state': 'READY', 'transitions': [{'status': 'READY', 'time': '2024-10-29T10:54:01.781664766Z'}, {'status': 'BUILT', 'time': '2024-10-29T10:54:01.769287259Z'}]}, 'user': 'khurshid@fbk.eu', 'project': 'project-cml-darts-ci', 'id': '51b32d8b-cecb-4eed-8663-c39f1532613c', 'key': 'store://project-cml-darts-ci/run/python+run/51b32d8b-cecb-4eed-8663-c39f1532613c'}"
      ]
     },
     "execution_count": 30,
     "metadata": {},
     "output_type": "execute_result"
    }
   ],
   "source": [
    "train_fn.run(action=\"build\", instructions=[\"pip3 install torch torchvision torchaudio --index-url https://download.pytorch.org/whl/cpu\",\"pip3 install darts patsy scikit-learn\"])"
   ]
  },
  {
   "cell_type": "markdown",
   "id": "869be29e-2f44-4e47-9cc6-0d36585557b7",
   "metadata": {},
   "source": [
    "Wait until build job is completed. One can check the status of 'Run' from console or by typing the following command"
   ]
  },
  {
   "cell_type": "code",
   "execution_count": null,
   "id": "a8fe3d09-31fb-426f-8d9b-79310a83a4fa",
   "metadata": {},
   "outputs": [],
   "source": [
    "train_fn.get_state()"
   ]
  },
  {
   "cell_type": "markdown",
   "id": "5183f44b-1206-449f-a6c1-6a12e8db3b22",
   "metadata": {},
   "source": [
    "Once completed, proceed to run the training job."
   ]
  },
  {
   "cell_type": "code",
   "execution_count": 31,
   "id": "485ee25b-641a-4d20-9fae-cecc18451882",
   "metadata": {},
   "outputs": [
    {
     "data": {
      "text/plain": [
       "{'kind': 'python+run', 'metadata': {'project': 'project-cml-darts-ci', 'name': 'a7c34702-2783-47d4-a9ce-89547bea2ab9', 'created': '2024-10-29T10:57:35.674Z', 'updated': '2024-10-29T10:57:35.694Z', 'created_by': 'khurshid@fbk.eu', 'updated_by': 'khurshid@fbk.eu'}, 'spec': {'task': 'python+job://project-cml-darts-ci/train-darts:0da059ca-736a-4f15-81b4-c425c97440ae', 'local_execution': False, 'function': 'python://project-cml-darts-ci/train-darts:0da059ca-736a-4f15-81b4-c425c97440ae', 'source': {'source': 'src/train-model.py', 'handler': 'train_model', 'base64': 'Cgpmcm9tIGRpZ2l0YWxodWJfcnVudGltZV9weXRob24gaW1wb3J0IGhhbmRsZXIKCmltcG9ydCBwYW5kYXMgYXMgcGQKaW1wb3J0IG51bXB5IGFzIG5wCgpmcm9tIGRhcnRzIGltcG9ydCBUaW1lU2VyaWVzCmZyb20gZGFydHMuZGF0YXNldHMgaW1wb3J0IEFpclBhc3NlbmdlcnNEYXRhc2V0CmZyb20gZGFydHMubW9kZWxzIGltcG9ydCBOQkVBVFNNb2RlbApmcm9tIGRhcnRzLm1ldHJpY3MgaW1wb3J0IG1hcGUsIHNtYXBlLCBtYWUKCmZyb20gemlwZmlsZSBpbXBvcnQgWmlwRmlsZQoKQGhhbmRsZXIoKQpkZWYgdHJhaW5fbW9kZWwocHJvamVjdCk6CiAgICBzZXJpZXMgPSBBaXJQYXNzZW5nZXJzRGF0YXNldCgpLmxvYWQoKQogICAgdHJhaW4sIHZhbCA9IHNlcmllc1s6LTM2XSwgc2VyaWVzWy0zNjpdCgogICAgbW9kZWwgPSBOQkVBVFNNb2RlbCgKICAgICAgICBpbnB1dF9jaHVua19sZW5ndGg9MjQsCiAgICAgICAgb3V0cHV0X2NodW5rX2xlbmd0aD0xMiwKICAgICAgICBuX2Vwb2Nocz0yMDAsCiAgICAgICAgcmFuZG9tX3N0YXRlPTAKICAgICkKICAgIG1vZGVsLmZpdCh0cmFpbikKICAgIHByZWQgPSBtb2RlbC5wcmVkaWN0KG49MzYpCgogICAgbW9kZWwuc2F2ZSgicHJlZGljdG9yX21vZGVsLnB0IikKICAgIHdpdGggWmlwRmlsZSgicHJlZGljdG9yX21vZGVsLnB0LnppcCIsICJ3IikgYXMgejoKICAgICAgICB6LndyaXRlKCJwcmVkaWN0b3JfbW9kZWwucHQiKQogICAgICAgIHoud3JpdGUoInByZWRpY3Rvcl9tb2RlbC5wdC5ja3B0IikKICAgIG1ldHJpY3MgPSB7CiAgICAgICAgIm1hcGUiOiBtYXBlKHNlcmllcywgcHJlZCksCiAgICAgICAgInNtYXBlIjogc21hcGUoc2VyaWVzLCBwcmVkKSwKICAgICAgICAibWFlIjogbWFlKHNlcmllcywgcHJlZCkKICAgIH0KCiAgICBwcm9qZWN0LmxvZ19tb2RlbCgKICAgICAgICBuYW1lPSJkYXJ0c19tb2RlbCIsCiAgICAgICAga2luZD0ibW9kZWwiLAogICAgICAgIHNvdXJjZT0icHJlZGljdG9yX21vZGVsLnB0LnppcCIsCiAgICAgICAgYWxnb3JpdGhtPSJkYXJ0cy5tb2RlbHMuTkJFQVRTTW9kZWwiLAogICAgICAgIGZyYW1ld29yaz0iZGFydHMiLAogICAgICAgIG1ldHJpY3M9bWV0cmljcwogICAgKQo=', 'lang': 'python'}, 'image': 'registry.tenant1.digitalhub-dev.smartcommunitylab.it/digitalhub-tenant1-project-cml-darts-ci-train-darts:51b32', 'python_version': 'PYTHON3_10', 'inputs': {}, 'outputs': {}, 'parameters': {}}, 'status': {'state': 'READY', 'transitions': [{'status': 'READY', 'time': '2024-10-29T10:57:35.693670262Z'}, {'status': 'BUILT', 'time': '2024-10-29T10:57:35.679971237Z'}]}, 'user': 'khurshid@fbk.eu', 'project': 'project-cml-darts-ci', 'id': 'a7c34702-2783-47d4-a9ce-89547bea2ab9', 'key': 'store://project-cml-darts-ci/run/python+run/a7c34702-2783-47d4-a9ce-89547bea2ab9'}"
      ]
     },
     "execution_count": 31,
     "metadata": {},
     "output_type": "execute_result"
    }
   ],
   "source": [
    "train_fn.run(action=\"job\", local_execution=False)"
   ]
  },
  {
   "cell_type": "markdown",
   "id": "ce976999-80ea-4014-a502-c019f8b08086",
   "metadata": {},
   "source": [
    "Wait for job to be completed. One can check the status of 'Run' from console or by typing the following command"
   ]
  },
  {
   "cell_type": "code",
   "execution_count": null,
   "id": "553d580b-76ea-4260-b6cb-7898accf5509",
   "metadata": {},
   "outputs": [],
   "source": [
    "train_fn.get_state()"
   ]
  },
  {
   "cell_type": "markdown",
   "id": "121a2392-10c5-4618-b91b-6b10fb8e721e",
   "metadata": {},
   "source": [
    "Once completed, proceed with serve run."
   ]
  },
  {
   "cell_type": "code",
   "execution_count": 32,
   "id": "e5a44ff5-2b86-49f4-9eea-c4ff142dd44b",
   "metadata": {},
   "outputs": [
    {
     "name": "stdout",
     "output_type": "stream",
     "text": [
      "Overwriting src/serve_darts_model-nk.py\n"
     ]
    }
   ],
   "source": [
    "%%writefile \"src/serve_darts_model-nk.py\"\n",
    "\n",
    "from darts.models import NBEATSModel\n",
    "from zipfile import ZipFile\n",
    "from darts import TimeSeries\n",
    "import json\n",
    "import pandas as pd\n",
    "\n",
    "def init(context):\n",
    "    model_name = \"darts_model\"\n",
    "\n",
    "    model = context.project.get_model(model_name)\n",
    "    path = model.download()\n",
    "    local_path_model = \"extracted_model/\"\n",
    "\n",
    "    with ZipFile(path, 'r') as zip_ref:\n",
    "        zip_ref.extractall(local_path_model)\n",
    "\n",
    "    input_chunk_length = 24\n",
    "    output_chunk_length = 12\n",
    "    name_model_local = local_path_model +\"predictor_model.pt\"\n",
    "    mm = NBEATSModel(\n",
    "            input_chunk_length,\n",
    "            output_chunk_length\n",
    "    ).load(name_model_local)\n",
    "\n",
    "    setattr(context, \"model\", mm)\n",
    "\n",
    "def serve(context, event):\n",
    "\n",
    "    if isinstance(event.body, bytes):\n",
    "        body = json.loads(event.body)\n",
    "    else:\n",
    "        body = event.body\n",
    "    context.logger.info(f\"Received event: {body}\")\n",
    "    inference_input = body[\"inference_input\"]\n",
    "\n",
    "    pdf = pd.DataFrame(inference_input)\n",
    "    pdf['date'] = pd.to_datetime(pdf['date'], unit='ms')\n",
    "\n",
    "    ts = TimeSeries.from_dataframe(\n",
    "        pdf,\n",
    "        time_col=\"date\",\n",
    "        value_cols=\"value\"\n",
    "    )\n",
    "\n",
    "    output_chunk_length = 12\n",
    "    result = context.model.predict(n=output_chunk_length*2, series=ts)\n",
    "    # Convert the result to a pandas DataFrame, reset the index, and convert to a list\n",
    "    jsonstr = result.pd_dataframe().reset_index().to_json(orient='records')\n",
    "    return json.loads(jsonstr)"
   ]
  },
  {
   "cell_type": "code",
   "execution_count": 33,
   "id": "79310799-708a-4121-8bb9-0d592a7fa22a",
   "metadata": {},
   "outputs": [],
   "source": [
    "func = project.new_function(name=\"serve_darts_model\",\n",
    "                            kind=\"python\",\n",
    "                            python_version=\"PYTHON3_10\",\n",
    "                            source={\n",
    "                                 \"source\": \"src/serve_darts_model-nk.py\",\n",
    "                                 \"handler\": \"serve\",\n",
    "                                 \"init_function\": \"init\"})"
   ]
  },
  {
   "cell_type": "code",
   "execution_count": 34,
   "id": "73e43fc1-937f-4313-9d64-8bc7a2e60b2a",
   "metadata": {},
   "outputs": [],
   "source": [
    "run_build_model_serve = func.run(action=\"build\",instructions=[\"pip3 install torch torchvision torchaudio --index-url https://download.pytorch.org/whl/cpu\",\"pip3 install darts patsy scikit-learn\"])"
   ]
  },
  {
   "cell_type": "markdown",
   "id": "86c5851c-70e4-4b1a-a9f8-5796b2ab7bee",
   "metadata": {},
   "source": [
    "Wait for job to be completed. One can check the status of 'Run' from console or by typing the following command"
   ]
  },
  {
   "cell_type": "code",
   "execution_count": null,
   "id": "d195a666-03c7-4452-b44b-e29b48123977",
   "metadata": {},
   "outputs": [],
   "source": [
    "run_serve.get_state()"
   ]
  },
  {
   "cell_type": "markdown",
   "id": "3469a531-bc15-46d5-b50a-185ee6ed3289",
   "metadata": {},
   "source": [
    "Once completed, run the serve job."
   ]
  },
  {
   "cell_type": "code",
   "execution_count": 35,
   "id": "32048ea6-6124-400b-a2d0-d9a560e00d59",
   "metadata": {},
   "outputs": [],
   "source": [
    "run_serve = func.run(action=\"serve\", labels=[\"service\"])"
   ]
  },
  {
   "cell_type": "markdown",
   "id": "18916448-e413-4a4e-b523-398fa8cd6475",
   "metadata": {},
   "source": [
    "The run is associated with specific label 'service' that will be used to fetch the service id in the later stage. Wait for job to be in 'running' state. One can check the status of 'Run' from console or by typing the following command"
   ]
  },
  {
   "cell_type": "code",
   "execution_count": 36,
   "id": "361f12fc-5a92-4f40-812c-cf95f6a87484",
   "metadata": {},
   "outputs": [
    {
     "data": {
      "text/plain": [
       "{'project': 'project-cml-darts-ci', 'name': 'd3992c23-2c99-4c6c-a91d-a26276757dad', 'labels': ['service'], 'created': '2024-10-29T11:43:22.37Z', 'updated': '2024-10-29T11:43:22.393Z', 'created_by': 'khurshid@fbk.eu', 'updated_by': 'khurshid@fbk.eu'}"
      ]
     },
     "execution_count": 36,
     "metadata": {},
     "output_type": "execute_result"
    }
   ],
   "source": [
    "#run_serve.metadata\n",
    "run_serve.get_state()"
   ]
  },
  {
   "cell_type": "markdown",
   "id": "ab6654cd-3b7d-4fbc-b002-32442cc8ce77",
   "metadata": {},
   "source": [
    "Once completed, make API call to the serve job."
   ]
  },
  {
   "cell_type": "code",
   "execution_count": 37,
   "id": "2626b59f-ad11-4281-be2f-6810438691d6",
   "metadata": {},
   "outputs": [
    {
     "name": "stdout",
     "output_type": "stream",
     "text": [
      "Requirement already satisfied: darts==0.30.0 in /opt/conda/lib/python3.10/site-packages (0.30.0)\n",
      "Requirement already satisfied: holidays>=0.11.1 in /opt/conda/lib/python3.10/site-packages (from darts==0.30.0) (0.59)\n",
      "Requirement already satisfied: joblib>=0.16.0 in /opt/conda/lib/python3.10/site-packages (from darts==0.30.0) (1.4.2)\n",
      "Requirement already satisfied: matplotlib>=3.3.0 in /opt/conda/lib/python3.10/site-packages (from darts==0.30.0) (3.9.2)\n",
      "Requirement already satisfied: nfoursid>=1.0.0 in /opt/conda/lib/python3.10/site-packages (from darts==0.30.0) (1.0.1)\n",
      "Requirement already satisfied: numpy<2.0.0,>=1.19.0 in /opt/conda/lib/python3.10/site-packages (from darts==0.30.0) (1.26.4)\n",
      "Requirement already satisfied: pmdarima>=1.8.0 in /opt/conda/lib/python3.10/site-packages (from darts==0.30.0) (2.0.4)\n",
      "Requirement already satisfied: pyod>=0.9.5 in /opt/conda/lib/python3.10/site-packages (from darts==0.30.0) (2.0.2)\n",
      "Requirement already satisfied: requests>=2.22.0 in /opt/conda/lib/python3.10/site-packages (from darts==0.30.0) (2.31.0)\n",
      "Requirement already satisfied: scikit-learn>=1.0.1 in /opt/conda/lib/python3.10/site-packages (from darts==0.30.0) (1.5.2)\n",
      "Requirement already satisfied: scipy>=1.3.2 in /opt/conda/lib/python3.10/site-packages (from darts==0.30.0) (1.14.1)\n",
      "Requirement already satisfied: shap>=0.40.0 in /opt/conda/lib/python3.10/site-packages (from darts==0.30.0) (0.46.0)\n",
      "Requirement already satisfied: statsforecast>=1.4 in /opt/conda/lib/python3.10/site-packages (from darts==0.30.0) (1.7.8)\n",
      "Requirement already satisfied: statsmodels>=0.14.0 in /opt/conda/lib/python3.10/site-packages (from darts==0.30.0) (0.14.4)\n",
      "Requirement already satisfied: tbats>=1.1.0 in /opt/conda/lib/python3.10/site-packages (from darts==0.30.0) (1.1.3)\n",
      "Requirement already satisfied: tqdm>=4.60.0 in /opt/conda/lib/python3.10/site-packages (from darts==0.30.0) (4.65.0)\n",
      "Requirement already satisfied: typing-extensions in /opt/conda/lib/python3.10/site-packages (from darts==0.30.0) (4.12.2)\n",
      "Requirement already satisfied: xarray>=0.17.0 in /opt/conda/lib/python3.10/site-packages (from darts==0.30.0) (2024.10.0)\n",
      "Requirement already satisfied: xgboost>=1.6.0 in /opt/conda/lib/python3.10/site-packages (from darts==0.30.0) (2.1.2)\n",
      "Requirement already satisfied: pytorch-lightning>=1.5.0 in /opt/conda/lib/python3.10/site-packages (from darts==0.30.0) (2.4.0)\n",
      "Requirement already satisfied: tensorboardX>=2.1 in /opt/conda/lib/python3.10/site-packages (from darts==0.30.0) (2.6.2.2)\n",
      "Requirement already satisfied: torch>=1.8.0 in /opt/conda/lib/python3.10/site-packages (from darts==0.30.0) (2.5.0)\n",
      "Requirement already satisfied: pandas>=1.0.5 in /opt/conda/lib/python3.10/site-packages (from darts==0.30.0) (2.1.4)\n",
      "Requirement already satisfied: python-dateutil in /opt/conda/lib/python3.10/site-packages (from holidays>=0.11.1->darts==0.30.0) (2.8.2)\n",
      "Requirement already satisfied: contourpy>=1.0.1 in /opt/conda/lib/python3.10/site-packages (from matplotlib>=3.3.0->darts==0.30.0) (1.3.0)\n",
      "Requirement already satisfied: cycler>=0.10 in /opt/conda/lib/python3.10/site-packages (from matplotlib>=3.3.0->darts==0.30.0) (0.12.1)\n",
      "Requirement already satisfied: fonttools>=4.22.0 in /opt/conda/lib/python3.10/site-packages (from matplotlib>=3.3.0->darts==0.30.0) (4.54.1)\n",
      "Requirement already satisfied: kiwisolver>=1.3.1 in /opt/conda/lib/python3.10/site-packages (from matplotlib>=3.3.0->darts==0.30.0) (1.4.7)\n",
      "Requirement already satisfied: packaging>=20.0 in /opt/conda/lib/python3.10/site-packages (from matplotlib>=3.3.0->darts==0.30.0) (23.1)\n",
      "Requirement already satisfied: pillow>=8 in /opt/conda/lib/python3.10/site-packages (from matplotlib>=3.3.0->darts==0.30.0) (11.0.0)\n",
      "Requirement already satisfied: pyparsing>=2.3.1 in /opt/conda/lib/python3.10/site-packages (from matplotlib>=3.3.0->darts==0.30.0) (3.2.0)\n",
      "Requirement already satisfied: pytz>=2020.1 in /opt/conda/lib/python3.10/site-packages (from pandas>=1.0.5->darts==0.30.0) (2023.3)\n",
      "Requirement already satisfied: tzdata>=2022.1 in /opt/conda/lib/python3.10/site-packages (from pandas>=1.0.5->darts==0.30.0) (2024.2)\n",
      "Requirement already satisfied: Cython!=0.29.18,!=0.29.31,>=0.29 in /opt/conda/lib/python3.10/site-packages (from pmdarima>=1.8.0->darts==0.30.0) (3.0.11)\n",
      "Requirement already satisfied: urllib3 in /opt/conda/lib/python3.10/site-packages (from pmdarima>=1.8.0->darts==0.30.0) (2.0.2)\n",
      "Requirement already satisfied: setuptools!=50.0.0,>=38.6.0 in /opt/conda/lib/python3.10/site-packages (from pmdarima>=1.8.0->darts==0.30.0) (67.7.2)\n",
      "Requirement already satisfied: numba>=0.51 in /opt/conda/lib/python3.10/site-packages (from pyod>=0.9.5->darts==0.30.0) (0.60.0)\n",
      "Requirement already satisfied: PyYAML>=5.4 in /opt/conda/lib/python3.10/site-packages (from pytorch-lightning>=1.5.0->darts==0.30.0) (6.0)\n",
      "Requirement already satisfied: fsspec[http]>=2022.5.0 in /opt/conda/lib/python3.10/site-packages (from pytorch-lightning>=1.5.0->darts==0.30.0) (2024.10.0)\n",
      "Requirement already satisfied: torchmetrics>=0.7.0 in /opt/conda/lib/python3.10/site-packages (from pytorch-lightning>=1.5.0->darts==0.30.0) (1.5.1)\n",
      "Requirement already satisfied: lightning-utilities>=0.10.0 in /opt/conda/lib/python3.10/site-packages (from pytorch-lightning>=1.5.0->darts==0.30.0) (0.11.8)\n",
      "Requirement already satisfied: charset-normalizer<4,>=2 in /opt/conda/lib/python3.10/site-packages (from requests>=2.22.0->darts==0.30.0) (3.1.0)\n",
      "Requirement already satisfied: idna<4,>=2.5 in /opt/conda/lib/python3.10/site-packages (from requests>=2.22.0->darts==0.30.0) (3.4)\n",
      "Requirement already satisfied: certifi>=2017.4.17 in /opt/conda/lib/python3.10/site-packages (from requests>=2.22.0->darts==0.30.0) (2023.5.7)\n",
      "Requirement already satisfied: threadpoolctl>=3.1.0 in /opt/conda/lib/python3.10/site-packages (from scikit-learn>=1.0.1->darts==0.30.0) (3.5.0)\n",
      "Requirement already satisfied: slicer==0.0.8 in /opt/conda/lib/python3.10/site-packages (from shap>=0.40.0->darts==0.30.0) (0.0.8)\n",
      "Requirement already satisfied: cloudpickle in /opt/conda/lib/python3.10/site-packages (from shap>=0.40.0->darts==0.30.0) (3.1.0)\n",
      "Requirement already satisfied: coreforecast>=0.0.12 in /opt/conda/lib/python3.10/site-packages (from statsforecast>=1.4->darts==0.30.0) (0.0.13.1)\n",
      "Requirement already satisfied: fugue>=0.8.1 in /opt/conda/lib/python3.10/site-packages (from statsforecast>=1.4->darts==0.30.0) (0.9.1)\n",
      "Requirement already satisfied: utilsforecast>=0.1.4 in /opt/conda/lib/python3.10/site-packages (from statsforecast>=1.4->darts==0.30.0) (0.2.7)\n",
      "Requirement already satisfied: patsy>=0.5.6 in /opt/conda/lib/python3.10/site-packages (from statsmodels>=0.14.0->darts==0.30.0) (0.5.6)\n",
      "Requirement already satisfied: protobuf>=3.20 in /opt/conda/lib/python3.10/site-packages (from tensorboardX>=2.1->darts==0.30.0) (4.25.5)\n",
      "Requirement already satisfied: filelock in /opt/conda/lib/python3.10/site-packages (from torch>=1.8.0->darts==0.30.0) (3.16.1)\n",
      "Requirement already satisfied: networkx in /opt/conda/lib/python3.10/site-packages (from torch>=1.8.0->darts==0.30.0) (3.4.2)\n",
      "Requirement already satisfied: jinja2 in /opt/conda/lib/python3.10/site-packages (from torch>=1.8.0->darts==0.30.0) (3.1.4)\n",
      "Requirement already satisfied: nvidia-cuda-nvrtc-cu12==12.4.127 in /opt/conda/lib/python3.10/site-packages (from torch>=1.8.0->darts==0.30.0) (12.4.127)\n",
      "Requirement already satisfied: nvidia-cuda-runtime-cu12==12.4.127 in /opt/conda/lib/python3.10/site-packages (from torch>=1.8.0->darts==0.30.0) (12.4.127)\n",
      "Requirement already satisfied: nvidia-cuda-cupti-cu12==12.4.127 in /opt/conda/lib/python3.10/site-packages (from torch>=1.8.0->darts==0.30.0) (12.4.127)\n",
      "Requirement already satisfied: nvidia-cudnn-cu12==9.1.0.70 in /opt/conda/lib/python3.10/site-packages (from torch>=1.8.0->darts==0.30.0) (9.1.0.70)\n",
      "Requirement already satisfied: nvidia-cublas-cu12==12.4.5.8 in /opt/conda/lib/python3.10/site-packages (from torch>=1.8.0->darts==0.30.0) (12.4.5.8)\n",
      "Requirement already satisfied: nvidia-cufft-cu12==11.2.1.3 in /opt/conda/lib/python3.10/site-packages (from torch>=1.8.0->darts==0.30.0) (11.2.1.3)\n",
      "Requirement already satisfied: nvidia-curand-cu12==10.3.5.147 in /opt/conda/lib/python3.10/site-packages (from torch>=1.8.0->darts==0.30.0) (10.3.5.147)\n",
      "Requirement already satisfied: nvidia-cusolver-cu12==11.6.1.9 in /opt/conda/lib/python3.10/site-packages (from torch>=1.8.0->darts==0.30.0) (11.6.1.9)\n",
      "Requirement already satisfied: nvidia-cusparse-cu12==12.3.1.170 in /opt/conda/lib/python3.10/site-packages (from torch>=1.8.0->darts==0.30.0) (12.3.1.170)\n",
      "Requirement already satisfied: nvidia-nccl-cu12==2.21.5 in /opt/conda/lib/python3.10/site-packages (from torch>=1.8.0->darts==0.30.0) (2.21.5)\n",
      "Requirement already satisfied: nvidia-nvtx-cu12==12.4.127 in /opt/conda/lib/python3.10/site-packages (from torch>=1.8.0->darts==0.30.0) (12.4.127)\n",
      "Requirement already satisfied: nvidia-nvjitlink-cu12==12.4.127 in /opt/conda/lib/python3.10/site-packages (from torch>=1.8.0->darts==0.30.0) (12.4.127)\n",
      "Requirement already satisfied: triton==3.1.0 in /opt/conda/lib/python3.10/site-packages (from torch>=1.8.0->darts==0.30.0) (3.1.0)\n",
      "Requirement already satisfied: sympy==1.13.1 in /opt/conda/lib/python3.10/site-packages (from torch>=1.8.0->darts==0.30.0) (1.13.1)\n",
      "Requirement already satisfied: mpmath<1.4,>=1.1.0 in /opt/conda/lib/python3.10/site-packages (from sympy==1.13.1->torch>=1.8.0->darts==0.30.0) (1.3.0)\n",
      "Requirement already satisfied: aiohttp!=4.0.0a0,!=4.0.0a1 in /opt/conda/lib/python3.10/site-packages (from fsspec[http]>=2022.5.0->pytorch-lightning>=1.5.0->darts==0.30.0) (3.10.10)\n",
      "Requirement already satisfied: triad>=0.9.7 in /opt/conda/lib/python3.10/site-packages (from fugue>=0.8.1->statsforecast>=1.4->darts==0.30.0) (0.9.8)\n",
      "Requirement already satisfied: adagio>=0.2.4 in /opt/conda/lib/python3.10/site-packages (from fugue>=0.8.1->statsforecast>=1.4->darts==0.30.0) (0.2.6)\n",
      "Requirement already satisfied: llvmlite<0.44,>=0.43.0dev0 in /opt/conda/lib/python3.10/site-packages (from numba>=0.51->pyod>=0.9.5->darts==0.30.0) (0.43.0)\n",
      "Requirement already satisfied: six in /opt/conda/lib/python3.10/site-packages (from patsy>=0.5.6->statsmodels>=0.14.0->darts==0.30.0) (1.16.0)\n",
      "Requirement already satisfied: MarkupSafe>=2.0 in /opt/conda/lib/python3.10/site-packages (from jinja2->torch>=1.8.0->darts==0.30.0) (2.1.2)\n",
      "Requirement already satisfied: aiohappyeyeballs>=2.3.0 in /opt/conda/lib/python3.10/site-packages (from aiohttp!=4.0.0a0,!=4.0.0a1->fsspec[http]>=2022.5.0->pytorch-lightning>=1.5.0->darts==0.30.0) (2.4.3)\n",
      "Requirement already satisfied: aiosignal>=1.1.2 in /opt/conda/lib/python3.10/site-packages (from aiohttp!=4.0.0a0,!=4.0.0a1->fsspec[http]>=2022.5.0->pytorch-lightning>=1.5.0->darts==0.30.0) (1.3.1)\n",
      "Requirement already satisfied: attrs>=17.3.0 in /opt/conda/lib/python3.10/site-packages (from aiohttp!=4.0.0a0,!=4.0.0a1->fsspec[http]>=2022.5.0->pytorch-lightning>=1.5.0->darts==0.30.0) (23.1.0)\n",
      "Requirement already satisfied: frozenlist>=1.1.1 in /opt/conda/lib/python3.10/site-packages (from aiohttp!=4.0.0a0,!=4.0.0a1->fsspec[http]>=2022.5.0->pytorch-lightning>=1.5.0->darts==0.30.0) (1.5.0)\n",
      "Requirement already satisfied: multidict<7.0,>=4.5 in /opt/conda/lib/python3.10/site-packages (from aiohttp!=4.0.0a0,!=4.0.0a1->fsspec[http]>=2022.5.0->pytorch-lightning>=1.5.0->darts==0.30.0) (6.1.0)\n",
      "Requirement already satisfied: yarl<2.0,>=1.12.0 in /opt/conda/lib/python3.10/site-packages (from aiohttp!=4.0.0a0,!=4.0.0a1->fsspec[http]>=2022.5.0->pytorch-lightning>=1.5.0->darts==0.30.0) (1.17.0)\n",
      "Requirement already satisfied: async-timeout<5.0,>=4.0 in /opt/conda/lib/python3.10/site-packages (from aiohttp!=4.0.0a0,!=4.0.0a1->fsspec[http]>=2022.5.0->pytorch-lightning>=1.5.0->darts==0.30.0) (4.0.3)\n",
      "Requirement already satisfied: pyarrow>=6.0.1 in /opt/conda/lib/python3.10/site-packages (from triad>=0.9.7->fugue>=0.8.1->statsforecast>=1.4->darts==0.30.0) (17.0.0)\n",
      "Requirement already satisfied: fs in /opt/conda/lib/python3.10/site-packages (from triad>=0.9.7->fugue>=0.8.1->statsforecast>=1.4->darts==0.30.0) (2.4.16)\n",
      "Requirement already satisfied: propcache>=0.2.0 in /opt/conda/lib/python3.10/site-packages (from yarl<2.0,>=1.12.0->aiohttp!=4.0.0a0,!=4.0.0a1->fsspec[http]>=2022.5.0->pytorch-lightning>=1.5.0->darts==0.30.0) (0.2.0)\n",
      "Requirement already satisfied: appdirs~=1.4.3 in /opt/conda/lib/python3.10/site-packages (from fs->triad>=0.9.7->fugue>=0.8.1->statsforecast>=1.4->darts==0.30.0) (1.4.4)\n",
      "Note: you may need to restart the kernel to use updated packages.\n"
     ]
    }
   ],
   "source": [
    "%pip install darts==0.30.0"
   ]
  },
  {
   "cell_type": "code",
   "execution_count": 1,
   "id": "328fe1f0-a124-4e5a-ba03-236297470be1",
   "metadata": {},
   "outputs": [
    {
     "data": {
      "text/plain": [
       "{'inference_input': [{'value': 360.0, 'date': -347155200000.0},\n",
       "  {'value': 342.0, 'date': -344476800000.0},\n",
       "  {'value': 406.0, 'date': -342057600000.0},\n",
       "  {'value': 396.0, 'date': -339379200000.0},\n",
       "  {'value': 420.0, 'date': -336787200000.0},\n",
       "  {'value': 472.0, 'date': -334108800000.0},\n",
       "  {'value': 548.0, 'date': -331516800000.0},\n",
       "  {'value': 559.0, 'date': -328838400000.0},\n",
       "  {'value': 463.0, 'date': -326160000000.0},\n",
       "  {'value': 407.0, 'date': -323568000000.0},\n",
       "  {'value': 362.0, 'date': -320889600000.0},\n",
       "  {'value': 405.0, 'date': -318297600000.0},\n",
       "  {'value': 417.0, 'date': -315619200000.0},\n",
       "  {'value': 391.0, 'date': -312940800000.0},\n",
       "  {'value': 419.0, 'date': -310435200000.0},\n",
       "  {'value': 461.0, 'date': -307756800000.0},\n",
       "  {'value': 472.0, 'date': -305164800000.0},\n",
       "  {'value': 535.0, 'date': -302486400000.0},\n",
       "  {'value': 622.0, 'date': -299894400000.0},\n",
       "  {'value': 606.0, 'date': -297216000000.0},\n",
       "  {'value': 508.0, 'date': -294537600000.0},\n",
       "  {'value': 461.0, 'date': -291945600000.0},\n",
       "  {'value': 390.0, 'date': -289267200000.0},\n",
       "  {'value': 432.0, 'date': -286675200000.0}]}"
      ]
     },
     "execution_count": 1,
     "metadata": {},
     "output_type": "execute_result"
    }
   ],
   "source": [
    "import json\n",
    "from datetime import datetime\n",
    "from darts.datasets import AirPassengersDataset\n",
    "import requests\n",
    "\n",
    "series = AirPassengersDataset().load()\n",
    "val = series[-24:]\n",
    "json_value = json.loads(val.to_json())\n",
    "\n",
    "data = map(lambda x, y: {\"value\": x[0], \"date\": datetime.timestamp(datetime.strptime(y, \"%Y-%m-%dT%H:%M:%S.%f\"))*1000}, json_value[\"data\"], json_value[\"index\"])\n",
    "inference_input = list(data)\n",
    "json = {\"inference_input\": inference_input}\n",
    "json"
   ]
  },
  {
   "cell_type": "code",
   "execution_count": 2,
   "id": "0f4adbd7-6e3d-4358-af61-02e67453521f",
   "metadata": {},
   "outputs": [],
   "source": [
    "import digitalhub as dh\n",
    "PROJECT = \"project-cml-darts-ci\"\n",
    "project = dh.get_or_create_project(PROJECT)"
   ]
  },
  {
   "cell_type": "markdown",
   "id": "686b7f31-9451-4a5d-97c7-8104b38553e1",
   "metadata": {},
   "source": [
    "Get the id of service run from project function details."
   ]
  },
  {
   "cell_type": "code",
   "execution_count": 3,
   "id": "fe8dbf0e-79d8-4228-9921-0a3fbecfb791",
   "metadata": {},
   "outputs": [
    {
     "data": {
      "text/plain": [
       "9"
      ]
     },
     "execution_count": 3,
     "metadata": {},
     "output_type": "execute_result"
    }
   ],
   "source": [
    "serve_func = project.get_function('serve_darts_model')\n",
    "list = serve_func.list_runs()\n",
    "len(list)"
   ]
  },
  {
   "cell_type": "code",
   "execution_count": 4,
   "id": "37fb3b28-f50f-42d9-abc5-c127280a9a26",
   "metadata": {},
   "outputs": [],
   "source": [
    "# filter = [x for x in list if(x.metadata.labels]"
   ]
  },
  {
   "cell_type": "code",
   "execution_count": 5,
   "id": "cb57b5a0-e92e-4db9-9be5-7112ab52b294",
   "metadata": {},
   "outputs": [],
   "source": [
    "# filtered_list = [e for e in list if e.metadata.name == '734ea1da-650a-4dc6-8cc9-f00491f2127c']\n",
    "# len(filtered_list)"
   ]
  },
  {
   "cell_type": "code",
   "execution_count": 6,
   "id": "02937c17-88fe-4c40-b4c1-8b98431317a5",
   "metadata": {},
   "outputs": [
    {
     "data": {
      "text/plain": [
       "1"
      ]
     },
     "execution_count": 6,
     "metadata": {},
     "output_type": "execute_result"
    }
   ],
   "source": [
    "filtered_list = [e for e in list if getattr(e.metadata, 'labels') is not None and 'service' in e.metadata.labels]\n",
    "len(filtered_list)"
   ]
  },
  {
   "cell_type": "code",
   "execution_count": 7,
   "id": "9fb2072b-6715-4479-9112-cb7453f0ec48",
   "metadata": {},
   "outputs": [],
   "source": [
    "id = filtered_list[0].id"
   ]
  },
  {
   "cell_type": "code",
   "execution_count": 8,
   "id": "2da196f7-17d9-4821-9aad-ad5a394b7ef4",
   "metadata": {},
   "outputs": [
    {
     "name": "stdout",
     "output_type": "stream",
     "text": [
      "[{'date': -283996800000, 'value': 448.4713515232}, {'date': -281318400000, 'value': 416.9437679985}, {'date': -278899200000, 'value': 488.1964291872}, {'date': -276220800000, 'value': 498.348927999}, {'date': -273628800000, 'value': 509.5799418856}, {'date': -270950400000, 'value': 614.4077203825}, {'date': -268358400000, 'value': 703.8526003896}, {'date': -265680000000, 'value': 691.8522541339}, {'date': -263001600000, 'value': 606.4765462227}, {'date': -260409600000, 'value': 532.2036568194}, {'date': -257731200000, 'value': 454.02867762}, {'date': -255139200000, 'value': 497.8013444336}, {'date': -252460800000, 'value': 524.1175493405}, {'date': -249782400000, 'value': 490.7081232278}, {'date': -247363200000, 'value': 572.8023540875}, {'date': -244684800000, 'value': 584.0529239754}, {'date': -242092800000, 'value': 595.3217350383}, {'date': -239414400000, 'value': 707.6626039279}, {'date': -236822400000, 'value': 812.7016954389}, {'date': -234144000000, 'value': 805.2495930826}, {'date': -231465600000, 'value': 714.0584825641}, {'date': -228873600000, 'value': 620.5925153638}, {'date': -226195200000, 'value': 521.528793967}, {'date': -223603200000, 'value': 566.4787526622}]\n"
     ]
    }
   ],
   "source": [
    "run_serve = project.get_run(identifier=id)\n",
    "SERVICE_URL = run_serve.refresh().status.to_dict()[\"service\"][\"url\"]\n",
    "\n",
    "with requests.post(f'http://{SERVICE_URL}', json={\"inference_input\":inference_input}) as r:\n",
    "    res = r.json()\n",
    "print(res)"
   ]
  },
  {
   "cell_type": "markdown",
   "id": "e81d666c-fc05-4c38-8ee8-b1feb950404e",
   "metadata": {},
   "source": [
    "## Workflow Pipeline"
   ]
  },
  {
   "cell_type": "code",
   "execution_count": 9,
   "id": "f12b8637-4cd4-4e96-bb14-deb10b591492",
   "metadata": {},
   "outputs": [
    {
     "name": "stdout",
     "output_type": "stream",
     "text": [
      "Overwriting src/dbt_cml_darts_pipeline.py\n"
     ]
    }
   ],
   "source": [
    "%%writefile \"src/dbt_cml_darts_pipeline.py\"\n",
    "\n",
    "from digitalhub_runtime_kfp.dsl import pipeline_context\n",
    "\n",
    "def myhandler():\n",
    "    with pipeline_context() as pc:\n",
    "        trainer = pc.step(name=\"train-model\", function=\"train-darts\", action=\"job\")        "
   ]
  },
  {
   "cell_type": "code",
   "execution_count": 10,
   "id": "4327d7f5-c2ec-4b4f-b8e4-2419490167dd",
   "metadata": {},
   "outputs": [],
   "source": [
    "workflow = project.new_workflow(name=\"pipeline_cml_darts\", kind=\"kfp\", code_src= \"src/dbt_cml_darts_pipeline.py\", handler = \"myhandler\")"
   ]
  },
  {
   "cell_type": "code",
   "execution_count": 11,
   "id": "14ed5413-2161-48fb-ab22-9678c3ad0c6e",
   "metadata": {},
   "outputs": [
    {
     "data": {
      "text/plain": [
       "{'kind': 'kfp+run', 'metadata': {'project': 'project-cml-darts-ci', 'name': '045d4220-20da-41ca-843e-a2fd15b2a6f7', 'created': '2024-10-29T11:45:02.458Z', 'updated': '2024-10-29T11:45:02.475Z', 'created_by': 'khurshid@fbk.eu', 'updated_by': 'khurshid@fbk.eu'}, 'spec': {'task': 'kfp+pipeline://project-cml-darts-ci/pipeline_cml_darts:dde3cbc1-d475-43fd-855f-641a71c1cf33', 'local_execution': False, 'function': 'kfp://project-cml-darts-ci/pipeline_cml_darts:dde3cbc1-d475-43fd-855f-641a71c1cf33', 'source': {'source': 'src/dbt_cml_darts_pipeline.py', 'handler': 'myhandler', 'base64': 'CmZyb20gZGlnaXRhbGh1Yl9ydW50aW1lX2tmcC5kc2wgaW1wb3J0IHBpcGVsaW5lX2NvbnRleHQKCmRlZiBteWhhbmRsZXIoKToKICAgIHdpdGggcGlwZWxpbmVfY29udGV4dCgpIGFzIHBjOgogICAgICAgIHRyYWluZXIgPSBwYy5zdGVwKG5hbWU9InRyYWluLW1vZGVsIiwgZnVuY3Rpb249InRyYWluLWRhcnRzIiwgYWN0aW9uPSJqb2IiKSAgICAgICAgCg==', 'lang': 'python'}, 'inputs': {}, 'outputs': {}, 'parameters': {}}, 'status': {'state': 'READY', 'transitions': [{'status': 'READY', 'time': '2024-10-29T11:45:02.475518639Z'}, {'status': 'BUILT', 'time': '2024-10-29T11:45:02.465475678Z'}]}, 'user': 'khurshid@fbk.eu', 'project': 'project-cml-darts-ci', 'id': '045d4220-20da-41ca-843e-a2fd15b2a6f7', 'key': 'store://project-cml-darts-ci/run/kfp+run/045d4220-20da-41ca-843e-a2fd15b2a6f7'}"
      ]
     },
     "execution_count": 11,
     "metadata": {},
     "output_type": "execute_result"
    }
   ],
   "source": [
    "workflow.run(localExecution=True)"
   ]
  },
  {
   "cell_type": "code",
   "execution_count": null,
   "id": "2472d7fd-81bf-41db-804f-3b38f49a3708",
   "metadata": {},
   "outputs": [],
   "source": []
  }
 ],
 "metadata": {
  "kernelspec": {
   "display_name": "Python 3 (ipykernel)",
   "language": "python",
   "name": "python3"
  },
  "language_info": {
   "codemirror_mode": {
    "name": "ipython",
    "version": 3
   },
   "file_extension": ".py",
   "mimetype": "text/x-python",
   "name": "python",
   "nbconvert_exporter": "python",
   "pygments_lexer": "ipython3",
   "version": "3.10.11"
  }
 },
 "nbformat": 4,
 "nbformat_minor": 5
}
