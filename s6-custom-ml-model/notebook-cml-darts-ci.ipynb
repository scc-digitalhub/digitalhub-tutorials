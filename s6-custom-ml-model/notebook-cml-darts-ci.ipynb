{
 "cells": [
  {
   "cell_type": "code",
   "execution_count": 1,
   "id": "bbf53e6b-d054-41b8-87d0-fe9248489809",
   "metadata": {},
   "outputs": [],
   "source": [
    "import digitalhub as dh\n",
    "import pandas as pd\n",
    "import os"
   ]
  },
  {
   "cell_type": "code",
   "execution_count": 2,
   "id": "d47af28a-e2c9-4f7b-a2f2-6dc67a702d30",
   "metadata": {},
   "outputs": [],
   "source": [
    "PROJECT = \"project-cml-darts-ci\"\n",
    "project = dh.get_or_create_project(PROJECT)"
   ]
  },
  {
   "cell_type": "code",
   "execution_count": 3,
   "id": "33a53adc-d5b8-4488-b7c7-dc6886a4301c",
   "metadata": {},
   "outputs": [],
   "source": [
    "new_folder = 'src'\n",
    "if not os.path.exists(new_folder):\n",
    "    os.makedirs(new_folder)"
   ]
  },
  {
   "cell_type": "code",
   "execution_count": 4,
   "id": "5d541f7e-2e4b-4eec-b92d-53f0cedf920d",
   "metadata": {},
   "outputs": [
    {
     "name": "stdout",
     "output_type": "stream",
     "text": [
      "Writing src/train-model.py\n"
     ]
    }
   ],
   "source": [
    "%%writefile \"src/train-model.py\"\n",
    "\n",
    "\n",
    "from digitalhub_runtime_python import handler\n",
    "\n",
    "import pandas as pd\n",
    "import numpy as np\n",
    "\n",
    "from darts import TimeSeries\n",
    "from darts.datasets import AirPassengersDataset\n",
    "from darts.models import NBEATSModel\n",
    "from darts.metrics import mape, smape, mae\n",
    "\n",
    "from zipfile import ZipFile\n",
    "\n",
    "@handler()\n",
    "def train_model(project):\n",
    "    series = AirPassengersDataset().load()\n",
    "    train, val = series[:-36], series[-36:]\n",
    "\n",
    "    model = NBEATSModel(\n",
    "        input_chunk_length=24,\n",
    "        output_chunk_length=12,\n",
    "        n_epochs=200,\n",
    "        random_state=0\n",
    "    )\n",
    "    model.fit(train)\n",
    "    pred = model.predict(n=36)\n",
    "\n",
    "    model.save(\"predictor_model.pt\")\n",
    "    with ZipFile(\"predictor_model.pt.zip\", \"w\") as z:\n",
    "        z.write(\"predictor_model.pt\")\n",
    "        z.write(\"predictor_model.pt.ckpt\")\n",
    "    metrics = {\n",
    "        \"mape\": mape(series, pred),\n",
    "        \"smape\": smape(series, pred),\n",
    "        \"mae\": mae(series, pred)\n",
    "    }\n",
    "\n",
    "    project.log_model(\n",
    "        name=\"darts_model\",\n",
    "        kind=\"model\",\n",
    "        source=\"predictor_model.pt.zip\",\n",
    "        algorithm=\"darts.models.NBEATSModel\",\n",
    "        framework=\"darts\",\n",
    "        metrics=metrics\n",
    "    )"
   ]
  },
  {
   "cell_type": "code",
   "execution_count": 5,
   "id": "db14f65f-e948-43c0-b8c1-c56569b3142f",
   "metadata": {},
   "outputs": [],
   "source": [
    "train_fn = project.new_function(\n",
    "     name=\"train-darts\",\n",
    "     kind=\"python\",\n",
    "     python_version=\"PYTHON3_10\",\n",
    "     source={\"source\": \"src/train-model.py\", \"handler\": \"train_model\"})"
   ]
  },
  {
   "cell_type": "code",
   "execution_count": 6,
   "id": "430db175-e792-4d23-9d88-984532fd17c7",
   "metadata": {},
   "outputs": [],
   "source": [
    "#train_fn.run(action=\"build\", instructions=[\"pip3 install torch torchvision torchaudio --index-url https://download.pytorch.org/whl/cpu\",\"pip3 install darts patsy scikit-learn\"])"
   ]
  },
  {
   "cell_type": "code",
   "execution_count": 6,
   "id": "e5a44ff5-2b86-49f4-9eea-c4ff142dd44b",
   "metadata": {},
   "outputs": [
    {
     "name": "stdout",
     "output_type": "stream",
     "text": [
      "Writing serve_darts_model-nk.py\n"
     ]
    }
   ],
   "source": [
    "%%writefile \"src/serve_darts_model-nk.py\"\n",
    "\n",
    "from darts.models import NBEATSModel\n",
    "from zipfile import ZipFile\n",
    "from darts import TimeSeries\n",
    "import json\n",
    "import pandas as pd\n",
    "\n",
    "def init(context):\n",
    "    model_name = \"darts_model\"\n",
    "\n",
    "    model = context.project.get_model(model_name)\n",
    "    path = model.download()\n",
    "    local_path_model = \"extracted_model/\"\n",
    "\n",
    "    with ZipFile(path, 'r') as zip_ref:\n",
    "        zip_ref.extractall(local_path_model)\n",
    "\n",
    "    input_chunk_length = 24\n",
    "    output_chunk_length = 12\n",
    "    name_model_local = local_path_model +\"predictor_model.pt\"\n",
    "    mm = NBEATSModel(\n",
    "            input_chunk_length,\n",
    "            output_chunk_length\n",
    "    ).load(name_model_local)\n",
    "\n",
    "    setattr(context, \"model\", mm)\n",
    "\n",
    "def serve(context, event):\n",
    "\n",
    "    if isinstance(event.body, bytes):\n",
    "        body = json.loads(event.body)\n",
    "    else:\n",
    "        body = event.body\n",
    "    context.logger.info(f\"Received event: {body}\")\n",
    "    inference_input = body[\"inference_input\"]\n",
    "\n",
    "    pdf = pd.DataFrame(inference_input)\n",
    "    pdf['date'] = pd.to_datetime(pdf['date'], unit='ms')\n",
    "\n",
    "    ts = TimeSeries.from_dataframe(\n",
    "        pdf,\n",
    "        time_col=\"date\",\n",
    "        value_cols=\"value\"\n",
    "    )\n",
    "\n",
    "    output_chunk_length = 12\n",
    "    result = context.model.predict(n=output_chunk_length*2, series=ts)\n",
    "    # Convert the result to a pandas DataFrame, reset the index, and convert to a list\n",
    "    jsonstr = result.pd_dataframe().reset_index().to_json(orient='records')\n",
    "    return json.loads(jsonstr)"
   ]
  },
  {
   "cell_type": "code",
   "execution_count": 7,
   "id": "485ee25b-641a-4d20-9fae-cecc18451882",
   "metadata": {},
   "outputs": [
    {
     "data": {
      "text/plain": [
       "{'kind': 'python+run', 'metadata': {'project': 'project-cml-darts-ci', 'name': '52b9bcde-b19b-435e-956b-98fef2da7edf', 'created': '2024-10-28T10:02:35.57Z', 'updated': '2024-10-28T10:02:35.596Z', 'created_by': 'khurshid@fbk.eu', 'updated_by': 'khurshid@fbk.eu'}, 'spec': {'task': 'python+job://project-cml-darts-ci/train-darts:b6fe7680-f353-4dce-a986-2aaab69227ea', 'local_execution': False, 'function': 'python://project-cml-darts-ci/train-darts:b6fe7680-f353-4dce-a986-2aaab69227ea', 'source': {'source': 'src/train-model.py', 'handler': 'train_model', 'base64': 'Cgpmcm9tIGRpZ2l0YWxodWJfcnVudGltZV9weXRob24gaW1wb3J0IGhhbmRsZXIKCmltcG9ydCBwYW5kYXMgYXMgcGQKaW1wb3J0IG51bXB5IGFzIG5wCgpmcm9tIGRhcnRzIGltcG9ydCBUaW1lU2VyaWVzCmZyb20gZGFydHMuZGF0YXNldHMgaW1wb3J0IEFpclBhc3NlbmdlcnNEYXRhc2V0CmZyb20gZGFydHMubW9kZWxzIGltcG9ydCBOQkVBVFNNb2RlbApmcm9tIGRhcnRzLm1ldHJpY3MgaW1wb3J0IG1hcGUsIHNtYXBlLCBtYWUKCmZyb20gemlwZmlsZSBpbXBvcnQgWmlwRmlsZQoKQGhhbmRsZXIoKQpkZWYgdHJhaW5fbW9kZWwocHJvamVjdCk6CiAgICBzZXJpZXMgPSBBaXJQYXNzZW5nZXJzRGF0YXNldCgpLmxvYWQoKQogICAgdHJhaW4sIHZhbCA9IHNlcmllc1s6LTM2XSwgc2VyaWVzWy0zNjpdCgogICAgbW9kZWwgPSBOQkVBVFNNb2RlbCgKICAgICAgICBpbnB1dF9jaHVua19sZW5ndGg9MjQsCiAgICAgICAgb3V0cHV0X2NodW5rX2xlbmd0aD0xMiwKICAgICAgICBuX2Vwb2Nocz0yMDAsCiAgICAgICAgcmFuZG9tX3N0YXRlPTAKICAgICkKICAgIG1vZGVsLmZpdCh0cmFpbikKICAgIHByZWQgPSBtb2RlbC5wcmVkaWN0KG49MzYpCgogICAgbW9kZWwuc2F2ZSgicHJlZGljdG9yX21vZGVsLnB0IikKICAgIHdpdGggWmlwRmlsZSgicHJlZGljdG9yX21vZGVsLnB0LnppcCIsICJ3IikgYXMgejoKICAgICAgICB6LndyaXRlKCJwcmVkaWN0b3JfbW9kZWwucHQiKQogICAgICAgIHoud3JpdGUoInByZWRpY3Rvcl9tb2RlbC5wdC5ja3B0IikKICAgIG1ldHJpY3MgPSB7CiAgICAgICAgIm1hcGUiOiBtYXBlKHNlcmllcywgcHJlZCksCiAgICAgICAgInNtYXBlIjogc21hcGUoc2VyaWVzLCBwcmVkKSwKICAgICAgICAibWFlIjogbWFlKHNlcmllcywgcHJlZCkKICAgIH0KCiAgICBwcm9qZWN0LmxvZ19tb2RlbCgKICAgICAgICBuYW1lPSJkYXJ0c19tb2RlbCIsCiAgICAgICAga2luZD0ibW9kZWwiLAogICAgICAgIHNvdXJjZT0icHJlZGljdG9yX21vZGVsLnB0LnppcCIsCiAgICAgICAgYWxnb3JpdGhtPSJkYXJ0cy5tb2RlbHMuTkJFQVRTTW9kZWwiLAogICAgICAgIGZyYW1ld29yaz0iZGFydHMiLAogICAgICAgIG1ldHJpY3M9bWV0cmljcwogICAgKQo=', 'lang': 'python'}, 'python_version': 'PYTHON3_10', 'inputs': {}, 'outputs': {}, 'parameters': {}}, 'status': {'state': 'READY', 'transitions': [{'status': 'READY', 'time': '2024-10-28T10:02:35.595862572Z'}, {'status': 'BUILT', 'time': '2024-10-28T10:02:35.576489065Z'}]}, 'user': 'khurshid@fbk.eu', 'project': 'project-cml-darts-ci', 'id': '52b9bcde-b19b-435e-956b-98fef2da7edf', 'key': 'store://project-cml-darts-ci/run/python+run/52b9bcde-b19b-435e-956b-98fef2da7edf'}"
      ]
     },
     "execution_count": 7,
     "metadata": {},
     "output_type": "execute_result"
    }
   ],
   "source": [
    "train_fn.run(action=\"job\", local_execution=False)"
   ]
  },
  {
   "cell_type": "code",
   "execution_count": 7,
   "id": "79310799-708a-4121-8bb9-0d592a7fa22a",
   "metadata": {},
   "outputs": [],
   "source": [
    "func = project.new_function(name=\"serve_darts_model\",\n",
    "                            kind=\"python\",\n",
    "                            python_version=\"PYTHON3_10\",\n",
    "                            source={\n",
    "                                 \"source\": \"src/serve_darts_model-nk.py\",\n",
    "                                 \"handler\": \"serve\",\n",
    "                                 \"init_function\": \"init\"})"
   ]
  },
  {
   "cell_type": "code",
   "execution_count": 8,
   "id": "73e43fc1-937f-4313-9d64-8bc7a2e60b2a",
   "metadata": {},
   "outputs": [],
   "source": [
    "run_build_model_serve = func.run(action=\"build\",instructions=[\"pip3 install torch torchvision torchaudio --index-url https://download.pytorch.org/whl/cpu\",\"pip3 install darts patsy scikit-learn\"])"
   ]
  },
  {
   "cell_type": "code",
   "execution_count": 9,
   "id": "32048ea6-6124-400b-a2d0-d9a560e00d59",
   "metadata": {},
   "outputs": [],
   "source": [
    "run_serve = func.run(action=\"serve\")"
   ]
  },
  {
   "cell_type": "code",
   "execution_count": 12,
   "id": "328fe1f0-a124-4e5a-ba03-236297470be1",
   "metadata": {},
   "outputs": [
    {
     "data": {
      "text/plain": [
       "{'inference_input': [{'value': 360.0, 'date': -347155200000.0},\n",
       "  {'value': 342.0, 'date': -344476800000.0},\n",
       "  {'value': 406.0, 'date': -342057600000.0},\n",
       "  {'value': 396.0, 'date': -339379200000.0},\n",
       "  {'value': 420.0, 'date': -336787200000.0},\n",
       "  {'value': 472.0, 'date': -334108800000.0},\n",
       "  {'value': 548.0, 'date': -331516800000.0},\n",
       "  {'value': 559.0, 'date': -328838400000.0},\n",
       "  {'value': 463.0, 'date': -326160000000.0},\n",
       "  {'value': 407.0, 'date': -323568000000.0},\n",
       "  {'value': 362.0, 'date': -320889600000.0},\n",
       "  {'value': 405.0, 'date': -318297600000.0},\n",
       "  {'value': 417.0, 'date': -315619200000.0},\n",
       "  {'value': 391.0, 'date': -312940800000.0},\n",
       "  {'value': 419.0, 'date': -310435200000.0},\n",
       "  {'value': 461.0, 'date': -307756800000.0},\n",
       "  {'value': 472.0, 'date': -305164800000.0},\n",
       "  {'value': 535.0, 'date': -302486400000.0},\n",
       "  {'value': 622.0, 'date': -299894400000.0},\n",
       "  {'value': 606.0, 'date': -297216000000.0},\n",
       "  {'value': 508.0, 'date': -294537600000.0},\n",
       "  {'value': 461.0, 'date': -291945600000.0},\n",
       "  {'value': 390.0, 'date': -289267200000.0},\n",
       "  {'value': 432.0, 'date': -286675200000.0}]}"
      ]
     },
     "execution_count": 12,
     "metadata": {},
     "output_type": "execute_result"
    }
   ],
   "source": [
    "import json\n",
    "from datetime import datetime\n",
    "from darts.datasets import AirPassengersDataset\n",
    "\n",
    "series = AirPassengersDataset().load()\n",
    "val = series[-24:]\n",
    "json_value = json.loads(val.to_json())\n",
    "\n",
    "data = map(lambda x, y: {\"value\": x[0], \"date\": datetime.timestamp(datetime.strptime(y, \"%Y-%m-%dT%H:%M:%S.%f\"))*1000}, json_value[\"data\"], json_value[\"index\"])\n",
    "inference_input = list(data)\n",
    "json = {\"inference_input\": inference_input}\n",
    "json"
   ]
  },
  {
   "cell_type": "code",
   "execution_count": 13,
   "id": "2da196f7-17d9-4821-9aad-ad5a394b7ef4",
   "metadata": {},
   "outputs": [
    {
     "name": "stdout",
     "output_type": "stream",
     "text": [
      "[{'date': -283996800000, 'value': 448.4713515232}, {'date': -281318400000, 'value': 416.9437679985}, {'date': -278899200000, 'value': 488.1964291872}, {'date': -276220800000, 'value': 498.348927999}, {'date': -273628800000, 'value': 509.5799418856}, {'date': -270950400000, 'value': 614.4077203825}, {'date': -268358400000, 'value': 703.8526003896}, {'date': -265680000000, 'value': 691.8522541339}, {'date': -263001600000, 'value': 606.4765462227}, {'date': -260409600000, 'value': 532.2036568194}, {'date': -257731200000, 'value': 454.02867762}, {'date': -255139200000, 'value': 497.8013444336}, {'date': -252460800000, 'value': 524.1175493405}, {'date': -249782400000, 'value': 490.7081232278}, {'date': -247363200000, 'value': 572.8023540875}, {'date': -244684800000, 'value': 584.0529239754}, {'date': -242092800000, 'value': 595.3217350383}, {'date': -239414400000, 'value': 707.6626039279}, {'date': -236822400000, 'value': 812.7016954389}, {'date': -234144000000, 'value': 805.2495930826}, {'date': -231465600000, 'value': 714.0584825641}, {'date': -228873600000, 'value': 620.5925153638}, {'date': -226195200000, 'value': 521.528793967}, {'date': -223603200000, 'value': 566.4787526622}]\n"
     ]
    }
   ],
   "source": [
    "run_serve = project.get_run(identifier='b83b148a-5e0d-433b-8a9a-3a89022f6904')\n",
    "SERVICE_URL = run_serve.refresh().status.to_dict()[\"service\"][\"url\"]\n",
    "\n",
    "with requests.post(f'http://{SERVICE_URL}', json={\"inference_input\":inference_input}) as r:\n",
    "    res = r.json()\n",
    "print(res)"
   ]
  },
  {
   "cell_type": "markdown",
   "id": "e81d666c-fc05-4c38-8ee8-b1feb950404e",
   "metadata": {},
   "source": [
    "## Workflow Pipeline"
   ]
  },
  {
   "cell_type": "code",
   "execution_count": null,
   "id": "2626b59f-ad11-4281-be2f-6810438691d6",
   "metadata": {},
   "outputs": [
    {
     "name": "stdout",
     "output_type": "stream",
     "text": [
      "Collecting darts==0.30.0\n",
      "  Downloading darts-0.30.0-py3-none-any.whl (917 kB)\n",
      "\u001b[2K     \u001b[90m━━━━━━━━━━━━━━━━━━━━━━━━━━━━━━━━━━━━━━\u001b[0m \u001b[32m917.3/917.3 kB\u001b[0m \u001b[31m24.4 MB/s\u001b[0m eta \u001b[36m0:00:00\u001b[0m00:01\u001b[0m\n",
      "\u001b[?25hCollecting holidays>=0.11.1 (from darts==0.30.0)\n",
      "  Downloading holidays-0.59-py3-none-any.whl (1.1 MB)\n",
      "\u001b[2K     \u001b[90m━━━━━━━━━━━━━━━━━━━━━━━━━━━━━━━━━━━━━━━━\u001b[0m \u001b[32m1.1/1.1 MB\u001b[0m \u001b[31m29.5 MB/s\u001b[0m eta \u001b[36m0:00:00\u001b[0m00:01\u001b[0m\n",
      "\u001b[?25hRequirement already satisfied: joblib>=0.16.0 in /opt/conda/lib/python3.10/site-packages (from darts==0.30.0) (1.4.2)\n",
      "Requirement already satisfied: matplotlib>=3.3.0 in /opt/conda/lib/python3.10/site-packages (from darts==0.30.0) (3.9.2)\n",
      "Collecting nfoursid>=1.0.0 (from darts==0.30.0)\n",
      "  Downloading nfoursid-1.0.1-py3-none-any.whl (16 kB)\n",
      "Requirement already satisfied: numpy<2.0.0,>=1.19.0 in /opt/conda/lib/python3.10/site-packages (from darts==0.30.0) (1.26.4)\n",
      "Collecting pmdarima>=1.8.0 (from darts==0.30.0)\n",
      "  Downloading pmdarima-2.0.4-cp310-cp310-manylinux_2_17_x86_64.manylinux2014_x86_64.manylinux_2_28_x86_64.whl (2.1 MB)\n",
      "\u001b[2K     \u001b[90m━━━━━━━━━━━━━━━━━━━━━━━━━━━━━━━━━━━━━━━━\u001b[0m \u001b[32m2.1/2.1 MB\u001b[0m \u001b[31m57.9 MB/s\u001b[0m eta \u001b[36m0:00:00\u001b[0m:00:01\u001b[0m\n",
      "\u001b[?25hCollecting pyod>=0.9.5 (from darts==0.30.0)\n",
      "  Downloading pyod-2.0.2.tar.gz (165 kB)\n",
      "\u001b[2K     \u001b[90m━━━━━━━━━━━━━━━━━━━━━━━━━━━━━━━━━━━━━━\u001b[0m \u001b[32m165.8/165.8 kB\u001b[0m \u001b[31m20.8 MB/s\u001b[0m eta \u001b[36m0:00:00\u001b[0m\n",
      "\u001b[?25h  Preparing metadata (setup.py) ... \u001b[?25ldone\n",
      "\u001b[?25hRequirement already satisfied: requests>=2.22.0 in /opt/conda/lib/python3.10/site-packages (from darts==0.30.0) (2.31.0)\n",
      "Requirement already satisfied: scikit-learn>=1.0.1 in /opt/conda/lib/python3.10/site-packages (from darts==0.30.0) (1.5.2)\n",
      "Requirement already satisfied: scipy>=1.3.2 in /opt/conda/lib/python3.10/site-packages (from darts==0.30.0) (1.14.1)\n",
      "Collecting shap>=0.40.0 (from darts==0.30.0)\n",
      "  Downloading shap-0.46.0-cp310-cp310-manylinux_2_12_x86_64.manylinux2010_x86_64.manylinux_2_17_x86_64.manylinux2014_x86_64.whl (540 kB)\n",
      "\u001b[2K     \u001b[90m━━━━━━━━━━━━━━━━━━━━━━━━━━━━━━━━━━━━━━\u001b[0m \u001b[32m540.1/540.1 kB\u001b[0m \u001b[31m41.3 MB/s\u001b[0m eta \u001b[36m0:00:00\u001b[0m\n",
      "\u001b[?25hCollecting statsforecast>=1.4 (from darts==0.30.0)\n",
      "  Downloading statsforecast-1.7.8-cp310-cp310-manylinux_2_17_x86_64.manylinux2014_x86_64.whl (314 kB)\n",
      "\u001b[2K     \u001b[90m━━━━━━━━━━━━━━━━━━━━━━━━━━━━━━━━━━━━━━\u001b[0m \u001b[32m314.7/314.7 kB\u001b[0m \u001b[31m35.3 MB/s\u001b[0m eta \u001b[36m0:00:00\u001b[0m\n",
      "\u001b[?25hCollecting statsmodels>=0.14.0 (from darts==0.30.0)\n",
      "  Downloading statsmodels-0.14.4-cp310-cp310-manylinux_2_17_x86_64.manylinux2014_x86_64.whl (10.8 MB)\n",
      "\u001b[2K     \u001b[90m━━━━━━━━━━━━━━━━━━━━━━━━━━━━━━━━━━━━━━━━\u001b[0m \u001b[32m10.8/10.8 MB\u001b[0m \u001b[31m74.9 MB/s\u001b[0m eta \u001b[36m0:00:00\u001b[0m00:01\u001b[0m00:01\u001b[0m\n",
      "\u001b[?25hCollecting tbats>=1.1.0 (from darts==0.30.0)\n",
      "  Downloading tbats-1.1.3-py3-none-any.whl (44 kB)\n",
      "\u001b[2K     \u001b[90m━━━━━━━━━━━━━━━━━━━━━━━━━━━━━━━━━━━━━━━━\u001b[0m \u001b[32m44.0/44.0 kB\u001b[0m \u001b[31m7.4 MB/s\u001b[0m eta \u001b[36m0:00:00\u001b[0m\n",
      "\u001b[?25hRequirement already satisfied: tqdm>=4.60.0 in /opt/conda/lib/python3.10/site-packages (from darts==0.30.0) (4.65.0)\n",
      "Requirement already satisfied: typing-extensions in /opt/conda/lib/python3.10/site-packages (from darts==0.30.0) (4.12.2)\n",
      "Collecting xarray>=0.17.0 (from darts==0.30.0)\n",
      "  Downloading xarray-2024.10.0-py3-none-any.whl (1.2 MB)\n",
      "\u001b[2K     \u001b[90m━━━━━━━━━━━━━━━━━━━━━━━━━━━━━━━━━━━━━━━━\u001b[0m \u001b[32m1.2/1.2 MB\u001b[0m \u001b[31m54.8 MB/s\u001b[0m eta \u001b[36m0:00:00\u001b[0m\n",
      "\u001b[?25hCollecting xgboost>=1.6.0 (from darts==0.30.0)\n",
      "  Downloading xgboost-2.1.2-py3-none-manylinux_2_28_x86_64.whl (153.9 MB)\n",
      "\u001b[2K     \u001b[90m━━━━━━━━━━━━━━━━━━━━━━━━━━━━━━━━━━━━━━━\u001b[0m \u001b[32m153.9/153.9 MB\u001b[0m \u001b[31m7.9 MB/s\u001b[0m eta \u001b[36m0:00:00\u001b[0m00:01\u001b[0m00:01\u001b[0m\n",
      "\u001b[?25hCollecting pytorch-lightning>=1.5.0 (from darts==0.30.0)\n",
      "  Downloading pytorch_lightning-2.4.0-py3-none-any.whl (815 kB)\n",
      "\u001b[2K     \u001b[90m━━━━━━━━━━━━━━━━━━━━━━━━━━━━━━━━━━━━━━\u001b[0m \u001b[32m815.2/815.2 kB\u001b[0m \u001b[31m44.2 MB/s\u001b[0m eta \u001b[36m0:00:00\u001b[0m\n",
      "\u001b[?25hCollecting tensorboardX>=2.1 (from darts==0.30.0)\n",
      "  Downloading tensorboardX-2.6.2.2-py2.py3-none-any.whl (101 kB)\n",
      "\u001b[2K     \u001b[90m━━━━━━━━━━━━━━━━━━━━━━━━━━━━━━━━━━━━━━\u001b[0m \u001b[32m101.7/101.7 kB\u001b[0m \u001b[31m16.4 MB/s\u001b[0m eta \u001b[36m0:00:00\u001b[0m\n",
      "\u001b[?25hCollecting torch>=1.8.0 (from darts==0.30.0)\n",
      "  Downloading torch-2.5.0-cp310-cp310-manylinux1_x86_64.whl (906.4 MB)\n",
      "\u001b[2K     \u001b[91m━━━━━━━━━━━━━━━━━━━━━━━━━━━━━━━━━━━━━\u001b[0m\u001b[91m╸\u001b[0m \u001b[32m905.6/906.4 MB\u001b[0m \u001b[31m89.2 MB/s\u001b[0m eta \u001b[36m0:00:01\u001b[0m00:01\u001b[0m"
     ]
    }
   ],
   "source": [
    "%pip install darts==0.30.0"
   ]
  },
  {
   "cell_type": "code",
   "execution_count": 8,
   "id": "f12b8637-4cd4-4e96-bb14-deb10b591492",
   "metadata": {},
   "outputs": [
    {
     "name": "stdout",
     "output_type": "stream",
     "text": [
      "Writing src/dbt_cml_darts_pipeline.py\n"
     ]
    }
   ],
   "source": [
    "%%writefile \"src/dbt_cml_darts_pipeline.py\"\n",
    "\n",
    "from digitalhub_runtime_kfp.dsl import pipeline_context\n",
    "\n",
    "def myhandler():\n",
    "    with pipeline_context() as pc:\n",
    "        trainer = pc.step(name=\"train-model\", function=\"train-darts\", action=\"job\")        "
   ]
  },
  {
   "cell_type": "code",
   "execution_count": 9,
   "id": "4327d7f5-c2ec-4b4f-b8e4-2419490167dd",
   "metadata": {},
   "outputs": [],
   "source": [
    "workflow = project.new_workflow(name=\"pipeline_cml_darts\", kind=\"kfp\", code_src= \"src/dbt_cml_darts_pipeline.py\", handler = \"myhandler\")"
   ]
  },
  {
   "cell_type": "code",
   "execution_count": 10,
   "id": "14ed5413-2161-48fb-ab22-9678c3ad0c6e",
   "metadata": {},
   "outputs": [
    {
     "data": {
      "text/plain": [
       "{'kind': 'kfp+run', 'metadata': {'project': 'project-cml-darts-ci', 'name': 'b02b6d3f-60a6-442e-b0dd-4d552890bf8e', 'created': '2024-10-28T10:05:03.716Z', 'updated': '2024-10-28T10:05:03.739Z', 'created_by': 'khurshid@fbk.eu', 'updated_by': 'khurshid@fbk.eu'}, 'spec': {'task': 'kfp+pipeline://project-cml-darts-ci/pipeline_cml_darts:e5d5e75b-2e86-4a49-8446-800512949ba3', 'local_execution': False, 'function': 'kfp://project-cml-darts-ci/pipeline_cml_darts:e5d5e75b-2e86-4a49-8446-800512949ba3', 'source': {'source': 'src/dbt_cml_darts_pipeline.py', 'handler': 'myhandler', 'base64': 'CmZyb20gZGlnaXRhbGh1Yl9ydW50aW1lX2tmcC5kc2wgaW1wb3J0IHBpcGVsaW5lX2NvbnRleHQKCmRlZiBteWhhbmRsZXIoKToKICAgIHdpdGggcGlwZWxpbmVfY29udGV4dCgpIGFzIHBjOgogICAgICAgIHRyYWluZXIgPSBwYy5zdGVwKG5hbWU9InRyYWluLW1vZGVsIiwgZnVuY3Rpb249InRyYWluLWRhcnRzIiwgYWN0aW9uPSJqb2IiKSAgICAgICAgCg==', 'lang': 'python'}, 'inputs': {}, 'outputs': {}, 'parameters': {}}, 'status': {'state': 'READY', 'transitions': [{'status': 'READY', 'time': '2024-10-28T10:05:03.738842031Z'}, {'status': 'BUILT', 'time': '2024-10-28T10:05:03.723764116Z'}]}, 'user': 'khurshid@fbk.eu', 'project': 'project-cml-darts-ci', 'id': 'b02b6d3f-60a6-442e-b0dd-4d552890bf8e', 'key': 'store://project-cml-darts-ci/run/kfp+run/b02b6d3f-60a6-442e-b0dd-4d552890bf8e'}"
      ]
     },
     "execution_count": 10,
     "metadata": {},
     "output_type": "execute_result"
    }
   ],
   "source": [
    "workflow.run(localExecution=True)"
   ]
  },
  {
   "cell_type": "code",
   "execution_count": null,
   "id": "2472d7fd-81bf-41db-804f-3b38f49a3708",
   "metadata": {},
   "outputs": [],
   "source": []
  }
 ],
 "metadata": {
  "kernelspec": {
   "display_name": "Python 3 (ipykernel)",
   "language": "python",
   "name": "python3"
  },
  "language_info": {
   "codemirror_mode": {
    "name": "ipython",
    "version": 3
   },
   "file_extension": ".py",
   "mimetype": "text/x-python",
   "name": "python",
   "nbconvert_exporter": "python",
   "pygments_lexer": "ipython3",
   "version": "3.10.11"
  }
 },
 "nbformat": 4,
 "nbformat_minor": 5
}
