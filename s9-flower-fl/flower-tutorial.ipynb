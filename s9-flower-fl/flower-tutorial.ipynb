{
 "cells": [
  {
   "cell_type": "markdown",
   "id": "2f7119d1-a21f-4e9c-a1b0-10cb2f396cb4",
   "metadata": {},
   "source": [
    "# Flower Federated Learning Tutorial\n",
    "\n",
    "The tutorial demonstrates how to use the Flower FL framework for execution of federated learning tasks. The tutorial is based on official Pandas example of Flower framework."
   ]
  },
  {
   "cell_type": "markdown",
   "id": "c78640bd-f7f5-49b6-9aee-980fa6cb3d63",
   "metadata": {},
   "source": [
    "## Initialize the project"
   ]
  },
  {
   "cell_type": "code",
   "execution_count": null,
   "id": "75f9f4fd-da0a-4318-b1df-e7ff24f5ef81",
   "metadata": {},
   "outputs": [],
   "source": [
    "import digitalhub as dh\n",
    "\n",
    "project = dh.get_or_create_project(\"test-flower\")"
   ]
  },
  {
   "cell_type": "markdown",
   "id": "623e9b63-e644-461c-a0f7-ead166a94393",
   "metadata": {},
   "source": [
    "# Create and Start Server part: Superlink\n",
    "\n",
    "The following defines the Superlink function, build the corresponding image, and activates the server container with the dependencies.  \n",
    "Note that the server is started in `insecure` mode, meaning that no TLS verification is performed. While this is ok for the purpose of this tutorial, should not be used in a production federation.\n",
    "\n",
    "In secure mode the server will be equipped with a custom platform-level TLS certificate that should also be used by client SuperNode nodes."
   ]
  },
  {
   "cell_type": "code",
   "execution_count": null,
   "id": "e235ab6c-da42-4d4a-99d8-e997386b0332",
   "metadata": {
    "scrolled": true
   },
   "outputs": [],
   "source": [
    "server_function = project.new_function(\n",
    "    name=\"my-flower-server\",\n",
    "    kind=\"flower-server\",\n",
    "    requirements=[\"pandas==2.2.3\", \"flwr-datasets[vision]==0.5.0\"]\n",
    ")\n",
    "# Build the server\n",
    "server_function.run(action=\"build\", wait=True)\n",
    "\n",
    "# Deploy the server\n",
    "run = server_function.run(action=\"deploy\", insecure=True)"
   ]
  },
  {
   "cell_type": "markdown",
   "id": "453fd701-a6a0-4e7b-8b34-bc32fef19c34",
   "metadata": {},
   "source": [
    "# Create and Start Client part: Supernode\n",
    "\n",
    "The following defines the Supernode function, build the corresponding image, and activates 3 client nodes container with the dependencies and the node-specific configuration.  \n",
    "\n",
    "Note that the server is started in `insecure` mode as no root certificate is provided. To enable secure mode, it is necessary to specify the `root_certificates` attribute to each run containing the body of the public root certificate.\n",
    "\n",
    "Also the node authentication is not enabled in this scenario. The node authentication allows for controlling which nodes are allowed to communicate with the server. To achieve this, it is necessary\n",
    "\n",
    "- at each node define a public-private key pair and store the values in project secrets.\n",
    "- pass the secret names as `public_key_secret` and `private_key_secret` parameters to the supernode spec\n",
    "- ensure the public key is included in `auth_public_keys` field of the server Superlink node\n",
    "\n",
    "Each client is started with the own set of parameters (`node_config`) and a reference to the `superlink` pointing to the superlink address (port 9092 by default)."
   ]
  },
  {
   "cell_type": "code",
   "execution_count": null,
   "id": "7b17ae31-a7ec-41c6-a3cb-9e1f92e117e5",
   "metadata": {
    "scrolled": true
   },
   "outputs": [],
   "source": [
    "server_url = run.refresh().status.service['url'].split(':')[0] + ':9092' \n",
    "\n",
    "client_function = project.new_function(\n",
    "    name=\"my-flower-client\",\n",
    "    kind=\"flower-client\",\n",
    "    requirements=[\"pandas==2.2.3\", \"flwr-datasets[vision]==0.5.0\"]\n",
    ")\n",
    "\n",
    "client_function.run(action=\"build\", wait=True)\n",
    "\n",
    "# Deploy client 1\n",
    "run = client_function.run(action=\"deploy\", superlink=server_url, node_config={\n",
    "        \"partition-id\": 0,\n",
    "        \"num-partitions\": 3,\n",
    "        \"local-epochs\": 2\n",
    "})\n",
    "\n",
    "# Deploy client 2\n",
    "run = client_function.run(action=\"deploy\", superlink=server_url, node_config={\n",
    "        \"partition-id\": 1,\n",
    "        \"num-partitions\": 3,\n",
    "        \"local-epochs\": 2\n",
    "})\n",
    "\n",
    "# Deploy client 3\n",
    "run = client_function.run(action=\"deploy\", superlink=server_url, node_config={\n",
    "        \"partition-id\": 2,\n",
    "        \"num-partitions\": 3,\n",
    "        \"local-epochs\": 2\n",
    "})"
   ]
  },
  {
   "cell_type": "markdown",
   "id": "89a2032e-05e7-4259-bc0b-a87bf80cc60e",
   "metadata": {},
   "source": [
    "# Create and Start the training execution\n",
    "\n",
    "To perform the actual training procedure, we define a new flower app function with the application code for client and server.\n",
    "Specifically, it is necessary to provide either the reference to a complete Git project or, as in this case, the reference to the client and server source code files:\n",
    "\n",
    "- `client_src` provides reference to the  client source code, while `client_app` defines the reference in the code to the ClientApp instance.\n",
    "- `server_src` provides reference to the  server source code, while `server_app` defines the reference in the code to the ServerApp instance."
   ]
  },
  {
   "cell_type": "code",
   "execution_count": null,
   "id": "132b32b7-8300-43e5-8f7b-2529a1f0af50",
   "metadata": {},
   "outputs": [],
   "source": [
    "app_function = project.new_function(\n",
    "    name=\"my-flower-app\",\n",
    "    kind=\"flower-app\",\n",
    "    client_src=\"src/client.py\",\n",
    "    server_src=\"src/server.py\",\n",
    "    client_app=\"app\",\n",
    "    server_app=\"app\"\n",
    "\n",
    ")"
   ]
  },
  {
   "cell_type": "markdown",
   "id": "b0c49524-6ff1-4c9a-8403-e8eddb775152",
   "metadata": {},
   "source": [
    "The execution of the application run is a single job that bundles the application and interacts with the superlink to deploy, activate, and coordinate the federated learning execution. \n",
    "\n",
    "Each execution requires the reference to the corresponding execution API of the Superlink (port 9093) and optionally a set of hyperparameters.\n",
    "\n",
    "Note that the server is started in `insecure` mode as no root certificate is provided. To enable secure mode, it is necessary to specify the `root_certificates` attribute to each run containing the body of the public root certificate."
   ]
  },
  {
   "cell_type": "code",
   "execution_count": 12,
   "id": "f9e5607d-87a9-4f64-91bc-c685b7071882",
   "metadata": {},
   "outputs": [],
   "source": [
    "server_url = server_url.split(':')[0] + ':9093' \n",
    "\n",
    "app_run = app_function.run(\"train\", superlink=server_url, parameters={\n",
    "    \"num-server-rounds\":3,\n",
    "    \"fraction-sample\": 1.0\n",
    "})"
   ]
  },
  {
   "cell_type": "markdown",
   "id": "ccc058bb-14a6-484f-99e9-a1958af4e6c9",
   "metadata": {},
   "source": [
    "The status and log of the execution may be obtained from the corresponding app run, e.g., through the Core Web UI."
   ]
  }
 ],
 "metadata": {
  "kernelspec": {
   "display_name": "Python 3.10 (OltreAI)",
   "language": "python",
   "name": "python3.10"
  },
  "language_info": {
   "codemirror_mode": {
    "name": "ipython",
    "version": 3
   },
   "file_extension": ".py",
   "mimetype": "text/x-python",
   "name": "python",
   "nbconvert_exporter": "python",
   "pygments_lexer": "ipython3",
   "version": "3.10.19"
  }
 },
 "nbformat": 4,
 "nbformat_minor": 5
}
