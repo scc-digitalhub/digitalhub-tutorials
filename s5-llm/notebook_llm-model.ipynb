{
 "cells": [
  {
   "cell_type": "code",
   "execution_count": 1,
   "id": "d91bb2e2-7ddf-46d4-a54d-d1f7b665372c",
   "metadata": {},
   "outputs": [],
   "source": [
    "import digitalhub as dh\n",
    "\n",
    "project = dh.get_or_create_project(\"llm\")"
   ]
  },
  {
   "cell_type": "code",
   "execution_count": 2,
   "id": "45da5ef6-9bef-4451-abbd-84c56e7b3e8e",
   "metadata": {},
   "outputs": [],
   "source": [
    "llm_function = project.new_function(\"llm_classification\",\n",
    "                                    kind=\"huggingfaceserve\",\n",
    "                                    model_name=\"mymodel\",\n",
    "                                    path=\"huggingface://distilbert/distilbert-base-uncased-finetuned-sst-2-english\")"
   ]
  },
  {
   "cell_type": "code",
   "execution_count": 3,
   "id": "b0ae41f6-4054-4c4d-a022-4f73d609eef1",
   "metadata": {},
   "outputs": [],
   "source": [
    "llm_run = llm_function.run(action=\"serve\", profile=\"template-a100\")"
   ]
  },
  {
   "cell_type": "markdown",
   "id": "ac7e1574-3289-421d-aeae-ae543392334a",
   "metadata": {},
   "source": [
    "Let us wait till the 'serve' is loaded compeletly"
   ]
  },
  {
   "cell_type": "code",
   "execution_count": 5,
   "id": "0f3f06f1-377e-41be-a4a0-b89f7602a293",
   "metadata": {},
   "outputs": [],
   "source": [
    "model_name = \"mymodel\"\n",
    "json = {\n",
    "    \"inputs\": [\n",
    "        {\n",
    "            \"name\": \"input-0\",\n",
    "            \"shape\": [2],\n",
    "            \"datatype\": \"BYTES\",\n",
    "            \"data\": [\"Hello, my dog is cute\", \"I am feeling sad\"],\n",
    "        },\n",
    "    ]\n",
    "}"
   ]
  },
  {
   "cell_type": "code",
   "execution_count": 7,
   "id": "07939d49-934e-4468-8e24-244cdb302411",
   "metadata": {},
   "outputs": [
    {
     "data": {
      "text/plain": [
       "{'kind': 'huggingfaceserve+run', 'metadata': {'project': 'llm', 'name': '2e49fc7c-f2d0-4ac5-a692-695fe9d3ada5', 'created': '2024-10-23T09:45:49.76Z', 'updated': '2024-10-23T09:54:52.485Z', 'created_by': 'khurshid@fbk.eu', 'updated_by': 'khurshid@fbk.eu'}, 'spec': {'task': 'huggingfaceserve+serve://llm/llm_classification:36ed268c-863c-483b-9b2d-73a4d5a7ffd3', 'local_execution': False, 'function': 'huggingfaceserve://llm/llm_classification:36ed268c-863c-483b-9b2d-73a4d5a7ffd3', 'profile': 'template-a100', 'path': 'huggingface://distilbert/distilbert-base-uncased-finetuned-sst-2-english', 'model_name': 'mymodel', 'service_type': 'NodePort'}, 'status': {'state': 'RUNNING', 'message': 'deployment d-huggingfaceserveserve-2e49fc7c-f2d0-4ac5-a692-695fe9d3ada5 created, service s-huggingfaceserveserve-2e49fc7c-f2d0-4ac5-a692-695fe9d3ada5 created', 'transitions': [{'status': 'RUNNING', 'message': 'deployment d-huggingfaceserveserve-2e49fc7c-f2d0-4ac5-a692-695fe9d3ada5 created, service s-huggingfaceserveserve-2e49fc7c-f2d0-4ac5-a692-695fe9d3ada5 created', 'time': '2024-10-23T09:45:49.842265454Z'}, {'status': 'READY', 'time': '2024-10-23T09:45:49.780324372Z'}, {'status': 'BUILT', 'time': '2024-10-23T09:45:49.766938022Z'}], 'k8s': {'pods': [{'metadata': {'creationTimestamp': 1729676749.0, 'generateName': 'd-huggingfaceserveserve-2e49fc7c-f2d0-4ac5-a692-695fe9d3ada5-6986474698-', 'labels': {'app.kubernetes.io/instance': 'dhcore-2e49fc7c-f2d0-4ac5-a692-695fe9d3ada5', 'app.kubernetes.io/managed-by': 'dhcore', 'app.kubernetes.io/part-of': 'dhcore-llm', 'app.kubernetes.io/version': '2e49fc7c-f2d0-4ac5-a692-695fe9d3ada5', 'dhcore/framework': 'k8sserve', 'dhcore/function': 'llm_classification', 'dhcore/project': 'llm', 'dhcore/runtime': 'huggingfaceserve', 'pod-template-hash': '6986474698'}, 'managedFields': [{'apiVersion': 'v1', 'fieldsType': 'FieldsV1', 'manager': 'kube-controller-manager', 'operation': 'Update', 'time': 1729676749.0}, {'apiVersion': 'v1', 'fieldsType': 'FieldsV1', 'manager': 'kubelet', 'operation': 'Update', 'subresource': 'status', 'time': 1729676898.0}], 'name': 'd-huggingfaceserveserve-2e49fc7c-f2d0-4ac5-a692-695fe9d3ad7xdpg', 'namespace': 'digitalhub-tenant1', 'ownerReferences': [{'apiVersion': 'apps/v1', 'blockOwnerDeletion': True, 'controller': True, 'kind': 'ReplicaSet', 'name': 'd-huggingfaceserveserve-2e49fc7c-f2d0-4ac5-a692-695fe9d3ada5-6986474698', 'uid': 'a3e5aae5-eb0f-4628-b2b8-9a7ab9ca4698'}], 'resourceVersion': '254921', 'uid': '832f79a1-2300-4059-a54e-7259fa05a6a1'}, 'spec': {'containers': [{'args': ['-m', 'huggingfaceserver', '--model_name', 'mymodel', '--protocol', 'v2', '--enable_docs_url', 'true', '--model_id', 'distilbert/distilbert-base-uncased-finetuned-sst-2-english', '--trust_remote_code', 'true'], 'command': ['python'], 'env': [{'name': 'DH_RUN_SECRET_NAME', 'value': 'sec-huggingfaceserveserve-2e49fc7c-f2d0-4ac5-a692-695fe9d3ada5'}, {'name': 'DHCORE_ACCESS_TOKEN', 'valueFrom': {'secretKeyRef': {'key': 'DHCORE_ACCESS_TOKEN', 'name': 'sec-huggingfaceserveserve-2e49fc7c-f2d0-4ac5-a692-695fe9d3ada5'}}}, {'name': 'DHCORE_REFRESH_TOKEN', 'valueFrom': {'secretKeyRef': {'key': 'DHCORE_REFRESH_TOKEN', 'name': 'sec-huggingfaceserveserve-2e49fc7c-f2d0-4ac5-a692-695fe9d3ada5'}}}, {'name': 'DHCORE_CLIENT_ID', 'valueFrom': {'secretKeyRef': {'key': 'DHCORE_CLIENT_ID', 'name': 'sec-huggingfaceserveserve-2e49fc7c-f2d0-4ac5-a692-695fe9d3ada5'}}}, {'name': 'DHCORE_TOKEN_TYPE', 'valueFrom': {'secretKeyRef': {'key': 'DHCORE_TOKEN_TYPE', 'name': 'sec-huggingfaceserveserve-2e49fc7c-f2d0-4ac5-a692-695fe9d3ada5'}}}, {'name': 'DHCORE_ISSUER', 'valueFrom': {'secretKeyRef': {'key': 'DHCORE_ISSUER', 'name': 'sec-huggingfaceserveserve-2e49fc7c-f2d0-4ac5-a692-695fe9d3ada5'}}}, {'name': 'PROJECT_NAME', 'value': 'llm'}, {'name': 'DHCORE_EXPIRES_IN', 'valueFrom': {'secretKeyRef': {'key': 'DHCORE_EXPIRES_IN', 'name': 'sec-huggingfaceserveserve-2e49fc7c-f2d0-4ac5-a692-695fe9d3ada5'}}}, {'name': 'RUN_ID', 'value': '2e49fc7c-f2d0-4ac5-a692-695fe9d3ada5'}], 'envFrom': [{'configMapRef': {'name': 'digitalhub-common-env'}}, {'secretRef': {'name': 'digitalhub-common-creds'}}], 'image': 'kserve/huggingfaceserver:latest', 'imagePullPolicy': 'IfNotPresent', 'name': 'c-huggingfaceserveserve-2e49fc7c-f2d0-4ac5-a692-695fe9d3ada5', 'securityContext': {'allowPrivilegeEscalation': False, 'privileged': False, 'runAsNonRoot': True}, 'terminationMessagePath': '/dev/termination-log', 'terminationMessagePolicy': 'File', 'volumeMounts': [{'mountPath': '/var/run/secrets/kubernetes.io/serviceaccount', 'name': 'kube-api-access-pf9f9', 'readOnly': True}]}], 'dnsPolicy': 'ClusterFirst', 'enableServiceLinks': True, 'imagePullSecrets': [{'name': 'registry-credentials'}], 'nodeName': 'digitalhub-dev-md-0-l4bmb-z5v5s', 'preemptionPolicy': 'PreemptLowerPriority', 'priority': 0, 'restartPolicy': 'Always', 'schedulerName': 'default-scheduler', 'securityContext': {'runAsNonRoot': True}, 'serviceAccount': 'default', 'serviceAccountName': 'default', 'terminationGracePeriodSeconds': 30, 'tolerations': [{'effect': 'NoExecute', 'key': 'node.kubernetes.io/not-ready', 'operator': 'Exists', 'tolerationSeconds': 300}, {'effect': 'NoExecute', 'key': 'node.kubernetes.io/unreachable', 'operator': 'Exists', 'tolerationSeconds': 300}], 'volumes': [{'name': 'kube-api-access-pf9f9', 'projected': {'defaultMode': 420, 'sources': [{'serviceAccountToken': {'expirationSeconds': 3607, 'path': 'token'}}, {'configMap': {'items': [{'key': 'ca.crt', 'path': 'ca.crt'}], 'name': 'kube-root-ca.crt'}}, {'downwardAPI': {'items': [{'fieldRef': {'apiVersion': 'v1', 'fieldPath': 'metadata.namespace'}, 'path': 'namespace'}]}}]}}]}, 'status': {'conditions': [{'lastTransitionTime': 1729676898.0, 'status': 'True', 'type': 'PodReadyToStartContainers'}, {'lastTransitionTime': 1729676749.0, 'status': 'True', 'type': 'Initialized'}, {'lastTransitionTime': 1729676898.0, 'status': 'True', 'type': 'Ready'}, {'lastTransitionTime': 1729676898.0, 'status': 'True', 'type': 'ContainersReady'}, {'lastTransitionTime': 1729676749.0, 'status': 'True', 'type': 'PodScheduled'}], 'containerStatuses': [{'containerID': 'containerd://1070618e831a643926aeadf79cd23699a3af3d453bcfc9f7016e6f53958c2d97', 'image': 'docker.io/kserve/huggingfaceserver:latest', 'imageID': 'docker.io/kserve/huggingfaceserver@sha256:4634cff48d17d90945295bee6612485f5f354f0ee7921acbb66ea47830ab5f29', 'name': 'c-huggingfaceserveserve-2e49fc7c-f2d0-4ac5-a692-695fe9d3ada5', 'ready': True, 'restartCount': 0, 'started': True, 'state': {'running': {'startedAt': 1729676897.0}}}], 'hostIP': '10.1.0.4', 'hostIPs': [{'ip': '10.1.0.4'}], 'phase': 'Running', 'podIP': '192.168.1.158', 'podIPs': [{'ip': '192.168.1.158'}], 'qosClass': 'BestEffort', 'startTime': 1729676749.0}}], 'secret': {'secret': {'apiVersion': 'v1', 'kind': 'Secret', 'metadata': {'labels': {'dhcore/framework': 'k8sserve', 'app.kubernetes.io/managed-by': 'dhcore', 'dhcore/function': 'llm_classification', 'app.kubernetes.io/part-of': 'dhcore-llm', 'dhcore/project': 'llm', 'dhcore/runtime': 'huggingfaceserve', 'app.kubernetes.io/version': '2e49fc7c-f2d0-4ac5-a692-695fe9d3ada5', 'app.kubernetes.io/instance': 'dhcore-2e49fc7c-f2d0-4ac5-a692-695fe9d3ada5'}, 'name': 'sec-huggingfaceserveserve-2e49fc7c-f2d0-4ac5-a692-695fe9d3ada5', 'namespace': 'digitalhub-tenant1'}}}, 'service': {'metadata': {'creationTimestamp': 1729676749.0, 'labels': {'app.kubernetes.io/instance': 'dhcore-2e49fc7c-f2d0-4ac5-a692-695fe9d3ada5', 'app.kubernetes.io/managed-by': 'dhcore', 'app.kubernetes.io/part-of': 'dhcore-llm', 'app.kubernetes.io/version': '2e49fc7c-f2d0-4ac5-a692-695fe9d3ada5', 'dhcore/framework': 'k8sserve', 'dhcore/function': 'llm_classification', 'dhcore/project': 'llm', 'dhcore/runtime': 'huggingfaceserve'}, 'managedFields': [{'apiVersion': 'v1', 'fieldsType': 'FieldsV1', 'manager': 'Kubernetes Java Client', 'operation': 'Update', 'time': 1729676749.0}], 'name': 's-huggingfaceserveserve-2e49fc7c-f2d0-4ac5-a692-695fe9d3ada5', 'namespace': 'digitalhub-tenant1', 'resourceVersion': '252601', 'uid': 'f26733df-890e-4619-9da6-8e1e63f9bdba'}, 'apiVersion': 'v1', 'kind': 'Service', 'spec': {'clusterIP': '10.110.125.236', 'clusterIPs': ['10.110.125.236'], 'externalTrafficPolicy': 'Cluster', 'internalTrafficPolicy': 'Cluster', 'ipFamilies': ['IPv4'], 'ipFamilyPolicy': 'SingleStack', 'ports': [{'name': 'port8080', 'nodePort': 30578, 'port': 8080, 'protocol': 'TCP', 'targetPort': 8080}, {'name': 'port8081', 'nodePort': 30931, 'port': 8081, 'protocol': 'TCP', 'targetPort': 8081}], 'selector': {'app.kubernetes.io/instance': 'dhcore-2e49fc7c-f2d0-4ac5-a692-695fe9d3ada5', 'app.kubernetes.io/managed-by': 'dhcore', 'app.kubernetes.io/part-of': 'dhcore-llm', 'app.kubernetes.io/version': '2e49fc7c-f2d0-4ac5-a692-695fe9d3ada5', 'dhcore/framework': 'k8sserve', 'dhcore/function': 'llm_classification', 'dhcore/project': 'llm', 'dhcore/runtime': 'huggingfaceserve'}, 'sessionAffinity': 'None', 'type': 'NodePort'}}, 'deployment': {'metadata': {'annotations': {'deployment.kubernetes.io/revision': '1'}, 'creationTimestamp': 1729676749.0, 'generation': 1, 'labels': {'app.kubernetes.io/instance': 'dhcore-2e49fc7c-f2d0-4ac5-a692-695fe9d3ada5', 'app.kubernetes.io/managed-by': 'dhcore', 'app.kubernetes.io/part-of': 'dhcore-llm', 'app.kubernetes.io/version': '2e49fc7c-f2d0-4ac5-a692-695fe9d3ada5', 'dhcore/framework': 'k8sserve', 'dhcore/function': 'llm_classification', 'dhcore/project': 'llm', 'dhcore/runtime': 'huggingfaceserve'}, 'managedFields': [{'apiVersion': 'apps/v1', 'fieldsType': 'FieldsV1', 'manager': 'Kubernetes Java Client', 'operation': 'Update', 'time': 1729676749.0}, {'apiVersion': 'apps/v1', 'fieldsType': 'FieldsV1', 'manager': 'kube-controller-manager', 'operation': 'Update', 'subresource': 'status', 'time': 1729676898.0}], 'name': 'd-huggingfaceserveserve-2e49fc7c-f2d0-4ac5-a692-695fe9d3ada5', 'namespace': 'digitalhub-tenant1', 'resourceVersion': '254925', 'uid': '3aaa7f83-4651-41cc-af73-d103eb464d8e'}, 'apiVersion': 'apps/v1', 'kind': 'Deployment', 'spec': {'progressDeadlineSeconds': 600, 'replicas': 1, 'revisionHistoryLimit': 10, 'selector': {'matchLabels': {'app.kubernetes.io/instance': 'dhcore-2e49fc7c-f2d0-4ac5-a692-695fe9d3ada5', 'app.kubernetes.io/managed-by': 'dhcore', 'app.kubernetes.io/part-of': 'dhcore-llm', 'app.kubernetes.io/version': '2e49fc7c-f2d0-4ac5-a692-695fe9d3ada5', 'dhcore/framework': 'k8sserve', 'dhcore/function': 'llm_classification', 'dhcore/project': 'llm', 'dhcore/runtime': 'huggingfaceserve'}}, 'strategy': {'rollingUpdate': {'maxSurge': '25%', 'maxUnavailable': '25%'}, 'type': 'RollingUpdate'}, 'template': {'metadata': {'labels': {'app.kubernetes.io/instance': 'dhcore-2e49fc7c-f2d0-4ac5-a692-695fe9d3ada5', 'app.kubernetes.io/managed-by': 'dhcore', 'app.kubernetes.io/part-of': 'dhcore-llm', 'app.kubernetes.io/version': '2e49fc7c-f2d0-4ac5-a692-695fe9d3ada5', 'dhcore/framework': 'k8sserve', 'dhcore/function': 'llm_classification', 'dhcore/project': 'llm', 'dhcore/runtime': 'huggingfaceserve'}, 'name': 'd-huggingfaceserveserve-2e49fc7c-f2d0-4ac5-a692-695fe9d3ada5'}, 'spec': {'containers': [{'args': ['-m', 'huggingfaceserver', '--model_name', 'mymodel', '--protocol', 'v2', '--enable_docs_url', 'true', '--model_id', 'distilbert/distilbert-base-uncased-finetuned-sst-2-english', '--trust_remote_code', 'true'], 'command': ['python'], 'env': [{'name': 'DH_RUN_SECRET_NAME', 'value': 'sec-huggingfaceserveserve-2e49fc7c-f2d0-4ac5-a692-695fe9d3ada5'}, {'name': 'DHCORE_ACCESS_TOKEN', 'valueFrom': {'secretKeyRef': {'key': 'DHCORE_ACCESS_TOKEN', 'name': 'sec-huggingfaceserveserve-2e49fc7c-f2d0-4ac5-a692-695fe9d3ada5'}}}, {'name': 'DHCORE_REFRESH_TOKEN', 'valueFrom': {'secretKeyRef': {'key': 'DHCORE_REFRESH_TOKEN', 'name': 'sec-huggingfaceserveserve-2e49fc7c-f2d0-4ac5-a692-695fe9d3ada5'}}}, {'name': 'DHCORE_CLIENT_ID', 'valueFrom': {'secretKeyRef': {'key': 'DHCORE_CLIENT_ID', 'name': 'sec-huggingfaceserveserve-2e49fc7c-f2d0-4ac5-a692-695fe9d3ada5'}}}, {'name': 'DHCORE_TOKEN_TYPE', 'valueFrom': {'secretKeyRef': {'key': 'DHCORE_TOKEN_TYPE', 'name': 'sec-huggingfaceserveserve-2e49fc7c-f2d0-4ac5-a692-695fe9d3ada5'}}}, {'name': 'DHCORE_ISSUER', 'valueFrom': {'secretKeyRef': {'key': 'DHCORE_ISSUER', 'name': 'sec-huggingfaceserveserve-2e49fc7c-f2d0-4ac5-a692-695fe9d3ada5'}}}, {'name': 'PROJECT_NAME', 'value': 'llm'}, {'name': 'DHCORE_EXPIRES_IN', 'valueFrom': {'secretKeyRef': {'key': 'DHCORE_EXPIRES_IN', 'name': 'sec-huggingfaceserveserve-2e49fc7c-f2d0-4ac5-a692-695fe9d3ada5'}}}, {'name': 'RUN_ID', 'value': '2e49fc7c-f2d0-4ac5-a692-695fe9d3ada5'}], 'envFrom': [{'configMapRef': {'name': 'digitalhub-common-env'}}, {'secretRef': {'name': 'digitalhub-common-creds'}}], 'image': 'kserve/huggingfaceserver:latest', 'imagePullPolicy': 'IfNotPresent', 'name': 'c-huggingfaceserveserve-2e49fc7c-f2d0-4ac5-a692-695fe9d3ada5', 'securityContext': {'allowPrivilegeEscalation': False, 'privileged': False, 'runAsNonRoot': True}, 'terminationMessagePath': '/dev/termination-log', 'terminationMessagePolicy': 'File'}], 'dnsPolicy': 'ClusterFirst', 'imagePullSecrets': [{'name': 'registry-credentials'}], 'restartPolicy': 'Always', 'schedulerName': 'default-scheduler', 'securityContext': {'runAsNonRoot': True}, 'terminationGracePeriodSeconds': 30}}}, 'status': {'availableReplicas': 1, 'conditions': [{'lastTransitionTime': 1729676898.0, 'lastUpdateTime': 1729676898.0, 'message': 'Deployment has minimum availability.', 'reason': 'MinimumReplicasAvailable', 'status': 'True', 'type': 'Available'}, {'lastTransitionTime': 1729676749.0, 'lastUpdateTime': 1729676898.0, 'message': 'ReplicaSet \"d-huggingfaceserveserve-2e49fc7c-f2d0-4ac5-a692-695fe9d3ada5-6986474698\" has successfully progressed.', 'reason': 'NewReplicaSetAvailable', 'status': 'True', 'type': 'Progressing'}], 'observedGeneration': 1, 'readyReplicas': 1, 'replicas': 1, 'updatedReplicas': 1}}}, 'service': {'name': 's-huggingfaceserveserve-2e49fc7c-f2d0-4ac5-a692-695fe9d3ada5', 'namespace': 'digitalhub-tenant1', 'type': 'NodePort', 'clusterIP': '10.110.125.236', 'ports': [{'name': 'port8080', 'nodePort': 30578, 'port': 8080, 'protocol': 'TCP', 'targetPort': 8080}, {'name': 'port8081', 'nodePort': 30931, 'port': 8081, 'protocol': 'TCP', 'targetPort': 8081}], 'url': 's-huggingfaceserveserve-2e49fc7c-f2d0-4ac5-a692-695fe9d3ada5.digitalhub-tenant1:8080', 'urls': ['s-huggingfaceserveserve-2e49fc7c-f2d0-4ac5-a692-695fe9d3ada5.digitalhub-tenant1:8080', 's-huggingfaceserveserve-2e49fc7c-f2d0-4ac5-a692-695fe9d3ada5.digitalhub-tenant1:8081']}}, 'user': 'khurshid@fbk.eu', 'project': 'llm', 'id': '2e49fc7c-f2d0-4ac5-a692-695fe9d3ada5', 'key': 'store://llm/run/huggingfaceserve+run/2e49fc7c-f2d0-4ac5-a692-695fe9d3ada5'}"
      ]
     },
     "execution_count": 7,
     "metadata": {},
     "output_type": "execute_result"
    }
   ],
   "source": [
    "llm_run.refresh()"
   ]
  },
  {
   "cell_type": "code",
   "execution_count": 8,
   "id": "88079170-570c-4e62-a6fc-a452280b7b18",
   "metadata": {},
   "outputs": [
    {
     "data": {
      "text/plain": [
       "{'model_name': 'mymodel',\n",
       " 'model_version': None,\n",
       " 'id': 'c70b04b4-d23e-47f1-82ff-d8fcf37787b5',\n",
       " 'parameters': None,\n",
       " 'outputs': [{'name': 'output-0',\n",
       "   'shape': [2],\n",
       "   'datatype': 'INT64',\n",
       "   'parameters': None,\n",
       "   'data': [1, 0]}]}"
      ]
     },
     "execution_count": 8,
     "metadata": {},
     "output_type": "execute_result"
    }
   ],
   "source": [
    "llm_run.invoke(model_name=model_name, json=json).json()"
   ]
  },
  {
   "cell_type": "code",
   "execution_count": null,
   "id": "e9da6afe-6efc-484a-91f8-10a1a2851c26",
   "metadata": {},
   "outputs": [],
   "source": []
  }
 ],
 "metadata": {
  "kernelspec": {
   "display_name": "Python 3 (ipykernel)",
   "language": "python",
   "name": "python3"
  },
  "language_info": {
   "codemirror_mode": {
    "name": "ipython",
    "version": 3
   },
   "file_extension": ".py",
   "mimetype": "text/x-python",
   "name": "python",
   "nbconvert_exporter": "python",
   "pygments_lexer": "ipython3",
   "version": "3.10.11"
  }
 },
 "nbformat": 4,
 "nbformat_minor": 5
}
