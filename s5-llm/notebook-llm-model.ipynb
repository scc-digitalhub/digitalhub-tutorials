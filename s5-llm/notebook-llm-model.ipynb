{
 "cells": [
  {
   "cell_type": "code",
   "execution_count": 1,
   "id": "d91bb2e2-7ddf-46d4-a54d-d1f7b665372c",
   "metadata": {},
   "outputs": [],
   "source": [
    "import digitalhub as dh\n",
    "\n",
    "project = dh.get_or_create_project(\"llm-ci\")"
   ]
  },
  {
   "cell_type": "code",
   "execution_count": 2,
   "id": "45da5ef6-9bef-4451-abbd-84c56e7b3e8e",
   "metadata": {},
   "outputs": [],
   "source": [
    "llm_function = project.new_function(\"llm_classification\",\n",
    "                                    kind=\"huggingfaceserve\",\n",
    "                                    model_name=\"mymodel\",\n",
    "                                    path=\"huggingface://distilbert/distilbert-base-uncased-finetuned-sst-2-english\")"
   ]
  },
  {
   "cell_type": "code",
   "execution_count": 3,
   "id": "b0ae41f6-4054-4c4d-a022-4f73d609eef1",
   "metadata": {},
   "outputs": [],
   "source": [
    "llm_run = llm_function.run(action=\"serve\", profile=\"template-a100\")"
   ]
  },
  {
   "cell_type": "markdown",
   "id": "ac7e1574-3289-421d-aeae-ae543392334a",
   "metadata": {},
   "source": [
    "Wait for job to be in 'running' state. One can check the status of 'Run' from console or by typing the following command"
   ]
  },
  {
   "cell_type": "code",
   "execution_count": null,
   "id": "8896fc56-2acd-411d-8c6c-502736f79b31",
   "metadata": {},
   "outputs": [],
   "source": [
    "llm_run.get_state()"
   ]
  },
  {
   "cell_type": "markdown",
   "id": "b9048c4f-62d8-48e9-9775-e1b5c0cabde6",
   "metadata": {},
   "source": [
    "Once running, make API call to the serve job."
   ]
  },
  {
   "cell_type": "code",
   "execution_count": 9,
   "id": "0f3f06f1-377e-41be-a4a0-b89f7602a293",
   "metadata": {},
   "outputs": [],
   "source": [
    "model_name = \"mymodel\"\n",
    "json = {\n",
    "    \"inputs\": [\n",
    "        {\n",
    "            \"name\": \"input-0\",\n",
    "            \"shape\": [2],\n",
    "            \"datatype\": \"BYTES\",\n",
    "            \"data\": [\"Hello, my dog is cute\", \"I am feeling sad\"],\n",
    "        },\n",
    "    ]\n",
    "}"
   ]
  },
  {
   "cell_type": "code",
   "execution_count": 5,
   "id": "07939d49-934e-4468-8e24-244cdb302411",
   "metadata": {},
   "outputs": [
    {
     "data": {
      "text/plain": [
       "{'kind': 'huggingfaceserve+run', 'metadata': {'project': 'llm-ci', 'name': '47f6687c-44f1-415d-90d3-f7464bc351b9', 'created': '2024-10-29T11:49:03.487Z', 'updated': '2024-10-29T11:50:04.117Z', 'created_by': 'khurshid@fbk.eu', 'updated_by': 'khurshid@fbk.eu'}, 'spec': {'task': 'huggingfaceserve+serve://llm-ci/llm_classification:7713de1f-465d-4a53-954a-bf89170cdafc', 'local_execution': False, 'function': 'huggingfaceserve://llm-ci/llm_classification:7713de1f-465d-4a53-954a-bf89170cdafc', 'profile': 'template-a100', 'path': 'huggingface://distilbert/distilbert-base-uncased-finetuned-sst-2-english', 'model_name': 'mymodel', 'service_type': 'NodePort'}, 'status': {'state': 'RUNNING', 'message': 'deployment d-huggingfaceserveserve-47f6687c-44f1-415d-90d3-f7464bc351b9 created, service s-huggingfaceserveserve-47f6687c-44f1-415d-90d3-f7464bc351b9 created', 'transitions': [{'status': 'RUNNING', 'message': 'deployment d-huggingfaceserveserve-47f6687c-44f1-415d-90d3-f7464bc351b9 created, service s-huggingfaceserveserve-47f6687c-44f1-415d-90d3-f7464bc351b9 created', 'time': '2024-10-29T11:49:03.603092735Z'}, {'status': 'READY', 'time': '2024-10-29T11:49:03.506612809Z'}, {'status': 'BUILT', 'time': '2024-10-29T11:49:03.493809672Z'}], 'k8s': {'pods': [{'metadata': {'creationTimestamp': 1730202543.0, 'generateName': 'd-huggingfaceserveserve-47f6687c-44f1-415d-90d3-f7464bc351b9-7d8d5cd5df-', 'labels': {'app.kubernetes.io/instance': 'dhcore-47f6687c-44f1-415d-90d3-f7464bc351b9', 'app.kubernetes.io/managed-by': 'dhcore', 'app.kubernetes.io/part-of': 'dhcore-llm-ci', 'app.kubernetes.io/version': '47f6687c-44f1-415d-90d3-f7464bc351b9', 'dhcore/framework': 'k8sserve', 'dhcore/function': 'llm_classification', 'dhcore/project': 'llm-ci', 'dhcore/runtime': 'huggingfaceserve', 'pod-template-hash': '7d8d5cd5df'}, 'managedFields': [{'apiVersion': 'v1', 'fieldsType': 'FieldsV1', 'manager': 'kube-controller-manager', 'operation': 'Update', 'time': 1730202543.0}, {'apiVersion': 'v1', 'fieldsType': 'FieldsV1', 'manager': 'kubelet', 'operation': 'Update', 'subresource': 'status', 'time': 1730202543.0}], 'name': 'd-huggingfaceserveserve-47f6687c-44f1-415d-90d3-f7464bc351fxkvf', 'namespace': 'digitalhub-tenant1', 'ownerReferences': [{'apiVersion': 'apps/v1', 'blockOwnerDeletion': True, 'controller': True, 'kind': 'ReplicaSet', 'name': 'd-huggingfaceserveserve-47f6687c-44f1-415d-90d3-f7464bc351b9-7d8d5cd5df', 'uid': 'c36aefe5-68c3-4fd1-986b-9a84d8a9a646'}], 'resourceVersion': '305647', 'uid': 'ebe2635f-40c3-4162-a66e-2cc0c3c837b7'}, 'spec': {'containers': [{'args': ['-m', 'huggingfaceserver', '--model_name', 'mymodel', '--protocol', 'v2', '--enable_docs_url', 'true', '--model_id', 'distilbert/distilbert-base-uncased-finetuned-sst-2-english', '--trust_remote_code', 'true'], 'command': ['python'], 'env': [{'name': 'DH_RUN_SECRET_NAME', 'value': 'sec-huggingfaceserveserve-47f6687c-44f1-415d-90d3-f7464bc351b9'}, {'name': 'DHCORE_ACCESS_TOKEN', 'valueFrom': {'secretKeyRef': {'key': 'DHCORE_ACCESS_TOKEN', 'name': 'sec-huggingfaceserveserve-47f6687c-44f1-415d-90d3-f7464bc351b9'}}}, {'name': 'DHCORE_REFRESH_TOKEN', 'valueFrom': {'secretKeyRef': {'key': 'DHCORE_REFRESH_TOKEN', 'name': 'sec-huggingfaceserveserve-47f6687c-44f1-415d-90d3-f7464bc351b9'}}}, {'name': 'DHCORE_CLIENT_ID', 'valueFrom': {'secretKeyRef': {'key': 'DHCORE_CLIENT_ID', 'name': 'sec-huggingfaceserveserve-47f6687c-44f1-415d-90d3-f7464bc351b9'}}}, {'name': 'DHCORE_TOKEN_TYPE', 'valueFrom': {'secretKeyRef': {'key': 'DHCORE_TOKEN_TYPE', 'name': 'sec-huggingfaceserveserve-47f6687c-44f1-415d-90d3-f7464bc351b9'}}}, {'name': 'DHCORE_ISSUER', 'valueFrom': {'secretKeyRef': {'key': 'DHCORE_ISSUER', 'name': 'sec-huggingfaceserveserve-47f6687c-44f1-415d-90d3-f7464bc351b9'}}}, {'name': 'PROJECT_NAME', 'value': 'llm-ci'}, {'name': 'DHCORE_EXPIRES_IN', 'valueFrom': {'secretKeyRef': {'key': 'DHCORE_EXPIRES_IN', 'name': 'sec-huggingfaceserveserve-47f6687c-44f1-415d-90d3-f7464bc351b9'}}}, {'name': 'RUN_ID', 'value': '47f6687c-44f1-415d-90d3-f7464bc351b9'}], 'envFrom': [{'configMapRef': {'name': 'digitalhub-common-env'}}, {'secretRef': {'name': 'digitalhub-common-creds'}}], 'image': 'kserve/huggingfaceserver:latest', 'imagePullPolicy': 'IfNotPresent', 'name': 'c-huggingfaceserveserve-47f6687c-44f1-415d-90d3-f7464bc351b9', 'securityContext': {'allowPrivilegeEscalation': False, 'privileged': False, 'runAsNonRoot': True}, 'terminationMessagePath': '/dev/termination-log', 'terminationMessagePolicy': 'File', 'volumeMounts': [{'mountPath': '/var/run/secrets/kubernetes.io/serviceaccount', 'name': 'kube-api-access-hh6lg', 'readOnly': True}]}], 'dnsPolicy': 'ClusterFirst', 'enableServiceLinks': True, 'imagePullSecrets': [{'name': 'registry-credentials'}], 'nodeName': 'digitalhub-dev-md-0-998vr-m9kqh', 'preemptionPolicy': 'PreemptLowerPriority', 'priority': 0, 'restartPolicy': 'Always', 'schedulerName': 'default-scheduler', 'securityContext': {'runAsNonRoot': True}, 'serviceAccount': 'default', 'serviceAccountName': 'default', 'terminationGracePeriodSeconds': 30, 'tolerations': [{'effect': 'NoExecute', 'key': 'node.kubernetes.io/not-ready', 'operator': 'Exists', 'tolerationSeconds': 300}, {'effect': 'NoExecute', 'key': 'node.kubernetes.io/unreachable', 'operator': 'Exists', 'tolerationSeconds': 300}], 'volumes': [{'name': 'kube-api-access-hh6lg', 'projected': {'defaultMode': 420, 'sources': [{'serviceAccountToken': {'expirationSeconds': 3607, 'path': 'token'}}, {'configMap': {'items': [{'key': 'ca.crt', 'path': 'ca.crt'}], 'name': 'kube-root-ca.crt'}}, {'downwardAPI': {'items': [{'fieldRef': {'apiVersion': 'v1', 'fieldPath': 'metadata.namespace'}, 'path': 'namespace'}]}}]}}]}, 'status': {'conditions': [{'lastTransitionTime': 1730202543.0, 'status': 'False', 'type': 'PodReadyToStartContainers'}, {'lastTransitionTime': 1730202543.0, 'status': 'True', 'type': 'Initialized'}, {'lastTransitionTime': 1730202543.0, 'message': 'containers with unready status: [c-huggingfaceserveserve-47f6687c-44f1-415d-90d3-f7464bc351b9]', 'reason': 'ContainersNotReady', 'status': 'False', 'type': 'Ready'}, {'lastTransitionTime': 1730202543.0, 'message': 'containers with unready status: [c-huggingfaceserveserve-47f6687c-44f1-415d-90d3-f7464bc351b9]', 'reason': 'ContainersNotReady', 'status': 'False', 'type': 'ContainersReady'}, {'lastTransitionTime': 1730202543.0, 'status': 'True', 'type': 'PodScheduled'}], 'containerStatuses': [{'image': 'kserve/huggingfaceserver:latest', 'name': 'c-huggingfaceserveserve-47f6687c-44f1-415d-90d3-f7464bc351b9', 'ready': False, 'restartCount': 0, 'started': False, 'state': {'waiting': {'reason': 'ContainerCreating'}}}], 'hostIP': '10.1.0.6', 'hostIPs': [{'ip': '10.1.0.6'}], 'phase': 'Pending', 'qosClass': 'BestEffort', 'startTime': 1730202543.0}}], 'secret': {'secret': {'apiVersion': 'v1', 'kind': 'Secret', 'metadata': {'labels': {'dhcore/framework': 'k8sserve', 'app.kubernetes.io/managed-by': 'dhcore', 'dhcore/function': 'llm_classification', 'app.kubernetes.io/part-of': 'dhcore-llm-ci', 'dhcore/project': 'llm-ci', 'dhcore/runtime': 'huggingfaceserve', 'app.kubernetes.io/instance': 'dhcore-47f6687c-44f1-415d-90d3-f7464bc351b9', 'app.kubernetes.io/version': '47f6687c-44f1-415d-90d3-f7464bc351b9'}, 'name': 'sec-huggingfaceserveserve-47f6687c-44f1-415d-90d3-f7464bc351b9', 'namespace': 'digitalhub-tenant1'}}}, 'service': {'metadata': {'creationTimestamp': 1730202543.0, 'labels': {'app.kubernetes.io/instance': 'dhcore-47f6687c-44f1-415d-90d3-f7464bc351b9', 'app.kubernetes.io/managed-by': 'dhcore', 'app.kubernetes.io/part-of': 'dhcore-llm-ci', 'app.kubernetes.io/version': '47f6687c-44f1-415d-90d3-f7464bc351b9', 'dhcore/framework': 'k8sserve', 'dhcore/function': 'llm_classification', 'dhcore/project': 'llm-ci', 'dhcore/runtime': 'huggingfaceserve'}, 'managedFields': [{'apiVersion': 'v1', 'fieldsType': 'FieldsV1', 'manager': 'Kubernetes Java Client', 'operation': 'Update', 'time': 1730202543.0}], 'name': 's-huggingfaceserveserve-47f6687c-44f1-415d-90d3-f7464bc351b9', 'namespace': 'digitalhub-tenant1', 'resourceVersion': '305652', 'uid': '6d01cf59-a217-4760-a27c-acb798a8c6f8'}, 'apiVersion': 'v1', 'kind': 'Service', 'spec': {'clusterIP': '10.106.58.155', 'clusterIPs': ['10.106.58.155'], 'externalTrafficPolicy': 'Cluster', 'internalTrafficPolicy': 'Cluster', 'ipFamilies': ['IPv4'], 'ipFamilyPolicy': 'SingleStack', 'ports': [{'name': 'port8080', 'nodePort': 30233, 'port': 8080, 'protocol': 'TCP', 'targetPort': 8080}, {'name': 'port8081', 'nodePort': 31693, 'port': 8081, 'protocol': 'TCP', 'targetPort': 8081}], 'selector': {'app.kubernetes.io/instance': 'dhcore-47f6687c-44f1-415d-90d3-f7464bc351b9', 'app.kubernetes.io/managed-by': 'dhcore', 'app.kubernetes.io/part-of': 'dhcore-llm-ci', 'app.kubernetes.io/version': '47f6687c-44f1-415d-90d3-f7464bc351b9', 'dhcore/framework': 'k8sserve', 'dhcore/function': 'llm_classification', 'dhcore/project': 'llm-ci', 'dhcore/runtime': 'huggingfaceserve'}, 'sessionAffinity': 'None', 'type': 'NodePort'}}, 'deployment': {'metadata': {'annotations': {'deployment.kubernetes.io/revision': '1'}, 'creationTimestamp': 1730202543.0, 'generation': 1, 'labels': {'app.kubernetes.io/instance': 'dhcore-47f6687c-44f1-415d-90d3-f7464bc351b9', 'app.kubernetes.io/managed-by': 'dhcore', 'app.kubernetes.io/part-of': 'dhcore-llm-ci', 'app.kubernetes.io/version': '47f6687c-44f1-415d-90d3-f7464bc351b9', 'dhcore/framework': 'k8sserve', 'dhcore/function': 'llm_classification', 'dhcore/project': 'llm-ci', 'dhcore/runtime': 'huggingfaceserve'}, 'managedFields': [{'apiVersion': 'apps/v1', 'fieldsType': 'FieldsV1', 'manager': 'Kubernetes Java Client', 'operation': 'Update', 'time': 1730202543.0}, {'apiVersion': 'apps/v1', 'fieldsType': 'FieldsV1', 'manager': 'kube-controller-manager', 'operation': 'Update', 'subresource': 'status', 'time': 1730202543.0}], 'name': 'd-huggingfaceserveserve-47f6687c-44f1-415d-90d3-f7464bc351b9', 'namespace': 'digitalhub-tenant1', 'resourceVersion': '305651', 'uid': '735484bf-29ca-4bfc-b16a-f3206541508e'}, 'apiVersion': 'apps/v1', 'kind': 'Deployment', 'spec': {'progressDeadlineSeconds': 600, 'replicas': 1, 'revisionHistoryLimit': 10, 'selector': {'matchLabels': {'app.kubernetes.io/instance': 'dhcore-47f6687c-44f1-415d-90d3-f7464bc351b9', 'app.kubernetes.io/managed-by': 'dhcore', 'app.kubernetes.io/part-of': 'dhcore-llm-ci', 'app.kubernetes.io/version': '47f6687c-44f1-415d-90d3-f7464bc351b9', 'dhcore/framework': 'k8sserve', 'dhcore/function': 'llm_classification', 'dhcore/project': 'llm-ci', 'dhcore/runtime': 'huggingfaceserve'}}, 'strategy': {'rollingUpdate': {'maxSurge': '25%', 'maxUnavailable': '25%'}, 'type': 'RollingUpdate'}, 'template': {'metadata': {'labels': {'app.kubernetes.io/instance': 'dhcore-47f6687c-44f1-415d-90d3-f7464bc351b9', 'app.kubernetes.io/managed-by': 'dhcore', 'app.kubernetes.io/part-of': 'dhcore-llm-ci', 'app.kubernetes.io/version': '47f6687c-44f1-415d-90d3-f7464bc351b9', 'dhcore/framework': 'k8sserve', 'dhcore/function': 'llm_classification', 'dhcore/project': 'llm-ci', 'dhcore/runtime': 'huggingfaceserve'}, 'name': 'd-huggingfaceserveserve-47f6687c-44f1-415d-90d3-f7464bc351b9'}, 'spec': {'containers': [{'args': ['-m', 'huggingfaceserver', '--model_name', 'mymodel', '--protocol', 'v2', '--enable_docs_url', 'true', '--model_id', 'distilbert/distilbert-base-uncased-finetuned-sst-2-english', '--trust_remote_code', 'true'], 'command': ['python'], 'env': [{'name': 'DH_RUN_SECRET_NAME', 'value': 'sec-huggingfaceserveserve-47f6687c-44f1-415d-90d3-f7464bc351b9'}, {'name': 'DHCORE_ACCESS_TOKEN', 'valueFrom': {'secretKeyRef': {'key': 'DHCORE_ACCESS_TOKEN', 'name': 'sec-huggingfaceserveserve-47f6687c-44f1-415d-90d3-f7464bc351b9'}}}, {'name': 'DHCORE_REFRESH_TOKEN', 'valueFrom': {'secretKeyRef': {'key': 'DHCORE_REFRESH_TOKEN', 'name': 'sec-huggingfaceserveserve-47f6687c-44f1-415d-90d3-f7464bc351b9'}}}, {'name': 'DHCORE_CLIENT_ID', 'valueFrom': {'secretKeyRef': {'key': 'DHCORE_CLIENT_ID', 'name': 'sec-huggingfaceserveserve-47f6687c-44f1-415d-90d3-f7464bc351b9'}}}, {'name': 'DHCORE_TOKEN_TYPE', 'valueFrom': {'secretKeyRef': {'key': 'DHCORE_TOKEN_TYPE', 'name': 'sec-huggingfaceserveserve-47f6687c-44f1-415d-90d3-f7464bc351b9'}}}, {'name': 'DHCORE_ISSUER', 'valueFrom': {'secretKeyRef': {'key': 'DHCORE_ISSUER', 'name': 'sec-huggingfaceserveserve-47f6687c-44f1-415d-90d3-f7464bc351b9'}}}, {'name': 'PROJECT_NAME', 'value': 'llm-ci'}, {'name': 'DHCORE_EXPIRES_IN', 'valueFrom': {'secretKeyRef': {'key': 'DHCORE_EXPIRES_IN', 'name': 'sec-huggingfaceserveserve-47f6687c-44f1-415d-90d3-f7464bc351b9'}}}, {'name': 'RUN_ID', 'value': '47f6687c-44f1-415d-90d3-f7464bc351b9'}], 'envFrom': [{'configMapRef': {'name': 'digitalhub-common-env'}}, {'secretRef': {'name': 'digitalhub-common-creds'}}], 'image': 'kserve/huggingfaceserver:latest', 'imagePullPolicy': 'IfNotPresent', 'name': 'c-huggingfaceserveserve-47f6687c-44f1-415d-90d3-f7464bc351b9', 'securityContext': {'allowPrivilegeEscalation': False, 'privileged': False, 'runAsNonRoot': True}, 'terminationMessagePath': '/dev/termination-log', 'terminationMessagePolicy': 'File'}], 'dnsPolicy': 'ClusterFirst', 'imagePullSecrets': [{'name': 'registry-credentials'}], 'restartPolicy': 'Always', 'schedulerName': 'default-scheduler', 'securityContext': {'runAsNonRoot': True}, 'terminationGracePeriodSeconds': 30}}}, 'status': {'conditions': [{'lastTransitionTime': 1730202543.0, 'lastUpdateTime': 1730202543.0, 'message': 'Deployment does not have minimum availability.', 'reason': 'MinimumReplicasUnavailable', 'status': 'False', 'type': 'Available'}, {'lastTransitionTime': 1730202543.0, 'lastUpdateTime': 1730202543.0, 'message': 'ReplicaSet \"d-huggingfaceserveserve-47f6687c-44f1-415d-90d3-f7464bc351b9-7d8d5cd5df\" is progressing.', 'reason': 'ReplicaSetUpdated', 'status': 'True', 'type': 'Progressing'}], 'observedGeneration': 1, 'replicas': 1, 'unavailableReplicas': 1, 'updatedReplicas': 1}}}, 'service': {'name': 's-huggingfaceserveserve-47f6687c-44f1-415d-90d3-f7464bc351b9', 'namespace': 'digitalhub-tenant1', 'type': 'NodePort', 'clusterIP': '10.106.58.155', 'ports': [{'name': 'port8080', 'nodePort': 30233, 'port': 8080, 'protocol': 'TCP', 'targetPort': 8080}, {'name': 'port8081', 'nodePort': 31693, 'port': 8081, 'protocol': 'TCP', 'targetPort': 8081}], 'url': 's-huggingfaceserveserve-47f6687c-44f1-415d-90d3-f7464bc351b9.digitalhub-tenant1:8080', 'urls': ['s-huggingfaceserveserve-47f6687c-44f1-415d-90d3-f7464bc351b9.digitalhub-tenant1:8080', 's-huggingfaceserveserve-47f6687c-44f1-415d-90d3-f7464bc351b9.digitalhub-tenant1:8081']}}, 'user': 'khurshid@fbk.eu', 'project': 'llm-ci', 'id': '47f6687c-44f1-415d-90d3-f7464bc351b9', 'key': 'store://llm-ci/run/huggingfaceserve+run/47f6687c-44f1-415d-90d3-f7464bc351b9'}"
      ]
     },
     "execution_count": 5,
     "metadata": {},
     "output_type": "execute_result"
    }
   ],
   "source": [
    "llm_run.refresh()"
   ]
  },
  {
   "cell_type": "code",
   "execution_count": 10,
   "id": "88079170-570c-4e62-a6fc-a452280b7b18",
   "metadata": {},
   "outputs": [
    {
     "data": {
      "text/plain": [
       "{'model_name': 'mymodel',\n",
       " 'model_version': None,\n",
       " 'id': 'e5e22206-9911-4b06-b8d0-1e34bf3d98eb',\n",
       " 'parameters': None,\n",
       " 'outputs': [{'name': 'output-0',\n",
       "   'shape': [2],\n",
       "   'datatype': 'INT64',\n",
       "   'parameters': None,\n",
       "   'data': [1, 0]}]}"
      ]
     },
     "execution_count": 10,
     "metadata": {},
     "output_type": "execute_result"
    }
   ],
   "source": [
    "llm_run.invoke(model_name=model_name, json=json).json()"
   ]
  },
  {
   "cell_type": "code",
   "execution_count": 11,
   "id": "67c8ce94-a497-486d-96fd-e54ee9ea24cb",
   "metadata": {},
   "outputs": [],
   "source": [
    "import os\n",
    "new_folder = 'src'\n",
    "if not os.path.exists(new_folder):\n",
    "    os.makedirs(new_folder)"
   ]
  },
  {
   "cell_type": "code",
   "execution_count": 12,
   "id": "e9da6afe-6efc-484a-91f8-10a1a2851c26",
   "metadata": {},
   "outputs": [
    {
     "name": "stdout",
     "output_type": "stream",
     "text": [
      "Writing src/llm_pipeline.py\n"
     ]
    }
   ],
   "source": [
    "%%writefile \"src/llm_pipeline.py\"\n",
    "\n",
    "from digitalhub_runtime_kfp.dsl import pipeline_context\n",
    "\n",
    "def myhandler(path): \n",
    "    with pipeline_context() as pc:\n",
    "         serve = pc.step(name=\"serve\", function=\"llm_classification\", action=\"serve\", inputs={\"path\":path})"
   ]
  },
  {
   "cell_type": "code",
   "execution_count": 13,
   "id": "9e9b0e0c-015a-45b0-9537-c5c505049f3a",
   "metadata": {},
   "outputs": [],
   "source": [
    "workflow = project.new_workflow(name=\"pipeline_llm\", kind=\"kfp\", code_src= \"src/llm_pipeline.py\", handler = \"myhandler\")"
   ]
  },
  {
   "cell_type": "code",
   "execution_count": 14,
   "id": "103c9a9c-1715-4562-8ea6-ff5d5ba90081",
   "metadata": {},
   "outputs": [
    {
     "data": {
      "text/plain": [
       "{'kind': 'kfp+run', 'metadata': {'project': 'llm-ci', 'name': '4d9ed937-917e-42ed-bc7d-691444aadeb3', 'created': '2024-10-29T11:52:07.212Z', 'updated': '2024-10-29T11:52:07.228Z', 'created_by': 'khurshid@fbk.eu', 'updated_by': 'khurshid@fbk.eu'}, 'spec': {'task': 'kfp+pipeline://llm-ci/pipeline_llm:fa4619cb-84b3-4255-b457-b17e38195801', 'local_execution': False, 'function': 'kfp://llm-ci/pipeline_llm:fa4619cb-84b3-4255-b457-b17e38195801', 'source': {'source': 'src/llm_pipeline.py', 'handler': 'myhandler', 'base64': 'CmZyb20gZGlnaXRhbGh1Yl9ydW50aW1lX2tmcC5kc2wgaW1wb3J0IHBpcGVsaW5lX2NvbnRleHQKCmRlZiBteWhhbmRsZXIocGF0aCk6IAogICAgd2l0aCBwaXBlbGluZV9jb250ZXh0KCkgYXMgcGM6CiAgICAgICAgIHNlcnZlID0gcGMuc3RlcChuYW1lPSJzZXJ2ZSIsIGZ1bmN0aW9uPSJsbG1fY2xhc3NpZmljYXRpb24iLCBhY3Rpb249InNlcnZlIiwgaW5wdXRzPXsicGF0aCI6cGF0aH0pCg==', 'lang': 'python'}, 'inputs': {}, 'outputs': {}, 'parameters': {'path': 'huggingface://distilbert/distilbert-base-uncased-finetuned-sst-2-english'}}, 'status': {'state': 'READY', 'transitions': [{'status': 'READY', 'time': '2024-10-29T11:52:07.227704422Z'}, {'status': 'BUILT', 'time': '2024-10-29T11:52:07.217314254Z'}]}, 'user': 'khurshid@fbk.eu', 'project': 'llm-ci', 'id': '4d9ed937-917e-42ed-bc7d-691444aadeb3', 'key': 'store://llm-ci/run/kfp+run/4d9ed937-917e-42ed-bc7d-691444aadeb3'}"
      ]
     },
     "execution_count": 14,
     "metadata": {},
     "output_type": "execute_result"
    }
   ],
   "source": [
    "workflow.run(parameters={\"path\": 'huggingface://distilbert/distilbert-base-uncased-finetuned-sst-2-english'})"
   ]
  },
  {
   "cell_type": "code",
   "execution_count": null,
   "id": "700d7fc5-6b4d-44b0-9633-0cd116cc54b2",
   "metadata": {},
   "outputs": [],
   "source": []
  }
 ],
 "metadata": {
  "kernelspec": {
   "display_name": "Python 3 (ipykernel)",
   "language": "python",
   "name": "python3"
  },
  "language_info": {
   "codemirror_mode": {
    "name": "ipython",
    "version": 3
   },
   "file_extension": ".py",
   "mimetype": "text/x-python",
   "name": "python",
   "nbconvert_exporter": "python",
   "pygments_lexer": "ipython3",
   "version": "3.10.11"
  }
 },
 "nbformat": 4,
 "nbformat_minor": 5
}
