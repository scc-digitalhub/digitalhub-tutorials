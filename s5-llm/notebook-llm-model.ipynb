{
 "cells": [
  {
   "cell_type": "code",
   "execution_count": 18,
   "id": "d91bb2e2-7ddf-46d4-a54d-d1f7b665372c",
   "metadata": {},
   "outputs": [],
   "source": [
    "import digitalhub as dh\n",
    "\n",
    "project = dh.get_or_create_project(\"llm-ci\")"
   ]
  },
  {
   "cell_type": "code",
   "execution_count": 19,
   "id": "45da5ef6-9bef-4451-abbd-84c56e7b3e8e",
   "metadata": {},
   "outputs": [],
   "source": [
    "llm_function = project.new_function(\"llm_classification\",\n",
    "                                    kind=\"huggingfaceserve\",\n",
    "                                    model_name=\"mymodel\",\n",
    "                                    path=\"huggingface://distilbert/distilbert-base-uncased-finetuned-sst-2-english\")"
   ]
  },
  {
   "cell_type": "code",
   "execution_count": 20,
   "id": "b0ae41f6-4054-4c4d-a022-4f73d609eef1",
   "metadata": {},
   "outputs": [],
   "source": [
    "llm_run = llm_function.run(action=\"serve\", profile=\"template-a100\")"
   ]
  },
  {
   "cell_type": "markdown",
   "id": "ac7e1574-3289-421d-aeae-ae543392334a",
   "metadata": {},
   "source": [
    "Let us wait till the 'serve' is loaded compeletly"
   ]
  },
  {
   "cell_type": "code",
   "execution_count": 27,
   "id": "0f3f06f1-377e-41be-a4a0-b89f7602a293",
   "metadata": {},
   "outputs": [],
   "source": [
    "model_name = \"mymodel\"\n",
    "json = {\n",
    "    \"inputs\": [\n",
    "        {\n",
    "            \"name\": \"input-0\",\n",
    "            \"shape\": [2],\n",
    "            \"datatype\": \"BYTES\",\n",
    "            \"data\": [\"Hello, my dog is cute\", \"I am feeling sad\"],\n",
    "        },\n",
    "    ]\n",
    "}"
   ]
  },
  {
   "cell_type": "code",
   "execution_count": 28,
   "id": "07939d49-934e-4468-8e24-244cdb302411",
   "metadata": {},
   "outputs": [
    {
     "data": {
      "text/plain": [
       "{'kind': 'huggingfaceserve+run', 'metadata': {'project': 'llm-ci', 'name': '843d60b5-a1b7-491c-b8da-d71947dcc970', 'created': '2024-10-25T09:32:11.403Z', 'updated': '2024-10-25T09:34:18.789Z', 'created_by': 'khurshid@fbk.eu', 'updated_by': 'khurshid@fbk.eu'}, 'spec': {'task': 'huggingfaceserve+serve://llm-ci/llm_classification:6da5afcf-ee73-4142-a7cc-9c8cf4fdbfce', 'local_execution': False, 'function': 'huggingfaceserve://llm-ci/llm_classification:6da5afcf-ee73-4142-a7cc-9c8cf4fdbfce', 'profile': 'template-a100', 'path': 'huggingface://distilbert/distilbert-base-uncased-finetuned-sst-2-english', 'model_name': 'mymodel', 'service_type': 'NodePort'}, 'status': {'state': 'RUNNING', 'message': 'deployment d-huggingfaceserveserve-843d60b5-a1b7-491c-b8da-d71947dcc970 created, service s-huggingfaceserveserve-843d60b5-a1b7-491c-b8da-d71947dcc970 created', 'transitions': [{'status': 'RUNNING', 'message': 'deployment d-huggingfaceserveserve-843d60b5-a1b7-491c-b8da-d71947dcc970 created, service s-huggingfaceserveserve-843d60b5-a1b7-491c-b8da-d71947dcc970 created', 'time': '2024-10-25T09:32:11.488137468Z'}, {'status': 'READY', 'time': '2024-10-25T09:32:11.418853457Z'}, {'status': 'BUILT', 'time': '2024-10-25T09:32:11.408556609Z'}], 'k8s': {'pods': [{'metadata': {'creationTimestamp': 1729848731.0, 'generateName': 'd-huggingfaceserveserve-843d60b5-a1b7-491c-b8da-d71947dcc970-bbfd4b7f7-', 'labels': {'app.kubernetes.io/instance': 'dhcore-843d60b5-a1b7-491c-b8da-d71947dcc970', 'app.kubernetes.io/managed-by': 'dhcore', 'app.kubernetes.io/part-of': 'dhcore-llm-ci', 'app.kubernetes.io/version': '843d60b5-a1b7-491c-b8da-d71947dcc970', 'dhcore/framework': 'k8sserve', 'dhcore/function': 'llm_classification', 'dhcore/project': 'llm-ci', 'dhcore/runtime': 'huggingfaceserve', 'pod-template-hash': 'bbfd4b7f7'}, 'managedFields': [{'apiVersion': 'v1', 'fieldsType': 'FieldsV1', 'manager': 'kube-controller-manager', 'operation': 'Update', 'time': 1729848731.0}, {'apiVersion': 'v1', 'fieldsType': 'FieldsV1', 'manager': 'kubelet', 'operation': 'Update', 'subresource': 'status', 'time': 1729848734.0}], 'name': 'd-huggingfaceserveserve-843d60b5-a1b7-491c-b8da-d71947dcc9gswrj', 'namespace': 'digitalhub-tenant1', 'ownerReferences': [{'apiVersion': 'apps/v1', 'blockOwnerDeletion': True, 'controller': True, 'kind': 'ReplicaSet', 'name': 'd-huggingfaceserveserve-843d60b5-a1b7-491c-b8da-d71947dcc970-bbfd4b7f7', 'uid': '93a7fa0b-d392-4728-84ec-9a819473a3c5'}], 'resourceVersion': '240740', 'uid': '97007844-207f-4682-b606-de6040cf50e7'}, 'spec': {'containers': [{'args': ['-m', 'huggingfaceserver', '--model_name', 'mymodel', '--protocol', 'v2', '--enable_docs_url', 'true', '--model_id', 'distilbert/distilbert-base-uncased-finetuned-sst-2-english', '--trust_remote_code', 'true'], 'command': ['python'], 'env': [{'name': 'DH_RUN_SECRET_NAME', 'value': 'sec-huggingfaceserveserve-843d60b5-a1b7-491c-b8da-d71947dcc970'}, {'name': 'DHCORE_ACCESS_TOKEN', 'valueFrom': {'secretKeyRef': {'key': 'DHCORE_ACCESS_TOKEN', 'name': 'sec-huggingfaceserveserve-843d60b5-a1b7-491c-b8da-d71947dcc970'}}}, {'name': 'DHCORE_REFRESH_TOKEN', 'valueFrom': {'secretKeyRef': {'key': 'DHCORE_REFRESH_TOKEN', 'name': 'sec-huggingfaceserveserve-843d60b5-a1b7-491c-b8da-d71947dcc970'}}}, {'name': 'DHCORE_CLIENT_ID', 'valueFrom': {'secretKeyRef': {'key': 'DHCORE_CLIENT_ID', 'name': 'sec-huggingfaceserveserve-843d60b5-a1b7-491c-b8da-d71947dcc970'}}}, {'name': 'DHCORE_TOKEN_TYPE', 'valueFrom': {'secretKeyRef': {'key': 'DHCORE_TOKEN_TYPE', 'name': 'sec-huggingfaceserveserve-843d60b5-a1b7-491c-b8da-d71947dcc970'}}}, {'name': 'DHCORE_ISSUER', 'valueFrom': {'secretKeyRef': {'key': 'DHCORE_ISSUER', 'name': 'sec-huggingfaceserveserve-843d60b5-a1b7-491c-b8da-d71947dcc970'}}}, {'name': 'PROJECT_NAME', 'value': 'llm-ci'}, {'name': 'DHCORE_EXPIRES_IN', 'valueFrom': {'secretKeyRef': {'key': 'DHCORE_EXPIRES_IN', 'name': 'sec-huggingfaceserveserve-843d60b5-a1b7-491c-b8da-d71947dcc970'}}}, {'name': 'RUN_ID', 'value': '843d60b5-a1b7-491c-b8da-d71947dcc970'}], 'envFrom': [{'configMapRef': {'name': 'digitalhub-common-env'}}, {'secretRef': {'name': 'digitalhub-common-creds'}}], 'image': 'kserve/huggingfaceserver:latest', 'imagePullPolicy': 'IfNotPresent', 'name': 'c-huggingfaceserveserve-843d60b5-a1b7-491c-b8da-d71947dcc970', 'securityContext': {'allowPrivilegeEscalation': False, 'privileged': False, 'runAsNonRoot': True}, 'terminationMessagePath': '/dev/termination-log', 'terminationMessagePolicy': 'File', 'volumeMounts': [{'mountPath': '/var/run/secrets/kubernetes.io/serviceaccount', 'name': 'kube-api-access-gfhtc', 'readOnly': True}]}], 'dnsPolicy': 'ClusterFirst', 'enableServiceLinks': True, 'imagePullSecrets': [{'name': 'registry-credentials'}], 'nodeName': 'digitalhub-dev-md-0-jnfk6-wfvsx', 'preemptionPolicy': 'PreemptLowerPriority', 'priority': 0, 'restartPolicy': 'Always', 'schedulerName': 'default-scheduler', 'securityContext': {'runAsNonRoot': True}, 'serviceAccount': 'default', 'serviceAccountName': 'default', 'terminationGracePeriodSeconds': 30, 'tolerations': [{'effect': 'NoExecute', 'key': 'node.kubernetes.io/not-ready', 'operator': 'Exists', 'tolerationSeconds': 300}, {'effect': 'NoExecute', 'key': 'node.kubernetes.io/unreachable', 'operator': 'Exists', 'tolerationSeconds': 300}], 'volumes': [{'name': 'kube-api-access-gfhtc', 'projected': {'defaultMode': 420, 'sources': [{'serviceAccountToken': {'expirationSeconds': 3607, 'path': 'token'}}, {'configMap': {'items': [{'key': 'ca.crt', 'path': 'ca.crt'}], 'name': 'kube-root-ca.crt'}}, {'downwardAPI': {'items': [{'fieldRef': {'apiVersion': 'v1', 'fieldPath': 'metadata.namespace'}, 'path': 'namespace'}]}}]}}]}, 'status': {'conditions': [{'lastTransitionTime': 1729848734.0, 'status': 'True', 'type': 'PodReadyToStartContainers'}, {'lastTransitionTime': 1729848731.0, 'status': 'True', 'type': 'Initialized'}, {'lastTransitionTime': 1729848734.0, 'status': 'True', 'type': 'Ready'}, {'lastTransitionTime': 1729848734.0, 'status': 'True', 'type': 'ContainersReady'}, {'lastTransitionTime': 1729848731.0, 'status': 'True', 'type': 'PodScheduled'}], 'containerStatuses': [{'containerID': 'containerd://f9deaf31b4a3368056dfa70dbfd4c6eef0f42ddf465690e8031165add58bf230', 'image': 'docker.io/kserve/huggingfaceserver:latest', 'imageID': 'docker.io/kserve/huggingfaceserver@sha256:4634cff48d17d90945295bee6612485f5f354f0ee7921acbb66ea47830ab5f29', 'name': 'c-huggingfaceserveserve-843d60b5-a1b7-491c-b8da-d71947dcc970', 'ready': True, 'restartCount': 0, 'started': True, 'state': {'running': {'startedAt': 1729848734.0}}}], 'hostIP': '10.1.0.5', 'hostIPs': [{'ip': '10.1.0.5'}], 'phase': 'Running', 'podIP': '192.168.3.201', 'podIPs': [{'ip': '192.168.3.201'}], 'qosClass': 'BestEffort', 'startTime': 1729848731.0}}], 'secret': {'secret': {'apiVersion': 'v1', 'kind': 'Secret', 'metadata': {'labels': {'dhcore/framework': 'k8sserve', 'app.kubernetes.io/managed-by': 'dhcore', 'dhcore/function': 'llm_classification', 'app.kubernetes.io/part-of': 'dhcore-llm-ci', 'dhcore/project': 'llm-ci', 'dhcore/runtime': 'huggingfaceserve', 'app.kubernetes.io/version': '843d60b5-a1b7-491c-b8da-d71947dcc970', 'app.kubernetes.io/instance': 'dhcore-843d60b5-a1b7-491c-b8da-d71947dcc970'}, 'name': 'sec-huggingfaceserveserve-843d60b5-a1b7-491c-b8da-d71947dcc970', 'namespace': 'digitalhub-tenant1'}}}, 'service': {'metadata': {'creationTimestamp': 1729848731.0, 'labels': {'app.kubernetes.io/instance': 'dhcore-843d60b5-a1b7-491c-b8da-d71947dcc970', 'app.kubernetes.io/managed-by': 'dhcore', 'app.kubernetes.io/part-of': 'dhcore-llm-ci', 'app.kubernetes.io/version': '843d60b5-a1b7-491c-b8da-d71947dcc970', 'dhcore/framework': 'k8sserve', 'dhcore/function': 'llm_classification', 'dhcore/project': 'llm-ci', 'dhcore/runtime': 'huggingfaceserve'}, 'managedFields': [{'apiVersion': 'v1', 'fieldsType': 'FieldsV1', 'manager': 'Kubernetes Java Client', 'operation': 'Update', 'time': 1729848731.0}], 'name': 's-huggingfaceserveserve-843d60b5-a1b7-491c-b8da-d71947dcc970', 'namespace': 'digitalhub-tenant1', 'resourceVersion': '240670', 'uid': '93fed123-3507-4532-86a3-1c5815bbb79d'}, 'apiVersion': 'v1', 'kind': 'Service', 'spec': {'clusterIP': '10.103.213.79', 'clusterIPs': ['10.103.213.79'], 'externalTrafficPolicy': 'Cluster', 'internalTrafficPolicy': 'Cluster', 'ipFamilies': ['IPv4'], 'ipFamilyPolicy': 'SingleStack', 'ports': [{'name': 'port8080', 'nodePort': 32713, 'port': 8080, 'protocol': 'TCP', 'targetPort': 8080}, {'name': 'port8081', 'nodePort': 30821, 'port': 8081, 'protocol': 'TCP', 'targetPort': 8081}], 'selector': {'app.kubernetes.io/instance': 'dhcore-843d60b5-a1b7-491c-b8da-d71947dcc970', 'app.kubernetes.io/managed-by': 'dhcore', 'app.kubernetes.io/part-of': 'dhcore-llm-ci', 'app.kubernetes.io/version': '843d60b5-a1b7-491c-b8da-d71947dcc970', 'dhcore/framework': 'k8sserve', 'dhcore/function': 'llm_classification', 'dhcore/project': 'llm-ci', 'dhcore/runtime': 'huggingfaceserve'}, 'sessionAffinity': 'None', 'type': 'NodePort'}}, 'deployment': {'metadata': {'annotations': {'deployment.kubernetes.io/revision': '1'}, 'creationTimestamp': 1729848731.0, 'generation': 1, 'labels': {'app.kubernetes.io/instance': 'dhcore-843d60b5-a1b7-491c-b8da-d71947dcc970', 'app.kubernetes.io/managed-by': 'dhcore', 'app.kubernetes.io/part-of': 'dhcore-llm-ci', 'app.kubernetes.io/version': '843d60b5-a1b7-491c-b8da-d71947dcc970', 'dhcore/framework': 'k8sserve', 'dhcore/function': 'llm_classification', 'dhcore/project': 'llm-ci', 'dhcore/runtime': 'huggingfaceserve'}, 'managedFields': [{'apiVersion': 'apps/v1', 'fieldsType': 'FieldsV1', 'manager': 'Kubernetes Java Client', 'operation': 'Update', 'time': 1729848731.0}, {'apiVersion': 'apps/v1', 'fieldsType': 'FieldsV1', 'manager': 'kube-controller-manager', 'operation': 'Update', 'subresource': 'status', 'time': 1729848734.0}], 'name': 'd-huggingfaceserveserve-843d60b5-a1b7-491c-b8da-d71947dcc970', 'namespace': 'digitalhub-tenant1', 'resourceVersion': '240744', 'uid': 'dc9a1783-7861-4412-93f1-ecf06315cf11'}, 'apiVersion': 'apps/v1', 'kind': 'Deployment', 'spec': {'progressDeadlineSeconds': 600, 'replicas': 1, 'revisionHistoryLimit': 10, 'selector': {'matchLabels': {'app.kubernetes.io/instance': 'dhcore-843d60b5-a1b7-491c-b8da-d71947dcc970', 'app.kubernetes.io/managed-by': 'dhcore', 'app.kubernetes.io/part-of': 'dhcore-llm-ci', 'app.kubernetes.io/version': '843d60b5-a1b7-491c-b8da-d71947dcc970', 'dhcore/framework': 'k8sserve', 'dhcore/function': 'llm_classification', 'dhcore/project': 'llm-ci', 'dhcore/runtime': 'huggingfaceserve'}}, 'strategy': {'rollingUpdate': {'maxSurge': '25%', 'maxUnavailable': '25%'}, 'type': 'RollingUpdate'}, 'template': {'metadata': {'labels': {'app.kubernetes.io/instance': 'dhcore-843d60b5-a1b7-491c-b8da-d71947dcc970', 'app.kubernetes.io/managed-by': 'dhcore', 'app.kubernetes.io/part-of': 'dhcore-llm-ci', 'app.kubernetes.io/version': '843d60b5-a1b7-491c-b8da-d71947dcc970', 'dhcore/framework': 'k8sserve', 'dhcore/function': 'llm_classification', 'dhcore/project': 'llm-ci', 'dhcore/runtime': 'huggingfaceserve'}, 'name': 'd-huggingfaceserveserve-843d60b5-a1b7-491c-b8da-d71947dcc970'}, 'spec': {'containers': [{'args': ['-m', 'huggingfaceserver', '--model_name', 'mymodel', '--protocol', 'v2', '--enable_docs_url', 'true', '--model_id', 'distilbert/distilbert-base-uncased-finetuned-sst-2-english', '--trust_remote_code', 'true'], 'command': ['python'], 'env': [{'name': 'DH_RUN_SECRET_NAME', 'value': 'sec-huggingfaceserveserve-843d60b5-a1b7-491c-b8da-d71947dcc970'}, {'name': 'DHCORE_ACCESS_TOKEN', 'valueFrom': {'secretKeyRef': {'key': 'DHCORE_ACCESS_TOKEN', 'name': 'sec-huggingfaceserveserve-843d60b5-a1b7-491c-b8da-d71947dcc970'}}}, {'name': 'DHCORE_REFRESH_TOKEN', 'valueFrom': {'secretKeyRef': {'key': 'DHCORE_REFRESH_TOKEN', 'name': 'sec-huggingfaceserveserve-843d60b5-a1b7-491c-b8da-d71947dcc970'}}}, {'name': 'DHCORE_CLIENT_ID', 'valueFrom': {'secretKeyRef': {'key': 'DHCORE_CLIENT_ID', 'name': 'sec-huggingfaceserveserve-843d60b5-a1b7-491c-b8da-d71947dcc970'}}}, {'name': 'DHCORE_TOKEN_TYPE', 'valueFrom': {'secretKeyRef': {'key': 'DHCORE_TOKEN_TYPE', 'name': 'sec-huggingfaceserveserve-843d60b5-a1b7-491c-b8da-d71947dcc970'}}}, {'name': 'DHCORE_ISSUER', 'valueFrom': {'secretKeyRef': {'key': 'DHCORE_ISSUER', 'name': 'sec-huggingfaceserveserve-843d60b5-a1b7-491c-b8da-d71947dcc970'}}}, {'name': 'PROJECT_NAME', 'value': 'llm-ci'}, {'name': 'DHCORE_EXPIRES_IN', 'valueFrom': {'secretKeyRef': {'key': 'DHCORE_EXPIRES_IN', 'name': 'sec-huggingfaceserveserve-843d60b5-a1b7-491c-b8da-d71947dcc970'}}}, {'name': 'RUN_ID', 'value': '843d60b5-a1b7-491c-b8da-d71947dcc970'}], 'envFrom': [{'configMapRef': {'name': 'digitalhub-common-env'}}, {'secretRef': {'name': 'digitalhub-common-creds'}}], 'image': 'kserve/huggingfaceserver:latest', 'imagePullPolicy': 'IfNotPresent', 'name': 'c-huggingfaceserveserve-843d60b5-a1b7-491c-b8da-d71947dcc970', 'securityContext': {'allowPrivilegeEscalation': False, 'privileged': False, 'runAsNonRoot': True}, 'terminationMessagePath': '/dev/termination-log', 'terminationMessagePolicy': 'File'}], 'dnsPolicy': 'ClusterFirst', 'imagePullSecrets': [{'name': 'registry-credentials'}], 'restartPolicy': 'Always', 'schedulerName': 'default-scheduler', 'securityContext': {'runAsNonRoot': True}, 'terminationGracePeriodSeconds': 30}}}, 'status': {'availableReplicas': 1, 'conditions': [{'lastTransitionTime': 1729848734.0, 'lastUpdateTime': 1729848734.0, 'message': 'Deployment has minimum availability.', 'reason': 'MinimumReplicasAvailable', 'status': 'True', 'type': 'Available'}, {'lastTransitionTime': 1729848731.0, 'lastUpdateTime': 1729848734.0, 'message': 'ReplicaSet \"d-huggingfaceserveserve-843d60b5-a1b7-491c-b8da-d71947dcc970-bbfd4b7f7\" has successfully progressed.', 'reason': 'NewReplicaSetAvailable', 'status': 'True', 'type': 'Progressing'}], 'observedGeneration': 1, 'readyReplicas': 1, 'replicas': 1, 'updatedReplicas': 1}}}, 'service': {'name': 's-huggingfaceserveserve-843d60b5-a1b7-491c-b8da-d71947dcc970', 'namespace': 'digitalhub-tenant1', 'type': 'NodePort', 'clusterIP': '10.103.213.79', 'ports': [{'name': 'port8080', 'nodePort': 32713, 'port': 8080, 'protocol': 'TCP', 'targetPort': 8080}, {'name': 'port8081', 'nodePort': 30821, 'port': 8081, 'protocol': 'TCP', 'targetPort': 8081}], 'url': 's-huggingfaceserveserve-843d60b5-a1b7-491c-b8da-d71947dcc970.digitalhub-tenant1:8080', 'urls': ['s-huggingfaceserveserve-843d60b5-a1b7-491c-b8da-d71947dcc970.digitalhub-tenant1:8080', 's-huggingfaceserveserve-843d60b5-a1b7-491c-b8da-d71947dcc970.digitalhub-tenant1:8081']}}, 'user': 'khurshid@fbk.eu', 'project': 'llm-ci', 'id': '843d60b5-a1b7-491c-b8da-d71947dcc970', 'key': 'store://llm-ci/run/huggingfaceserve+run/843d60b5-a1b7-491c-b8da-d71947dcc970'}"
      ]
     },
     "execution_count": 28,
     "metadata": {},
     "output_type": "execute_result"
    }
   ],
   "source": [
    "llm_run.refresh()"
   ]
  },
  {
   "cell_type": "code",
   "execution_count": 29,
   "id": "88079170-570c-4e62-a6fc-a452280b7b18",
   "metadata": {},
   "outputs": [
    {
     "data": {
      "text/plain": [
       "{'model_name': 'mymodel',\n",
       " 'model_version': None,\n",
       " 'id': '0c9834b3-9e0a-49ee-88e3-97e281e91198',\n",
       " 'parameters': None,\n",
       " 'outputs': [{'name': 'output-0',\n",
       "   'shape': [2],\n",
       "   'datatype': 'INT64',\n",
       "   'parameters': None,\n",
       "   'data': [1, 0]}]}"
      ]
     },
     "execution_count": 29,
     "metadata": {},
     "output_type": "execute_result"
    }
   ],
   "source": [
    "llm_run.invoke(model_name=model_name, json=json).json()"
   ]
  },
  {
   "cell_type": "code",
   "execution_count": 23,
   "id": "67c8ce94-a497-486d-96fd-e54ee9ea24cb",
   "metadata": {},
   "outputs": [],
   "source": [
    "import os\n",
    "new_folder = 'src'\n",
    "if not os.path.exists(new_folder):\n",
    "    os.makedirs(new_folder)"
   ]
  },
  {
   "cell_type": "code",
   "execution_count": 24,
   "id": "e9da6afe-6efc-484a-91f8-10a1a2851c26",
   "metadata": {},
   "outputs": [
    {
     "name": "stdout",
     "output_type": "stream",
     "text": [
      "Overwriting src/llm_pipeline.py\n"
     ]
    }
   ],
   "source": [
    "%%writefile \"src/llm_pipeline.py\"\n",
    "\n",
    "from digitalhub_runtime_kfp.dsl import pipeline_context\n",
    "\n",
    "def myhandler(path): \n",
    "    with pipeline_context() as pc:\n",
    "         serve = pc.step(name=\"serve\", function=\"llm_classification\", action=\"serve\", inputs={\"path\":path})"
   ]
  },
  {
   "cell_type": "code",
   "execution_count": 25,
   "id": "9e9b0e0c-015a-45b0-9537-c5c505049f3a",
   "metadata": {},
   "outputs": [],
   "source": [
    "workflow = project.new_workflow(name=\"pipeline_llm\", kind=\"kfp\", code_src= \"src/llm_pipeline.py\", handler = \"myhandler\")"
   ]
  },
  {
   "cell_type": "code",
   "execution_count": 8,
   "id": "103c9a9c-1715-4562-8ea6-ff5d5ba90081",
   "metadata": {},
   "outputs": [
    {
     "data": {
      "text/plain": [
       "{'kind': 'kfp+run', 'metadata': {'project': 'llm', 'name': '99fce4cc-5a12-4fa5-b846-9532c9e17a18', 'created': '2024-10-25T09:22:18.181Z', 'updated': '2024-10-25T09:22:18.201Z', 'created_by': 'khurshid@fbk.eu', 'updated_by': 'khurshid@fbk.eu'}, 'spec': {'task': 'kfp+pipeline://llm/pipeline_llm:067b4bb7-cae7-47cc-bf74-0e03e10576f0', 'local_execution': False, 'function': 'kfp://llm/pipeline_llm:067b4bb7-cae7-47cc-bf74-0e03e10576f0', 'source': {'source': 'src/llm_pipeline.py', 'handler': 'myhandler', 'base64': 'CmZyb20gZGlnaXRhbGh1Yl9ydW50aW1lX2tmcC5kc2wgaW1wb3J0IHBpcGVsaW5lX2NvbnRleHQKCmRlZiBteWhhbmRsZXIocGF0aCk6IAogICAgd2l0aCBwaXBlbGluZV9jb250ZXh0KCkgYXMgcGM6CiAgICAgICAgIHNlcnZlID0gcGMuc3RlcChuYW1lPSJzZXJ2ZSIsIGZ1bmN0aW9uPSJsbG1fY2xhc3NpZmljYXRpb24iLCBhY3Rpb249InNlcnZlIiwgaW5wdXRzPXsicGF0aCI6cGF0aH0pCg==', 'lang': 'python'}, 'inputs': {}, 'outputs': {}, 'parameters': {'path': 'huggingface://distilbert/distilbert-base-uncased-finetuned-sst-2-english'}}, 'status': {'state': 'READY', 'transitions': [{'status': 'READY', 'time': '2024-10-25T09:22:18.200522793Z'}, {'status': 'BUILT', 'time': '2024-10-25T09:22:18.18650552Z'}]}, 'user': 'khurshid@fbk.eu', 'project': 'llm', 'id': '99fce4cc-5a12-4fa5-b846-9532c9e17a18', 'key': 'store://llm/run/kfp+run/99fce4cc-5a12-4fa5-b846-9532c9e17a18'}"
      ]
     },
     "execution_count": 8,
     "metadata": {},
     "output_type": "execute_result"
    }
   ],
   "source": [
    "workflow.run(parameters={\"path\": 'huggingface://distilbert/distilbert-base-uncased-finetuned-sst-2-english'})"
   ]
  }
 ],
 "metadata": {
  "kernelspec": {
   "display_name": "Python 3 (ipykernel)",
   "language": "python",
   "name": "python3"
  },
  "language_info": {
   "codemirror_mode": {
    "name": "ipython",
    "version": 3
   },
   "file_extension": ".py",
   "mimetype": "text/x-python",
   "name": "python",
   "nbconvert_exporter": "python",
   "pygments_lexer": "ipython3",
   "version": "3.10.11"
  }
 },
 "nbformat": 4,
 "nbformat_minor": 5
}
