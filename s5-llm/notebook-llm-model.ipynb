{
 "cells": [
  {
   "cell_type": "markdown",
   "id": "d3823fd6-671d-48b6-8284-17b59a459fa0",
   "metadata": {},
   "source": [
    "##  LLM HuggingFace Serve"
   ]
  },
  {
   "cell_type": "code",
   "execution_count": null,
   "id": "d91bb2e2-7ddf-46d4-a54d-d1f7b665372c",
   "metadata": {},
   "outputs": [],
   "source": [
    "import digitalhub as dh\n",
    "\n",
    "project = dh.get_or_create_project(\"llm-ci\")"
   ]
  },
  {
   "cell_type": "code",
   "execution_count": null,
   "id": "45da5ef6-9bef-4451-abbd-84c56e7b3e8e",
   "metadata": {},
   "outputs": [],
   "source": [
    "llm_function = project.new_function(\"llm_classification\",\n",
    "                                    kind=\"huggingfaceserve\",\n",
    "                                    model_name=\"mymodel\",\n",
    "                                    path=\"huggingface://distilbert/distilbert-base-uncased-finetuned-sst-2-english\")"
   ]
  },
  {
   "cell_type": "code",
   "execution_count": null,
   "id": "b0ae41f6-4054-4c4d-a022-4f73d609eef1",
   "metadata": {},
   "outputs": [],
   "source": [
    "llm_run = llm_function.run(\"serve\", profile=\"template-a100\", wait=True)"
   ]
  },
  {
   "cell_type": "markdown",
   "id": "ac7e1574-3289-421d-aeae-ae543392334a",
   "metadata": {},
   "source": [
    "Wait for 'service' to be in 'running' state which can identified by the presence of 'service' object in the run."
   ]
  },
  {
   "cell_type": "code",
   "execution_count": null,
   "id": "8896fc56-2acd-411d-8c6c-502736f79b31",
   "metadata": {},
   "outputs": [],
   "source": [
    "service = llm_run.refresh().status.service\n",
    "service"
   ]
  },
  {
   "cell_type": "markdown",
   "id": "b9048c4f-62d8-48e9-9775-e1b5c0cabde6",
   "metadata": {},
   "source": [
    "Once 'Service' object available, proceed by making call to deployed service."
   ]
  },
  {
   "cell_type": "code",
   "execution_count": null,
   "id": "0f3f06f1-377e-41be-a4a0-b89f7602a293",
   "metadata": {},
   "outputs": [],
   "source": [
    "model_name = \"mymodel\"\n",
    "json = {\n",
    "    \"inputs\": [\n",
    "        {\n",
    "            \"name\": \"input-0\",\n",
    "            \"shape\": [2],\n",
    "            \"datatype\": \"BYTES\",\n",
    "            \"data\": [\"Hello, my dog is cute\", \"I am feeling sad\"],\n",
    "        },\n",
    "    ]\n",
    "}"
   ]
  },
  {
   "cell_type": "code",
   "execution_count": null,
   "id": "88079170-570c-4e62-a6fc-a452280b7b18",
   "metadata": {},
   "outputs": [],
   "source": [
    "llm_run.invoke(model_name=model_name, json=json).json()"
   ]
  },
  {
   "cell_type": "code",
   "execution_count": null,
   "id": "67c8ce94-a497-486d-96fd-e54ee9ea24cb",
   "metadata": {},
   "outputs": [],
   "source": [
    "from pathlib import Path\n",
    "Path(\"src\").mkdir(exist_ok=True)"
   ]
  },
  {
   "cell_type": "markdown",
   "id": "94b43f90-95d5-4aff-8306-7d3460f7bdce",
   "metadata": {},
   "source": [
    "## Pipeline"
   ]
  },
  {
   "cell_type": "code",
   "execution_count": null,
   "id": "e9da6afe-6efc-484a-91f8-10a1a2851c26",
   "metadata": {},
   "outputs": [],
   "source": [
    "%%writefile \"src/llm_pipeline.py\"\n",
    "\n",
    "from digitalhub_runtime_kfp.dsl import pipeline_context\n",
    "\n",
    "def myhandler(path): \n",
    "    with pipeline_context() as pc:\n",
    "         serve = pc.step(name=\"serve\", function=\"llm_classification\", action=\"serve\", inputs={\"path\":path})"
   ]
  },
  {
   "cell_type": "code",
   "execution_count": null,
   "id": "9e9b0e0c-015a-45b0-9537-c5c505049f3a",
   "metadata": {},
   "outputs": [],
   "source": [
    "workflow = project.new_workflow(name=\"pipeline_llm\",\n",
    "                                kind=\"kfp\",\n",
    "                                code_src=\"src/llm_pipeline.py\",\n",
    "                                handler=\"myhandler\")"
   ]
  },
  {
   "cell_type": "code",
   "execution_count": null,
   "id": "80ac7530-f132-4c40-ab02-4d0e9566d73a",
   "metadata": {},
   "outputs": [],
   "source": [
    "wf_build = workflow.run(\"build\", wait=True)"
   ]
  },
  {
   "cell_type": "code",
   "execution_count": null,
   "id": "103c9a9c-1715-4562-8ea6-ff5d5ba90081",
   "metadata": {},
   "outputs": [],
   "source": [
    "wf_run = workflow.run(\"pipeline\", parameters={\"path\": 'huggingface://distilbert/distilbert-base-uncased-finetuned-sst-2-english'})"
   ]
  }
 ],
 "metadata": {
  "kernelspec": {
   "display_name": "Python 3 (ipykernel)",
   "language": "python",
   "name": "python3"
  },
  "language_info": {
   "codemirror_mode": {
    "name": "ipython",
    "version": 3
   },
   "file_extension": ".py",
   "mimetype": "text/x-python",
   "name": "python",
   "nbconvert_exporter": "python",
   "pygments_lexer": "ipython3",
   "version": "3.10.11"
  }
 },
 "nbformat": 4,
 "nbformat_minor": 5
}
