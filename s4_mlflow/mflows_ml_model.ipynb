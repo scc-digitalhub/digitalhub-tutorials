{
 "cells": [
  {
   "cell_type": "code",
   "execution_count": 1,
   "id": "18477cbc-cfc4-465d-9909-23750a5bd452",
   "metadata": {},
   "outputs": [
    {
     "name": "stdout",
     "output_type": "stream",
     "text": [
      "Requirement already satisfied: mlflow in /opt/conda/lib/python3.10/site-packages (2.17.0)\n",
      "Requirement already satisfied: scikit-learn in /opt/conda/lib/python3.10/site-packages (1.5.2)\n",
      "Requirement already satisfied: mlflow-skinny==2.17.0 in /opt/conda/lib/python3.10/site-packages (from mlflow) (2.17.0)\n",
      "Requirement already satisfied: Flask<4 in /opt/conda/lib/python3.10/site-packages (from mlflow) (3.0.3)\n",
      "Requirement already satisfied: alembic!=1.10.0,<2 in /opt/conda/lib/python3.10/site-packages (from mlflow) (1.11.1)\n",
      "Requirement already satisfied: docker<8,>=4.0.0 in /opt/conda/lib/python3.10/site-packages (from mlflow) (7.1.0)\n",
      "Requirement already satisfied: graphene<4 in /opt/conda/lib/python3.10/site-packages (from mlflow) (3.3)\n",
      "Requirement already satisfied: markdown<4,>=3.3 in /opt/conda/lib/python3.10/site-packages (from mlflow) (3.7)\n",
      "Requirement already satisfied: matplotlib<4 in /opt/conda/lib/python3.10/site-packages (from mlflow) (3.9.2)\n",
      "Requirement already satisfied: numpy<3 in /opt/conda/lib/python3.10/site-packages (from mlflow) (1.26.4)\n",
      "Requirement already satisfied: pandas<3 in /opt/conda/lib/python3.10/site-packages (from mlflow) (2.1.4)\n",
      "Requirement already satisfied: pyarrow<18,>=4.0.0 in /opt/conda/lib/python3.10/site-packages (from mlflow) (17.0.0)\n",
      "Requirement already satisfied: scipy<2 in /opt/conda/lib/python3.10/site-packages (from mlflow) (1.14.1)\n",
      "Requirement already satisfied: sqlalchemy<3,>=1.4.0 in /opt/conda/lib/python3.10/site-packages (from mlflow) (1.4.54)\n",
      "Requirement already satisfied: Jinja2<4,>=2.11 in /opt/conda/lib/python3.10/site-packages (from mlflow) (3.1.4)\n",
      "Requirement already satisfied: gunicorn<24 in /opt/conda/lib/python3.10/site-packages (from mlflow) (23.0.0)\n",
      "Requirement already satisfied: cachetools<6,>=5.0.0 in /opt/conda/lib/python3.10/site-packages (from mlflow-skinny==2.17.0->mlflow) (5.5.0)\n",
      "Requirement already satisfied: click<9,>=7.0 in /opt/conda/lib/python3.10/site-packages (from mlflow-skinny==2.17.0->mlflow) (8.1.7)\n",
      "Requirement already satisfied: cloudpickle<4 in /opt/conda/lib/python3.10/site-packages (from mlflow-skinny==2.17.0->mlflow) (3.1.0)\n",
      "Requirement already satisfied: databricks-sdk<1,>=0.20.0 in /opt/conda/lib/python3.10/site-packages (from mlflow-skinny==2.17.0->mlflow) (0.35.0)\n",
      "Requirement already satisfied: gitpython<4,>=3.1.9 in /opt/conda/lib/python3.10/site-packages (from mlflow-skinny==2.17.0->mlflow) (3.1.43)\n",
      "Requirement already satisfied: importlib-metadata!=4.7.0,<9,>=3.7.0 in /opt/conda/lib/python3.10/site-packages (from mlflow-skinny==2.17.0->mlflow) (6.6.0)\n",
      "Requirement already satisfied: opentelemetry-api<3,>=1.9.0 in /opt/conda/lib/python3.10/site-packages (from mlflow-skinny==2.17.0->mlflow) (1.27.0)\n",
      "Requirement already satisfied: opentelemetry-sdk<3,>=1.9.0 in /opt/conda/lib/python3.10/site-packages (from mlflow-skinny==2.17.0->mlflow) (1.27.0)\n",
      "Requirement already satisfied: packaging<25 in /opt/conda/lib/python3.10/site-packages (from mlflow-skinny==2.17.0->mlflow) (23.1)\n",
      "Requirement already satisfied: protobuf<6,>=3.12.0 in /opt/conda/lib/python3.10/site-packages (from mlflow-skinny==2.17.0->mlflow) (4.25.5)\n",
      "Requirement already satisfied: pyyaml<7,>=5.1 in /opt/conda/lib/python3.10/site-packages (from mlflow-skinny==2.17.0->mlflow) (6.0)\n",
      "Requirement already satisfied: requests<3,>=2.17.3 in /opt/conda/lib/python3.10/site-packages (from mlflow-skinny==2.17.0->mlflow) (2.31.0)\n",
      "Requirement already satisfied: sqlparse<1,>=0.4.0 in /opt/conda/lib/python3.10/site-packages (from mlflow-skinny==2.17.0->mlflow) (0.5.1)\n",
      "Requirement already satisfied: joblib>=1.2.0 in /opt/conda/lib/python3.10/site-packages (from scikit-learn) (1.4.2)\n",
      "Requirement already satisfied: threadpoolctl>=3.1.0 in /opt/conda/lib/python3.10/site-packages (from scikit-learn) (3.5.0)\n",
      "Requirement already satisfied: Mako in /opt/conda/lib/python3.10/site-packages (from alembic!=1.10.0,<2->mlflow) (1.2.4)\n",
      "Requirement already satisfied: typing-extensions>=4 in /opt/conda/lib/python3.10/site-packages (from alembic!=1.10.0,<2->mlflow) (4.6.2)\n",
      "Requirement already satisfied: urllib3>=1.26.0 in /opt/conda/lib/python3.10/site-packages (from docker<8,>=4.0.0->mlflow) (2.0.2)\n",
      "Requirement already satisfied: Werkzeug>=3.0.0 in /opt/conda/lib/python3.10/site-packages (from Flask<4->mlflow) (3.0.4)\n",
      "Requirement already satisfied: itsdangerous>=2.1.2 in /opt/conda/lib/python3.10/site-packages (from Flask<4->mlflow) (2.2.0)\n",
      "Requirement already satisfied: blinker>=1.6.2 in /opt/conda/lib/python3.10/site-packages (from Flask<4->mlflow) (1.6.2)\n",
      "Requirement already satisfied: graphql-core<3.3,>=3.1 in /opt/conda/lib/python3.10/site-packages (from graphene<4->mlflow) (3.2.5)\n",
      "Requirement already satisfied: graphql-relay<3.3,>=3.1 in /opt/conda/lib/python3.10/site-packages (from graphene<4->mlflow) (3.2.0)\n",
      "Requirement already satisfied: aniso8601<10,>=8 in /opt/conda/lib/python3.10/site-packages (from graphene<4->mlflow) (9.0.1)\n",
      "Requirement already satisfied: MarkupSafe>=2.0 in /opt/conda/lib/python3.10/site-packages (from Jinja2<4,>=2.11->mlflow) (2.1.2)\n",
      "Requirement already satisfied: contourpy>=1.0.1 in /opt/conda/lib/python3.10/site-packages (from matplotlib<4->mlflow) (1.3.0)\n",
      "Requirement already satisfied: cycler>=0.10 in /opt/conda/lib/python3.10/site-packages (from matplotlib<4->mlflow) (0.12.1)\n",
      "Requirement already satisfied: fonttools>=4.22.0 in /opt/conda/lib/python3.10/site-packages (from matplotlib<4->mlflow) (4.54.1)\n",
      "Requirement already satisfied: kiwisolver>=1.3.1 in /opt/conda/lib/python3.10/site-packages (from matplotlib<4->mlflow) (1.4.7)\n",
      "Requirement already satisfied: pillow>=8 in /opt/conda/lib/python3.10/site-packages (from matplotlib<4->mlflow) (11.0.0)\n",
      "Requirement already satisfied: pyparsing>=2.3.1 in /opt/conda/lib/python3.10/site-packages (from matplotlib<4->mlflow) (3.2.0)\n",
      "Requirement already satisfied: python-dateutil>=2.7 in /opt/conda/lib/python3.10/site-packages (from matplotlib<4->mlflow) (2.8.2)\n",
      "Requirement already satisfied: pytz>=2020.1 in /opt/conda/lib/python3.10/site-packages (from pandas<3->mlflow) (2023.3)\n",
      "Requirement already satisfied: tzdata>=2022.1 in /opt/conda/lib/python3.10/site-packages (from pandas<3->mlflow) (2024.2)\n",
      "Requirement already satisfied: greenlet!=0.4.17 in /opt/conda/lib/python3.10/site-packages (from sqlalchemy<3,>=1.4.0->mlflow) (2.0.2)\n",
      "Requirement already satisfied: google-auth~=2.0 in /opt/conda/lib/python3.10/site-packages (from databricks-sdk<1,>=0.20.0->mlflow-skinny==2.17.0->mlflow) (2.35.0)\n",
      "Requirement already satisfied: gitdb<5,>=4.0.1 in /opt/conda/lib/python3.10/site-packages (from gitpython<4,>=3.1.9->mlflow-skinny==2.17.0->mlflow) (4.0.11)\n",
      "Requirement already satisfied: zipp>=0.5 in /opt/conda/lib/python3.10/site-packages (from importlib-metadata!=4.7.0,<9,>=3.7.0->mlflow-skinny==2.17.0->mlflow) (3.15.0)\n",
      "Requirement already satisfied: deprecated>=1.2.6 in /opt/conda/lib/python3.10/site-packages (from opentelemetry-api<3,>=1.9.0->mlflow-skinny==2.17.0->mlflow) (1.2.14)\n",
      "Requirement already satisfied: opentelemetry-semantic-conventions==0.48b0 in /opt/conda/lib/python3.10/site-packages (from opentelemetry-sdk<3,>=1.9.0->mlflow-skinny==2.17.0->mlflow) (0.48b0)\n",
      "Requirement already satisfied: six>=1.5 in /opt/conda/lib/python3.10/site-packages (from python-dateutil>=2.7->matplotlib<4->mlflow) (1.16.0)\n",
      "Requirement already satisfied: charset-normalizer<4,>=2 in /opt/conda/lib/python3.10/site-packages (from requests<3,>=2.17.3->mlflow-skinny==2.17.0->mlflow) (3.1.0)\n",
      "Requirement already satisfied: idna<4,>=2.5 in /opt/conda/lib/python3.10/site-packages (from requests<3,>=2.17.3->mlflow-skinny==2.17.0->mlflow) (3.4)\n",
      "Requirement already satisfied: certifi>=2017.4.17 in /opt/conda/lib/python3.10/site-packages (from requests<3,>=2.17.3->mlflow-skinny==2.17.0->mlflow) (2023.5.7)\n",
      "Requirement already satisfied: wrapt<2,>=1.10 in /opt/conda/lib/python3.10/site-packages (from deprecated>=1.2.6->opentelemetry-api<3,>=1.9.0->mlflow-skinny==2.17.0->mlflow) (1.16.0)\n",
      "Requirement already satisfied: smmap<6,>=3.0.1 in /opt/conda/lib/python3.10/site-packages (from gitdb<5,>=4.0.1->gitpython<4,>=3.1.9->mlflow-skinny==2.17.0->mlflow) (5.0.1)\n",
      "Requirement already satisfied: pyasn1-modules>=0.2.1 in /opt/conda/lib/python3.10/site-packages (from google-auth~=2.0->databricks-sdk<1,>=0.20.0->mlflow-skinny==2.17.0->mlflow) (0.4.1)\n",
      "Requirement already satisfied: rsa<5,>=3.1.4 in /opt/conda/lib/python3.10/site-packages (from google-auth~=2.0->databricks-sdk<1,>=0.20.0->mlflow-skinny==2.17.0->mlflow) (4.9)\n",
      "Requirement already satisfied: pyasn1<0.7.0,>=0.4.6 in /opt/conda/lib/python3.10/site-packages (from pyasn1-modules>=0.2.1->google-auth~=2.0->databricks-sdk<1,>=0.20.0->mlflow-skinny==2.17.0->mlflow) (0.6.1)\n",
      "Note: you may need to restart the kernel to use updated packages.\n"
     ]
    }
   ],
   "source": [
    "%pip install mlflow scikit-learn"
   ]
  },
  {
   "cell_type": "code",
   "execution_count": 2,
   "id": "d5fe676a-3c74-4c5d-913e-9e7c76659499",
   "metadata": {},
   "outputs": [],
   "source": [
    "import digitalhub as dh\n",
    "\n",
    "project = dh.get_or_create_project(\"demo-mlflow-ml_model-nk\")"
   ]
  },
  {
   "cell_type": "code",
   "execution_count": 3,
   "id": "3a02add2-83bb-4c29-a347-1ed569919b73",
   "metadata": {},
   "outputs": [],
   "source": [
    "import os\n",
    "directory=\"src\"\n",
    "if not os.path.exists(directory):\n",
    "    os.makedirs(directory)"
   ]
  },
  {
   "cell_type": "code",
   "execution_count": 4,
   "id": "1f2bfe67-17da-4ee1-91cc-f6786e9df21b",
   "metadata": {},
   "outputs": [
    {
     "name": "stdout",
     "output_type": "stream",
     "text": [
      "Writing src/train-model.py\n"
     ]
    }
   ],
   "source": [
    "%%writefile \"src/train-model.py\"\n",
    "\n",
    "from digitalhub_runtime_python import handler\n",
    "from digitalhub import from_mlflow_run\n",
    "import mlflow\n",
    "\n",
    "from sklearn import datasets, svm\n",
    "from sklearn.model_selection import GridSearchCV\n",
    "\n",
    "@handler()\n",
    "def train(project):\n",
    "    mlflow.sklearn.autolog(log_datasets=True)\n",
    "\n",
    "    iris = datasets.load_iris()\n",
    "    parameters = {\"kernel\": (\"linear\", \"rbf\"), \"C\": [1, 10]}\n",
    "    svc = svm.SVC()\n",
    "    clf = GridSearchCV(svc, parameters)\n",
    "\n",
    "    clf.fit(iris.data, iris.target)\n",
    "    run_id = mlflow.last_active_run().info.run_id\n",
    "\n",
    "    # utility to map mlflow run artifacts to model metadata\n",
    "    model_params = from_mlflow_run(run_id)\n",
    "\n",
    "    project.log_model(\n",
    "        name=\"model-mlflow\",\n",
    "        kind=\"mlflow\",\n",
    "        **model_params\n",
    ")"
   ]
  },
  {
   "cell_type": "code",
   "execution_count": 5,
   "id": "5778b007-b7f9-4810-adfc-bd559eadb85e",
   "metadata": {},
   "outputs": [],
   "source": [
    "train_fn = project.new_function(name=\"train\",\n",
    "                                kind=\"python\",\n",
    "                                python_version=\"PYTHON3_10\",\n",
    "                                code_src=\"src/train-model.py\",\n",
    "                                handler=\"train\",\n",
    "                                requirements=[\"scikit-learn\", \"mlflow\"])"
   ]
  },
  {
   "cell_type": "code",
   "execution_count": 6,
   "id": "dcad2975-f84a-4b95-8ad0-d8c915a39f66",
   "metadata": {},
   "outputs": [],
   "source": [
    "train_run = train_fn.run(action=\"job\", local_execution=False)"
   ]
  },
  {
   "cell_type": "code",
   "execution_count": 7,
   "id": "acb0860d-5f7a-4578-9972-19c201fec2c8",
   "metadata": {},
   "outputs": [
    {
     "data": {
      "text/plain": [
       "'s3://datalake/demo-mlflow-ml_model-nk/model/model-mlflow/a70a2519-c5de-4b08-bd1e-0732039a302f/'"
      ]
     },
     "execution_count": 7,
     "metadata": {},
     "output_type": "execute_result"
    }
   ],
   "source": [
    "model = project.get_model(\"model-mlflow\")\n",
    "model.spec.path"
   ]
  },
  {
   "cell_type": "markdown",
   "id": "8d625550-7249-4e0d-9ab8-1ff717b50046",
   "metadata": {},
   "source": [
    "/v2/models/model/infer"
   ]
  },
  {
   "cell_type": "code",
   "execution_count": 8,
   "id": "097479a0-e307-4c2c-bde4-0039f7613400",
   "metadata": {},
   "outputs": [],
   "source": [
    "func = project.new_function(name=\"serve_mlflowmodel\",\n",
    "                            kind=\"mlflowserve\",\n",
    "                            model_name=\"mlflow_model\",\n",
    "                            path=model.spec.path + 'model/')"
   ]
  },
  {
   "cell_type": "code",
   "execution_count": 9,
   "id": "3a3a08cd-2ae8-4e36-a8c4-7dcacf7c1daa",
   "metadata": {},
   "outputs": [],
   "source": [
    "serve_run = func.run(action=\"serve\")"
   ]
  },
  {
   "cell_type": "code",
   "execution_count": 10,
   "id": "addc1aaa-40c1-4b82-9713-56fde2134fa4",
   "metadata": {},
   "outputs": [],
   "source": [
    "from sklearn import datasets\n",
    "\n",
    "iris = datasets.load_iris()\n",
    "data = iris.data[0:2].tolist()\n",
    "json={\n",
    "    \"inputs\": [\n",
    "        {\n",
    "        \"name\": \"input-0\",\n",
    "        \"shape\": [-1, 4],\n",
    "        \"datatype\": \"FP64\",\n",
    "        \"data\": data\n",
    "        }\n",
    "    ]\n",
    "}"
   ]
  },
  {
   "cell_type": "code",
   "execution_count": 11,
   "id": "24f6a278-79fe-4e63-8783-45086aa0ee35",
   "metadata": {},
   "outputs": [
    {
     "data": {
      "text/plain": [
       "{'inputs': [{'name': 'input-0',\n",
       "   'shape': [-1, 4],\n",
       "   'datatype': 'FP64',\n",
       "   'data': [[5.1, 3.5, 1.4, 0.2], [4.9, 3.0, 1.4, 0.2]]}]}"
      ]
     },
     "execution_count": 11,
     "metadata": {},
     "output_type": "execute_result"
    }
   ],
   "source": [
    "json"
   ]
  },
  {
   "cell_type": "code",
   "execution_count": 2,
   "id": "ae01a700-53c5-41f0-9f4b-f910280faa9b",
   "metadata": {},
   "outputs": [
    {
     "data": {
      "text/plain": [
       "{'kind': 'mlflowserve+run', 'metadata': {'project': 'demo-mlflow-ml_model-nk', 'name': '66f056e7-99b9-481e-858d-d9888df35f91', 'created': '2024-10-18T09:18:28.424Z', 'updated': '2024-10-18T09:42:40.847Z', 'created_by': 'khurshid@fbk.eu', 'updated_by': 'khurshid@fbk.eu'}, 'spec': {'task': 'mlflowserve+serve://demo-mlflow-ml_model-nk/serve_mlflowmodel:17090442-69cc-4619-b970-3c1bf74b6ed9', 'local_execution': False, 'function': 'mlflowserve://demo-mlflow-ml_model-nk/serve_mlflowmodel:17090442-69cc-4619-b970-3c1bf74b6ed9', 'path': 's3://datalake/demo-mlflow-ml_model-nk/model/model-mlflow/78f7b01b-8f07-4061-9f56-6714037bd906/model/', 'model_name': 'mlflow_model'}, 'status': {'state': 'RUNNING', 'message': 'deployment d-mlflowserveserve-66f056e7-99b9-481e-858d-d9888df35f91 created, service s-mlflowserveserve-66f056e7-99b9-481e-858d-d9888df35f91 created', 'transitions': [{'status': 'RUNNING', 'message': 'deployment d-mlflowserveserve-66f056e7-99b9-481e-858d-d9888df35f91 created, service s-mlflowserveserve-66f056e7-99b9-481e-858d-d9888df35f91 created', 'time': '2024-10-18T09:18:28.546467356Z'}, {'status': 'READY', 'time': '2024-10-18T09:18:28.448685083Z'}, {'status': 'BUILT', 'time': '2024-10-18T09:18:28.431016874Z'}], 'service': {'name': 's-mlflowserveserve-66f056e7-99b9-481e-858d-d9888df35f91', 'namespace': 'digitalhub-tenant2', 'type': 'NodePort', 'clusterIP': '10.99.128.119', 'ports': [{'name': 'port8080', 'nodePort': 32352, 'port': 8080, 'protocol': 'TCP', 'targetPort': 8080}, {'name': 'port8081', 'nodePort': 32560, 'port': 8081, 'protocol': 'TCP', 'targetPort': 8081}], 'url': 's-mlflowserveserve-66f056e7-99b9-481e-858d-d9888df35f91.digitalhub-tenant2:8080', 'urls': ['s-mlflowserveserve-66f056e7-99b9-481e-858d-d9888df35f91.digitalhub-tenant2:8080', 's-mlflowserveserve-66f056e7-99b9-481e-858d-d9888df35f91.digitalhub-tenant2:8081']}, 'k8s': {'pods': [{'metadata': {'creationTimestamp': 1729243108.0, 'generateName': 'd-mlflowserveserve-66f056e7-99b9-481e-858d-d9888df35f91-656fd7b648-', 'labels': {'app.kubernetes.io/instance': 'dhcore-66f056e7-99b9-481e-858d-d9888df35f91', 'app.kubernetes.io/managed-by': 'dhcore', 'app.kubernetes.io/part-of': 'dhcore-demo-mlflow-ml_model-nk', 'app.kubernetes.io/version': '66f056e7-99b9-481e-858d-d9888df35f91', 'dhcore/framework': 'k8sserve', 'dhcore/function': 'serve_mlflowmodel', 'dhcore/project': 'demo-mlflow-ml_model-nk', 'dhcore/runtime': 'mlflowserve', 'pod-template-hash': '656fd7b648'}, 'managedFields': [{'apiVersion': 'v1', 'fieldsType': 'FieldsV1', 'manager': 'kube-controller-manager', 'operation': 'Update', 'time': 1729243108.0}, {'apiVersion': 'v1', 'fieldsType': 'FieldsV1', 'manager': 'kubelet', 'operation': 'Update', 'subresource': 'status', 'time': 1729243136.0}], 'name': 'd-mlflowserveserve-66f056e7-99b9-481e-858d-d9888df35f91-65ztfqh', 'namespace': 'digitalhub-tenant2', 'ownerReferences': [{'apiVersion': 'apps/v1', 'blockOwnerDeletion': True, 'controller': True, 'kind': 'ReplicaSet', 'name': 'd-mlflowserveserve-66f056e7-99b9-481e-858d-d9888df35f91-656fd7b648', 'uid': 'a1a971a8-6bfe-48f8-8cc7-8fc3170d1568'}], 'resourceVersion': '226953', 'uid': '96657ed2-111c-4e4e-9823-6a7c9e8c08e6'}, 'spec': {'containers': [{'args': ['-c', 'pip install -r /shared/model/requirements.txt && mlserver start /shared/'], 'command': ['/bin/sh'], 'env': [{'name': 'DH_RUN_SECRET_NAME', 'value': 'sec-mlflowserveserve-66f056e7-99b9-481e-858d-d9888df35f91'}, {'name': 'DHCORE_ACCESS_TOKEN', 'valueFrom': {'secretKeyRef': {'key': 'DHCORE_ACCESS_TOKEN', 'name': 'sec-mlflowserveserve-66f056e7-99b9-481e-858d-d9888df35f91'}}}, {'name': 'DHCORE_REFRESH_TOKEN', 'valueFrom': {'secretKeyRef': {'key': 'DHCORE_REFRESH_TOKEN', 'name': 'sec-mlflowserveserve-66f056e7-99b9-481e-858d-d9888df35f91'}}}, {'name': 'DHCORE_CLIENT_ID', 'valueFrom': {'secretKeyRef': {'key': 'DHCORE_CLIENT_ID', 'name': 'sec-mlflowserveserve-66f056e7-99b9-481e-858d-d9888df35f91'}}}, {'name': 'DHCORE_TOKEN_TYPE', 'valueFrom': {'secretKeyRef': {'key': 'DHCORE_TOKEN_TYPE', 'name': 'sec-mlflowserveserve-66f056e7-99b9-481e-858d-d9888df35f91'}}}, {'name': 'DHCORE_ISSUER', 'valueFrom': {'secretKeyRef': {'key': 'DHCORE_ISSUER', 'name': 'sec-mlflowserveserve-66f056e7-99b9-481e-858d-d9888df35f91'}}}, {'name': 'PROJECT_NAME', 'value': 'demo-mlflow-ml_model-nk'}, {'name': 'DHCORE_EXPIRES_IN', 'valueFrom': {'secretKeyRef': {'key': 'DHCORE_EXPIRES_IN', 'name': 'sec-mlflowserveserve-66f056e7-99b9-481e-858d-d9888df35f91'}}}, {'name': 'RUN_ID', 'value': '66f056e7-99b9-481e-858d-d9888df35f91'}], 'envFrom': [{'configMapRef': {'name': 'digitalhub-common-env'}}, {'secretRef': {'name': 'digitalhub-common-creds'}}], 'image': 'seldonio/mlserver:1.6.0-mlflow', 'imagePullPolicy': 'IfNotPresent', 'name': 'c-mlflowserveserve-66f056e7-99b9-481e-858d-d9888df35f91', 'resources': {'requests': {'cpu': {'number': 0.1, 'format': 'DECIMAL_SI'}, 'memory': {'number': 0.064, 'format': 'DECIMAL_SI'}}}, 'securityContext': {'allowPrivilegeEscalation': False, 'privileged': False, 'runAsNonRoot': True}, 'terminationMessagePath': '/dev/termination-log', 'terminationMessagePolicy': 'File', 'volumeMounts': [{'mountPath': '/shared', 'name': 'shared-dir'}, {'mountPath': '/init-config-map', 'name': 'init-config-map'}, {'mountPath': '/var/run/secrets/kubernetes.io/serviceaccount', 'name': 'kube-api-access-j4kmx', 'readOnly': True}]}], 'dnsPolicy': 'ClusterFirst', 'enableServiceLinks': True, 'imagePullSecrets': [{'name': 'registry-credentials'}], 'initContainers': [{'command': ['/bin/bash', '-c', '/app/builder-tool.sh'], 'env': [{'name': 'DH_RUN_SECRET_NAME', 'value': 'sec-mlflowserveserve-66f056e7-99b9-481e-858d-d9888df35f91'}, {'name': 'DHCORE_ACCESS_TOKEN', 'valueFrom': {'secretKeyRef': {'key': 'DHCORE_ACCESS_TOKEN', 'name': 'sec-mlflowserveserve-66f056e7-99b9-481e-858d-d9888df35f91'}}}, {'name': 'DHCORE_REFRESH_TOKEN', 'valueFrom': {'secretKeyRef': {'key': 'DHCORE_REFRESH_TOKEN', 'name': 'sec-mlflowserveserve-66f056e7-99b9-481e-858d-d9888df35f91'}}}, {'name': 'DHCORE_CLIENT_ID', 'valueFrom': {'secretKeyRef': {'key': 'DHCORE_CLIENT_ID', 'name': 'sec-mlflowserveserve-66f056e7-99b9-481e-858d-d9888df35f91'}}}, {'name': 'DHCORE_TOKEN_TYPE', 'valueFrom': {'secretKeyRef': {'key': 'DHCORE_TOKEN_TYPE', 'name': 'sec-mlflowserveserve-66f056e7-99b9-481e-858d-d9888df35f91'}}}, {'name': 'DHCORE_ISSUER', 'valueFrom': {'secretKeyRef': {'key': 'DHCORE_ISSUER', 'name': 'sec-mlflowserveserve-66f056e7-99b9-481e-858d-d9888df35f91'}}}, {'name': 'PROJECT_NAME', 'value': 'demo-mlflow-ml_model-nk'}, {'name': 'DHCORE_EXPIRES_IN', 'valueFrom': {'secretKeyRef': {'key': 'DHCORE_EXPIRES_IN', 'name': 'sec-mlflowserveserve-66f056e7-99b9-481e-858d-d9888df35f91'}}}, {'name': 'RUN_ID', 'value': '66f056e7-99b9-481e-858d-d9888df35f91'}], 'envFrom': [{'configMapRef': {'name': 'digitalhub-common-env'}}, {'secretRef': {'name': 'digitalhub-common-creds'}}], 'image': 'ghcr.io/scc-digitalhub/digitalhub-core-builder-tool:latest', 'imagePullPolicy': 'Always', 'name': 'init-container-66f056e7-99b9-481e-858d-d9888df35f91', 'resources': {'requests': {'cpu': {'number': 0.1, 'format': 'DECIMAL_SI'}, 'memory': {'number': 0.064, 'format': 'DECIMAL_SI'}}}, 'terminationMessagePath': '/dev/termination-log', 'terminationMessagePolicy': 'File', 'volumeMounts': [{'mountPath': '/shared', 'name': 'shared-dir'}, {'mountPath': '/init-config-map', 'name': 'init-config-map'}, {'mountPath': '/var/run/secrets/kubernetes.io/serviceaccount', 'name': 'kube-api-access-j4kmx', 'readOnly': True}]}], 'nodeName': 'digitalhub-dev-md-0-52wpz-pvnth', 'preemptionPolicy': 'PreemptLowerPriority', 'priority': 0, 'restartPolicy': 'Always', 'schedulerName': 'default-scheduler', 'serviceAccount': 'default', 'serviceAccountName': 'default', 'terminationGracePeriodSeconds': 30, 'tolerations': [{'effect': 'NoExecute', 'key': 'node.kubernetes.io/not-ready', 'operator': 'Exists', 'tolerationSeconds': 300}, {'effect': 'NoExecute', 'key': 'node.kubernetes.io/unreachable', 'operator': 'Exists', 'tolerationSeconds': 300}], 'volumes': [{'emptyDir': {'sizeLimit': {'number': 104857600, 'format': 'BINARY_SI'}}, 'name': 'shared-dir'}, {'configMap': {'defaultMode': 420, 'name': 'init-config-map-66f056e7-99b9-481e-858d-d9888df35f91'}, 'name': 'init-config-map'}, {'name': 'kube-api-access-j4kmx', 'projected': {'defaultMode': 420, 'sources': [{'serviceAccountToken': {'expirationSeconds': 3607, 'path': 'token'}}, {'configMap': {'items': [{'key': 'ca.crt', 'path': 'ca.crt'}], 'name': 'kube-root-ca.crt'}}, {'downwardAPI': {'items': [{'fieldRef': {'apiVersion': 'v1', 'fieldPath': 'metadata.namespace'}, 'path': 'namespace'}]}}]}}]}, 'status': {'conditions': [{'lastTransitionTime': 1729243110.0, 'status': 'True', 'type': 'PodReadyToStartContainers'}, {'lastTransitionTime': 1729243110.0, 'status': 'True', 'type': 'Initialized'}, {'lastTransitionTime': 1729243136.0, 'status': 'True', 'type': 'Ready'}, {'lastTransitionTime': 1729243136.0, 'status': 'True', 'type': 'ContainersReady'}, {'lastTransitionTime': 1729243108.0, 'status': 'True', 'type': 'PodScheduled'}], 'containerStatuses': [{'containerID': 'containerd://e3e17958e05e59bfc5134fea4147bb0d5e820ad5a593099684b2d3c747a7ebed', 'image': 'docker.io/seldonio/mlserver:1.6.0-mlflow', 'imageID': 'docker.io/seldonio/mlserver@sha256:42abe6591fc6566f8b2b20d71636f10061b73b36c78985bd0d257c53975504a9', 'name': 'c-mlflowserveserve-66f056e7-99b9-481e-858d-d9888df35f91', 'ready': True, 'restartCount': 0, 'started': True, 'state': {'running': {'startedAt': 1729243135.0}}}], 'hostIP': '10.1.0.4', 'hostIPs': [{'ip': '10.1.0.4'}], 'initContainerStatuses': [{'containerID': 'containerd://70e473cc90d9e507ce29211c5daaa8b297b574e2d977befe1aa4fa5571a3c89e', 'image': 'ghcr.io/scc-digitalhub/digitalhub-core-builder-tool:latest', 'imageID': 'ghcr.io/scc-digitalhub/digitalhub-core-builder-tool@sha256:f623095d561f6ac6792680666fce72cb8e2bd465030211c2b29f48009b3429db', 'name': 'init-container-66f056e7-99b9-481e-858d-d9888df35f91', 'ready': True, 'restartCount': 0, 'started': False, 'state': {'terminated': {'containerID': 'containerd://70e473cc90d9e507ce29211c5daaa8b297b574e2d977befe1aa4fa5571a3c89e', 'exitCode': 0, 'finishedAt': 1729243109.0, 'reason': 'Completed', 'startedAt': 1729243109.0}}}], 'phase': 'Running', 'podIP': '192.168.3.3', 'podIPs': [{'ip': '192.168.3.3'}], 'qosClass': 'Burstable', 'startTime': 1729243108.0}}], 'secret': {'secret': {'apiVersion': 'v1', 'kind': 'Secret', 'metadata': {'labels': {'dhcore/framework': 'k8sserve', 'app.kubernetes.io/managed-by': 'dhcore', 'dhcore/function': 'serve_mlflowmodel', 'app.kubernetes.io/part-of': 'dhcore-demo-mlflow-ml_model-nk', 'dhcore/project': 'demo-mlflow-ml_model-nk', 'dhcore/runtime': 'mlflowserve', 'app.kubernetes.io/instance': 'dhcore-66f056e7-99b9-481e-858d-d9888df35f91', 'app.kubernetes.io/version': '66f056e7-99b9-481e-858d-d9888df35f91'}, 'name': 'sec-mlflowserveserve-66f056e7-99b9-481e-858d-d9888df35f91', 'namespace': 'digitalhub-tenant2'}}}, 'configMap': {'configMap': {'metadata': {'labels': {'dhcore/framework': 'k8sserve', 'app.kubernetes.io/managed-by': 'dhcore', 'dhcore/function': 'serve_mlflowmodel', 'app.kubernetes.io/part-of': 'dhcore-demo-mlflow-ml_model-nk', 'dhcore/project': 'demo-mlflow-ml_model-nk', 'dhcore/runtime': 'mlflowserve', 'app.kubernetes.io/instance': 'dhcore-66f056e7-99b9-481e-858d-d9888df35f91', 'app.kubernetes.io/version': '66f056e7-99b9-481e-858d-d9888df35f91'}, 'name': 'init-config-map-66f056e7-99b9-481e-858d-d9888df35f91'}}}, 'service': {'metadata': {'creationTimestamp': 1729243108.0, 'labels': {'app.kubernetes.io/instance': 'dhcore-66f056e7-99b9-481e-858d-d9888df35f91', 'app.kubernetes.io/managed-by': 'dhcore', 'app.kubernetes.io/part-of': 'dhcore-demo-mlflow-ml_model-nk', 'app.kubernetes.io/version': '66f056e7-99b9-481e-858d-d9888df35f91', 'dhcore/framework': 'k8sserve', 'dhcore/function': 'serve_mlflowmodel', 'dhcore/project': 'demo-mlflow-ml_model-nk', 'dhcore/runtime': 'mlflowserve'}, 'managedFields': [{'apiVersion': 'v1', 'fieldsType': 'FieldsV1', 'manager': 'Kubernetes Java Client', 'operation': 'Update', 'time': 1729243108.0}], 'name': 's-mlflowserveserve-66f056e7-99b9-481e-858d-d9888df35f91', 'namespace': 'digitalhub-tenant2', 'resourceVersion': '226501', 'uid': 'e996bf67-3d7b-43d0-9546-f8a071049c26'}, 'apiVersion': 'v1', 'kind': 'Service', 'spec': {'clusterIP': '10.99.128.119', 'clusterIPs': ['10.99.128.119'], 'externalTrafficPolicy': 'Cluster', 'internalTrafficPolicy': 'Cluster', 'ipFamilies': ['IPv4'], 'ipFamilyPolicy': 'SingleStack', 'ports': [{'name': 'port8080', 'nodePort': 32352, 'port': 8080, 'protocol': 'TCP', 'targetPort': 8080}, {'name': 'port8081', 'nodePort': 32560, 'port': 8081, 'protocol': 'TCP', 'targetPort': 8081}], 'selector': {'app.kubernetes.io/instance': 'dhcore-66f056e7-99b9-481e-858d-d9888df35f91', 'app.kubernetes.io/managed-by': 'dhcore', 'app.kubernetes.io/part-of': 'dhcore-demo-mlflow-ml_model-nk', 'app.kubernetes.io/version': '66f056e7-99b9-481e-858d-d9888df35f91', 'dhcore/framework': 'k8sserve', 'dhcore/function': 'serve_mlflowmodel', 'dhcore/project': 'demo-mlflow-ml_model-nk', 'dhcore/runtime': 'mlflowserve'}, 'sessionAffinity': 'None', 'type': 'NodePort'}}, 'deployment': {'metadata': {'annotations': {'deployment.kubernetes.io/revision': '1'}, 'creationTimestamp': 1729243108.0, 'generation': 1, 'labels': {'app.kubernetes.io/instance': 'dhcore-66f056e7-99b9-481e-858d-d9888df35f91', 'app.kubernetes.io/managed-by': 'dhcore', 'app.kubernetes.io/part-of': 'dhcore-demo-mlflow-ml_model-nk', 'app.kubernetes.io/version': '66f056e7-99b9-481e-858d-d9888df35f91', 'dhcore/framework': 'k8sserve', 'dhcore/function': 'serve_mlflowmodel', 'dhcore/project': 'demo-mlflow-ml_model-nk', 'dhcore/runtime': 'mlflowserve'}, 'managedFields': [{'apiVersion': 'apps/v1', 'fieldsType': 'FieldsV1', 'manager': 'Kubernetes Java Client', 'operation': 'Update', 'time': 1729243108.0}, {'apiVersion': 'apps/v1', 'fieldsType': 'FieldsV1', 'manager': 'kube-controller-manager', 'operation': 'Update', 'subresource': 'status', 'time': 1729243136.0}], 'name': 'd-mlflowserveserve-66f056e7-99b9-481e-858d-d9888df35f91', 'namespace': 'digitalhub-tenant2', 'resourceVersion': '226957', 'uid': 'fafa7ad5-121a-4d90-a80e-d409cc869d0f'}, 'apiVersion': 'apps/v1', 'kind': 'Deployment', 'spec': {'progressDeadlineSeconds': 600, 'replicas': 1, 'revisionHistoryLimit': 10, 'selector': {'matchLabels': {'app.kubernetes.io/instance': 'dhcore-66f056e7-99b9-481e-858d-d9888df35f91', 'app.kubernetes.io/managed-by': 'dhcore', 'app.kubernetes.io/part-of': 'dhcore-demo-mlflow-ml_model-nk', 'app.kubernetes.io/version': '66f056e7-99b9-481e-858d-d9888df35f91', 'dhcore/framework': 'k8sserve', 'dhcore/function': 'serve_mlflowmodel', 'dhcore/project': 'demo-mlflow-ml_model-nk', 'dhcore/runtime': 'mlflowserve'}}, 'strategy': {'rollingUpdate': {'maxSurge': '25%', 'maxUnavailable': '25%'}, 'type': 'RollingUpdate'}, 'template': {'metadata': {'labels': {'app.kubernetes.io/instance': 'dhcore-66f056e7-99b9-481e-858d-d9888df35f91', 'app.kubernetes.io/managed-by': 'dhcore', 'app.kubernetes.io/part-of': 'dhcore-demo-mlflow-ml_model-nk', 'app.kubernetes.io/version': '66f056e7-99b9-481e-858d-d9888df35f91', 'dhcore/framework': 'k8sserve', 'dhcore/function': 'serve_mlflowmodel', 'dhcore/project': 'demo-mlflow-ml_model-nk', 'dhcore/runtime': 'mlflowserve'}, 'name': 'd-mlflowserveserve-66f056e7-99b9-481e-858d-d9888df35f91'}, 'spec': {'containers': [{'args': ['-c', 'pip install -r /shared/model/requirements.txt && mlserver start /shared/'], 'command': ['/bin/sh'], 'env': [{'name': 'DH_RUN_SECRET_NAME', 'value': 'sec-mlflowserveserve-66f056e7-99b9-481e-858d-d9888df35f91'}, {'name': 'DHCORE_ACCESS_TOKEN', 'valueFrom': {'secretKeyRef': {'key': 'DHCORE_ACCESS_TOKEN', 'name': 'sec-mlflowserveserve-66f056e7-99b9-481e-858d-d9888df35f91'}}}, {'name': 'DHCORE_REFRESH_TOKEN', 'valueFrom': {'secretKeyRef': {'key': 'DHCORE_REFRESH_TOKEN', 'name': 'sec-mlflowserveserve-66f056e7-99b9-481e-858d-d9888df35f91'}}}, {'name': 'DHCORE_CLIENT_ID', 'valueFrom': {'secretKeyRef': {'key': 'DHCORE_CLIENT_ID', 'name': 'sec-mlflowserveserve-66f056e7-99b9-481e-858d-d9888df35f91'}}}, {'name': 'DHCORE_TOKEN_TYPE', 'valueFrom': {'secretKeyRef': {'key': 'DHCORE_TOKEN_TYPE', 'name': 'sec-mlflowserveserve-66f056e7-99b9-481e-858d-d9888df35f91'}}}, {'name': 'DHCORE_ISSUER', 'valueFrom': {'secretKeyRef': {'key': 'DHCORE_ISSUER', 'name': 'sec-mlflowserveserve-66f056e7-99b9-481e-858d-d9888df35f91'}}}, {'name': 'PROJECT_NAME', 'value': 'demo-mlflow-ml_model-nk'}, {'name': 'DHCORE_EXPIRES_IN', 'valueFrom': {'secretKeyRef': {'key': 'DHCORE_EXPIRES_IN', 'name': 'sec-mlflowserveserve-66f056e7-99b9-481e-858d-d9888df35f91'}}}, {'name': 'RUN_ID', 'value': '66f056e7-99b9-481e-858d-d9888df35f91'}], 'envFrom': [{'configMapRef': {'name': 'digitalhub-common-env'}}, {'secretRef': {'name': 'digitalhub-common-creds'}}], 'image': 'seldonio/mlserver:1.6.0-mlflow', 'imagePullPolicy': 'IfNotPresent', 'name': 'c-mlflowserveserve-66f056e7-99b9-481e-858d-d9888df35f91', 'resources': {'requests': {'cpu': {'number': 0.1, 'format': 'DECIMAL_SI'}, 'memory': {'number': 0.064, 'format': 'DECIMAL_SI'}}}, 'securityContext': {'allowPrivilegeEscalation': False, 'privileged': False, 'runAsNonRoot': True}, 'terminationMessagePath': '/dev/termination-log', 'terminationMessagePolicy': 'File', 'volumeMounts': [{'mountPath': '/shared', 'name': 'shared-dir'}, {'mountPath': '/init-config-map', 'name': 'init-config-map'}]}], 'dnsPolicy': 'ClusterFirst', 'imagePullSecrets': [{'name': 'registry-credentials'}], 'initContainers': [{'command': ['/bin/bash', '-c', '/app/builder-tool.sh'], 'env': [{'name': 'DH_RUN_SECRET_NAME', 'value': 'sec-mlflowserveserve-66f056e7-99b9-481e-858d-d9888df35f91'}, {'name': 'DHCORE_ACCESS_TOKEN', 'valueFrom': {'secretKeyRef': {'key': 'DHCORE_ACCESS_TOKEN', 'name': 'sec-mlflowserveserve-66f056e7-99b9-481e-858d-d9888df35f91'}}}, {'name': 'DHCORE_REFRESH_TOKEN', 'valueFrom': {'secretKeyRef': {'key': 'DHCORE_REFRESH_TOKEN', 'name': 'sec-mlflowserveserve-66f056e7-99b9-481e-858d-d9888df35f91'}}}, {'name': 'DHCORE_CLIENT_ID', 'valueFrom': {'secretKeyRef': {'key': 'DHCORE_CLIENT_ID', 'name': 'sec-mlflowserveserve-66f056e7-99b9-481e-858d-d9888df35f91'}}}, {'name': 'DHCORE_TOKEN_TYPE', 'valueFrom': {'secretKeyRef': {'key': 'DHCORE_TOKEN_TYPE', 'name': 'sec-mlflowserveserve-66f056e7-99b9-481e-858d-d9888df35f91'}}}, {'name': 'DHCORE_ISSUER', 'valueFrom': {'secretKeyRef': {'key': 'DHCORE_ISSUER', 'name': 'sec-mlflowserveserve-66f056e7-99b9-481e-858d-d9888df35f91'}}}, {'name': 'PROJECT_NAME', 'value': 'demo-mlflow-ml_model-nk'}, {'name': 'DHCORE_EXPIRES_IN', 'valueFrom': {'secretKeyRef': {'key': 'DHCORE_EXPIRES_IN', 'name': 'sec-mlflowserveserve-66f056e7-99b9-481e-858d-d9888df35f91'}}}, {'name': 'RUN_ID', 'value': '66f056e7-99b9-481e-858d-d9888df35f91'}], 'envFrom': [{'configMapRef': {'name': 'digitalhub-common-env'}}, {'secretRef': {'name': 'digitalhub-common-creds'}}], 'image': 'ghcr.io/scc-digitalhub/digitalhub-core-builder-tool:latest', 'imagePullPolicy': 'Always', 'name': 'init-container-66f056e7-99b9-481e-858d-d9888df35f91', 'resources': {'requests': {'cpu': {'number': 0.1, 'format': 'DECIMAL_SI'}, 'memory': {'number': 0.064, 'format': 'DECIMAL_SI'}}}, 'terminationMessagePath': '/dev/termination-log', 'terminationMessagePolicy': 'File', 'volumeMounts': [{'mountPath': '/shared', 'name': 'shared-dir'}, {'mountPath': '/init-config-map', 'name': 'init-config-map'}]}], 'restartPolicy': 'Always', 'schedulerName': 'default-scheduler', 'terminationGracePeriodSeconds': 30, 'volumes': [{'emptyDir': {'sizeLimit': {'number': 104857600, 'format': 'BINARY_SI'}}, 'name': 'shared-dir'}, {'configMap': {'defaultMode': 420, 'name': 'init-config-map-66f056e7-99b9-481e-858d-d9888df35f91'}, 'name': 'init-config-map'}]}}}, 'status': {'availableReplicas': 1, 'conditions': [{'lastTransitionTime': 1729243136.0, 'lastUpdateTime': 1729243136.0, 'message': 'Deployment has minimum availability.', 'reason': 'MinimumReplicasAvailable', 'status': 'True', 'type': 'Available'}, {'lastTransitionTime': 1729243108.0, 'lastUpdateTime': 1729243136.0, 'message': 'ReplicaSet \"d-mlflowserveserve-66f056e7-99b9-481e-858d-d9888df35f91-656fd7b648\" has successfully progressed.', 'reason': 'NewReplicaSetAvailable', 'status': 'True', 'type': 'Progressing'}], 'observedGeneration': 1, 'readyReplicas': 1, 'replicas': 1, 'updatedReplicas': 1}}}}, 'user': 'khurshid@fbk.eu', 'project': 'demo-mlflow-ml_model-nk', 'id': '66f056e7-99b9-481e-858d-d9888df35f91', 'key': 'store://demo-mlflow-ml_model-nk/run/mlflowserve+run/66f056e7-99b9-481e-858d-d9888df35f91'}"
      ]
     },
     "execution_count": 2,
     "metadata": {},
     "output_type": "execute_result"
    }
   ],
   "source": [
    "serve_run = project.get_run(identifier=\"66f056e7-99b9-481e-858d-d9888df35f91\")\n",
    "serve_run"
   ]
  },
  {
   "cell_type": "code",
   "execution_count": 3,
   "id": "0e72d841-3390-4f46-a696-d2e6efafb9d1",
   "metadata": {},
   "outputs": [],
   "source": [
    "# serve_run.invoke(model_name=\"mlflow_model\", json=json).json()"
   ]
  },
  {
   "cell_type": "code",
   "execution_count": 12,
   "id": "f7d3d648-358d-42d2-bfd5-47363c4b95b0",
   "metadata": {},
   "outputs": [
    {
     "data": {
      "text/plain": [
       "'http://s-mlflowserveserve-a2cda37c-6eb0-4be4-b93d-1eb9dffdd92d.digitalhub-tenant1:8080/v2/models/mlflow_model/infer'"
      ]
     },
     "execution_count": 12,
     "metadata": {},
     "output_type": "execute_result"
    }
   ],
   "source": [
    "service_url = serve_run.refresh().status.to_dict()[\"service\"][\"url\"]\n",
    "url = f\"http://{service_url}/v2/models/mlflow_model/infer\"\n",
    "url"
   ]
  },
  {
   "cell_type": "markdown",
   "id": "c81b8eec-2387-4071-91c9-d7f14d6abc3f",
   "metadata": {},
   "source": [
    "<!-- /v2/models/model/infer -->"
   ]
  },
  {
   "cell_type": "code",
   "execution_count": 19,
   "id": "4a384737-811c-4024-ae51-92cc908d5662",
   "metadata": {},
   "outputs": [
    {
     "data": {
      "text/plain": [
       "{'inputs': [{'name': 'input-0',\n",
       "   'shape': [-1, 4],\n",
       "   'datatype': 'FP64',\n",
       "   'data': [[5.1, 3.5, 1.4, 0.2], [4.9, 3.0, 1.4, 0.2]]}]}"
      ]
     },
     "execution_count": 19,
     "metadata": {},
     "output_type": "execute_result"
    }
   ],
   "source": [
    "from sklearn import datasets\n",
    "\n",
    "iris = datasets.load_iris()\n",
    "data = iris.data[0:2].tolist()\n",
    "json={\n",
    "    \"inputs\": [\n",
    "        {\n",
    "        \"name\": \"input-0\",\n",
    "        \"shape\": [-1, 4],\n",
    "        \"datatype\": \"FP64\",\n",
    "        \"data\": data\n",
    "        }\n",
    "    ]\n",
    "}\n",
    "\n",
    "json"
   ]
  },
  {
   "cell_type": "code",
   "execution_count": 20,
   "id": "26ca0da6-386e-4ad4-b621-5778196233b8",
   "metadata": {},
   "outputs": [],
   "source": [
    "# url = 's-mlflowserveserve-66f056e7-99b9-481e-858d-d9888df35f91.digitalhub-tenant2:8080'"
   ]
  },
  {
   "cell_type": "code",
   "execution_count": 16,
   "id": "fa0d479f-8c7b-4121-bc2c-4f26634259c4",
   "metadata": {},
   "outputs": [
    {
     "data": {
      "text/plain": [
       "{'model_name': 'mlflow_model',\n",
       " 'id': 'a9e27b4e-92ed-496f-8276-eb4b1fcead0d',\n",
       " 'parameters': {'content_type': 'np'},\n",
       " 'outputs': [{'name': 'output-1',\n",
       "   'shape': [2, 1],\n",
       "   'datatype': 'INT64',\n",
       "   'parameters': {'content_type': 'np'},\n",
       "   'data': [0, 0]}]}"
      ]
     },
     "execution_count": 16,
     "metadata": {},
     "output_type": "execute_result"
    }
   ],
   "source": [
    "serve_run.invoke(url=url, json=json).json()\n",
    "# serve_run.invoke(model_name=\"mlflow_model\", url=url, json=json).json()"
   ]
  },
  {
   "cell_type": "code",
   "execution_count": null,
   "id": "d098d463-bce7-48c1-bf81-b0a89a8a8cae",
   "metadata": {},
   "outputs": [],
   "source": []
  }
 ],
 "metadata": {
  "kernelspec": {
   "display_name": "Python 3 (ipykernel)",
   "language": "python",
   "name": "python3"
  },
  "language_info": {
   "codemirror_mode": {
    "name": "ipython",
    "version": 3
   },
   "file_extension": ".py",
   "mimetype": "text/x-python",
   "name": "python",
   "nbconvert_exporter": "python",
   "pygments_lexer": "ipython3",
   "version": "3.10.11"
  }
 },
 "nbformat": 4,
 "nbformat_minor": 5
}
